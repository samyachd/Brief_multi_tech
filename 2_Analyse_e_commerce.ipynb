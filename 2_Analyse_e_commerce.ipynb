{
  "cells": [
    {
      "cell_type": "markdown",
      "metadata": {
        "id": "I43NxonzOSDg"
      },
      "source": [
        "# Notebook 2 - SQL avec vraies bases de données\n",
        "## Analyse e-commerce avec PostgreSQL en ligne\n",
        "\n"
      ]
    },
    {
      "cell_type": "markdown",
      "metadata": {
        "id": "JItQV6o4Ojrm"
      },
      "source": [
        "\n",
        "### 🎯 Objectifs pédagogiques\n",
        "- Connecter Python à une vraie base de données PostgreSQL\n",
        "- Écrire des requêtes SQL complexes sur des données réelles\n",
        "- Implémenter des analyses RFM avec SQL\n",
        "- Intégrer SQL et pandas pour des analyses avancées\n",
        "- Gérer les connexions et la sécurité\n",
        "\n",
        "### 🛍️ Contexte du projet\n",
        "Vous analysez les données d'un vrai dataset e-commerce (Brazilian E-Commerce Public Dataset) hébergé sur une base PostgreSQL.\n",
        "\n",
        "Objectif : créer une segmentation clientèle pour optimiser les campagnes marketing.\n"
      ]
    },
    {
      "cell_type": "markdown",
      "metadata": {
        "id": "K79TBMVvOuoj"
      },
      "source": [
        "## Partie 1 : Connexion à la base de données réelle"
      ]
    },
    {
      "cell_type": "markdown",
      "metadata": {
        "id": "mq7n18iwPBPe"
      },
      "source": [
        "### 🔧 Installation et configuration\n",
        "\n",
        "\n",
        "# Installation des dépendances\n",
        "\n",
        "\n",
        "```\n",
        "pip install psycopg2-binary sqlalchemy pandas python-dotenv\n",
        "```\n",
        "\n",
        "\n"
      ]
    },
    {
      "cell_type": "code",
      "execution_count": 1,
      "metadata": {
        "id": "_NuY2FHuOhu3"
      },
      "outputs": [],
      "source": [
        "import psycopg2\n",
        "import pandas as pd\n",
        "import numpy as np\n",
        "import requests\n",
        "import zipfile\n",
        "import io\n",
        "import plotly.express as px\n",
        "from sqlalchemy import create_engine, text\n",
        "import matplotlib.pyplot as plt\n",
        "import seaborn as sns\n",
        "from datetime import datetime, timedelta\n",
        "import os\n",
        "from dotenv import load_dotenv"
      ]
    },
    {
      "cell_type": "markdown",
      "metadata": {
        "id": "QEbORVz5PXMa"
      },
      "source": [
        "### 🌐 Base de données PostgreSQL gratuite (ElephantSQL)\n",
        "\n",
        "**Option 1 : ElephantSQL (20MB gratuit)**\n",
        "1. Créez un compte sur [elephantsql.com](https://www.elephantsql.com/)\n",
        "2. Créez une instance \"Tiny Turtle\" (gratuite)\n",
        "3. Récupérez vos credentials\n",
        "\n",
        "**Option 2 : Supabase (500MB gratuit)**\n",
        "1. Créez un compte sur [supabase.com](https://supabase.com/)\n",
        "2. Créez un nouveau projet\n",
        "3. Récupérez l'URL de connexion PostgreSQL"
      ]
    },
    {
      "cell_type": "code",
      "execution_count": 2,
      "metadata": {
        "id": "ytLvCF3fQxRJ"
      },
      "outputs": [
        {
          "name": "stdout",
          "output_type": "stream",
          "text": [
            "Connection successful!\n"
          ]
        }
      ],
      "source": [
        "# Configuration de connexion (à adapter selon votre provider)\n",
        "load_dotenv()\n",
        "\n",
        "USER = os.getenv(\"user\")\n",
        "PWD = os.getenv(\"password\")\n",
        "HOST = os.getenv(\"host\")\n",
        "PORT = os.getenv(\"port\")\n",
        "DBNAME = os.getenv(\"dbname\")\n",
        "\n",
        "# Création de l'URL SQAlchemy\n",
        "DATABASE_URL = f\"postgresql://{USER}:{PWD}@{HOST}:{PORT}/{DBNAME}\"\n",
        "\n",
        "engine = create_engine(DATABASE_URL, future=True, echo=False)\n",
        "\n",
        "try:\n",
        "    with engine.connect() as connection:\n",
        "        print(\"Connection successful!\")\n",
        "except Exception as e:\n",
        "    print(f\"Failed to connect: {e}\")\n",
        "\n",
        "conn = engine.connect()"
      ]
    },
    {
      "cell_type": "markdown",
      "metadata": {
        "id": "uXfOgAxGQ3b5"
      },
      "source": [
        "\n",
        "## Partie 2 : Import du dataset e-commerce\n",
        "\n",
        "### 📊 Dataset Brazilian E-Commerce\n",
        "Nous utilisons le célèbre dataset Olist (100k commandes réelles).\n",
        "\n",
        "**Tables à créer :**\n",
        "1. **customers** : customer_id, customer_city, customer_state\n",
        "2. **orders** : order_id, customer_id, order_status, order_date, order_delivered_date\n",
        "3. **order_items** : order_id, product_id, seller_id, price, freight_value\n",
        "4. **products** : product_id, product_category, product_weight_g\n",
        "5. **sellers** : seller_id, seller_city, seller_state"
      ]
    },
    {
      "cell_type": "code",
      "execution_count": 3,
      "metadata": {
        "id": "GqGIXooNSTjp"
      },
      "outputs": [],
      "source": [
        "### 🗃️ Création des tables SQL\n",
        "\n",
        "# Load les CSV et créer les DataFrame pour chaque CSV\n",
        "\n",
        "list_df =[]\n",
        "for file in sorted(os.listdir(\"dataset_olist\")):\n",
        "    list_df.append(pd.read_csv(f\"dataset_olist/{file}\"))\n",
        "df_cust = list_df[0]\n",
        "df_orders_it = list_df[2]\n",
        "df_ord = list_df[5]\n",
        "df_prod = list_df[6]\n",
        "df_sellers = list_df[7]"
      ]
    },
    {
      "cell_type": "code",
      "execution_count": 4,
      "metadata": {},
      "outputs": [],
      "source": [
        "# On peut drop les colonnes non utiles\n",
        "df_cust = df_cust[[\"customer_id\", \"customer_city\", \"customer_state\"]]\n",
        "df_ord = df_ord[[\"order_id\", \"customer_id\", \"order_status\", \"order_purchase_timestamp\",\"order_delivered_customer_date\"]]\n",
        "df_ord = df_ord.rename(columns={\"order_purchase_timestamp\":\"order_date\", \"order_delivered_customer_date\": \"order_delivered_date\"})\n",
        "df_orders_it = df_orders_it[[\"order_id\", \"product_id\", \"seller_id\", \"price\",\"freight_value\"]]\n",
        "df_prod = df_prod[[\"product_id\", \"product_category_name\", \"product_weight_g\"]]\n",
        "df_prod = df_prod.rename(columns={\"product_category_name\":\"product_category\"})\n",
        "df_sellers = df_sellers[[\"seller_id\", \"seller_city\", \"seller_state\"]]"
      ]
    },
    {
      "cell_type": "code",
      "execution_count": 5,
      "metadata": {},
      "outputs": [],
      "source": [
        "# Créer une fonction pour exporter les DataFrame directement avec la commande pandas to_sql\n",
        "\n",
        "def tables_to_sql():\n",
        "    df_cust.to_sql(name=\"customers\",con=engine,index=False,if_exists='append') \n",
        "    df_ord.to_sql(name=\"orders\",con=engine,index=False,if_exists='append')\n",
        "    df_prod.to_sql(name=\"products\",con=engine,index=False,if_exists='append') \n",
        "    df_sellers.to_sql(name=\"sellers\",con=engine,index=False, if_exists='append')\n",
        "    df_orders_it.to_sql(name=\"order_items\",con=engine,index=False,if_exists='append')"
      ]
    },
    {
      "cell_type": "code",
      "execution_count": 6,
      "metadata": {},
      "outputs": [],
      "source": [
        "\n",
        "# Créez les tables dans PostgreSQL\n",
        "\n",
        "# Tips :\n",
        "# - Utilisez des SERIAL pour les IDs auto-increment\n",
        "# - Ajoutez des index sur les clés étrangères\n",
        "# - Incluez des contraintes de validation\n",
        "\n",
        "\n",
        "create_customers = \"\"\"\n",
        "CREATE TABLE IF NOT EXISTS customers (\n",
        "customer_id VARCHAR(50) PRIMARY KEY,\n",
        "customer_city VARCHAR(100),\n",
        "customer_state VARCHAR(2)\n",
        ");\n",
        "\"\"\"\n",
        "create_orders = \"\"\"\n",
        "CREATE TABLE IF NOT EXISTS orders (\n",
        "order_id VARCHAR(50) PRIMARY KEY,\n",
        "customer_id VARCHAR(50),\n",
        "order_status VARCHAR(20) CHECK (order_status IN (\n",
        "    'created', 'shipped', 'delivered', 'canceled', 'invoiced', 'processing', 'unavailable', 'approved'\n",
        ")),\n",
        "order_date TIMESTAMP DEFAULT CURRENT_TIMESTAMP,\n",
        "order_delivered_date TIMESTAMP,\n",
        "CONSTRAINT fk_customer\n",
        "    FOREIGN KEY(customer_id)\n",
        "        REFERENCES customers(customer_id)\n",
        ");\n",
        "\"\"\"\n",
        "create_products = \"\"\" \n",
        "CREATE TABLE IF NOT EXISTS products (\n",
        "product_id VARCHAR(50) PRIMARY KEY,\n",
        "product_category VARCHAR(50),\n",
        "product_weight_g NUMERIC CHECK (product_weight_g >=0)  \n",
        ");\n",
        "\"\"\"\n",
        "create_order_items = \"\"\" \n",
        "CREATE TABLE IF NOT EXISTS order_items (\n",
        "order_id VARCHAR(50),\n",
        "product_id VARCHAR(50),\n",
        "seller_id VARCHAR(50),\n",
        "price NUMERIC(10,2) CHECK (price >= 0),\n",
        "freight_value NUMERIC(10,2) CHECK (freight_value >= 0),\n",
        "CONSTRAINT fk_product\n",
        "    FOREIGN KEY(product_id)\n",
        "        REFERENCES products(product_id),\n",
        "CONSTRAINT fk_seller\n",
        "    FOREIGN KEY(seller_id)\n",
        "        REFERENCES sellers(seller_id),\n",
        "CONSTRAINT fk_order\n",
        "    FOREIGN KEY(order_id)\n",
        "        REFERENCES orders(order_id)\n",
        ");\n",
        "\"\"\"\n",
        "create_sellers = \"\"\"\n",
        "CREATE TABLE IF NOT EXISTS sellers (\n",
        "seller_id VARCHAR(50) PRIMARY KEY,\n",
        "seller_city VARCHAR(50),\n",
        "seller_state VARCHAR(2)\n",
        ");\n",
        "\"\"\"\n",
        "# Complétez pour les autres tables\n",
        "# N'oubliez pas les contraintes de clés étrangères !\n",
        "\n",
        "\n",
        "# with engine.connect() as con:\n",
        "#     con.execute(sa.text(create_customers))\n",
        "#     con.execute(sa.text(create_orders))\n",
        "#     con.execute(sa.text(create_products))\n",
        "#     con.execute(sa.text(create_sellers))\n",
        "#     con.execute(sa.text(create_order_items))\n",
        "# con.commit()\n",
        "\n",
        "conn.execute(text(create_customers))\n",
        "conn.execute(text(create_orders))\n",
        "conn.execute(text(create_products))\n",
        "conn.execute(text(create_sellers))\n",
        "conn.execute(text(create_order_items))\n",
        "conn.commit()"
      ]
    },
    {
      "cell_type": "code",
      "execution_count": 7,
      "metadata": {},
      "outputs": [
        {
          "name": "stdout",
          "output_type": "stream",
          "text": [
            "skipping\n"
          ]
        }
      ],
      "source": [
        "%%script echo skipping\n",
        "# Clear le schema (et toutes les tables) si besoin\n",
        "clear_all = \"\"\"\n",
        "DROP SCHEMA public CASCADE;\n",
        "CREATE SCHEMA public;\n",
        "\"\"\"\n",
        "conn.execute(text(clear_all))\n",
        "conn.commit()"
      ]
    },
    {
      "cell_type": "code",
      "execution_count": 8,
      "metadata": {},
      "outputs": [
        {
          "name": "stdout",
          "output_type": "stream",
          "text": [
            "skipping\n"
          ]
        }
      ],
      "source": [
        "%%script echo skipping\n",
        "# On insert les données grâce à notre fonction\n",
        "\n",
        "tables_to_sql()"
      ]
    },
    {
      "cell_type": "markdown",
      "metadata": {
        "id": "OBQ_BY-QT4dO"
      },
      "source": [
        "## Partie 3 : Requêtes SQL avancées\n",
        "\n",
        "\n",
        "### 🔍 Analyses SQL à implémenter"
      ]
    },
    {
      "cell_type": "markdown",
      "metadata": {
        "id": "tdl5RNOBUAV2"
      },
      "source": [
        "#### 1. Analyse RFM (Récence, Fréquence, Montant)\n",
        "```sql\n",
        "-- Votre défi : Calculer les métriques RFM pour chaque client\n",
        "WITH customer_metrics AS (\n",
        "    SELECT\n",
        "        c.customer_id,\n",
        "        c.customer_state,\n",
        "        -- Récence : jours depuis dernier achat\n",
        "        -- Fréquence : nombre de commandes\n",
        "        -- Montant : total dépensé\n",
        "        \n",
        "        -- Complétez cette requête CTE\n",
        "        \n",
        "    FROM customers c\n",
        "    JOIN orders o ON c.customer_id = o.customer_id\n",
        "    JOIN order_items oi ON o.order_id = oi.order_id\n",
        "    WHERE o.order_status = 'delivered'\n",
        "    GROUP BY c.customer_id, c.customer_state\n",
        ")\n",
        "\n",
        "-- Créez les segments RFM (Champions, Loyaux, À risque, etc.)\n",
        "SELECT\n",
        "    customer_id,\n",
        "    customer_state,\n",
        "    recency_score,\n",
        "    frequency_score,\n",
        "    monetary_score,\n",
        "    CASE\n",
        "        WHEN recency_score >= 4 AND frequency_score >= 4 THEN 'Champions'\n",
        "        WHEN recency_score >= 3 AND frequency_score >= 3 THEN 'Loyal Customers'\n",
        "        -- Ajoutez les autres segments\n",
        "        ELSE 'Others'\n",
        "    END as customer_segment\n",
        "FROM customer_metrics;\n",
        "```"
      ]
    },
    {
      "cell_type": "code",
      "execution_count": 9,
      "metadata": {},
      "outputs": [
        {
          "data": {
            "application/vnd.microsoft.datawrangler.viewer.v0+json": {
              "columns": [
                {
                  "name": "index",
                  "rawType": "int64",
                  "type": "integer"
                },
                {
                  "name": "customer_id",
                  "rawType": "object",
                  "type": "string"
                },
                {
                  "name": "customer_state",
                  "rawType": "object",
                  "type": "string"
                },
                {
                  "name": "recency_score",
                  "rawType": "int64",
                  "type": "integer"
                },
                {
                  "name": "frequency_score",
                  "rawType": "int64",
                  "type": "integer"
                },
                {
                  "name": "monetary_score",
                  "rawType": "int64",
                  "type": "integer"
                },
                {
                  "name": "customer_segment",
                  "rawType": "object",
                  "type": "string"
                }
              ],
              "ref": "b6f79735-db26-420b-8228-816c5b12d478",
              "rows": [
                [
                  "0",
                  "898b7fee99c4e42170ab69ba59be0a8b",
                  "SP",
                  "1",
                  "4",
                  "3",
                  "Lost"
                ],
                [
                  "1",
                  "496630b6740bcca28fce9ba50d8a26ef",
                  "SP",
                  "1",
                  "1",
                  "1",
                  "Hibernating"
                ],
                [
                  "2",
                  "6e353700bc7bcdf6ebc15d6de16d7002",
                  "MG",
                  "1",
                  "2",
                  "2",
                  "Hibernating"
                ],
                [
                  "3",
                  "e60df9449653a95af4549bbfcb18a6eb",
                  "PR",
                  "1",
                  "5",
                  "5",
                  "Lost"
                ],
                [
                  "4",
                  "e450a297a7bc6839ceb0cf1a2377fa02",
                  "SP",
                  "1",
                  "2",
                  "2",
                  "Hibernating"
                ],
                [
                  "5",
                  "56b1ac2855cc6d7950b4ffa6a9b41b0d",
                  "SP",
                  "1",
                  "5",
                  "4",
                  "Lost"
                ],
                [
                  "6",
                  "10a79ef2783cae3d8d678e85fde235ac",
                  "SP",
                  "1",
                  "1",
                  "1",
                  "Hibernating"
                ],
                [
                  "7",
                  "b8c19e70d00f6927388e4f31c923d785",
                  "SP",
                  "1",
                  "3",
                  "4",
                  "Hibernating"
                ],
                [
                  "8",
                  "54365416b7ef5599f54a6c7821d5d290",
                  "SP",
                  "1",
                  "5",
                  "3",
                  "Lost"
                ],
                [
                  "9",
                  "448945bc713d98b6726e82eda6249b9e",
                  "SP",
                  "1",
                  "5",
                  "5",
                  "Lost"
                ],
                [
                  "10",
                  "c4c66f47534e09a03fc7a878a9eda5ea",
                  "SP",
                  "1",
                  "2",
                  "2",
                  "Hibernating"
                ],
                [
                  "11",
                  "8ffe52ac7d480a27180338e697eec534",
                  "SP",
                  "1",
                  "1",
                  "1",
                  "Hibernating"
                ],
                [
                  "12",
                  "004440537b68545ca3c341d7279bc4c0",
                  "SP",
                  "1",
                  "5",
                  "3",
                  "Lost"
                ],
                [
                  "13",
                  "478778636c75019554439f75286a22e3",
                  "SP",
                  "1",
                  "3",
                  "4",
                  "Hibernating"
                ],
                [
                  "14",
                  "931bfab7036f6763dc1bdf6e2696e08b",
                  "RJ",
                  "1",
                  "1",
                  "1",
                  "Hibernating"
                ],
                [
                  "15",
                  "0b5f6687d659478f1747caed607c4ec5",
                  "SP",
                  "1",
                  "2",
                  "2",
                  "Hibernating"
                ],
                [
                  "16",
                  "c5c43d14a781c58ed1fdac7c9652f18f",
                  "SP",
                  "1",
                  "4",
                  "5",
                  "Lost"
                ],
                [
                  "17",
                  "6eff0b0388f0e0829bd659d12e168828",
                  "SP",
                  "1",
                  "3",
                  "4",
                  "Hibernating"
                ],
                [
                  "18",
                  "f5fc6bc27d5c599cc9bed0a2eacf030e",
                  "SP",
                  "1",
                  "5",
                  "3",
                  "Lost"
                ],
                [
                  "19",
                  "49a6ae8a95c6a78d90945b983ab1ecfc",
                  "SP",
                  "1",
                  "5",
                  "3",
                  "Lost"
                ],
                [
                  "20",
                  "930ae890c223dddbd81d9870d9701ec7",
                  "RJ",
                  "1",
                  "5",
                  "4",
                  "Lost"
                ],
                [
                  "21",
                  "eb9f43bc3cb1915ba52ea755eddad3d4",
                  "SP",
                  "1",
                  "1",
                  "1",
                  "Hibernating"
                ],
                [
                  "22",
                  "db7432cb997db7083db6aaea715d3433",
                  "SP",
                  "1",
                  "1",
                  "1",
                  "Hibernating"
                ],
                [
                  "23",
                  "1c3d8766b5f8b24d7e95001ce31d1d38",
                  "SP",
                  "1",
                  "1",
                  "1",
                  "Hibernating"
                ],
                [
                  "24",
                  "2f751d53058e28b3d51ad54852cc9c5e",
                  "SP",
                  "1",
                  "4",
                  "5",
                  "Lost"
                ],
                [
                  "25",
                  "1288df1d9da5e124c94b06a6ba3ca50b",
                  "SP",
                  "1",
                  "3",
                  "5",
                  "Hibernating"
                ],
                [
                  "26",
                  "fb7d19feca365f1522c65d99c2f590c4",
                  "SP",
                  "1",
                  "4",
                  "5",
                  "Lost"
                ],
                [
                  "27",
                  "0b0e8ff0c3d490e69901bd6f0efa190a",
                  "SP",
                  "1",
                  "2",
                  "2",
                  "Hibernating"
                ],
                [
                  "28",
                  "be169d57b327a59f2db49cffdc6caf13",
                  "PR",
                  "1",
                  "3",
                  "4",
                  "Hibernating"
                ],
                [
                  "29",
                  "1613194aae75f127dd52a37566c138ca",
                  "SP",
                  "1",
                  "2",
                  "2",
                  "Hibernating"
                ],
                [
                  "30",
                  "def6003502bb7701e2cdc0cb5af42cfe",
                  "SP",
                  "1",
                  "5",
                  "3",
                  "Lost"
                ],
                [
                  "31",
                  "7a60c49de204bb732d997d4382b7a0ec",
                  "SP",
                  "1",
                  "1",
                  "1",
                  "Hibernating"
                ],
                [
                  "32",
                  "b0d59207d44937209cca2887ab613f5b",
                  "RS",
                  "1",
                  "4",
                  "4",
                  "Lost"
                ],
                [
                  "33",
                  "acffc70df5f0a2ddc0e094eea7f5f069",
                  "SP",
                  "1",
                  "2",
                  "2",
                  "Hibernating"
                ],
                [
                  "34",
                  "fa951727fe95bbd6c7488b84d147b7bd",
                  "SP",
                  "1",
                  "1",
                  "1",
                  "Hibernating"
                ],
                [
                  "35",
                  "9f245dbd9c58b9856a0cfd5b2a481a6c",
                  "SP",
                  "1",
                  "3",
                  "4",
                  "Hibernating"
                ],
                [
                  "36",
                  "d84a9738d613b69719f0bac7a49a7b65",
                  "SP",
                  "1",
                  "2",
                  "2",
                  "Hibernating"
                ],
                [
                  "37",
                  "7d4c2f26339ec3889de2483be32d34d5",
                  "SP",
                  "1",
                  "1",
                  "1",
                  "Hibernating"
                ],
                [
                  "38",
                  "feb2fb674b5b45151ac0b7a79694650a",
                  "RJ",
                  "1",
                  "2",
                  "2",
                  "Hibernating"
                ],
                [
                  "39",
                  "43a9b97803084721b53b240506f2e52d",
                  "SP",
                  "1",
                  "1",
                  "1",
                  "Hibernating"
                ],
                [
                  "40",
                  "ea2b2f7e718f4cf14d2d4138fbe3784a",
                  "SP",
                  "1",
                  "2",
                  "2",
                  "Hibernating"
                ],
                [
                  "41",
                  "fa62a9ef95e703b49c4bf530ce1e4efb",
                  "SP",
                  "1",
                  "2",
                  "3",
                  "Hibernating"
                ],
                [
                  "42",
                  "e342cc220c9ce03ad61939a23e6571fd",
                  "SP",
                  "1",
                  "1",
                  "1",
                  "Hibernating"
                ],
                [
                  "43",
                  "bf766ad0f00b31ea37a0cd27a0e2b64e",
                  "SP",
                  "1",
                  "1",
                  "1",
                  "Hibernating"
                ],
                [
                  "44",
                  "8a60cdad54c76dca4cb2967400af00c9",
                  "SP",
                  "1",
                  "5",
                  "4",
                  "Lost"
                ],
                [
                  "45",
                  "237cd40f8611065ccaee3db2484eedaa",
                  "SP",
                  "1",
                  "2",
                  "2",
                  "Hibernating"
                ],
                [
                  "46",
                  "26b73fb8069041c193a5001e01fcccfd",
                  "SP",
                  "1",
                  "1",
                  "1",
                  "Hibernating"
                ],
                [
                  "47",
                  "e350a18244c16257e0bac342c17e3d1a",
                  "SP",
                  "1",
                  "1",
                  "1",
                  "Hibernating"
                ],
                [
                  "48",
                  "2a7cfceba822a5cb1e74455166e4a977",
                  "SP",
                  "1",
                  "1",
                  "1",
                  "Hibernating"
                ],
                [
                  "49",
                  "bd4a8885eb34fde35641c041de257375",
                  "SP",
                  "1",
                  "4",
                  "3",
                  "Lost"
                ]
              ],
              "shape": {
                "columns": 6,
                "rows": 96478
              }
            },
            "text/html": [
              "<div>\n",
              "<style scoped>\n",
              "    .dataframe tbody tr th:only-of-type {\n",
              "        vertical-align: middle;\n",
              "    }\n",
              "\n",
              "    .dataframe tbody tr th {\n",
              "        vertical-align: top;\n",
              "    }\n",
              "\n",
              "    .dataframe thead th {\n",
              "        text-align: right;\n",
              "    }\n",
              "</style>\n",
              "<table border=\"1\" class=\"dataframe\">\n",
              "  <thead>\n",
              "    <tr style=\"text-align: right;\">\n",
              "      <th></th>\n",
              "      <th>customer_id</th>\n",
              "      <th>customer_state</th>\n",
              "      <th>recency_score</th>\n",
              "      <th>frequency_score</th>\n",
              "      <th>monetary_score</th>\n",
              "      <th>customer_segment</th>\n",
              "    </tr>\n",
              "  </thead>\n",
              "  <tbody>\n",
              "    <tr>\n",
              "      <th>0</th>\n",
              "      <td>898b7fee99c4e42170ab69ba59be0a8b</td>\n",
              "      <td>SP</td>\n",
              "      <td>1</td>\n",
              "      <td>4</td>\n",
              "      <td>3</td>\n",
              "      <td>Lost</td>\n",
              "    </tr>\n",
              "    <tr>\n",
              "      <th>1</th>\n",
              "      <td>496630b6740bcca28fce9ba50d8a26ef</td>\n",
              "      <td>SP</td>\n",
              "      <td>1</td>\n",
              "      <td>1</td>\n",
              "      <td>1</td>\n",
              "      <td>Hibernating</td>\n",
              "    </tr>\n",
              "    <tr>\n",
              "      <th>2</th>\n",
              "      <td>6e353700bc7bcdf6ebc15d6de16d7002</td>\n",
              "      <td>MG</td>\n",
              "      <td>1</td>\n",
              "      <td>2</td>\n",
              "      <td>2</td>\n",
              "      <td>Hibernating</td>\n",
              "    </tr>\n",
              "    <tr>\n",
              "      <th>3</th>\n",
              "      <td>e60df9449653a95af4549bbfcb18a6eb</td>\n",
              "      <td>PR</td>\n",
              "      <td>1</td>\n",
              "      <td>5</td>\n",
              "      <td>5</td>\n",
              "      <td>Lost</td>\n",
              "    </tr>\n",
              "    <tr>\n",
              "      <th>4</th>\n",
              "      <td>e450a297a7bc6839ceb0cf1a2377fa02</td>\n",
              "      <td>SP</td>\n",
              "      <td>1</td>\n",
              "      <td>2</td>\n",
              "      <td>2</td>\n",
              "      <td>Hibernating</td>\n",
              "    </tr>\n",
              "    <tr>\n",
              "      <th>...</th>\n",
              "      <td>...</td>\n",
              "      <td>...</td>\n",
              "      <td>...</td>\n",
              "      <td>...</td>\n",
              "      <td>...</td>\n",
              "      <td>...</td>\n",
              "    </tr>\n",
              "    <tr>\n",
              "      <th>96473</th>\n",
              "      <td>b8cf418e97ae795672d326288dfab7a7</td>\n",
              "      <td>SP</td>\n",
              "      <td>5</td>\n",
              "      <td>3</td>\n",
              "      <td>4</td>\n",
              "      <td>Loyal Customers</td>\n",
              "    </tr>\n",
              "    <tr>\n",
              "      <th>96474</th>\n",
              "      <td>6f989332712d3222b6571b1cf5b835ce</td>\n",
              "      <td>RS</td>\n",
              "      <td>5</td>\n",
              "      <td>1</td>\n",
              "      <td>1</td>\n",
              "      <td>Others</td>\n",
              "    </tr>\n",
              "    <tr>\n",
              "      <th>96475</th>\n",
              "      <td>7ec40b22510fdbea1b08921dd39e63d8</td>\n",
              "      <td>RS</td>\n",
              "      <td>5</td>\n",
              "      <td>1</td>\n",
              "      <td>1</td>\n",
              "      <td>Others</td>\n",
              "    </tr>\n",
              "    <tr>\n",
              "      <th>96476</th>\n",
              "      <td>355077684019f7f60a031656bd7262b8</td>\n",
              "      <td>SP</td>\n",
              "      <td>5</td>\n",
              "      <td>1</td>\n",
              "      <td>1</td>\n",
              "      <td>Others</td>\n",
              "    </tr>\n",
              "    <tr>\n",
              "      <th>96477</th>\n",
              "      <td>86dc2ffce2dfff336de2f386a786e574</td>\n",
              "      <td>SP</td>\n",
              "      <td>5</td>\n",
              "      <td>5</td>\n",
              "      <td>4</td>\n",
              "      <td>Champions</td>\n",
              "    </tr>\n",
              "  </tbody>\n",
              "</table>\n",
              "<p>96478 rows × 6 columns</p>\n",
              "</div>"
            ],
            "text/plain": [
              "                            customer_id customer_state  recency_score  \\\n",
              "0      898b7fee99c4e42170ab69ba59be0a8b             SP              1   \n",
              "1      496630b6740bcca28fce9ba50d8a26ef             SP              1   \n",
              "2      6e353700bc7bcdf6ebc15d6de16d7002             MG              1   \n",
              "3      e60df9449653a95af4549bbfcb18a6eb             PR              1   \n",
              "4      e450a297a7bc6839ceb0cf1a2377fa02             SP              1   \n",
              "...                                 ...            ...            ...   \n",
              "96473  b8cf418e97ae795672d326288dfab7a7             SP              5   \n",
              "96474  6f989332712d3222b6571b1cf5b835ce             RS              5   \n",
              "96475  7ec40b22510fdbea1b08921dd39e63d8             RS              5   \n",
              "96476  355077684019f7f60a031656bd7262b8             SP              5   \n",
              "96477  86dc2ffce2dfff336de2f386a786e574             SP              5   \n",
              "\n",
              "       frequency_score  monetary_score customer_segment  \n",
              "0                    4               3             Lost  \n",
              "1                    1               1      Hibernating  \n",
              "2                    2               2      Hibernating  \n",
              "3                    5               5             Lost  \n",
              "4                    2               2      Hibernating  \n",
              "...                ...             ...              ...  \n",
              "96473                3               4  Loyal Customers  \n",
              "96474                1               1           Others  \n",
              "96475                1               1           Others  \n",
              "96476                1               1           Others  \n",
              "96477                5               4        Champions  \n",
              "\n",
              "[96478 rows x 6 columns]"
            ]
          },
          "execution_count": 9,
          "metadata": {},
          "output_type": "execute_result"
        }
      ],
      "source": [
        "#### 1. Analyse RFM\n",
        "# Votre défi : Calculer les métriques RFM pour chaque client\n",
        "\n",
        "### Récence : jours depuis dernier achat du client\n",
        "# Fréquence : nombre de commandes du client\n",
        "# Montant : total dépensé du client\n",
        "        \n",
        "# Complétez cette requête CTE\n",
        "\n",
        "conn.rollback()\n",
        "\n",
        "customer_metrics = \"\"\"\n",
        "WITH base_data AS (\n",
        "    SELECT\n",
        "        c.customer_id,\n",
        "        c.customer_state,\n",
        "        MAX(o.order_date) AS last_order_date,\n",
        "        COUNT(o.order_id) AS order_count,\n",
        "        SUM(oi.price) AS total_spent\n",
        "    FROM\n",
        "        customers c\n",
        "    JOIN orders o ON c.customer_id = o.customer_id\n",
        "    JOIN order_items oi ON o.order_id = oi.order_id\n",
        "    WHERE\n",
        "        o.order_status = 'delivered'\n",
        "    GROUP BY\n",
        "        c.customer_id, c.customer_state\n",
        "),\n",
        "scored_data AS (\n",
        "    SELECT\n",
        "        customer_id,\n",
        "        customer_state,\n",
        "        last_order_date,\n",
        "        order_count,\n",
        "        total_spent,\n",
        "        NTILE(5) OVER (ORDER BY last_order_date DESC) AS recency_score,\n",
        "        NTILE(5) OVER (ORDER BY order_count) AS frequency_score,\n",
        "        NTILE(5) OVER (ORDER BY total_spent) AS monetary_score\n",
        "    FROM\n",
        "        base_data\n",
        ")\n",
        "SELECT\n",
        "    customer_id,\n",
        "    customer_state,\n",
        "    recency_score,\n",
        "    frequency_score,\n",
        "    monetary_score,\n",
        "    CASE\n",
        "        WHEN recency_score >= 4 AND frequency_score >= 4 AND monetary_score >= 4 THEN 'Champions'\n",
        "        WHEN recency_score >= 3 AND frequency_score >= 3 THEN 'Loyal Customers'\n",
        "        WHEN recency_score >= 4 AND frequency_score BETWEEN 2 AND 3 THEN 'Potential Loyalists'\n",
        "        WHEN recency_score BETWEEN 2 AND 3 AND frequency_score >= 3 THEN 'At risk'\n",
        "        WHEN recency_score <= 2 AND frequency_score <= 3 THEN 'Hibernating'\n",
        "        WHEN recency_score = 1 THEN 'Lost'\n",
        "        ELSE 'Others'\n",
        "    END AS customer_segment\n",
        "FROM\n",
        "    scored_data;\n",
        "\"\"\"\n",
        "\n",
        "result_cm= conn.execute(text(customer_metrics))\n",
        "df_cm = pd.DataFrame(result_cm.fetchall())\n",
        "df_cm"
      ]
    },
    {
      "cell_type": "code",
      "execution_count": 10,
      "metadata": {
        "id": "TWF9rpZSUMp5"
      },
      "outputs": [
        {
          "data": {
            "application/vnd.microsoft.datawrangler.viewer.v0+json": {
              "columns": [
                {
                  "name": "index",
                  "rawType": "int64",
                  "type": "integer"
                },
                {
                  "name": "customer_state",
                  "rawType": "object",
                  "type": "string"
                },
                {
                  "name": "ca_total_spent",
                  "rawType": "float64",
                  "type": "float"
                }
              ],
              "ref": "386f0abd-c43a-46e4-be58-aa20f01829d2",
              "rows": [
                [
                  "0",
                  "SP",
                  "5067633.16"
                ],
                [
                  "1",
                  "RJ",
                  "1759651.13"
                ],
                [
                  "2",
                  "MG",
                  "1552481.83"
                ],
                [
                  "3",
                  "RS",
                  "728897.47"
                ],
                [
                  "4",
                  "PR",
                  "666063.51"
                ],
                [
                  "5",
                  "SC",
                  "507012.13"
                ],
                [
                  "6",
                  "BA",
                  "493584.14"
                ],
                [
                  "7",
                  "DF",
                  "296498.41"
                ],
                [
                  "8",
                  "GO",
                  "282836.7"
                ],
                [
                  "9",
                  "ES",
                  "268643.45"
                ]
              ],
              "shape": {
                "columns": 2,
                "rows": 10
              }
            },
            "text/html": [
              "<div>\n",
              "<style scoped>\n",
              "    .dataframe tbody tr th:only-of-type {\n",
              "        vertical-align: middle;\n",
              "    }\n",
              "\n",
              "    .dataframe tbody tr th {\n",
              "        vertical-align: top;\n",
              "    }\n",
              "\n",
              "    .dataframe thead th {\n",
              "        text-align: right;\n",
              "    }\n",
              "</style>\n",
              "<table border=\"1\" class=\"dataframe\">\n",
              "  <thead>\n",
              "    <tr style=\"text-align: right;\">\n",
              "      <th></th>\n",
              "      <th>customer_state</th>\n",
              "      <th>ca_total_spent</th>\n",
              "    </tr>\n",
              "  </thead>\n",
              "  <tbody>\n",
              "    <tr>\n",
              "      <th>0</th>\n",
              "      <td>SP</td>\n",
              "      <td>5067633.16</td>\n",
              "    </tr>\n",
              "    <tr>\n",
              "      <th>1</th>\n",
              "      <td>RJ</td>\n",
              "      <td>1759651.13</td>\n",
              "    </tr>\n",
              "    <tr>\n",
              "      <th>2</th>\n",
              "      <td>MG</td>\n",
              "      <td>1552481.83</td>\n",
              "    </tr>\n",
              "    <tr>\n",
              "      <th>3</th>\n",
              "      <td>RS</td>\n",
              "      <td>728897.47</td>\n",
              "    </tr>\n",
              "    <tr>\n",
              "      <th>4</th>\n",
              "      <td>PR</td>\n",
              "      <td>666063.51</td>\n",
              "    </tr>\n",
              "    <tr>\n",
              "      <th>5</th>\n",
              "      <td>SC</td>\n",
              "      <td>507012.13</td>\n",
              "    </tr>\n",
              "    <tr>\n",
              "      <th>6</th>\n",
              "      <td>BA</td>\n",
              "      <td>493584.14</td>\n",
              "    </tr>\n",
              "    <tr>\n",
              "      <th>7</th>\n",
              "      <td>DF</td>\n",
              "      <td>296498.41</td>\n",
              "    </tr>\n",
              "    <tr>\n",
              "      <th>8</th>\n",
              "      <td>GO</td>\n",
              "      <td>282836.70</td>\n",
              "    </tr>\n",
              "    <tr>\n",
              "      <th>9</th>\n",
              "      <td>ES</td>\n",
              "      <td>268643.45</td>\n",
              "    </tr>\n",
              "  </tbody>\n",
              "</table>\n",
              "</div>"
            ],
            "text/plain": [
              "  customer_state  ca_total_spent\n",
              "0             SP      5067633.16\n",
              "1             RJ      1759651.13\n",
              "2             MG      1552481.83\n",
              "3             RS       728897.47\n",
              "4             PR       666063.51\n",
              "5             SC       507012.13\n",
              "6             BA       493584.14\n",
              "7             DF       296498.41\n",
              "8             GO       282836.70\n",
              "9             ES       268643.45"
            ]
          },
          "execution_count": 10,
          "metadata": {},
          "output_type": "execute_result"
        }
      ],
      "source": [
        "#### 2. Analyse géographique des ventes\n",
        "\n",
        "\n",
        "# Analysez les performances par état/région\n",
        "\n",
        "# Requêtes à écrire :\n",
        "# 1. Top 10 des états par CA\n",
        "# 2. Croissance MoM du CA par région\n",
        "# 3. Taux de conversion des par ville\n",
        "# 4. Distance moyenne vendeur-acheteur\n",
        "\n",
        "conn.rollback()\n",
        "\n",
        "query_top_states = \"\"\"\n",
        "WITH base_data AS(\n",
        "    SELECT\n",
        "        c.customer_id,\n",
        "        c.customer_state,\n",
        "        SUM(oi.price) AS total_spent\n",
        "    FROM\n",
        "        customers c\n",
        "    JOIN orders o ON c.customer_id = o.customer_id\n",
        "    JOIN order_items oi ON o.order_id = oi.order_id\n",
        "    WHERE\n",
        "        o.order_status = 'delivered'\n",
        "    GROUP BY\n",
        "        c.customer_id, c.customer_state\n",
        ")\n",
        "SELECT\n",
        "    customer_state,\n",
        "    SUM(total_spent) AS CA_total_spent\n",
        "FROM base_data\n",
        "GROUP BY customer_state\n",
        "ORDER BY CA_total_spent DESC\n",
        "LIMIT 10;\n",
        "    \n",
        "-- Calculez le CA, nombre de commandes, panier moyen\n",
        "\"\"\"\n",
        "\n",
        "pd.read_sql(query_top_states, engine)"
      ]
    },
    {
      "cell_type": "code",
      "execution_count": 11,
      "metadata": {},
      "outputs": [
        {
          "data": {
            "application/vnd.microsoft.datawrangler.viewer.v0+json": {
              "columns": [
                {
                  "name": "index",
                  "rawType": "int64",
                  "type": "integer"
                },
                {
                  "name": "customer_state",
                  "rawType": "object",
                  "type": "string"
                },
                {
                  "name": "month",
                  "rawType": "datetime64[ns]",
                  "type": "datetime"
                },
                {
                  "name": "month_ca",
                  "rawType": "float64",
                  "type": "float"
                },
                {
                  "name": "previous_month_ca",
                  "rawType": "float64",
                  "type": "float"
                },
                {
                  "name": "mom_growth_percent",
                  "rawType": "float64",
                  "type": "float"
                }
              ],
              "ref": "ef684868-3c9a-4537-912b-72e14e70be57",
              "rows": [
                [
                  "0",
                  "AC",
                  "2018-08-01 00:00:00",
                  "446.69",
                  "1469.97",
                  "-69.61"
                ],
                [
                  "1",
                  "AC",
                  "2018-07-01 00:00:00",
                  "1469.97",
                  "427.9",
                  "243.53"
                ],
                [
                  "2",
                  "AC",
                  "2018-06-01 00:00:00",
                  "427.9",
                  "1364.89",
                  "-68.65"
                ],
                [
                  "3",
                  "AC",
                  "2018-05-01 00:00:00",
                  "1364.89",
                  "422.98",
                  "222.68"
                ],
                [
                  "4",
                  "AC",
                  "2018-04-01 00:00:00",
                  "422.98",
                  "97.8",
                  "332.49"
                ],
                [
                  "5",
                  "AC",
                  "2018-03-01 00:00:00",
                  "97.8",
                  "201.83",
                  "-51.54"
                ],
                [
                  "6",
                  "AC",
                  "2018-02-01 00:00:00",
                  "201.83",
                  "882.94",
                  "-77.14"
                ],
                [
                  "7",
                  "AC",
                  "2018-01-01 00:00:00",
                  "882.94",
                  "1100.78",
                  "-19.79"
                ],
                [
                  "8",
                  "AC",
                  "2017-12-01 00:00:00",
                  "1100.78",
                  "649.92",
                  "69.37"
                ],
                [
                  "9",
                  "AC",
                  "2017-11-01 00:00:00",
                  "649.92",
                  "683.22",
                  "-4.87"
                ],
                [
                  "10",
                  "AC",
                  "2017-10-01 00:00:00",
                  "683.22",
                  "1786.89",
                  "-61.76"
                ],
                [
                  "11",
                  "AC",
                  "2017-09-01 00:00:00",
                  "1786.89",
                  "637.93",
                  "180.11"
                ],
                [
                  "12",
                  "AC",
                  "2017-08-01 00:00:00",
                  "637.93",
                  "618.69",
                  "3.11"
                ],
                [
                  "13",
                  "AC",
                  "2017-07-01 00:00:00",
                  "618.69",
                  "385.78",
                  "60.37"
                ],
                [
                  "14",
                  "AC",
                  "2017-06-01 00:00:00",
                  "385.78",
                  "2094.39",
                  "-81.58"
                ],
                [
                  "15",
                  "AC",
                  "2017-05-01 00:00:00",
                  "2094.39",
                  "1162.38",
                  "80.18"
                ],
                [
                  "16",
                  "AC",
                  "2017-04-01 00:00:00",
                  "1162.38",
                  "455.99",
                  "154.91"
                ],
                [
                  "17",
                  "AC",
                  "2017-03-01 00:00:00",
                  "455.99",
                  "450.4",
                  "1.24"
                ],
                [
                  "18",
                  "AC",
                  "2017-02-01 00:00:00",
                  "450.4",
                  "589.6",
                  "-23.61"
                ],
                [
                  "19",
                  "AC",
                  "2017-01-01 00:00:00",
                  "589.6",
                  null,
                  null
                ],
                [
                  "20",
                  "AL",
                  "2018-08-01 00:00:00",
                  "2253.28",
                  "3856.33",
                  "-41.57"
                ],
                [
                  "21",
                  "AL",
                  "2018-07-01 00:00:00",
                  "3856.33",
                  "3730.6",
                  "3.37"
                ],
                [
                  "22",
                  "AL",
                  "2018-06-01 00:00:00",
                  "3730.6",
                  "3657.09",
                  "2.01"
                ],
                [
                  "23",
                  "AL",
                  "2018-05-01 00:00:00",
                  "3657.09",
                  "5956.23",
                  "-38.6"
                ],
                [
                  "24",
                  "AL",
                  "2018-04-01 00:00:00",
                  "5956.23",
                  "6406.95",
                  "-7.03"
                ],
                [
                  "25",
                  "AL",
                  "2018-03-01 00:00:00",
                  "6406.95",
                  "4593.07",
                  "39.49"
                ],
                [
                  "26",
                  "AL",
                  "2018-02-01 00:00:00",
                  "4593.07",
                  "5009.28",
                  "-8.31"
                ],
                [
                  "27",
                  "AL",
                  "2018-01-01 00:00:00",
                  "5009.28",
                  "2223.87",
                  "125.25"
                ],
                [
                  "28",
                  "AL",
                  "2017-12-01 00:00:00",
                  "2223.87",
                  "5936.26",
                  "-62.54"
                ],
                [
                  "29",
                  "AL",
                  "2017-11-01 00:00:00",
                  "5936.26",
                  "5344.36",
                  "11.08"
                ],
                [
                  "30",
                  "AL",
                  "2017-10-01 00:00:00",
                  "5344.36",
                  "4305.39",
                  "24.13"
                ],
                [
                  "31",
                  "AL",
                  "2017-09-01 00:00:00",
                  "4305.39",
                  "8889.27",
                  "-51.57"
                ],
                [
                  "32",
                  "AL",
                  "2017-08-01 00:00:00",
                  "8889.27",
                  "2238.94",
                  "297.03"
                ],
                [
                  "33",
                  "AL",
                  "2017-07-01 00:00:00",
                  "2238.94",
                  "951.65",
                  "135.27"
                ],
                [
                  "34",
                  "AL",
                  "2017-06-01 00:00:00",
                  "951.65",
                  "4699.25",
                  "-79.75"
                ],
                [
                  "35",
                  "AL",
                  "2017-05-01 00:00:00",
                  "4699.25",
                  "4569.12",
                  "2.85"
                ],
                [
                  "36",
                  "AL",
                  "2017-04-01 00:00:00",
                  "4569.12",
                  "1174.79",
                  "288.93"
                ],
                [
                  "37",
                  "AL",
                  "2017-03-01 00:00:00",
                  "1174.79",
                  "2616.03",
                  "-55.09"
                ],
                [
                  "38",
                  "AL",
                  "2017-02-01 00:00:00",
                  "2616.03",
                  "393.97",
                  "564.02"
                ],
                [
                  "39",
                  "AL",
                  "2017-01-01 00:00:00",
                  "393.97",
                  "49.99",
                  "688.1"
                ],
                [
                  "40",
                  "AL",
                  "2016-10-01 00:00:00",
                  "49.99",
                  null,
                  null
                ],
                [
                  "41",
                  "AM",
                  "2018-08-01 00:00:00",
                  "380.7",
                  "2004.91",
                  "-81.01"
                ],
                [
                  "42",
                  "AM",
                  "2018-07-01 00:00:00",
                  "2004.91",
                  "924.72",
                  "116.81"
                ],
                [
                  "43",
                  "AM",
                  "2018-06-01 00:00:00",
                  "924.72",
                  "1811.8",
                  "-48.96"
                ],
                [
                  "44",
                  "AM",
                  "2018-05-01 00:00:00",
                  "1811.8",
                  "667.79",
                  "171.31"
                ],
                [
                  "45",
                  "AM",
                  "2018-04-01 00:00:00",
                  "667.79",
                  "973.16",
                  "-31.38"
                ],
                [
                  "46",
                  "AM",
                  "2018-03-01 00:00:00",
                  "973.16",
                  "2028.62",
                  "-52.03"
                ],
                [
                  "47",
                  "AM",
                  "2018-02-01 00:00:00",
                  "2028.62",
                  "2925.65",
                  "-30.66"
                ],
                [
                  "48",
                  "AM",
                  "2018-01-01 00:00:00",
                  "2925.65",
                  "1029.46",
                  "184.19"
                ],
                [
                  "49",
                  "AM",
                  "2017-12-01 00:00:00",
                  "1029.46",
                  "2635.25",
                  "-60.94"
                ]
              ],
              "shape": {
                "columns": 5,
                "rows": 556
              }
            },
            "text/html": [
              "<div>\n",
              "<style scoped>\n",
              "    .dataframe tbody tr th:only-of-type {\n",
              "        vertical-align: middle;\n",
              "    }\n",
              "\n",
              "    .dataframe tbody tr th {\n",
              "        vertical-align: top;\n",
              "    }\n",
              "\n",
              "    .dataframe thead th {\n",
              "        text-align: right;\n",
              "    }\n",
              "</style>\n",
              "<table border=\"1\" class=\"dataframe\">\n",
              "  <thead>\n",
              "    <tr style=\"text-align: right;\">\n",
              "      <th></th>\n",
              "      <th>customer_state</th>\n",
              "      <th>month</th>\n",
              "      <th>month_ca</th>\n",
              "      <th>previous_month_ca</th>\n",
              "      <th>mom_growth_percent</th>\n",
              "    </tr>\n",
              "  </thead>\n",
              "  <tbody>\n",
              "    <tr>\n",
              "      <th>0</th>\n",
              "      <td>AC</td>\n",
              "      <td>2018-08-01</td>\n",
              "      <td>446.69</td>\n",
              "      <td>1469.97</td>\n",
              "      <td>-69.61</td>\n",
              "    </tr>\n",
              "    <tr>\n",
              "      <th>1</th>\n",
              "      <td>AC</td>\n",
              "      <td>2018-07-01</td>\n",
              "      <td>1469.97</td>\n",
              "      <td>427.90</td>\n",
              "      <td>243.53</td>\n",
              "    </tr>\n",
              "    <tr>\n",
              "      <th>2</th>\n",
              "      <td>AC</td>\n",
              "      <td>2018-06-01</td>\n",
              "      <td>427.90</td>\n",
              "      <td>1364.89</td>\n",
              "      <td>-68.65</td>\n",
              "    </tr>\n",
              "    <tr>\n",
              "      <th>3</th>\n",
              "      <td>AC</td>\n",
              "      <td>2018-05-01</td>\n",
              "      <td>1364.89</td>\n",
              "      <td>422.98</td>\n",
              "      <td>222.68</td>\n",
              "    </tr>\n",
              "    <tr>\n",
              "      <th>4</th>\n",
              "      <td>AC</td>\n",
              "      <td>2018-04-01</td>\n",
              "      <td>422.98</td>\n",
              "      <td>97.80</td>\n",
              "      <td>332.49</td>\n",
              "    </tr>\n",
              "    <tr>\n",
              "      <th>...</th>\n",
              "      <td>...</td>\n",
              "      <td>...</td>\n",
              "      <td>...</td>\n",
              "      <td>...</td>\n",
              "      <td>...</td>\n",
              "    </tr>\n",
              "    <tr>\n",
              "      <th>551</th>\n",
              "      <td>TO</td>\n",
              "      <td>2017-05-01</td>\n",
              "      <td>2073.43</td>\n",
              "      <td>2843.26</td>\n",
              "      <td>-27.08</td>\n",
              "    </tr>\n",
              "    <tr>\n",
              "      <th>552</th>\n",
              "      <td>TO</td>\n",
              "      <td>2017-04-01</td>\n",
              "      <td>2843.26</td>\n",
              "      <td>648.66</td>\n",
              "      <td>338.33</td>\n",
              "    </tr>\n",
              "    <tr>\n",
              "      <th>553</th>\n",
              "      <td>TO</td>\n",
              "      <td>2017-03-01</td>\n",
              "      <td>648.66</td>\n",
              "      <td>765.60</td>\n",
              "      <td>-15.27</td>\n",
              "    </tr>\n",
              "    <tr>\n",
              "      <th>554</th>\n",
              "      <td>TO</td>\n",
              "      <td>2017-02-01</td>\n",
              "      <td>765.60</td>\n",
              "      <td>629.89</td>\n",
              "      <td>21.55</td>\n",
              "    </tr>\n",
              "    <tr>\n",
              "      <th>555</th>\n",
              "      <td>TO</td>\n",
              "      <td>2017-01-01</td>\n",
              "      <td>629.89</td>\n",
              "      <td>NaN</td>\n",
              "      <td>NaN</td>\n",
              "    </tr>\n",
              "  </tbody>\n",
              "</table>\n",
              "<p>556 rows × 5 columns</p>\n",
              "</div>"
            ],
            "text/plain": [
              "    customer_state      month  month_ca  previous_month_ca  mom_growth_percent\n",
              "0               AC 2018-08-01    446.69            1469.97              -69.61\n",
              "1               AC 2018-07-01   1469.97             427.90              243.53\n",
              "2               AC 2018-06-01    427.90            1364.89              -68.65\n",
              "3               AC 2018-05-01   1364.89             422.98              222.68\n",
              "4               AC 2018-04-01    422.98              97.80              332.49\n",
              "..             ...        ...       ...                ...                 ...\n",
              "551             TO 2017-05-01   2073.43            2843.26              -27.08\n",
              "552             TO 2017-04-01   2843.26             648.66              338.33\n",
              "553             TO 2017-03-01    648.66             765.60              -15.27\n",
              "554             TO 2017-02-01    765.60             629.89               21.55\n",
              "555             TO 2017-01-01    629.89                NaN                 NaN\n",
              "\n",
              "[556 rows x 5 columns]"
            ]
          },
          "execution_count": 11,
          "metadata": {},
          "output_type": "execute_result"
        }
      ],
      "source": [
        "conn.rollback()\n",
        "\n",
        "query_MoM = \"\"\"\n",
        "WITH base_data AS (\n",
        "    SELECT\n",
        "        c.customer_id,\n",
        "        c.customer_state,\n",
        "        SUM(oi.price) AS total_spent,\n",
        "        DATE_TRUNC('month', o.order_date) AS month\n",
        "    FROM\n",
        "        customers c\n",
        "    JOIN orders o ON c.customer_id = o.customer_id\n",
        "    JOIN order_items oi ON o.order_id = oi.order_id\n",
        "    WHERE\n",
        "        o.order_status = 'delivered'\n",
        "    GROUP BY\n",
        "        c.customer_id, c.customer_state, DATE_TRUNC('month', o.order_date)\n",
        "), \n",
        "MoM_data AS (\n",
        "    SELECT\n",
        "        customer_state,\n",
        "        month,\n",
        "        SUM(total_spent) AS CA\n",
        "    FROM base_data\n",
        "    GROUP BY customer_state, month\n",
        ")\n",
        "SELECT\n",
        "    customer_state,\n",
        "    month,\n",
        "    CA AS month_CA,\n",
        "    LAG(CA) OVER (PARTITION BY customer_state ORDER BY month) AS previous_month_CA,\n",
        "    ROUND(\n",
        "        CASE \n",
        "            WHEN LAG(CA) OVER (PARTITION BY customer_state ORDER BY month) = 0 THEN NULL\n",
        "            ELSE 100.0 * (CA - LAG(CA) OVER (PARTITION BY customer_state ORDER BY month)) / \n",
        "                         LAG(CA) OVER (PARTITION BY customer_state ORDER BY month)\n",
        "        END, 2\n",
        "    ) AS mom_growth_percent\n",
        "FROM MoM_data\n",
        "ORDER BY customer_state, month DESC;\n",
        "\n",
        "    \n",
        "    \n",
        "-- Calculez le CA, nombre de commandes, panier moyen\n",
        "\"\"\"\n",
        "pd.read_sql(query_MoM, engine)"
      ]
    },
    {
      "cell_type": "code",
      "execution_count": 12,
      "metadata": {},
      "outputs": [
        {
          "data": {
            "application/vnd.microsoft.datawrangler.viewer.v0+json": {
              "columns": [
                {
                  "name": "index",
                  "rawType": "int64",
                  "type": "integer"
                },
                {
                  "name": "customer_city",
                  "rawType": "object",
                  "type": "string"
                },
                {
                  "name": "conversion_rate_percent",
                  "rawType": "float64",
                  "type": "float"
                }
              ],
              "ref": "e6ab2ab2-9354-4786-84fd-b9d36e0d3bbb",
              "rows": [
                [
                  "0",
                  "balsa nova",
                  "100.0"
                ],
                [
                  "1",
                  "alto rio doce",
                  "100.0"
                ],
                [
                  "2",
                  "alvorada do gurgueia",
                  "100.0"
                ],
                [
                  "3",
                  "monte alegre do sul",
                  "100.0"
                ],
                [
                  "4",
                  "maracai",
                  "100.0"
                ],
                [
                  "5",
                  "guaicara",
                  "100.0"
                ],
                [
                  "6",
                  "santo antonio do leste",
                  "100.0"
                ],
                [
                  "7",
                  "sapucai-mirim",
                  "100.0"
                ],
                [
                  "8",
                  "travessao",
                  "100.0"
                ],
                [
                  "9",
                  "abdon batista",
                  "100.0"
                ],
                [
                  "10",
                  "paraisopolis",
                  "100.0"
                ],
                [
                  "11",
                  "jaqueira",
                  "100.0"
                ],
                [
                  "12",
                  "protasio alves",
                  "100.0"
                ],
                [
                  "13",
                  "bertolinia",
                  "100.0"
                ],
                [
                  "14",
                  "campo do meio",
                  "100.0"
                ],
                [
                  "15",
                  "abaira",
                  "100.0"
                ],
                [
                  "16",
                  "bodoco",
                  "100.0"
                ],
                [
                  "17",
                  "rio branco do sul",
                  "100.0"
                ],
                [
                  "18",
                  "buique",
                  "100.0"
                ],
                [
                  "19",
                  "pau brasil",
                  "100.0"
                ],
                [
                  "20",
                  "caceres",
                  "100.0"
                ],
                [
                  "21",
                  "igrapiuna",
                  "100.0"
                ],
                [
                  "22",
                  "piquete",
                  "100.0"
                ],
                [
                  "23",
                  "sao pedro de alcantara",
                  "100.0"
                ],
                [
                  "24",
                  "caseiros",
                  "100.0"
                ],
                [
                  "25",
                  "rio bonito do iguacu",
                  "100.0"
                ],
                [
                  "26",
                  "igaci",
                  "100.0"
                ],
                [
                  "27",
                  "sao ludgero",
                  "100.0"
                ],
                [
                  "28",
                  "angustura",
                  "100.0"
                ],
                [
                  "29",
                  "belo oriente",
                  "100.0"
                ],
                [
                  "30",
                  "alvorada d'oeste",
                  "100.0"
                ],
                [
                  "31",
                  "soledade",
                  "100.0"
                ],
                [
                  "32",
                  "divinopolis do tocantins",
                  "100.0"
                ],
                [
                  "33",
                  "miradouro",
                  "100.0"
                ],
                [
                  "34",
                  "sao jose do ribeirao",
                  "100.0"
                ],
                [
                  "35",
                  "anhumas",
                  "100.0"
                ],
                [
                  "36",
                  "itapecuru mirim",
                  "100.0"
                ],
                [
                  "37",
                  "luziania",
                  "100.0"
                ],
                [
                  "38",
                  "santanesia",
                  "100.0"
                ],
                [
                  "39",
                  "pilar",
                  "100.0"
                ],
                [
                  "40",
                  "sao jose da bela vista",
                  "100.0"
                ],
                [
                  "41",
                  "jequia da praia",
                  "100.0"
                ],
                [
                  "42",
                  "cajari",
                  "100.0"
                ],
                [
                  "43",
                  "novo machado",
                  "100.0"
                ],
                [
                  "44",
                  "itirucu",
                  "100.0"
                ],
                [
                  "45",
                  "dois irmaos do buriti",
                  "100.0"
                ],
                [
                  "46",
                  "indianopolis",
                  "100.0"
                ],
                [
                  "47",
                  "cotipora",
                  "100.0"
                ],
                [
                  "48",
                  "riachuelo",
                  "100.0"
                ],
                [
                  "49",
                  "machacalis",
                  "100.0"
                ]
              ],
              "shape": {
                "columns": 2,
                "rows": 4110
              }
            },
            "text/html": [
              "<div>\n",
              "<style scoped>\n",
              "    .dataframe tbody tr th:only-of-type {\n",
              "        vertical-align: middle;\n",
              "    }\n",
              "\n",
              "    .dataframe tbody tr th {\n",
              "        vertical-align: top;\n",
              "    }\n",
              "\n",
              "    .dataframe thead th {\n",
              "        text-align: right;\n",
              "    }\n",
              "</style>\n",
              "<table border=\"1\" class=\"dataframe\">\n",
              "  <thead>\n",
              "    <tr style=\"text-align: right;\">\n",
              "      <th></th>\n",
              "      <th>customer_city</th>\n",
              "      <th>conversion_rate_percent</th>\n",
              "    </tr>\n",
              "  </thead>\n",
              "  <tbody>\n",
              "    <tr>\n",
              "      <th>0</th>\n",
              "      <td>balsa nova</td>\n",
              "      <td>100.0</td>\n",
              "    </tr>\n",
              "    <tr>\n",
              "      <th>1</th>\n",
              "      <td>alto rio doce</td>\n",
              "      <td>100.0</td>\n",
              "    </tr>\n",
              "    <tr>\n",
              "      <th>2</th>\n",
              "      <td>alvorada do gurgueia</td>\n",
              "      <td>100.0</td>\n",
              "    </tr>\n",
              "    <tr>\n",
              "      <th>3</th>\n",
              "      <td>monte alegre do sul</td>\n",
              "      <td>100.0</td>\n",
              "    </tr>\n",
              "    <tr>\n",
              "      <th>4</th>\n",
              "      <td>maracai</td>\n",
              "      <td>100.0</td>\n",
              "    </tr>\n",
              "    <tr>\n",
              "      <th>...</th>\n",
              "      <td>...</td>\n",
              "      <td>...</td>\n",
              "    </tr>\n",
              "    <tr>\n",
              "      <th>4105</th>\n",
              "      <td>cacimbinhas</td>\n",
              "      <td>0.0</td>\n",
              "    </tr>\n",
              "    <tr>\n",
              "      <th>4106</th>\n",
              "      <td>nova brescia</td>\n",
              "      <td>0.0</td>\n",
              "    </tr>\n",
              "    <tr>\n",
              "      <th>4107</th>\n",
              "      <td>lebon regis</td>\n",
              "      <td>0.0</td>\n",
              "    </tr>\n",
              "    <tr>\n",
              "      <th>4108</th>\n",
              "      <td>santo antonio de goias</td>\n",
              "      <td>0.0</td>\n",
              "    </tr>\n",
              "    <tr>\n",
              "      <th>4109</th>\n",
              "      <td>jacarau</td>\n",
              "      <td>0.0</td>\n",
              "    </tr>\n",
              "  </tbody>\n",
              "</table>\n",
              "<p>4110 rows × 2 columns</p>\n",
              "</div>"
            ],
            "text/plain": [
              "               customer_city  conversion_rate_percent\n",
              "0                 balsa nova                    100.0\n",
              "1              alto rio doce                    100.0\n",
              "2       alvorada do gurgueia                    100.0\n",
              "3        monte alegre do sul                    100.0\n",
              "4                    maracai                    100.0\n",
              "...                      ...                      ...\n",
              "4105             cacimbinhas                      0.0\n",
              "4106            nova brescia                      0.0\n",
              "4107             lebon regis                      0.0\n",
              "4108  santo antonio de goias                      0.0\n",
              "4109                 jacarau                      0.0\n",
              "\n",
              "[4110 rows x 2 columns]"
            ]
          },
          "execution_count": 12,
          "metadata": {},
          "output_type": "execute_result"
        }
      ],
      "source": [
        "conn.rollback()\n",
        "\n",
        "query_taux_conversion = \"\"\"\n",
        "WITH base_data AS (\n",
        "    SELECT\n",
        "        c.customer_id,\n",
        "        c.customer_city,\n",
        "        SUM(CASE WHEN o.order_status = 'delivered' THEN 1 ELSE 0 END) AS successful,\n",
        "        SUM(CASE WHEN o.order_status IN (\n",
        "            'created', 'shipped', 'canceled', 'invoiced',\n",
        "            'processing', 'unavailable', 'approved'\n",
        "        ) THEN 1 ELSE 0 END) AS unsuccessful\n",
        "    FROM\n",
        "        customers c\n",
        "    JOIN orders o ON c.customer_id = o.customer_id\n",
        "    JOIN order_items oi ON o.order_id = oi.order_id\n",
        "    GROUP BY\n",
        "        c.customer_id, c.customer_city\n",
        ")\n",
        "SELECT\n",
        "    customer_city,\n",
        "    ROUND(\n",
        "        CASE \n",
        "            WHEN SUM(unsuccessful) = 0 THEN 100\n",
        "            ELSE 100.0 * SUM(successful) / (SUM(successful) + SUM(unsuccessful))\n",
        "        END, 2\n",
        "    ) AS conversion_rate_percent\n",
        "FROM base_data\n",
        "GROUP BY\n",
        "    customer_city\n",
        "ORDER BY \n",
        "    conversion_rate_percent DESC;\n",
        "\n",
        "-- Calculez le CA, nombre de commandes, panier moyen\n",
        "\"\"\"\n",
        "pd.read_sql(query_taux_conversion, engine)"
      ]
    },
    {
      "cell_type": "markdown",
      "metadata": {
        "id": "7OE-UHLKY8-K"
      },
      "source": [
        "#### 3. Analyse temporelle et saisonnalité\n",
        "```sql\n",
        "-- Détectez les patterns saisonniers\n",
        "SELECT\n",
        "    EXTRACT(YEAR FROM order_date) as year,\n",
        "    EXTRACT(MONTH FROM order_date) as month,\n",
        "    EXTRACT(DOW FROM order_date) as day_of_week,\n",
        "    COUNT(*) as order_count,\n",
        "    SUM(price + freight_value) as total_revenue,\n",
        "    AVG(price + freight_value) as avg_order_value\n",
        "FROM orders o\n",
        "JOIN order_items oi ON o.order_id = oi.order_id\n",
        "WHERE order_status = 'delivered'\n",
        "GROUP BY ROLLUP(\n",
        "    EXTRACT(YEAR FROM order_date),\n",
        "    EXTRACT(MONTH FROM order_date),\n",
        "    EXTRACT(DOW FROM order_date)\n",
        ")\n",
        "ORDER BY year, month, day_of_week;\n",
        "```\n",
        "\n",
        "---"
      ]
    },
    {
      "cell_type": "code",
      "execution_count": 13,
      "metadata": {},
      "outputs": [
        {
          "data": {
            "application/vnd.microsoft.datawrangler.viewer.v0+json": {
              "columns": [
                {
                  "name": "index",
                  "rawType": "int64",
                  "type": "integer"
                },
                {
                  "name": "year",
                  "rawType": "float64",
                  "type": "float"
                },
                {
                  "name": "month",
                  "rawType": "float64",
                  "type": "float"
                },
                {
                  "name": "day_of_week",
                  "rawType": "float64",
                  "type": "float"
                },
                {
                  "name": "order_count",
                  "rawType": "int64",
                  "type": "integer"
                },
                {
                  "name": "total_revenue",
                  "rawType": "float64",
                  "type": "float"
                },
                {
                  "name": "avg_order_value",
                  "rawType": "float64",
                  "type": "float"
                }
              ],
              "ref": "cb76c070-29f1-47bd-9efc-5d78662f9316",
              "rows": [
                [
                  "0",
                  "2016.0",
                  "9.0",
                  "4.0",
                  "3",
                  "143.46",
                  "47.82"
                ],
                [
                  "1",
                  "2016.0",
                  "9.0",
                  null,
                  "3",
                  "143.46",
                  "47.82"
                ],
                [
                  "2",
                  "2016.0",
                  "10.0",
                  "0.0",
                  "26",
                  "2904.19",
                  "111.69961538461538"
                ],
                [
                  "3",
                  "2016.0",
                  "10.0",
                  "1.0",
                  "44",
                  "4456.26",
                  "101.27863636363637"
                ],
                [
                  "4",
                  "2016.0",
                  "10.0",
                  "2.0",
                  "63",
                  "9821.42",
                  "155.89555555555555"
                ],
                [
                  "5",
                  "2016.0",
                  "10.0",
                  "3.0",
                  "48",
                  "7209.5",
                  "150.19791666666666"
                ],
                [
                  "6",
                  "2016.0",
                  "10.0",
                  "4.0",
                  "47",
                  "6798.9",
                  "144.65744680851063"
                ],
                [
                  "7",
                  "2016.0",
                  "10.0",
                  "5.0",
                  "44",
                  "6824.46",
                  "155.10136363636363"
                ],
                [
                  "8",
                  "2016.0",
                  "10.0",
                  "6.0",
                  "41",
                  "8475.93",
                  "206.73"
                ],
                [
                  "9",
                  "2016.0",
                  "10.0",
                  null,
                  "313",
                  "46490.66",
                  "148.53246006389776"
                ],
                [
                  "10",
                  "2016.0",
                  "12.0",
                  "5.0",
                  "1",
                  "19.62",
                  "19.62"
                ],
                [
                  "11",
                  "2016.0",
                  "12.0",
                  null,
                  "1",
                  "19.62",
                  "19.62"
                ],
                [
                  "12",
                  "2016.0",
                  null,
                  null,
                  "317",
                  "46653.74",
                  "147.17268138801262"
                ],
                [
                  "13",
                  "2017.0",
                  "1.0",
                  "0.0",
                  "102",
                  "13794.82",
                  "135.24333333333334"
                ],
                [
                  "14",
                  "2017.0",
                  "1.0",
                  "1.0",
                  "152",
                  "22937.79",
                  "150.90651315789475"
                ],
                [
                  "15",
                  "2017.0",
                  "1.0",
                  "2.0",
                  "165",
                  "23226.15",
                  "140.76454545454544"
                ],
                [
                  "16",
                  "2017.0",
                  "1.0",
                  "3.0",
                  "105",
                  "14106.53",
                  "134.34790476190477"
                ],
                [
                  "17",
                  "2017.0",
                  "1.0",
                  "4.0",
                  "178",
                  "21392.58",
                  "120.18303370786516"
                ],
                [
                  "18",
                  "2017.0",
                  "1.0",
                  "5.0",
                  "127",
                  "20815.34",
                  "163.9003149606299"
                ],
                [
                  "19",
                  "2017.0",
                  "1.0",
                  "6.0",
                  "84",
                  "11209.16",
                  "133.44238095238094"
                ],
                [
                  "20",
                  "2017.0",
                  "1.0",
                  null,
                  "913",
                  "127482.37",
                  "139.63019715224536"
                ],
                [
                  "21",
                  "2017.0",
                  "2.0",
                  "0.0",
                  "236",
                  "36721.86",
                  "155.60110169491526"
                ],
                [
                  "22",
                  "2017.0",
                  "2.0",
                  "1.0",
                  "288",
                  "38107.13",
                  "132.3164236111111"
                ],
                [
                  "23",
                  "2017.0",
                  "2.0",
                  "2.0",
                  "304",
                  "49336.61",
                  "162.2914802631579"
                ],
                [
                  "24",
                  "2017.0",
                  "2.0",
                  "3.0",
                  "273",
                  "37064.09",
                  "135.76589743589744"
                ],
                [
                  "25",
                  "2017.0",
                  "2.0",
                  "4.0",
                  "276",
                  "35535.46",
                  "128.75166666666667"
                ],
                [
                  "26",
                  "2017.0",
                  "2.0",
                  "5.0",
                  "254",
                  "41121.98",
                  "161.8975590551181"
                ],
                [
                  "27",
                  "2017.0",
                  "2.0",
                  "6.0",
                  "227",
                  "33352.19",
                  "146.92594713656388"
                ],
                [
                  "28",
                  "2017.0",
                  "2.0",
                  null,
                  "1858",
                  "271239.32",
                  "145.98456404736277"
                ],
                [
                  "29",
                  "2017.0",
                  "3.0",
                  "0.0",
                  "274",
                  "30889.21",
                  "112.73434306569344"
                ],
                [
                  "30",
                  "2017.0",
                  "3.0",
                  "1.0",
                  "460",
                  "67013.54",
                  "145.6816086956522"
                ],
                [
                  "31",
                  "2017.0",
                  "3.0",
                  "2.0",
                  "418",
                  "56061.81",
                  "134.11916267942584"
                ],
                [
                  "32",
                  "2017.0",
                  "3.0",
                  "3.0",
                  "511",
                  "71443.64",
                  "139.81142857142856"
                ],
                [
                  "33",
                  "2017.0",
                  "3.0",
                  "4.0",
                  "516",
                  "71616.35",
                  "138.79137596899224"
                ],
                [
                  "34",
                  "2017.0",
                  "3.0",
                  "5.0",
                  "408",
                  "66706.33",
                  "163.4959068627451"
                ],
                [
                  "35",
                  "2017.0",
                  "3.0",
                  "6.0",
                  "310",
                  "50600.07",
                  "163.22603225806452"
                ],
                [
                  "36",
                  "2017.0",
                  "3.0",
                  null,
                  "2897",
                  "414330.95",
                  "143.02069382119433"
                ],
                [
                  "37",
                  "2017.0",
                  "4.0",
                  "0.0",
                  "358",
                  "46369.56",
                  "129.52391061452514"
                ],
                [
                  "38",
                  "2017.0",
                  "4.0",
                  "1.0",
                  "356",
                  "47413.54",
                  "133.1841011235955"
                ],
                [
                  "39",
                  "2017.0",
                  "4.0",
                  "2.0",
                  "391",
                  "62124.21",
                  "158.88544757033247"
                ],
                [
                  "40",
                  "2017.0",
                  "4.0",
                  "3.0",
                  "407",
                  "60570.49",
                  "148.82184275184275"
                ],
                [
                  "41",
                  "2017.0",
                  "4.0",
                  "4.0",
                  "367",
                  "58117.65",
                  "158.35871934604904"
                ],
                [
                  "42",
                  "2017.0",
                  "4.0",
                  "5.0",
                  "325",
                  "50408.33",
                  "155.10255384615385"
                ],
                [
                  "43",
                  "2017.0",
                  "4.0",
                  "6.0",
                  "365",
                  "65808.62",
                  "180.2975890410959"
                ],
                [
                  "44",
                  "2017.0",
                  "4.0",
                  null,
                  "2569",
                  "390812.4",
                  "152.12627481510316"
                ],
                [
                  "45",
                  "2017.0",
                  "5.0",
                  "0.0",
                  "502",
                  "66355.05",
                  "132.18137450199202"
                ],
                [
                  "46",
                  "2017.0",
                  "5.0",
                  "1.0",
                  "767",
                  "101612.01",
                  "132.47980443285527"
                ],
                [
                  "47",
                  "2017.0",
                  "5.0",
                  "2.0",
                  "702",
                  "103244.06",
                  "147.07131054131054"
                ],
                [
                  "48",
                  "2017.0",
                  "5.0",
                  "3.0",
                  "672",
                  "104338.32",
                  "155.26535714285714"
                ],
                [
                  "49",
                  "2017.0",
                  "5.0",
                  "4.0",
                  "510",
                  "75005.23",
                  "147.06907843137256"
                ]
              ],
              "shape": {
                "columns": 6,
                "rows": 176
              }
            },
            "text/html": [
              "<div>\n",
              "<style scoped>\n",
              "    .dataframe tbody tr th:only-of-type {\n",
              "        vertical-align: middle;\n",
              "    }\n",
              "\n",
              "    .dataframe tbody tr th {\n",
              "        vertical-align: top;\n",
              "    }\n",
              "\n",
              "    .dataframe thead th {\n",
              "        text-align: right;\n",
              "    }\n",
              "</style>\n",
              "<table border=\"1\" class=\"dataframe\">\n",
              "  <thead>\n",
              "    <tr style=\"text-align: right;\">\n",
              "      <th></th>\n",
              "      <th>year</th>\n",
              "      <th>month</th>\n",
              "      <th>day_of_week</th>\n",
              "      <th>order_count</th>\n",
              "      <th>total_revenue</th>\n",
              "      <th>avg_order_value</th>\n",
              "    </tr>\n",
              "  </thead>\n",
              "  <tbody>\n",
              "    <tr>\n",
              "      <th>0</th>\n",
              "      <td>2016.0</td>\n",
              "      <td>9.0</td>\n",
              "      <td>4.0</td>\n",
              "      <td>3</td>\n",
              "      <td>143.46</td>\n",
              "      <td>47.820000</td>\n",
              "    </tr>\n",
              "    <tr>\n",
              "      <th>1</th>\n",
              "      <td>2016.0</td>\n",
              "      <td>9.0</td>\n",
              "      <td>NaN</td>\n",
              "      <td>3</td>\n",
              "      <td>143.46</td>\n",
              "      <td>47.820000</td>\n",
              "    </tr>\n",
              "    <tr>\n",
              "      <th>2</th>\n",
              "      <td>2016.0</td>\n",
              "      <td>10.0</td>\n",
              "      <td>0.0</td>\n",
              "      <td>26</td>\n",
              "      <td>2904.19</td>\n",
              "      <td>111.699615</td>\n",
              "    </tr>\n",
              "    <tr>\n",
              "      <th>3</th>\n",
              "      <td>2016.0</td>\n",
              "      <td>10.0</td>\n",
              "      <td>1.0</td>\n",
              "      <td>44</td>\n",
              "      <td>4456.26</td>\n",
              "      <td>101.278636</td>\n",
              "    </tr>\n",
              "    <tr>\n",
              "      <th>4</th>\n",
              "      <td>2016.0</td>\n",
              "      <td>10.0</td>\n",
              "      <td>2.0</td>\n",
              "      <td>63</td>\n",
              "      <td>9821.42</td>\n",
              "      <td>155.895556</td>\n",
              "    </tr>\n",
              "    <tr>\n",
              "      <th>...</th>\n",
              "      <td>...</td>\n",
              "      <td>...</td>\n",
              "      <td>...</td>\n",
              "      <td>...</td>\n",
              "      <td>...</td>\n",
              "      <td>...</td>\n",
              "    </tr>\n",
              "    <tr>\n",
              "      <th>171</th>\n",
              "      <td>2018.0</td>\n",
              "      <td>8.0</td>\n",
              "      <td>5.0</td>\n",
              "      <td>1003</td>\n",
              "      <td>135803.41</td>\n",
              "      <td>135.397218</td>\n",
              "    </tr>\n",
              "    <tr>\n",
              "      <th>172</th>\n",
              "      <td>2018.0</td>\n",
              "      <td>8.0</td>\n",
              "      <td>6.0</td>\n",
              "      <td>758</td>\n",
              "      <td>110963.05</td>\n",
              "      <td>146.389248</td>\n",
              "    </tr>\n",
              "    <tr>\n",
              "      <th>173</th>\n",
              "      <td>2018.0</td>\n",
              "      <td>8.0</td>\n",
              "      <td>NaN</td>\n",
              "      <td>7142</td>\n",
              "      <td>985491.64</td>\n",
              "      <td>137.985388</td>\n",
              "    </tr>\n",
              "    <tr>\n",
              "      <th>174</th>\n",
              "      <td>2018.0</td>\n",
              "      <td>NaN</td>\n",
              "      <td>NaN</td>\n",
              "      <td>60324</td>\n",
              "      <td>8451584.77</td>\n",
              "      <td>140.103189</td>\n",
              "    </tr>\n",
              "    <tr>\n",
              "      <th>175</th>\n",
              "      <td>NaN</td>\n",
              "      <td>NaN</td>\n",
              "      <td>NaN</td>\n",
              "      <td>110197</td>\n",
              "      <td>15419773.75</td>\n",
              "      <td>139.929161</td>\n",
              "    </tr>\n",
              "  </tbody>\n",
              "</table>\n",
              "<p>176 rows × 6 columns</p>\n",
              "</div>"
            ],
            "text/plain": [
              "       year  month  day_of_week  order_count  total_revenue  avg_order_value\n",
              "0    2016.0    9.0          4.0            3         143.46        47.820000\n",
              "1    2016.0    9.0          NaN            3         143.46        47.820000\n",
              "2    2016.0   10.0          0.0           26        2904.19       111.699615\n",
              "3    2016.0   10.0          1.0           44        4456.26       101.278636\n",
              "4    2016.0   10.0          2.0           63        9821.42       155.895556\n",
              "..      ...    ...          ...          ...            ...              ...\n",
              "171  2018.0    8.0          5.0         1003      135803.41       135.397218\n",
              "172  2018.0    8.0          6.0          758      110963.05       146.389248\n",
              "173  2018.0    8.0          NaN         7142      985491.64       137.985388\n",
              "174  2018.0    NaN          NaN        60324     8451584.77       140.103189\n",
              "175     NaN    NaN          NaN       110197    15419773.75       139.929161\n",
              "\n",
              "[176 rows x 6 columns]"
            ]
          },
          "execution_count": 13,
          "metadata": {},
          "output_type": "execute_result"
        }
      ],
      "source": [
        "query_seasonal_patterns = \"\"\"\n",
        "SELECT\n",
        "    EXTRACT(YEAR FROM order_date) as year,\n",
        "    EXTRACT(MONTH FROM order_date) as month,\n",
        "    EXTRACT(DOW FROM order_date) as day_of_week,\n",
        "    COUNT(*) as order_count,\n",
        "    SUM(price + freight_value) as total_revenue,\n",
        "    AVG(price + freight_value) as avg_order_value\n",
        "FROM orders o\n",
        "JOIN order_items oi ON o.order_id = oi.order_id\n",
        "WHERE order_status = 'delivered'\n",
        "GROUP BY ROLLUP(\n",
        "    EXTRACT(YEAR FROM order_date),\n",
        "    EXTRACT(MONTH FROM order_date),\n",
        "    EXTRACT(DOW FROM order_date)\n",
        ")\n",
        "ORDER BY year, month, day_of_week;\n",
        "\"\"\"\n",
        "data_seasonal = pd.read_sql_query(query_seasonal_patterns, engine)\n",
        "data_seasonal"
      ]
    },
    {
      "cell_type": "code",
      "execution_count": null,
      "metadata": {},
      "outputs": [
        {
          "data": {
            "application/vnd.plotly.v1+json": {
              "config": {
                "plotlyServerURL": "https://plot.ly"
              },
              "data": [
                {
                  "hovertemplate": "month=%{x}<br>Nombre de commandes=%{y}<extra></extra>",
                  "legendgroup": "",
                  "line": {
                    "color": "#636efa",
                    "dash": "solid"
                  },
                  "marker": {
                    "symbol": "circle"
                  },
                  "mode": "lines",
                  "name": "",
                  "orientation": "v",
                  "showlegend": false,
                  "type": "scatter",
                  "x": {
                    "bdata": "AAAAAAAAIkAAAAAAAAAiQAAAAAAAACRAAAAAAAAAJEAAAAAAAAAkQAAAAAAAACRAAAAAAAAAJEAAAAAAAAAkQAAAAAAAACRAAAAAAAAAJEAAAAAAAAAoQAAAAAAAAChAAAAAAAAA+H8AAAAAAADwPwAAAAAAAPA/AAAAAAAA8D8AAAAAAADwPwAAAAAAAPA/AAAAAAAA8D8AAAAAAADwPwAAAAAAAPA/AAAAAAAAAEAAAAAAAAAAQAAAAAAAAABAAAAAAAAAAEAAAAAAAAAAQAAAAAAAAABAAAAAAAAAAEAAAAAAAAAAQAAAAAAAAAhAAAAAAAAACEAAAAAAAAAIQAAAAAAAAAhAAAAAAAAACEAAAAAAAAAIQAAAAAAAAAhAAAAAAAAACEAAAAAAAAAQQAAAAAAAABBAAAAAAAAAEEAAAAAAAAAQQAAAAAAAABBAAAAAAAAAEEAAAAAAAAAQQAAAAAAAABBAAAAAAAAAFEAAAAAAAAAUQAAAAAAAABRAAAAAAAAAFEAAAAAAAAAUQAAAAAAAABRAAAAAAAAAFEAAAAAAAAAUQAAAAAAAABhAAAAAAAAAGEAAAAAAAAAYQAAAAAAAABhAAAAAAAAAGEAAAAAAAAAYQAAAAAAAABhAAAAAAAAAGEAAAAAAAAAcQAAAAAAAABxAAAAAAAAAHEAAAAAAAAAcQAAAAAAAABxAAAAAAAAAHEAAAAAAAAAcQAAAAAAAABxAAAAAAAAAIEAAAAAAAAAgQAAAAAAAACBAAAAAAAAAIEAAAAAAAAAgQAAAAAAAACBAAAAAAAAAIEAAAAAAAAAgQAAAAAAAACJAAAAAAAAAIkAAAAAAAAAiQAAAAAAAACJAAAAAAAAAIkAAAAAAAAAiQAAAAAAAACJAAAAAAAAAIkAAAAAAAAAkQAAAAAAAACRAAAAAAAAAJEAAAAAAAAAkQAAAAAAAACRAAAAAAAAAJEAAAAAAAAAkQAAAAAAAACRAAAAAAAAAJkAAAAAAAAAmQAAAAAAAACZAAAAAAAAAJkAAAAAAAAAmQAAAAAAAACZAAAAAAAAAJkAAAAAAAAAmQAAAAAAAAChAAAAAAAAAKEAAAAAAAAAoQAAAAAAAAChAAAAAAAAAKEAAAAAAAAAoQAAAAAAAAChAAAAAAAAAKEAAAAAAAAD4fwAAAAAAAPA/AAAAAAAA8D8AAAAAAADwPwAAAAAAAPA/AAAAAAAA8D8AAAAAAADwPwAAAAAAAPA/AAAAAAAA8D8AAAAAAAAAQAAAAAAAAABAAAAAAAAAAEAAAAAAAAAAQAAAAAAAAABAAAAAAAAAAEAAAAAAAAAAQAAAAAAAAABAAAAAAAAACEAAAAAAAAAIQAAAAAAAAAhAAAAAAAAACEAAAAAAAAAIQAAAAAAAAAhAAAAAAAAACEAAAAAAAAAIQAAAAAAAABBAAAAAAAAAEEAAAAAAAAAQQAAAAAAAABBAAAAAAAAAEEAAAAAAAAAQQAAAAAAAABBAAAAAAAAAEEAAAAAAAAAUQAAAAAAAABRAAAAAAAAAFEAAAAAAAAAUQAAAAAAAABRAAAAAAAAAFEAAAAAAAAAUQAAAAAAAABRAAAAAAAAAGEAAAAAAAAAYQAAAAAAAABhAAAAAAAAAGEAAAAAAAAAYQAAAAAAAABhAAAAAAAAAGEAAAAAAAAAYQAAAAAAAABxAAAAAAAAAHEAAAAAAAAAcQAAAAAAAABxAAAAAAAAAHEAAAAAAAAAcQAAAAAAAABxAAAAAAAAAHEAAAAAAAAAgQAAAAAAAACBAAAAAAAAAIEAAAAAAAAAgQAAAAAAAACBAAAAAAAAAIEAAAAAAAAAgQAAAAAAAACBAAAAAAAAA+H8AAAAAAAD4fw==",
                    "dtype": "f8"
                  },
                  "xaxis": "x",
                  "y": {
                    "bdata": "AwAAAAMAAAAaAAAALAAAAD8AAAAwAAAALwAAACwAAAApAAAAOQEAAAEAAAABAAAAPQEAAGYAAACYAAAApQAAAGkAAACyAAAAfwAAAFQAAACRAwAA7AAAACABAAAwAQAAEQEAABQBAAD+AAAA4wAAAEIHAAASAQAAzAEAAKIBAAD/AQAABAIAAJgBAAA2AQAAUQsAAGYBAABkAQAAhwEAAJcBAABvAQAARQEAAG0BAAAJCgAA9gEAAP8CAAC+AgAAoAIAAP4BAADnAQAAbAEAAKQPAACwAQAALQIAABwCAAC0AQAAZgIAADoCAABUAQAAoQ0AAEgCAAAqAwAAtQIAAHcCAABdAgAAQAIAAAUCAABAEQAA4QEAANkCAABWAwAAbAMAAC0DAABZAgAAuwEAAL0SAAAkAgAAywIAAA8DAADjAgAAeAIAAOgCAABAAgAAgRIAAOsCAACuAwAAFwQAAN8CAACzAgAAWAIAAMQBAABeFAAAxwMAAH8EAAArBAAAXQQAAMcEAAB+BwAACAQAABshAADlAgAAzQMAANYDAACvAwAABAMAAPQDAAD8AgAAKxgAAJTBAABAAwAAWQUAAKgFAABxBQAATgQAAAIEAABjAwAAZR8AAH0DAACTBAAAyAQAAPEEAACMBAAA0AMAADkDAABeHQAAowMAAM8EAACiBAAAHwQAAHIFAADOBAAA3gMAAFEfAABTBAAA/gUAAFYEAACwBAAAygQAALEDAADBAgAAkx4AAAwDAAC/BAAAugUAAIsFAAC4BAAA3QMAAN0CAACCHgAAOgMAAHsEAAAsBAAALQQAAAQEAAAVBAAAOwMAAGIbAACiAwAA9wQAAAoFAAA6BAAAjAMAADEDAACZAgAAMxsAAEEDAABDBAAAIQQAANsEAACFBAAA6wMAAPYCAADmGwAApOsAAHWuAQA=",
                    "dtype": "i4"
                  },
                  "yaxis": "y"
                }
              ],
              "layout": {
                "legend": {
                  "tracegroupgap": 0
                },
                "template": {
                  "data": {
                    "bar": [
                      {
                        "error_x": {
                          "color": "#2a3f5f"
                        },
                        "error_y": {
                          "color": "#2a3f5f"
                        },
                        "marker": {
                          "line": {
                            "color": "#E5ECF6",
                            "width": 0.5
                          },
                          "pattern": {
                            "fillmode": "overlay",
                            "size": 10,
                            "solidity": 0.2
                          }
                        },
                        "type": "bar"
                      }
                    ],
                    "barpolar": [
                      {
                        "marker": {
                          "line": {
                            "color": "#E5ECF6",
                            "width": 0.5
                          },
                          "pattern": {
                            "fillmode": "overlay",
                            "size": 10,
                            "solidity": 0.2
                          }
                        },
                        "type": "barpolar"
                      }
                    ],
                    "carpet": [
                      {
                        "aaxis": {
                          "endlinecolor": "#2a3f5f",
                          "gridcolor": "white",
                          "linecolor": "white",
                          "minorgridcolor": "white",
                          "startlinecolor": "#2a3f5f"
                        },
                        "baxis": {
                          "endlinecolor": "#2a3f5f",
                          "gridcolor": "white",
                          "linecolor": "white",
                          "minorgridcolor": "white",
                          "startlinecolor": "#2a3f5f"
                        },
                        "type": "carpet"
                      }
                    ],
                    "choropleth": [
                      {
                        "colorbar": {
                          "outlinewidth": 0,
                          "ticks": ""
                        },
                        "type": "choropleth"
                      }
                    ],
                    "contour": [
                      {
                        "colorbar": {
                          "outlinewidth": 0,
                          "ticks": ""
                        },
                        "colorscale": [
                          [
                            0,
                            "#0d0887"
                          ],
                          [
                            0.1111111111111111,
                            "#46039f"
                          ],
                          [
                            0.2222222222222222,
                            "#7201a8"
                          ],
                          [
                            0.3333333333333333,
                            "#9c179e"
                          ],
                          [
                            0.4444444444444444,
                            "#bd3786"
                          ],
                          [
                            0.5555555555555556,
                            "#d8576b"
                          ],
                          [
                            0.6666666666666666,
                            "#ed7953"
                          ],
                          [
                            0.7777777777777778,
                            "#fb9f3a"
                          ],
                          [
                            0.8888888888888888,
                            "#fdca26"
                          ],
                          [
                            1,
                            "#f0f921"
                          ]
                        ],
                        "type": "contour"
                      }
                    ],
                    "contourcarpet": [
                      {
                        "colorbar": {
                          "outlinewidth": 0,
                          "ticks": ""
                        },
                        "type": "contourcarpet"
                      }
                    ],
                    "heatmap": [
                      {
                        "colorbar": {
                          "outlinewidth": 0,
                          "ticks": ""
                        },
                        "colorscale": [
                          [
                            0,
                            "#0d0887"
                          ],
                          [
                            0.1111111111111111,
                            "#46039f"
                          ],
                          [
                            0.2222222222222222,
                            "#7201a8"
                          ],
                          [
                            0.3333333333333333,
                            "#9c179e"
                          ],
                          [
                            0.4444444444444444,
                            "#bd3786"
                          ],
                          [
                            0.5555555555555556,
                            "#d8576b"
                          ],
                          [
                            0.6666666666666666,
                            "#ed7953"
                          ],
                          [
                            0.7777777777777778,
                            "#fb9f3a"
                          ],
                          [
                            0.8888888888888888,
                            "#fdca26"
                          ],
                          [
                            1,
                            "#f0f921"
                          ]
                        ],
                        "type": "heatmap"
                      }
                    ],
                    "histogram": [
                      {
                        "marker": {
                          "pattern": {
                            "fillmode": "overlay",
                            "size": 10,
                            "solidity": 0.2
                          }
                        },
                        "type": "histogram"
                      }
                    ],
                    "histogram2d": [
                      {
                        "colorbar": {
                          "outlinewidth": 0,
                          "ticks": ""
                        },
                        "colorscale": [
                          [
                            0,
                            "#0d0887"
                          ],
                          [
                            0.1111111111111111,
                            "#46039f"
                          ],
                          [
                            0.2222222222222222,
                            "#7201a8"
                          ],
                          [
                            0.3333333333333333,
                            "#9c179e"
                          ],
                          [
                            0.4444444444444444,
                            "#bd3786"
                          ],
                          [
                            0.5555555555555556,
                            "#d8576b"
                          ],
                          [
                            0.6666666666666666,
                            "#ed7953"
                          ],
                          [
                            0.7777777777777778,
                            "#fb9f3a"
                          ],
                          [
                            0.8888888888888888,
                            "#fdca26"
                          ],
                          [
                            1,
                            "#f0f921"
                          ]
                        ],
                        "type": "histogram2d"
                      }
                    ],
                    "histogram2dcontour": [
                      {
                        "colorbar": {
                          "outlinewidth": 0,
                          "ticks": ""
                        },
                        "colorscale": [
                          [
                            0,
                            "#0d0887"
                          ],
                          [
                            0.1111111111111111,
                            "#46039f"
                          ],
                          [
                            0.2222222222222222,
                            "#7201a8"
                          ],
                          [
                            0.3333333333333333,
                            "#9c179e"
                          ],
                          [
                            0.4444444444444444,
                            "#bd3786"
                          ],
                          [
                            0.5555555555555556,
                            "#d8576b"
                          ],
                          [
                            0.6666666666666666,
                            "#ed7953"
                          ],
                          [
                            0.7777777777777778,
                            "#fb9f3a"
                          ],
                          [
                            0.8888888888888888,
                            "#fdca26"
                          ],
                          [
                            1,
                            "#f0f921"
                          ]
                        ],
                        "type": "histogram2dcontour"
                      }
                    ],
                    "mesh3d": [
                      {
                        "colorbar": {
                          "outlinewidth": 0,
                          "ticks": ""
                        },
                        "type": "mesh3d"
                      }
                    ],
                    "parcoords": [
                      {
                        "line": {
                          "colorbar": {
                            "outlinewidth": 0,
                            "ticks": ""
                          }
                        },
                        "type": "parcoords"
                      }
                    ],
                    "pie": [
                      {
                        "automargin": true,
                        "type": "pie"
                      }
                    ],
                    "scatter": [
                      {
                        "fillpattern": {
                          "fillmode": "overlay",
                          "size": 10,
                          "solidity": 0.2
                        },
                        "type": "scatter"
                      }
                    ],
                    "scatter3d": [
                      {
                        "line": {
                          "colorbar": {
                            "outlinewidth": 0,
                            "ticks": ""
                          }
                        },
                        "marker": {
                          "colorbar": {
                            "outlinewidth": 0,
                            "ticks": ""
                          }
                        },
                        "type": "scatter3d"
                      }
                    ],
                    "scattercarpet": [
                      {
                        "marker": {
                          "colorbar": {
                            "outlinewidth": 0,
                            "ticks": ""
                          }
                        },
                        "type": "scattercarpet"
                      }
                    ],
                    "scattergeo": [
                      {
                        "marker": {
                          "colorbar": {
                            "outlinewidth": 0,
                            "ticks": ""
                          }
                        },
                        "type": "scattergeo"
                      }
                    ],
                    "scattergl": [
                      {
                        "marker": {
                          "colorbar": {
                            "outlinewidth": 0,
                            "ticks": ""
                          }
                        },
                        "type": "scattergl"
                      }
                    ],
                    "scattermap": [
                      {
                        "marker": {
                          "colorbar": {
                            "outlinewidth": 0,
                            "ticks": ""
                          }
                        },
                        "type": "scattermap"
                      }
                    ],
                    "scattermapbox": [
                      {
                        "marker": {
                          "colorbar": {
                            "outlinewidth": 0,
                            "ticks": ""
                          }
                        },
                        "type": "scattermapbox"
                      }
                    ],
                    "scatterpolar": [
                      {
                        "marker": {
                          "colorbar": {
                            "outlinewidth": 0,
                            "ticks": ""
                          }
                        },
                        "type": "scatterpolar"
                      }
                    ],
                    "scatterpolargl": [
                      {
                        "marker": {
                          "colorbar": {
                            "outlinewidth": 0,
                            "ticks": ""
                          }
                        },
                        "type": "scatterpolargl"
                      }
                    ],
                    "scatterternary": [
                      {
                        "marker": {
                          "colorbar": {
                            "outlinewidth": 0,
                            "ticks": ""
                          }
                        },
                        "type": "scatterternary"
                      }
                    ],
                    "surface": [
                      {
                        "colorbar": {
                          "outlinewidth": 0,
                          "ticks": ""
                        },
                        "colorscale": [
                          [
                            0,
                            "#0d0887"
                          ],
                          [
                            0.1111111111111111,
                            "#46039f"
                          ],
                          [
                            0.2222222222222222,
                            "#7201a8"
                          ],
                          [
                            0.3333333333333333,
                            "#9c179e"
                          ],
                          [
                            0.4444444444444444,
                            "#bd3786"
                          ],
                          [
                            0.5555555555555556,
                            "#d8576b"
                          ],
                          [
                            0.6666666666666666,
                            "#ed7953"
                          ],
                          [
                            0.7777777777777778,
                            "#fb9f3a"
                          ],
                          [
                            0.8888888888888888,
                            "#fdca26"
                          ],
                          [
                            1,
                            "#f0f921"
                          ]
                        ],
                        "type": "surface"
                      }
                    ],
                    "table": [
                      {
                        "cells": {
                          "fill": {
                            "color": "#EBF0F8"
                          },
                          "line": {
                            "color": "white"
                          }
                        },
                        "header": {
                          "fill": {
                            "color": "#C8D4E3"
                          },
                          "line": {
                            "color": "white"
                          }
                        },
                        "type": "table"
                      }
                    ]
                  },
                  "layout": {
                    "annotationdefaults": {
                      "arrowcolor": "#2a3f5f",
                      "arrowhead": 0,
                      "arrowwidth": 1
                    },
                    "autotypenumbers": "strict",
                    "coloraxis": {
                      "colorbar": {
                        "outlinewidth": 0,
                        "ticks": ""
                      }
                    },
                    "colorscale": {
                      "diverging": [
                        [
                          0,
                          "#8e0152"
                        ],
                        [
                          0.1,
                          "#c51b7d"
                        ],
                        [
                          0.2,
                          "#de77ae"
                        ],
                        [
                          0.3,
                          "#f1b6da"
                        ],
                        [
                          0.4,
                          "#fde0ef"
                        ],
                        [
                          0.5,
                          "#f7f7f7"
                        ],
                        [
                          0.6,
                          "#e6f5d0"
                        ],
                        [
                          0.7,
                          "#b8e186"
                        ],
                        [
                          0.8,
                          "#7fbc41"
                        ],
                        [
                          0.9,
                          "#4d9221"
                        ],
                        [
                          1,
                          "#276419"
                        ]
                      ],
                      "sequential": [
                        [
                          0,
                          "#0d0887"
                        ],
                        [
                          0.1111111111111111,
                          "#46039f"
                        ],
                        [
                          0.2222222222222222,
                          "#7201a8"
                        ],
                        [
                          0.3333333333333333,
                          "#9c179e"
                        ],
                        [
                          0.4444444444444444,
                          "#bd3786"
                        ],
                        [
                          0.5555555555555556,
                          "#d8576b"
                        ],
                        [
                          0.6666666666666666,
                          "#ed7953"
                        ],
                        [
                          0.7777777777777778,
                          "#fb9f3a"
                        ],
                        [
                          0.8888888888888888,
                          "#fdca26"
                        ],
                        [
                          1,
                          "#f0f921"
                        ]
                      ],
                      "sequentialminus": [
                        [
                          0,
                          "#0d0887"
                        ],
                        [
                          0.1111111111111111,
                          "#46039f"
                        ],
                        [
                          0.2222222222222222,
                          "#7201a8"
                        ],
                        [
                          0.3333333333333333,
                          "#9c179e"
                        ],
                        [
                          0.4444444444444444,
                          "#bd3786"
                        ],
                        [
                          0.5555555555555556,
                          "#d8576b"
                        ],
                        [
                          0.6666666666666666,
                          "#ed7953"
                        ],
                        [
                          0.7777777777777778,
                          "#fb9f3a"
                        ],
                        [
                          0.8888888888888888,
                          "#fdca26"
                        ],
                        [
                          1,
                          "#f0f921"
                        ]
                      ]
                    },
                    "colorway": [
                      "#636efa",
                      "#EF553B",
                      "#00cc96",
                      "#ab63fa",
                      "#FFA15A",
                      "#19d3f3",
                      "#FF6692",
                      "#B6E880",
                      "#FF97FF",
                      "#FECB52"
                    ],
                    "font": {
                      "color": "#2a3f5f"
                    },
                    "geo": {
                      "bgcolor": "white",
                      "lakecolor": "white",
                      "landcolor": "#E5ECF6",
                      "showlakes": true,
                      "showland": true,
                      "subunitcolor": "white"
                    },
                    "hoverlabel": {
                      "align": "left"
                    },
                    "hovermode": "closest",
                    "mapbox": {
                      "style": "light"
                    },
                    "paper_bgcolor": "white",
                    "plot_bgcolor": "#E5ECF6",
                    "polar": {
                      "angularaxis": {
                        "gridcolor": "white",
                        "linecolor": "white",
                        "ticks": ""
                      },
                      "bgcolor": "#E5ECF6",
                      "radialaxis": {
                        "gridcolor": "white",
                        "linecolor": "white",
                        "ticks": ""
                      }
                    },
                    "scene": {
                      "xaxis": {
                        "backgroundcolor": "#E5ECF6",
                        "gridcolor": "white",
                        "gridwidth": 2,
                        "linecolor": "white",
                        "showbackground": true,
                        "ticks": "",
                        "zerolinecolor": "white"
                      },
                      "yaxis": {
                        "backgroundcolor": "#E5ECF6",
                        "gridcolor": "white",
                        "gridwidth": 2,
                        "linecolor": "white",
                        "showbackground": true,
                        "ticks": "",
                        "zerolinecolor": "white"
                      },
                      "zaxis": {
                        "backgroundcolor": "#E5ECF6",
                        "gridcolor": "white",
                        "gridwidth": 2,
                        "linecolor": "white",
                        "showbackground": true,
                        "ticks": "",
                        "zerolinecolor": "white"
                      }
                    },
                    "shapedefaults": {
                      "line": {
                        "color": "#2a3f5f"
                      }
                    },
                    "ternary": {
                      "aaxis": {
                        "gridcolor": "white",
                        "linecolor": "white",
                        "ticks": ""
                      },
                      "baxis": {
                        "gridcolor": "white",
                        "linecolor": "white",
                        "ticks": ""
                      },
                      "bgcolor": "#E5ECF6",
                      "caxis": {
                        "gridcolor": "white",
                        "linecolor": "white",
                        "ticks": ""
                      }
                    },
                    "title": {
                      "x": 0.05
                    },
                    "xaxis": {
                      "automargin": true,
                      "gridcolor": "white",
                      "linecolor": "white",
                      "ticks": "",
                      "title": {
                        "standoff": 15
                      },
                      "zerolinecolor": "white",
                      "zerolinewidth": 2
                    },
                    "yaxis": {
                      "automargin": true,
                      "gridcolor": "white",
                      "linecolor": "white",
                      "ticks": "",
                      "title": {
                        "standoff": 15
                      },
                      "zerolinecolor": "white",
                      "zerolinewidth": 2
                    }
                  }
                },
                "title": {
                  "text": "Évolution du nombre de commandes (saisonnalité mensuelle)"
                },
                "xaxis": {
                  "anchor": "y",
                  "domain": [
                    0,
                    1
                  ],
                  "title": {
                    "text": "month"
                  }
                },
                "yaxis": {
                  "anchor": "x",
                  "domain": [
                    0,
                    1
                  ],
                  "title": {
                    "text": "Nombre de commandes"
                  }
                }
              }
            }
          },
          "metadata": {},
          "output_type": "display_data"
        }
      ],
      "source": [
        "fig = px.line(\n",
        "    data_seasonal,\n",
        "    x='month',\n",
        "    y='order_count',\n",
        "    title='Évolution du nombre de commandes (saisonnalité mensuelle)',\n",
        "    labels={'year_month': 'Date', 'order_count': 'Nombre de commandes'}\n",
        ")\n",
        "\n",
        "fig.show()"
      ]
    },
    {
      "cell_type": "code",
      "execution_count": 20,
      "metadata": {},
      "outputs": [
        {
          "data": {
            "application/vnd.plotly.v1+json": {
              "config": {
                "plotlyServerURL": "https://plot.ly"
              },
              "data": [
                {
                  "hovertemplate": "month=%{x}<br>Revenu total=%{y}<extra></extra>",
                  "legendgroup": "",
                  "line": {
                    "color": "#636efa",
                    "dash": "solid"
                  },
                  "marker": {
                    "symbol": "circle"
                  },
                  "mode": "lines",
                  "name": "",
                  "orientation": "v",
                  "showlegend": false,
                  "type": "scatter",
                  "x": {
                    "bdata": "AAAAAAAAIkAAAAAAAAAiQAAAAAAAACRAAAAAAAAAJEAAAAAAAAAkQAAAAAAAACRAAAAAAAAAJEAAAAAAAAAkQAAAAAAAACRAAAAAAAAAJEAAAAAAAAAoQAAAAAAAAChAAAAAAAAA+H8AAAAAAADwPwAAAAAAAPA/AAAAAAAA8D8AAAAAAADwPwAAAAAAAPA/AAAAAAAA8D8AAAAAAADwPwAAAAAAAPA/AAAAAAAAAEAAAAAAAAAAQAAAAAAAAABAAAAAAAAAAEAAAAAAAAAAQAAAAAAAAABAAAAAAAAAAEAAAAAAAAAAQAAAAAAAAAhAAAAAAAAACEAAAAAAAAAIQAAAAAAAAAhAAAAAAAAACEAAAAAAAAAIQAAAAAAAAAhAAAAAAAAACEAAAAAAAAAQQAAAAAAAABBAAAAAAAAAEEAAAAAAAAAQQAAAAAAAABBAAAAAAAAAEEAAAAAAAAAQQAAAAAAAABBAAAAAAAAAFEAAAAAAAAAUQAAAAAAAABRAAAAAAAAAFEAAAAAAAAAUQAAAAAAAABRAAAAAAAAAFEAAAAAAAAAUQAAAAAAAABhAAAAAAAAAGEAAAAAAAAAYQAAAAAAAABhAAAAAAAAAGEAAAAAAAAAYQAAAAAAAABhAAAAAAAAAGEAAAAAAAAAcQAAAAAAAABxAAAAAAAAAHEAAAAAAAAAcQAAAAAAAABxAAAAAAAAAHEAAAAAAAAAcQAAAAAAAABxAAAAAAAAAIEAAAAAAAAAgQAAAAAAAACBAAAAAAAAAIEAAAAAAAAAgQAAAAAAAACBAAAAAAAAAIEAAAAAAAAAgQAAAAAAAACJAAAAAAAAAIkAAAAAAAAAiQAAAAAAAACJAAAAAAAAAIkAAAAAAAAAiQAAAAAAAACJAAAAAAAAAIkAAAAAAAAAkQAAAAAAAACRAAAAAAAAAJEAAAAAAAAAkQAAAAAAAACRAAAAAAAAAJEAAAAAAAAAkQAAAAAAAACRAAAAAAAAAJkAAAAAAAAAmQAAAAAAAACZAAAAAAAAAJkAAAAAAAAAmQAAAAAAAACZAAAAAAAAAJkAAAAAAAAAmQAAAAAAAAChAAAAAAAAAKEAAAAAAAAAoQAAAAAAAAChAAAAAAAAAKEAAAAAAAAAoQAAAAAAAAChAAAAAAAAAKEAAAAAAAAD4fwAAAAAAAPA/AAAAAAAA8D8AAAAAAADwPwAAAAAAAPA/AAAAAAAA8D8AAAAAAADwPwAAAAAAAPA/AAAAAAAA8D8AAAAAAAAAQAAAAAAAAABAAAAAAAAAAEAAAAAAAAAAQAAAAAAAAABAAAAAAAAAAEAAAAAAAAAAQAAAAAAAAABAAAAAAAAACEAAAAAAAAAIQAAAAAAAAAhAAAAAAAAACEAAAAAAAAAIQAAAAAAAAAhAAAAAAAAACEAAAAAAAAAIQAAAAAAAABBAAAAAAAAAEEAAAAAAAAAQQAAAAAAAABBAAAAAAAAAEEAAAAAAAAAQQAAAAAAAABBAAAAAAAAAEEAAAAAAAAAUQAAAAAAAABRAAAAAAAAAFEAAAAAAAAAUQAAAAAAAABRAAAAAAAAAFEAAAAAAAAAUQAAAAAAAABRAAAAAAAAAGEAAAAAAAAAYQAAAAAAAABhAAAAAAAAAGEAAAAAAAAAYQAAAAAAAABhAAAAAAAAAGEAAAAAAAAAYQAAAAAAAABxAAAAAAAAAHEAAAAAAAAAcQAAAAAAAABxAAAAAAAAAHEAAAAAAAAAcQAAAAAAAABxAAAAAAAAAHEAAAAAAAAAgQAAAAAAAACBAAAAAAAAAIEAAAAAAAAAgQAAAAAAAACBAAAAAAAAAIEAAAAAAAAAgQAAAAAAAACBAAAAAAAAA+H8AAAAAAAD4fw==",
                    "dtype": "f8"
                  },
                  "xaxis": "x",
                  "y": {
                    "bdata": "H4XrUbjuYUAfhetRuO5hQHsUrkdhsKZA9ihcj0JosUApXI/CtS7DQAAAAACAKbxAZmZmZuaOukApXI/Cdai6QKRwPQr3jcBA7FG4HlWz5kAfhetRuJ4zQB+F61G4njNA4XoUrrfH5kBcj8L1aPHKQPYoXI9yZtZAmpmZmYmu1kBxPQrXQ43LQOxRuB4l5NRAKVyPwtVT1ECuR+F6lOTFQLgeheulH/9AUrgehTvu4UCPwvUoZJviQFK4HoUTF+hAFK5H4QIZ4kCF61G47lnhQMP1KFw/FORASOF6FAZJ4EB7FK5HHY4QQQrXo3BNKt5APQrXo1hc8EC4HoXruV/rQNejcD06cfFAmpmZmQV88UB7FK5HJUnwQNejcD0CtehAzczMzOtJGUG4HoXrMaTmQHsUrkexJudAhetRuIZV7kDhehSuT5PtQM3MzMy0YOxA9ihcjwqd6EC4HoXrCRHwQJqZmZlx2hdBzczMzDAz8ECPwvUowM74QFyPwvXANPlA7FG4HiV5+UDhehSu00/yQHsUrkcBiu5ASOF6FBY/6kDNzMzMhkwhQT0K16Mk+PBAH4XrUcgs9EAAAAAAdAbwQJqZmZm5au5ACtejcLES9ECuR+F6gHX0QK5H4XpsduVArkfhegnpHUEfhetRIDbwQMP1KFxbivlAZmZmZgZs9kAUrkfhFhvzQFK4HoU/2vNASOF6FG5F8kCF61G4atrwQI/C9Sg2SCFBexSuRxlS7UBcj8L18Nj3QHE9CtfjlP9AuB6F6+VK/UBSuB6FA2r5QK5H4XrEWvNAzczMzOwL60CF61G4kLUjQTMzMzO/ufVACtejcLkA+kBxPQrXoyb5QEjhehRevvpA4XoUrn+g9kBmZmZmFlX8QDMzMzNHlPRArkfh+iplJUEpXI/C3W35QAAAAACwHgFBj8L1KGYMAkFcj8L1BAr4QK5H4XrM2/hAw/UoXAf/9UB7FK5H7bfwQFK4HgUa7CZBcT0K11OX/UDNzMzM9DkEQYXrUbhCJQJBAAAAAIDJAUEfhetRcr4EQZqZmZlzWQ9B16NwPVq+AUEzMzMzVJkxQaRwPQpHVvhAmpmZme+MAEHsUbgelUL+QOxRuB5Vr/9AzczMzOhu+EAfhetRhocBQYXrUbhe9PpASOF6lIy6KUH2KFzPT2daQaRwPQojC/1AcT0K1ztTBUGamZmZa8MGQQrXo3DHqgdBAAAAACh5AkHXo3A9brkAQUjhehTKNPxAXI/CdX9yMEFcj8L12C78QK5H4XrieAJBXI/C9ZL3AkE9CtejJlEEQXsUrkfL9wBBexSuR0Ha/0CamZmZnWX6QB+F69EwfC1BmpmZmR/BAEG4HoXreeYEQXsUrkczVgRBAAAAAA7NAUHsUbgeSeYHQWZmZmbuDgRBmpmZmZ8KAUHXo3A9VhkxQVyPwvXCewJBAAAAADxxDEGF61G45sQDQeF6FK6txAVBUrgehdtpBEGF61G4MFwBQeF6FK6vG/hA4XoU7k5JMUGuR+F6FMb5QKRwPQoPBgZBXI/C9WCmCEHD9ShcTT0IQdejcD2eKgdBKVyPwnNKAUHsUbgetRD7QFK4HoVGOTFBuB6F66Vz+0DNzMzMKP4EQc3MzMxqZQNBSOF6FBwHAUEfhetR1sMBQY/C9Si0pgJBZmZmZory/0BI4XqUFOIuQWZmZmbqqAFBUrgehS3tBUHsUbgegckGQcP1KFw3WANBmpmZmRdYAUEpXI/CCZb+QIXrUbgaOPZA9ihcj75dL0G4HoXrpQn8QKRwPQoZuAJBpHA9CjlLAUEfhetRRIsFQUjhehTAmQJBexSuR9uTAEHNzMzMMBf7QHsUrkcnEy5BCtejGMAeYEEAAAC4L2ltQQ==",
                    "dtype": "f8"
                  },
                  "yaxis": "y"
                }
              ],
              "layout": {
                "legend": {
                  "tracegroupgap": 0
                },
                "template": {
                  "data": {
                    "bar": [
                      {
                        "error_x": {
                          "color": "#2a3f5f"
                        },
                        "error_y": {
                          "color": "#2a3f5f"
                        },
                        "marker": {
                          "line": {
                            "color": "#E5ECF6",
                            "width": 0.5
                          },
                          "pattern": {
                            "fillmode": "overlay",
                            "size": 10,
                            "solidity": 0.2
                          }
                        },
                        "type": "bar"
                      }
                    ],
                    "barpolar": [
                      {
                        "marker": {
                          "line": {
                            "color": "#E5ECF6",
                            "width": 0.5
                          },
                          "pattern": {
                            "fillmode": "overlay",
                            "size": 10,
                            "solidity": 0.2
                          }
                        },
                        "type": "barpolar"
                      }
                    ],
                    "carpet": [
                      {
                        "aaxis": {
                          "endlinecolor": "#2a3f5f",
                          "gridcolor": "white",
                          "linecolor": "white",
                          "minorgridcolor": "white",
                          "startlinecolor": "#2a3f5f"
                        },
                        "baxis": {
                          "endlinecolor": "#2a3f5f",
                          "gridcolor": "white",
                          "linecolor": "white",
                          "minorgridcolor": "white",
                          "startlinecolor": "#2a3f5f"
                        },
                        "type": "carpet"
                      }
                    ],
                    "choropleth": [
                      {
                        "colorbar": {
                          "outlinewidth": 0,
                          "ticks": ""
                        },
                        "type": "choropleth"
                      }
                    ],
                    "contour": [
                      {
                        "colorbar": {
                          "outlinewidth": 0,
                          "ticks": ""
                        },
                        "colorscale": [
                          [
                            0,
                            "#0d0887"
                          ],
                          [
                            0.1111111111111111,
                            "#46039f"
                          ],
                          [
                            0.2222222222222222,
                            "#7201a8"
                          ],
                          [
                            0.3333333333333333,
                            "#9c179e"
                          ],
                          [
                            0.4444444444444444,
                            "#bd3786"
                          ],
                          [
                            0.5555555555555556,
                            "#d8576b"
                          ],
                          [
                            0.6666666666666666,
                            "#ed7953"
                          ],
                          [
                            0.7777777777777778,
                            "#fb9f3a"
                          ],
                          [
                            0.8888888888888888,
                            "#fdca26"
                          ],
                          [
                            1,
                            "#f0f921"
                          ]
                        ],
                        "type": "contour"
                      }
                    ],
                    "contourcarpet": [
                      {
                        "colorbar": {
                          "outlinewidth": 0,
                          "ticks": ""
                        },
                        "type": "contourcarpet"
                      }
                    ],
                    "heatmap": [
                      {
                        "colorbar": {
                          "outlinewidth": 0,
                          "ticks": ""
                        },
                        "colorscale": [
                          [
                            0,
                            "#0d0887"
                          ],
                          [
                            0.1111111111111111,
                            "#46039f"
                          ],
                          [
                            0.2222222222222222,
                            "#7201a8"
                          ],
                          [
                            0.3333333333333333,
                            "#9c179e"
                          ],
                          [
                            0.4444444444444444,
                            "#bd3786"
                          ],
                          [
                            0.5555555555555556,
                            "#d8576b"
                          ],
                          [
                            0.6666666666666666,
                            "#ed7953"
                          ],
                          [
                            0.7777777777777778,
                            "#fb9f3a"
                          ],
                          [
                            0.8888888888888888,
                            "#fdca26"
                          ],
                          [
                            1,
                            "#f0f921"
                          ]
                        ],
                        "type": "heatmap"
                      }
                    ],
                    "histogram": [
                      {
                        "marker": {
                          "pattern": {
                            "fillmode": "overlay",
                            "size": 10,
                            "solidity": 0.2
                          }
                        },
                        "type": "histogram"
                      }
                    ],
                    "histogram2d": [
                      {
                        "colorbar": {
                          "outlinewidth": 0,
                          "ticks": ""
                        },
                        "colorscale": [
                          [
                            0,
                            "#0d0887"
                          ],
                          [
                            0.1111111111111111,
                            "#46039f"
                          ],
                          [
                            0.2222222222222222,
                            "#7201a8"
                          ],
                          [
                            0.3333333333333333,
                            "#9c179e"
                          ],
                          [
                            0.4444444444444444,
                            "#bd3786"
                          ],
                          [
                            0.5555555555555556,
                            "#d8576b"
                          ],
                          [
                            0.6666666666666666,
                            "#ed7953"
                          ],
                          [
                            0.7777777777777778,
                            "#fb9f3a"
                          ],
                          [
                            0.8888888888888888,
                            "#fdca26"
                          ],
                          [
                            1,
                            "#f0f921"
                          ]
                        ],
                        "type": "histogram2d"
                      }
                    ],
                    "histogram2dcontour": [
                      {
                        "colorbar": {
                          "outlinewidth": 0,
                          "ticks": ""
                        },
                        "colorscale": [
                          [
                            0,
                            "#0d0887"
                          ],
                          [
                            0.1111111111111111,
                            "#46039f"
                          ],
                          [
                            0.2222222222222222,
                            "#7201a8"
                          ],
                          [
                            0.3333333333333333,
                            "#9c179e"
                          ],
                          [
                            0.4444444444444444,
                            "#bd3786"
                          ],
                          [
                            0.5555555555555556,
                            "#d8576b"
                          ],
                          [
                            0.6666666666666666,
                            "#ed7953"
                          ],
                          [
                            0.7777777777777778,
                            "#fb9f3a"
                          ],
                          [
                            0.8888888888888888,
                            "#fdca26"
                          ],
                          [
                            1,
                            "#f0f921"
                          ]
                        ],
                        "type": "histogram2dcontour"
                      }
                    ],
                    "mesh3d": [
                      {
                        "colorbar": {
                          "outlinewidth": 0,
                          "ticks": ""
                        },
                        "type": "mesh3d"
                      }
                    ],
                    "parcoords": [
                      {
                        "line": {
                          "colorbar": {
                            "outlinewidth": 0,
                            "ticks": ""
                          }
                        },
                        "type": "parcoords"
                      }
                    ],
                    "pie": [
                      {
                        "automargin": true,
                        "type": "pie"
                      }
                    ],
                    "scatter": [
                      {
                        "fillpattern": {
                          "fillmode": "overlay",
                          "size": 10,
                          "solidity": 0.2
                        },
                        "type": "scatter"
                      }
                    ],
                    "scatter3d": [
                      {
                        "line": {
                          "colorbar": {
                            "outlinewidth": 0,
                            "ticks": ""
                          }
                        },
                        "marker": {
                          "colorbar": {
                            "outlinewidth": 0,
                            "ticks": ""
                          }
                        },
                        "type": "scatter3d"
                      }
                    ],
                    "scattercarpet": [
                      {
                        "marker": {
                          "colorbar": {
                            "outlinewidth": 0,
                            "ticks": ""
                          }
                        },
                        "type": "scattercarpet"
                      }
                    ],
                    "scattergeo": [
                      {
                        "marker": {
                          "colorbar": {
                            "outlinewidth": 0,
                            "ticks": ""
                          }
                        },
                        "type": "scattergeo"
                      }
                    ],
                    "scattergl": [
                      {
                        "marker": {
                          "colorbar": {
                            "outlinewidth": 0,
                            "ticks": ""
                          }
                        },
                        "type": "scattergl"
                      }
                    ],
                    "scattermap": [
                      {
                        "marker": {
                          "colorbar": {
                            "outlinewidth": 0,
                            "ticks": ""
                          }
                        },
                        "type": "scattermap"
                      }
                    ],
                    "scattermapbox": [
                      {
                        "marker": {
                          "colorbar": {
                            "outlinewidth": 0,
                            "ticks": ""
                          }
                        },
                        "type": "scattermapbox"
                      }
                    ],
                    "scatterpolar": [
                      {
                        "marker": {
                          "colorbar": {
                            "outlinewidth": 0,
                            "ticks": ""
                          }
                        },
                        "type": "scatterpolar"
                      }
                    ],
                    "scatterpolargl": [
                      {
                        "marker": {
                          "colorbar": {
                            "outlinewidth": 0,
                            "ticks": ""
                          }
                        },
                        "type": "scatterpolargl"
                      }
                    ],
                    "scatterternary": [
                      {
                        "marker": {
                          "colorbar": {
                            "outlinewidth": 0,
                            "ticks": ""
                          }
                        },
                        "type": "scatterternary"
                      }
                    ],
                    "surface": [
                      {
                        "colorbar": {
                          "outlinewidth": 0,
                          "ticks": ""
                        },
                        "colorscale": [
                          [
                            0,
                            "#0d0887"
                          ],
                          [
                            0.1111111111111111,
                            "#46039f"
                          ],
                          [
                            0.2222222222222222,
                            "#7201a8"
                          ],
                          [
                            0.3333333333333333,
                            "#9c179e"
                          ],
                          [
                            0.4444444444444444,
                            "#bd3786"
                          ],
                          [
                            0.5555555555555556,
                            "#d8576b"
                          ],
                          [
                            0.6666666666666666,
                            "#ed7953"
                          ],
                          [
                            0.7777777777777778,
                            "#fb9f3a"
                          ],
                          [
                            0.8888888888888888,
                            "#fdca26"
                          ],
                          [
                            1,
                            "#f0f921"
                          ]
                        ],
                        "type": "surface"
                      }
                    ],
                    "table": [
                      {
                        "cells": {
                          "fill": {
                            "color": "#EBF0F8"
                          },
                          "line": {
                            "color": "white"
                          }
                        },
                        "header": {
                          "fill": {
                            "color": "#C8D4E3"
                          },
                          "line": {
                            "color": "white"
                          }
                        },
                        "type": "table"
                      }
                    ]
                  },
                  "layout": {
                    "annotationdefaults": {
                      "arrowcolor": "#2a3f5f",
                      "arrowhead": 0,
                      "arrowwidth": 1
                    },
                    "autotypenumbers": "strict",
                    "coloraxis": {
                      "colorbar": {
                        "outlinewidth": 0,
                        "ticks": ""
                      }
                    },
                    "colorscale": {
                      "diverging": [
                        [
                          0,
                          "#8e0152"
                        ],
                        [
                          0.1,
                          "#c51b7d"
                        ],
                        [
                          0.2,
                          "#de77ae"
                        ],
                        [
                          0.3,
                          "#f1b6da"
                        ],
                        [
                          0.4,
                          "#fde0ef"
                        ],
                        [
                          0.5,
                          "#f7f7f7"
                        ],
                        [
                          0.6,
                          "#e6f5d0"
                        ],
                        [
                          0.7,
                          "#b8e186"
                        ],
                        [
                          0.8,
                          "#7fbc41"
                        ],
                        [
                          0.9,
                          "#4d9221"
                        ],
                        [
                          1,
                          "#276419"
                        ]
                      ],
                      "sequential": [
                        [
                          0,
                          "#0d0887"
                        ],
                        [
                          0.1111111111111111,
                          "#46039f"
                        ],
                        [
                          0.2222222222222222,
                          "#7201a8"
                        ],
                        [
                          0.3333333333333333,
                          "#9c179e"
                        ],
                        [
                          0.4444444444444444,
                          "#bd3786"
                        ],
                        [
                          0.5555555555555556,
                          "#d8576b"
                        ],
                        [
                          0.6666666666666666,
                          "#ed7953"
                        ],
                        [
                          0.7777777777777778,
                          "#fb9f3a"
                        ],
                        [
                          0.8888888888888888,
                          "#fdca26"
                        ],
                        [
                          1,
                          "#f0f921"
                        ]
                      ],
                      "sequentialminus": [
                        [
                          0,
                          "#0d0887"
                        ],
                        [
                          0.1111111111111111,
                          "#46039f"
                        ],
                        [
                          0.2222222222222222,
                          "#7201a8"
                        ],
                        [
                          0.3333333333333333,
                          "#9c179e"
                        ],
                        [
                          0.4444444444444444,
                          "#bd3786"
                        ],
                        [
                          0.5555555555555556,
                          "#d8576b"
                        ],
                        [
                          0.6666666666666666,
                          "#ed7953"
                        ],
                        [
                          0.7777777777777778,
                          "#fb9f3a"
                        ],
                        [
                          0.8888888888888888,
                          "#fdca26"
                        ],
                        [
                          1,
                          "#f0f921"
                        ]
                      ]
                    },
                    "colorway": [
                      "#636efa",
                      "#EF553B",
                      "#00cc96",
                      "#ab63fa",
                      "#FFA15A",
                      "#19d3f3",
                      "#FF6692",
                      "#B6E880",
                      "#FF97FF",
                      "#FECB52"
                    ],
                    "font": {
                      "color": "#2a3f5f"
                    },
                    "geo": {
                      "bgcolor": "white",
                      "lakecolor": "white",
                      "landcolor": "#E5ECF6",
                      "showlakes": true,
                      "showland": true,
                      "subunitcolor": "white"
                    },
                    "hoverlabel": {
                      "align": "left"
                    },
                    "hovermode": "closest",
                    "mapbox": {
                      "style": "light"
                    },
                    "paper_bgcolor": "white",
                    "plot_bgcolor": "#E5ECF6",
                    "polar": {
                      "angularaxis": {
                        "gridcolor": "white",
                        "linecolor": "white",
                        "ticks": ""
                      },
                      "bgcolor": "#E5ECF6",
                      "radialaxis": {
                        "gridcolor": "white",
                        "linecolor": "white",
                        "ticks": ""
                      }
                    },
                    "scene": {
                      "xaxis": {
                        "backgroundcolor": "#E5ECF6",
                        "gridcolor": "white",
                        "gridwidth": 2,
                        "linecolor": "white",
                        "showbackground": true,
                        "ticks": "",
                        "zerolinecolor": "white"
                      },
                      "yaxis": {
                        "backgroundcolor": "#E5ECF6",
                        "gridcolor": "white",
                        "gridwidth": 2,
                        "linecolor": "white",
                        "showbackground": true,
                        "ticks": "",
                        "zerolinecolor": "white"
                      },
                      "zaxis": {
                        "backgroundcolor": "#E5ECF6",
                        "gridcolor": "white",
                        "gridwidth": 2,
                        "linecolor": "white",
                        "showbackground": true,
                        "ticks": "",
                        "zerolinecolor": "white"
                      }
                    },
                    "shapedefaults": {
                      "line": {
                        "color": "#2a3f5f"
                      }
                    },
                    "ternary": {
                      "aaxis": {
                        "gridcolor": "white",
                        "linecolor": "white",
                        "ticks": ""
                      },
                      "baxis": {
                        "gridcolor": "white",
                        "linecolor": "white",
                        "ticks": ""
                      },
                      "bgcolor": "#E5ECF6",
                      "caxis": {
                        "gridcolor": "white",
                        "linecolor": "white",
                        "ticks": ""
                      }
                    },
                    "title": {
                      "x": 0.05
                    },
                    "xaxis": {
                      "automargin": true,
                      "gridcolor": "white",
                      "linecolor": "white",
                      "ticks": "",
                      "title": {
                        "standoff": 15
                      },
                      "zerolinecolor": "white",
                      "zerolinewidth": 2
                    },
                    "yaxis": {
                      "automargin": true,
                      "gridcolor": "white",
                      "linecolor": "white",
                      "ticks": "",
                      "title": {
                        "standoff": 15
                      },
                      "zerolinecolor": "white",
                      "zerolinewidth": 2
                    }
                  }
                },
                "title": {
                  "text": "Évolution du chiffre d’affaires (saisonnalité mensuelle)"
                },
                "xaxis": {
                  "anchor": "y",
                  "domain": [
                    0,
                    1
                  ],
                  "title": {
                    "text": "month"
                  }
                },
                "yaxis": {
                  "anchor": "x",
                  "domain": [
                    0,
                    1
                  ],
                  "title": {
                    "text": "Revenu total"
                  }
                }
              }
            }
          },
          "metadata": {},
          "output_type": "display_data"
        }
      ],
      "source": [
        "fig = px.line(\n",
        "    data_seasonal,\n",
        "    x='month',\n",
        "    y='total_revenue',\n",
        "    title='Évolution du chiffre d’affaires (saisonnalité mensuelle)',\n",
        "    labels={'year_month': 'Date', 'total_revenue': 'Revenu total'}\n",
        ")\n",
        "\n",
        "fig.show()"
      ]
    },
    {
      "cell_type": "code",
      "execution_count": 21,
      "metadata": {},
      "outputs": [
        {
          "data": {
            "application/vnd.plotly.v1+json": {
              "config": {
                "plotlyServerURL": "https://plot.ly"
              },
              "data": [
                {
                  "alignmentgroup": "True",
                  "boxpoints": "all",
                  "hovertemplate": "Jour de la semaine (0 = Dimanche)=%{x}<br>Valeur moyenne=%{y}<extra></extra>",
                  "legendgroup": "",
                  "marker": {
                    "color": "#636efa"
                  },
                  "name": "",
                  "notched": false,
                  "offsetgroup": "",
                  "orientation": "v",
                  "showlegend": false,
                  "type": "box",
                  "x": {
                    "bdata": "AAAAAAAAEEAAAAAAAAD4fwAAAAAAAAAAAAAAAAAA8D8AAAAAAAAAQAAAAAAAAAhAAAAAAAAAEEAAAAAAAAAUQAAAAAAAABhAAAAAAAAA+H8AAAAAAAAUQAAAAAAAAPh/AAAAAAAA+H8AAAAAAAAAAAAAAAAAAPA/AAAAAAAAAEAAAAAAAAAIQAAAAAAAABBAAAAAAAAAFEAAAAAAAAAYQAAAAAAAAPh/AAAAAAAAAAAAAAAAAADwPwAAAAAAAABAAAAAAAAACEAAAAAAAAAQQAAAAAAAABRAAAAAAAAAGEAAAAAAAAD4fwAAAAAAAAAAAAAAAAAA8D8AAAAAAAAAQAAAAAAAAAhAAAAAAAAAEEAAAAAAAAAUQAAAAAAAABhAAAAAAAAA+H8AAAAAAAAAAAAAAAAAAPA/AAAAAAAAAEAAAAAAAAAIQAAAAAAAABBAAAAAAAAAFEAAAAAAAAAYQAAAAAAAAPh/AAAAAAAAAAAAAAAAAADwPwAAAAAAAABAAAAAAAAACEAAAAAAAAAQQAAAAAAAABRAAAAAAAAAGEAAAAAAAAD4fwAAAAAAAAAAAAAAAAAA8D8AAAAAAAAAQAAAAAAAAAhAAAAAAAAAEEAAAAAAAAAUQAAAAAAAABhAAAAAAAAA+H8AAAAAAAAAAAAAAAAAAPA/AAAAAAAAAEAAAAAAAAAIQAAAAAAAABBAAAAAAAAAFEAAAAAAAAAYQAAAAAAAAPh/AAAAAAAAAAAAAAAAAADwPwAAAAAAAABAAAAAAAAACEAAAAAAAAAQQAAAAAAAABRAAAAAAAAAGEAAAAAAAAD4fwAAAAAAAAAAAAAAAAAA8D8AAAAAAAAAQAAAAAAAAAhAAAAAAAAAEEAAAAAAAAAUQAAAAAAAABhAAAAAAAAA+H8AAAAAAAAAAAAAAAAAAPA/AAAAAAAAAEAAAAAAAAAIQAAAAAAAABBAAAAAAAAAFEAAAAAAAAAYQAAAAAAAAPh/AAAAAAAAAAAAAAAAAADwPwAAAAAAAABAAAAAAAAACEAAAAAAAAAQQAAAAAAAABRAAAAAAAAAGEAAAAAAAAD4fwAAAAAAAAAAAAAAAAAA8D8AAAAAAAAAQAAAAAAAAAhAAAAAAAAAEEAAAAAAAAAUQAAAAAAAABhAAAAAAAAA+H8AAAAAAAD4fwAAAAAAAAAAAAAAAAAA8D8AAAAAAAAAQAAAAAAAAAhAAAAAAAAAEEAAAAAAAAAUQAAAAAAAABhAAAAAAAAA+H8AAAAAAAAAAAAAAAAAAPA/AAAAAAAAAEAAAAAAAAAIQAAAAAAAABBAAAAAAAAAFEAAAAAAAAAYQAAAAAAAAPh/AAAAAAAAAAAAAAAAAADwPwAAAAAAAABAAAAAAAAACEAAAAAAAAAQQAAAAAAAABRAAAAAAAAAGEAAAAAAAAD4fwAAAAAAAAAAAAAAAAAA8D8AAAAAAAAAQAAAAAAAAAhAAAAAAAAAEEAAAAAAAAAUQAAAAAAAABhAAAAAAAAA+H8AAAAAAAAAAAAAAAAAAPA/AAAAAAAAAEAAAAAAAAAIQAAAAAAAABBAAAAAAAAAFEAAAAAAAAAYQAAAAAAAAPh/AAAAAAAAAAAAAAAAAADwPwAAAAAAAABAAAAAAAAACEAAAAAAAAAQQAAAAAAAABRAAAAAAAAAGEAAAAAAAAD4fwAAAAAAAAAAAAAAAAAA8D8AAAAAAAAAQAAAAAAAAAhAAAAAAAAAEEAAAAAAAAAUQAAAAAAAABhAAAAAAAAA+H8AAAAAAAAAAAAAAAAAAPA/AAAAAAAAAEAAAAAAAAAIQAAAAAAAABBAAAAAAAAAFEAAAAAAAAAYQAAAAAAAAPh/AAAAAAAA+H8AAAAAAAD4fw==",
                    "dtype": "f8"
                  },
                  "x0": " ",
                  "xaxis": "x",
                  "y": {
                    "bdata": "KVyPwvXoR0ApXI/C9ehHQOYsm3/G7FtA2lKdLdVRWUCX2x9kqHxjQFVVVVVVxmJANa3jzQkVYkDv5fNePmNjQI/C9Shc12lAvhuw6QmRYkAfhetRuJ4zQB+F61G4njNAjEQem4ZlYkAwlvxiyedgQKfR4ScC3WJAgHIHKHeYYUAe0CoJIstgQC1WA9O2C15AKQBSYc98ZEAvWxn8J65gQKPdN5MqdGFAZiefOTxzY0DxrGgkIIpgQCq2as5TSWRAouhWO4L4YEB02kCnDRhgQMB+xM24PGRAvKvjW6FdYkCyB3aMgT9iQKfMDnr/LlxA2g8Kvc81YkA1YUAu0MNgQGwqDTn3eWFALzWy81JZYUBFqxF43m9kQE2HAKg7Z2RASagWhqngYUA1bTHgwzBgQPwfCijkpWBA0pwkllXcY0DRsyuJTJpiQCR3/qB6y2NA6ukAH0hjY0D15HPZhYlmQKYle3EKBGNASkzm0c2FYEDbctOOWo9gQD5ZCy1IYmJAm0pDzn1oY0BVc/jjNWJiQPk3xoOrDWBAq0+U3oJ1YkBfGVDqR7JhQHhh9TOdHGRA7FG4HoWLYkB3d3d3d2NeQECX/qIF3GFAT6SmtAi9YEAqS4QmkGBiQDh1f1b6KGBAhHBAHJaOYUDCmN8G72xcQL6+qCbjJGBAgnbcmNOQYEBf2DW2XAFfQMTZRo4CzWBAlR2mLrc9YEA6Udf9sLBgQNdiXtSdB2BA98VVG9w1X0Bp1VcDsr9gQPxnsKwl72JAdWiC6eoeYUDlITmoRAFgQIhliYAIfWBA7qd1il5CX0BBvTbhPdRgQGjSoWtgTGRADe1I9MWeYkB/08w+MnJgQAVLjilbh2JA8TJBP6hUYkDj8zU+X39jQPVJn/TpSmJAVxmmkwKAYkC2/XyW6m1hQNVIFgEynGJArZaue+amYUCNXIur4b5gQH9nqBRKa2JA2fMiACXFYkBXB/cKD/BiQG3m6O7YAWJAg4wFTNtVX0CelOlnoP5hQJV1TJsOamFAhLUIomFOYEA2rV/zW15hQBy2tz20vGBAppiF9SObYUCwGXyu4gJhQNuje3Hc0GBApqtCDQRrYUC+gUEZ541fQHuOmTUINGFAcJL4a1U0YEBAC4KHvLxhQM4XHOxUEGJAacIuzIMIYUCGC52xeHVhQKAxTQZ432FAEq3+AOvmX0CH2UdyDBlgQFUc4lHVZWFAe0j8t2wqYUArWJeyFbFgQOb3CRwuqGBAN2+oYrPDYEDrqWbLnihgQCeigwlAJ2BAwiiP9Vu8X0Bm3r59QnJgQI2yCnCw2l1Ab5n2V6S1YECARtA00WFgQPTEM9xyEGBAfr96OJNtYkA/fzkAw2JhQNCFAxQRj2FAsFT9lCZHYUDGE960WY5hQEP0LkTvsmBA7DbHbnOgYUCe8r1Y43hhQAWPgX78GGFACyFjKXz8YkB7AIKeyzxiQM70JS5ak2JAy3nJv9MMYUAf8XQYt89iQLvAo+YhgmFAExol+6wXYkBp7WUhDOtgQD+cYyO/j2JAKRSplcs3YUDvFImE9n1hQChMo2hHo2NAP1ok5RnnYUByuuaMsudiQD8dB7/wEGJAriBy8R4EYUCskJHF2r1iQKAyyHTZmGJAfMJddJxPYEBXx70tJLJhQNU7PrXARmJApHS8hGDHY0BDDndJlgtiQOrknU7ecWNAcnAlB1eqYUBjeUpxoBZiQPMfyGfBTmJA16lhIVSPY0BYWhih8ypjQMZIKqZpG2FAl2tbxINzYkDSxH0xtjthQEJ8+8LOkWFA+QztwwDBYECzIgTujL9hQIDGNBlgdmBA4h8/A7bsYEAoFkS4dExiQLTYF0yIP2FAGL3nUk2DYUDne8Kvu31hQA==",
                    "dtype": "f8"
                  },
                  "y0": " ",
                  "yaxis": "y"
                }
              ],
              "layout": {
                "boxmode": "group",
                "legend": {
                  "tracegroupgap": 0
                },
                "template": {
                  "data": {
                    "bar": [
                      {
                        "error_x": {
                          "color": "#2a3f5f"
                        },
                        "error_y": {
                          "color": "#2a3f5f"
                        },
                        "marker": {
                          "line": {
                            "color": "#E5ECF6",
                            "width": 0.5
                          },
                          "pattern": {
                            "fillmode": "overlay",
                            "size": 10,
                            "solidity": 0.2
                          }
                        },
                        "type": "bar"
                      }
                    ],
                    "barpolar": [
                      {
                        "marker": {
                          "line": {
                            "color": "#E5ECF6",
                            "width": 0.5
                          },
                          "pattern": {
                            "fillmode": "overlay",
                            "size": 10,
                            "solidity": 0.2
                          }
                        },
                        "type": "barpolar"
                      }
                    ],
                    "carpet": [
                      {
                        "aaxis": {
                          "endlinecolor": "#2a3f5f",
                          "gridcolor": "white",
                          "linecolor": "white",
                          "minorgridcolor": "white",
                          "startlinecolor": "#2a3f5f"
                        },
                        "baxis": {
                          "endlinecolor": "#2a3f5f",
                          "gridcolor": "white",
                          "linecolor": "white",
                          "minorgridcolor": "white",
                          "startlinecolor": "#2a3f5f"
                        },
                        "type": "carpet"
                      }
                    ],
                    "choropleth": [
                      {
                        "colorbar": {
                          "outlinewidth": 0,
                          "ticks": ""
                        },
                        "type": "choropleth"
                      }
                    ],
                    "contour": [
                      {
                        "colorbar": {
                          "outlinewidth": 0,
                          "ticks": ""
                        },
                        "colorscale": [
                          [
                            0,
                            "#0d0887"
                          ],
                          [
                            0.1111111111111111,
                            "#46039f"
                          ],
                          [
                            0.2222222222222222,
                            "#7201a8"
                          ],
                          [
                            0.3333333333333333,
                            "#9c179e"
                          ],
                          [
                            0.4444444444444444,
                            "#bd3786"
                          ],
                          [
                            0.5555555555555556,
                            "#d8576b"
                          ],
                          [
                            0.6666666666666666,
                            "#ed7953"
                          ],
                          [
                            0.7777777777777778,
                            "#fb9f3a"
                          ],
                          [
                            0.8888888888888888,
                            "#fdca26"
                          ],
                          [
                            1,
                            "#f0f921"
                          ]
                        ],
                        "type": "contour"
                      }
                    ],
                    "contourcarpet": [
                      {
                        "colorbar": {
                          "outlinewidth": 0,
                          "ticks": ""
                        },
                        "type": "contourcarpet"
                      }
                    ],
                    "heatmap": [
                      {
                        "colorbar": {
                          "outlinewidth": 0,
                          "ticks": ""
                        },
                        "colorscale": [
                          [
                            0,
                            "#0d0887"
                          ],
                          [
                            0.1111111111111111,
                            "#46039f"
                          ],
                          [
                            0.2222222222222222,
                            "#7201a8"
                          ],
                          [
                            0.3333333333333333,
                            "#9c179e"
                          ],
                          [
                            0.4444444444444444,
                            "#bd3786"
                          ],
                          [
                            0.5555555555555556,
                            "#d8576b"
                          ],
                          [
                            0.6666666666666666,
                            "#ed7953"
                          ],
                          [
                            0.7777777777777778,
                            "#fb9f3a"
                          ],
                          [
                            0.8888888888888888,
                            "#fdca26"
                          ],
                          [
                            1,
                            "#f0f921"
                          ]
                        ],
                        "type": "heatmap"
                      }
                    ],
                    "histogram": [
                      {
                        "marker": {
                          "pattern": {
                            "fillmode": "overlay",
                            "size": 10,
                            "solidity": 0.2
                          }
                        },
                        "type": "histogram"
                      }
                    ],
                    "histogram2d": [
                      {
                        "colorbar": {
                          "outlinewidth": 0,
                          "ticks": ""
                        },
                        "colorscale": [
                          [
                            0,
                            "#0d0887"
                          ],
                          [
                            0.1111111111111111,
                            "#46039f"
                          ],
                          [
                            0.2222222222222222,
                            "#7201a8"
                          ],
                          [
                            0.3333333333333333,
                            "#9c179e"
                          ],
                          [
                            0.4444444444444444,
                            "#bd3786"
                          ],
                          [
                            0.5555555555555556,
                            "#d8576b"
                          ],
                          [
                            0.6666666666666666,
                            "#ed7953"
                          ],
                          [
                            0.7777777777777778,
                            "#fb9f3a"
                          ],
                          [
                            0.8888888888888888,
                            "#fdca26"
                          ],
                          [
                            1,
                            "#f0f921"
                          ]
                        ],
                        "type": "histogram2d"
                      }
                    ],
                    "histogram2dcontour": [
                      {
                        "colorbar": {
                          "outlinewidth": 0,
                          "ticks": ""
                        },
                        "colorscale": [
                          [
                            0,
                            "#0d0887"
                          ],
                          [
                            0.1111111111111111,
                            "#46039f"
                          ],
                          [
                            0.2222222222222222,
                            "#7201a8"
                          ],
                          [
                            0.3333333333333333,
                            "#9c179e"
                          ],
                          [
                            0.4444444444444444,
                            "#bd3786"
                          ],
                          [
                            0.5555555555555556,
                            "#d8576b"
                          ],
                          [
                            0.6666666666666666,
                            "#ed7953"
                          ],
                          [
                            0.7777777777777778,
                            "#fb9f3a"
                          ],
                          [
                            0.8888888888888888,
                            "#fdca26"
                          ],
                          [
                            1,
                            "#f0f921"
                          ]
                        ],
                        "type": "histogram2dcontour"
                      }
                    ],
                    "mesh3d": [
                      {
                        "colorbar": {
                          "outlinewidth": 0,
                          "ticks": ""
                        },
                        "type": "mesh3d"
                      }
                    ],
                    "parcoords": [
                      {
                        "line": {
                          "colorbar": {
                            "outlinewidth": 0,
                            "ticks": ""
                          }
                        },
                        "type": "parcoords"
                      }
                    ],
                    "pie": [
                      {
                        "automargin": true,
                        "type": "pie"
                      }
                    ],
                    "scatter": [
                      {
                        "fillpattern": {
                          "fillmode": "overlay",
                          "size": 10,
                          "solidity": 0.2
                        },
                        "type": "scatter"
                      }
                    ],
                    "scatter3d": [
                      {
                        "line": {
                          "colorbar": {
                            "outlinewidth": 0,
                            "ticks": ""
                          }
                        },
                        "marker": {
                          "colorbar": {
                            "outlinewidth": 0,
                            "ticks": ""
                          }
                        },
                        "type": "scatter3d"
                      }
                    ],
                    "scattercarpet": [
                      {
                        "marker": {
                          "colorbar": {
                            "outlinewidth": 0,
                            "ticks": ""
                          }
                        },
                        "type": "scattercarpet"
                      }
                    ],
                    "scattergeo": [
                      {
                        "marker": {
                          "colorbar": {
                            "outlinewidth": 0,
                            "ticks": ""
                          }
                        },
                        "type": "scattergeo"
                      }
                    ],
                    "scattergl": [
                      {
                        "marker": {
                          "colorbar": {
                            "outlinewidth": 0,
                            "ticks": ""
                          }
                        },
                        "type": "scattergl"
                      }
                    ],
                    "scattermap": [
                      {
                        "marker": {
                          "colorbar": {
                            "outlinewidth": 0,
                            "ticks": ""
                          }
                        },
                        "type": "scattermap"
                      }
                    ],
                    "scattermapbox": [
                      {
                        "marker": {
                          "colorbar": {
                            "outlinewidth": 0,
                            "ticks": ""
                          }
                        },
                        "type": "scattermapbox"
                      }
                    ],
                    "scatterpolar": [
                      {
                        "marker": {
                          "colorbar": {
                            "outlinewidth": 0,
                            "ticks": ""
                          }
                        },
                        "type": "scatterpolar"
                      }
                    ],
                    "scatterpolargl": [
                      {
                        "marker": {
                          "colorbar": {
                            "outlinewidth": 0,
                            "ticks": ""
                          }
                        },
                        "type": "scatterpolargl"
                      }
                    ],
                    "scatterternary": [
                      {
                        "marker": {
                          "colorbar": {
                            "outlinewidth": 0,
                            "ticks": ""
                          }
                        },
                        "type": "scatterternary"
                      }
                    ],
                    "surface": [
                      {
                        "colorbar": {
                          "outlinewidth": 0,
                          "ticks": ""
                        },
                        "colorscale": [
                          [
                            0,
                            "#0d0887"
                          ],
                          [
                            0.1111111111111111,
                            "#46039f"
                          ],
                          [
                            0.2222222222222222,
                            "#7201a8"
                          ],
                          [
                            0.3333333333333333,
                            "#9c179e"
                          ],
                          [
                            0.4444444444444444,
                            "#bd3786"
                          ],
                          [
                            0.5555555555555556,
                            "#d8576b"
                          ],
                          [
                            0.6666666666666666,
                            "#ed7953"
                          ],
                          [
                            0.7777777777777778,
                            "#fb9f3a"
                          ],
                          [
                            0.8888888888888888,
                            "#fdca26"
                          ],
                          [
                            1,
                            "#f0f921"
                          ]
                        ],
                        "type": "surface"
                      }
                    ],
                    "table": [
                      {
                        "cells": {
                          "fill": {
                            "color": "#EBF0F8"
                          },
                          "line": {
                            "color": "white"
                          }
                        },
                        "header": {
                          "fill": {
                            "color": "#C8D4E3"
                          },
                          "line": {
                            "color": "white"
                          }
                        },
                        "type": "table"
                      }
                    ]
                  },
                  "layout": {
                    "annotationdefaults": {
                      "arrowcolor": "#2a3f5f",
                      "arrowhead": 0,
                      "arrowwidth": 1
                    },
                    "autotypenumbers": "strict",
                    "coloraxis": {
                      "colorbar": {
                        "outlinewidth": 0,
                        "ticks": ""
                      }
                    },
                    "colorscale": {
                      "diverging": [
                        [
                          0,
                          "#8e0152"
                        ],
                        [
                          0.1,
                          "#c51b7d"
                        ],
                        [
                          0.2,
                          "#de77ae"
                        ],
                        [
                          0.3,
                          "#f1b6da"
                        ],
                        [
                          0.4,
                          "#fde0ef"
                        ],
                        [
                          0.5,
                          "#f7f7f7"
                        ],
                        [
                          0.6,
                          "#e6f5d0"
                        ],
                        [
                          0.7,
                          "#b8e186"
                        ],
                        [
                          0.8,
                          "#7fbc41"
                        ],
                        [
                          0.9,
                          "#4d9221"
                        ],
                        [
                          1,
                          "#276419"
                        ]
                      ],
                      "sequential": [
                        [
                          0,
                          "#0d0887"
                        ],
                        [
                          0.1111111111111111,
                          "#46039f"
                        ],
                        [
                          0.2222222222222222,
                          "#7201a8"
                        ],
                        [
                          0.3333333333333333,
                          "#9c179e"
                        ],
                        [
                          0.4444444444444444,
                          "#bd3786"
                        ],
                        [
                          0.5555555555555556,
                          "#d8576b"
                        ],
                        [
                          0.6666666666666666,
                          "#ed7953"
                        ],
                        [
                          0.7777777777777778,
                          "#fb9f3a"
                        ],
                        [
                          0.8888888888888888,
                          "#fdca26"
                        ],
                        [
                          1,
                          "#f0f921"
                        ]
                      ],
                      "sequentialminus": [
                        [
                          0,
                          "#0d0887"
                        ],
                        [
                          0.1111111111111111,
                          "#46039f"
                        ],
                        [
                          0.2222222222222222,
                          "#7201a8"
                        ],
                        [
                          0.3333333333333333,
                          "#9c179e"
                        ],
                        [
                          0.4444444444444444,
                          "#bd3786"
                        ],
                        [
                          0.5555555555555556,
                          "#d8576b"
                        ],
                        [
                          0.6666666666666666,
                          "#ed7953"
                        ],
                        [
                          0.7777777777777778,
                          "#fb9f3a"
                        ],
                        [
                          0.8888888888888888,
                          "#fdca26"
                        ],
                        [
                          1,
                          "#f0f921"
                        ]
                      ]
                    },
                    "colorway": [
                      "#636efa",
                      "#EF553B",
                      "#00cc96",
                      "#ab63fa",
                      "#FFA15A",
                      "#19d3f3",
                      "#FF6692",
                      "#B6E880",
                      "#FF97FF",
                      "#FECB52"
                    ],
                    "font": {
                      "color": "#2a3f5f"
                    },
                    "geo": {
                      "bgcolor": "white",
                      "lakecolor": "white",
                      "landcolor": "#E5ECF6",
                      "showlakes": true,
                      "showland": true,
                      "subunitcolor": "white"
                    },
                    "hoverlabel": {
                      "align": "left"
                    },
                    "hovermode": "closest",
                    "mapbox": {
                      "style": "light"
                    },
                    "paper_bgcolor": "white",
                    "plot_bgcolor": "#E5ECF6",
                    "polar": {
                      "angularaxis": {
                        "gridcolor": "white",
                        "linecolor": "white",
                        "ticks": ""
                      },
                      "bgcolor": "#E5ECF6",
                      "radialaxis": {
                        "gridcolor": "white",
                        "linecolor": "white",
                        "ticks": ""
                      }
                    },
                    "scene": {
                      "xaxis": {
                        "backgroundcolor": "#E5ECF6",
                        "gridcolor": "white",
                        "gridwidth": 2,
                        "linecolor": "white",
                        "showbackground": true,
                        "ticks": "",
                        "zerolinecolor": "white"
                      },
                      "yaxis": {
                        "backgroundcolor": "#E5ECF6",
                        "gridcolor": "white",
                        "gridwidth": 2,
                        "linecolor": "white",
                        "showbackground": true,
                        "ticks": "",
                        "zerolinecolor": "white"
                      },
                      "zaxis": {
                        "backgroundcolor": "#E5ECF6",
                        "gridcolor": "white",
                        "gridwidth": 2,
                        "linecolor": "white",
                        "showbackground": true,
                        "ticks": "",
                        "zerolinecolor": "white"
                      }
                    },
                    "shapedefaults": {
                      "line": {
                        "color": "#2a3f5f"
                      }
                    },
                    "ternary": {
                      "aaxis": {
                        "gridcolor": "white",
                        "linecolor": "white",
                        "ticks": ""
                      },
                      "baxis": {
                        "gridcolor": "white",
                        "linecolor": "white",
                        "ticks": ""
                      },
                      "bgcolor": "#E5ECF6",
                      "caxis": {
                        "gridcolor": "white",
                        "linecolor": "white",
                        "ticks": ""
                      }
                    },
                    "title": {
                      "x": 0.05
                    },
                    "xaxis": {
                      "automargin": true,
                      "gridcolor": "white",
                      "linecolor": "white",
                      "ticks": "",
                      "title": {
                        "standoff": 15
                      },
                      "zerolinecolor": "white",
                      "zerolinewidth": 2
                    },
                    "yaxis": {
                      "automargin": true,
                      "gridcolor": "white",
                      "linecolor": "white",
                      "ticks": "",
                      "title": {
                        "standoff": 15
                      },
                      "zerolinecolor": "white",
                      "zerolinewidth": 2
                    }
                  }
                },
                "title": {
                  "text": "Valeur moyenne des commandes par jour de la semaine"
                },
                "xaxis": {
                  "anchor": "y",
                  "domain": [
                    0,
                    1
                  ],
                  "title": {
                    "text": "Jour de la semaine (0 = Dimanche)"
                  }
                },
                "yaxis": {
                  "anchor": "x",
                  "domain": [
                    0,
                    1
                  ],
                  "title": {
                    "text": "Valeur moyenne"
                  }
                }
              }
            }
          },
          "metadata": {},
          "output_type": "display_data"
        }
      ],
      "source": [
        "fig = px.box(\n",
        "    data_seasonal,\n",
        "    x='day_of_week',\n",
        "    y='avg_order_value',\n",
        "    points='all',\n",
        "    title='Valeur moyenne des commandes par jour de la semaine',\n",
        "    labels={'day_of_week': 'Jour de la semaine (0 = Dimanche)', 'avg_order_value': 'Valeur moyenne'}\n",
        ")\n",
        "fig.show()"
      ]
    },
    {
      "cell_type": "markdown",
      "metadata": {
        "id": "Xq43e3mfZC8d"
      },
      "source": [
        "## Partie 4 : Analyse prédictive avec SQL\n",
        "\n",
        "### 🔮 Modèles simples en SQL"
      ]
    },
    {
      "cell_type": "code",
      "execution_count": 15,
      "metadata": {
        "id": "bY5mfxFoaL2K"
      },
      "outputs": [],
      "source": [
        "#### 1. Prédiction de churn\n",
        "\n",
        "def churn_prediction_sql():\n",
        "    \"\"\"\n",
        "    Identifiez les clients à risque de churn\n",
        "\n",
        "    Indicateurs :\n",
        "    - Pas d'achat depuis X jours\n",
        "    - Baisse de fréquence d'achat\n",
        "    - Diminution du panier moyen\n",
        "    - Changement de comportement géographique\n",
        "    \"\"\"\n",
        "\n",
        "    churn_query = \"\"\"\n",
        "    WITH customer_activity AS (\n",
        "        -- Calculez les métriques d'activité récente\n",
        "        -- Comparez avec l'historique du client\n",
        "        -- Scorez le risque de churn\n",
        "    )\n",
        "\n",
        "    SELECT\n",
        "        customer_id,\n",
        "        days_since_last_order,\n",
        "        order_frequency_trend,\n",
        "        monetary_trend,\n",
        "        churn_risk_score,\n",
        "        CASE\n",
        "            WHEN churn_risk_score > 0.7 THEN 'High Risk'\n",
        "            WHEN churn_risk_score > 0.4 THEN 'Medium Risk'\n",
        "            ELSE 'Low Risk'\n",
        "        END as churn_segment\n",
        "    FROM customer_activity;\n",
        "    \"\"\"\n",
        "\n",
        "    return pd.read_sql(churn_query, engine)\n"
      ]
    },
    {
      "cell_type": "markdown",
      "metadata": {
        "id": "IB2D1PDraVu4"
      },
      "source": [
        "#### 2. Recommandations produits\n",
        "```sql\n",
        "-- Market Basket Analysis simplifié\n",
        "WITH product_pairs AS (\n",
        "    SELECT\n",
        "        oi1.product_id as product_a,\n",
        "        oi2.product_id as product_b,\n",
        "        COUNT(*) as co_purchase_count\n",
        "    FROM order_items oi1\n",
        "    JOIN order_items oi2 ON oi1.order_id = oi2.order_id\n",
        "    WHERE oi1.product_id != oi2.product_id\n",
        "    GROUP BY oi1.product_id, oi2.product_id\n",
        "    HAVING COUNT(*) >= 10  -- Seuil minimum\n",
        ")\n",
        "\n",
        "SELECT\n",
        "    product_a,\n",
        "    product_b,\n",
        "    co_purchase_count,\n",
        "    co_purchase_count::float / total_a.count as confidence\n",
        "FROM product_pairs pp\n",
        "JOIN (\n",
        "    SELECT product_id, COUNT(*) as count\n",
        "    FROM order_items\n",
        "    GROUP BY product_id\n",
        ") total_a ON pp.product_a = total_a.product_id\n",
        "ORDER BY confidence DESC;\n",
        "```\n",
        "\n",
        "---"
      ]
    },
    {
      "cell_type": "markdown",
      "metadata": {
        "id": "dbYkj8ItabH-"
      },
      "source": [
        "## Partie 5 : Intégration avec les APIs météo"
      ]
    },
    {
      "cell_type": "markdown",
      "metadata": {
        "id": "x4CU6SNEfNXb"
      },
      "source": [
        "### 🌤️ Croisement données météo/ventes\n",
        "```python\n",
        "def weather_sales_correlation():\n",
        "    \"\"\"\n",
        "    Correlez vos données météo du Notebook 1 avec les ventes\n",
        "    \n",
        "    Hypothèses à tester :\n",
        "    1. Les ventes de certaines catégories augmentent-elles avec la pluie ?\n",
        "    2. Y a-t-il un impact de la température sur les achats ?\n",
        "    3. Les livraisons sont-elles impactées par la météo ?\n",
        "    \"\"\"\n",
        "    \n",
        "    # Récupérez les données météo historiques pour les villes brésiliennes\n",
        "    weather_query = \"\"\"\n",
        "    SELECT DISTINCT customer_city, customer_state\n",
        "    FROM customers\n",
        "    WHERE customer_state IN ('SP', 'RJ', 'MG', 'RS', 'SC')\n",
        "    ORDER BY customer_city;\n",
        "    \"\"\"\n",
        "    \n",
        "    cities = pd.read_sql(weather_query, engine)\n",
        "    \n",
        "    # Intégrez avec l'API météo\n",
        "    # Analysez les corrélations\n",
        "    \n",
        "    pass\n",
        "```"
      ]
    },
    {
      "cell_type": "markdown",
      "metadata": {
        "id": "XHG9k_5PfZXd"
      },
      "source": [
        "### 📊 Dashboard géo-temporel\n",
        "```python\n",
        "def create_geotemporal_dashboard():\n",
        "    \"\"\"\n",
        "    Créez un dashboard interactif combinant :\n",
        "    - Carte des ventes par région\n",
        "    - Évolution temporelle avec météo\n",
        "    - Segments clients géolocalisés\n",
        "    - Prédictions par zone géographique\n",
        "    \"\"\"\n",
        "    pass\n",
        "```"
      ]
    },
    {
      "cell_type": "markdown",
      "metadata": {
        "id": "EsIuD-IVfnxW"
      },
      "source": [
        "---\n",
        "## 🏆 Livrables finaux\n",
        "\n",
        "### 📈 Rapport d'analyse complet\n",
        "1. **Segmentation RFM (Recency, Frenquency, Monetary) ** : 5-7 segments avec caractéristiques\n",
        "2. **Analyse géographique**  : Performances par région + recommandations\n",
        "3. **Prédictions churn** : Liste des clients à risque + actions\n",
        "4. **Recommandations produits** : Top 10 des associations\n",
        "5. **Impact météo** : Corrélations significatives identifiées\n",
        "\n",
        "### 🚀 Pipeline automatisé\n",
        "```python\n",
        "def automated_analysis_pipeline():\n",
        "    \"\"\"\n",
        "    Pipeline qui :\n",
        "    1. Se connecte à la DB\n",
        "    2. Exécute toutes les analyses\n",
        "    3. Met à jour les segments clients\n",
        "    4. Génère le rapport automatiquement\n",
        "    5. Envoie des alertes si nécessaire\n",
        "    \"\"\"\n",
        "    pass\n",
        "```\n",
        "\n",
        "---"
      ]
    },
    {
      "cell_type": "markdown",
      "metadata": {
        "id": "wynvmdtNftwf"
      },
      "source": [
        "## 🎓 Auto-évaluation\n",
        "\n",
        "- [ ] **Connexion DB** : PostgreSQL fonctionnelle\n",
        "- [ ] **Requêtes complexes** : JOINs, CTEs, fonctions analytiques\n",
        "- [ ] **Gestion des erreurs** : Connexions robustes\n",
        "- [ ] **Performance** : Requêtes optimisées avec index\n",
        "- [ ] **Intégration** : SQL + Python + APIs\n",
        "- [ ] **Insights actionables** : Recommandations business claires\n",
        "\n",
        "### 🔗 Préparation au Notebook 3\n",
        "Le prochain notebook portera sur NoSQL (MongoDB) avec des données de réseaux sociaux et d'IoT, en temps réel.\n",
        "\n",
        "### 💡 Bases de données alternatives\n",
        "- **PlanetScale** : MySQL serverless gratuit\n",
        "- **MongoDB Atlas** : 512MB gratuit\n",
        "- **FaunaDB** : Base multi-modèle gratuite\n",
        "- **Hasura Cloud** : GraphQL + PostgreSQL"
      ]
    }
  ],
  "metadata": {
    "colab": {
      "provenance": []
    },
    "kernelspec": {
      "display_name": ".venv",
      "language": "python",
      "name": "python3"
    },
    "language_info": {
      "codemirror_mode": {
        "name": "ipython",
        "version": 3
      },
      "file_extension": ".py",
      "mimetype": "text/x-python",
      "name": "python",
      "nbconvert_exporter": "python",
      "pygments_lexer": "ipython3",
      "version": "3.12.3"
    }
  },
  "nbformat": 4,
  "nbformat_minor": 0
}
