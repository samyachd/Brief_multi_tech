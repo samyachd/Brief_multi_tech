{
  "cells": [
    {
      "cell_type": "markdown",
      "metadata": {
        "id": "VQzdTEd20OQQ"
      },
      "source": []
    },
    {
      "cell_type": "markdown",
      "metadata": {
        "id": "qD7z9hrS0QHi"
      },
      "source": [
        "# Notebook 1 - Fondamentaux Python pour l'IA\n",
        "# Analyse de données météorologiques en temps réel\n",
        "\n",
        "🎯 Objectifs pédagogiques\n",
        "\n",
        "Maîtriser les structures de données Python essentielles\n",
        "Consommer des APIs REST avec requests\n",
        "Manipuler des données JSON et CSV\n",
        "Créer des visualisations basiques\n",
        "Appliquer des statistiques descriptives\n",
        "\n",
        "🌤️ Contexte du projet\n",
        "\n",
        "Vous travaillez pour une startup AgTech qui développe des solutions d'agriculture intelligente. Votre mission : analyser les données météorologiques de plusieurs villes européennes pour optimiser les recommandations de plantation."
      ]
    },
    {
      "cell_type": "markdown",
      "metadata": {
        "id": "InXafSSW05HB"
      },
      "source": [
        "Partie 1 : Connexion aux APIs météo\n",
        "\n",
        "🔧 Installation des bibliothèques\n",
        "\n",
        "\n",
        " À exécuter dans votre terminal ou cellule\n",
        "# pip install requests pandas matplotlib seaborn numpy"
      ]
    },
    {
      "cell_type": "code",
      "execution_count": 39,
      "metadata": {
        "id": "VRX6x9eF08hL"
      },
      "outputs": [],
      "source": [
        "#📥 Import et configuration\n",
        "import requests\n",
        "import pandas as pd\n",
        "import numpy as np\n",
        "import plotly.express as px \n",
        "import matplotlib.pyplot as plt\n",
        "import seaborn as sns\n",
        "from datetime import datetime,date, timedelta\n",
        "from dotenv import load_dotenv\n",
        "import os\n",
        "import json"
      ]
    },
    {
      "cell_type": "markdown",
      "metadata": {
        "id": "cclqgdw01aGL"
      },
      "source": [
        "🌍 API OpenWeatherMap (gratuite)\n",
        "\n",
        "Inscription : Créez un compte sur openweathermap.org\n",
        "\n",
        "\n",
        "Clé API : Récupérez votre clé gratuite (40 000 appels/mois)\n",
        "\n"
      ]
    },
    {
      "cell_type": "code",
      "execution_count": 40,
      "metadata": {},
      "outputs": [],
      "source": [
        "CITIES = [\"Paris\", \"Berlin\", \"Madrid\", \"Amsterdam\", \"Vienna\"]"
      ]
    },
    {
      "cell_type": "code",
      "execution_count": 41,
      "metadata": {
        "id": "90O22MX50sjB"
      },
      "outputs": [],
      "source": [
        "### 💡 Première requête guidée\n",
        "\n",
        "load_dotenv()\n",
        "OPENWEATHER_API_KEY = os.getenv(\"OPENWEATHER_API_KEY\")\n",
        "OPENWEATHER_BASE_URL = \"http://api.openweathermap.org/data/2.5\"\n",
        "\n",
        "def get_weather_data(city):\n",
        "    \n",
        "    # URL : current weather data\n",
        "    url = f\"{OPENWEATHER_BASE_URL}/weather\"\n",
        "\n",
        "    # Paramètres à compléter\n",
        "    params = {\n",
        "        'q': city,\n",
        "        'appid': OPENWEATHER_API_KEY,\n",
        "        'units': 'metric',  # Celsius\n",
        "        'lang': 'fr'\n",
        "    }\n",
        "    \n",
        "    # On définit la requête\n",
        "    r = requests.get(url, params)\n",
        "\n",
        "    # Try de la requête\n",
        "    try:\n",
        "        requests.get(url, params)\n",
        "    except:\n",
        "        print(r.status_code)\n",
        "    \n",
        "    # Si la requête a aboutie, on print le coeur de la réponse\n",
        "    print(r.json())\n",
        "    "
      ]
    },
    {
      "cell_type": "code",
      "execution_count": 42,
      "metadata": {},
      "outputs": [
        {
          "name": "stdout",
          "output_type": "stream",
          "text": [
            "{'coord': {'lon': 2.3488, 'lat': 48.8534}, 'weather': [{'id': 800, 'main': 'Clear', 'description': 'ciel dégagé', 'icon': '01d'}], 'base': 'stations', 'main': {'temp': 20.59, 'feels_like': 20.48, 'temp_min': 19.88, 'temp_max': 22.27, 'pressure': 1020, 'humidity': 68, 'sea_level': 1020, 'grnd_level': 1011}, 'visibility': 10000, 'wind': {'speed': 4.12, 'deg': 270}, 'clouds': {'all': 0}, 'dt': 1753779027, 'sys': {'type': 1, 'id': 6550, 'country': 'FR', 'sunrise': 1753762797, 'sunset': 1753817639}, 'timezone': 7200, 'id': 2988507, 'name': 'Paris', 'cod': 200}\n",
            "{'coord': {'lon': 13.4105, 'lat': 52.5244}, 'weather': [{'id': 802, 'main': 'Clouds', 'description': 'partiellement nuageux', 'icon': '03d'}], 'base': 'stations', 'main': {'temp': 20.11, 'feels_like': 20.03, 'temp_min': 18.81, 'temp_max': 21.85, 'pressure': 1013, 'humidity': 71, 'sea_level': 1013, 'grnd_level': 1008}, 'visibility': 10000, 'wind': {'speed': 5.14, 'deg': 270}, 'clouds': {'all': 40}, 'dt': 1753779227, 'sys': {'type': 2, 'id': 2011538, 'country': 'DE', 'sunrise': 1753759281, 'sunset': 1753815846}, 'timezone': 7200, 'id': 2950159, 'name': 'Berlin', 'cod': 200}\n",
            "{'coord': {'lon': -3.7026, 'lat': 40.4165}, 'weather': [{'id': 800, 'main': 'Clear', 'description': 'ciel dégagé', 'icon': '01d'}], 'base': 'stations', 'main': {'temp': 19.87, 'feels_like': 19.19, 'temp_min': 18.48, 'temp_max': 21.23, 'pressure': 1020, 'humidity': 49, 'sea_level': 1020, 'grnd_level': 946}, 'visibility': 10000, 'wind': {'speed': 8.75, 'deg': 40}, 'clouds': {'all': 0}, 'dt': 1753779031, 'sys': {'type': 2, 'id': 2084029, 'country': 'ES', 'sunrise': 1753765759, 'sunset': 1753817581}, 'timezone': 7200, 'id': 3117735, 'name': 'Madrid', 'cod': 200}\n",
            "{'coord': {'lon': 4.8897, 'lat': 52.374}, 'weather': [{'id': 801, 'main': 'Clouds', 'description': 'peu nuageux', 'icon': '02d'}], 'base': 'stations', 'main': {'temp': 19.98, 'feels_like': 19.55, 'temp_min': 18.81, 'temp_max': 21.03, 'pressure': 1017, 'humidity': 58, 'sea_level': 1017, 'grnd_level': 1017}, 'visibility': 10000, 'wind': {'speed': 3.6, 'deg': 300}, 'clouds': {'all': 20}, 'dt': 1753779366, 'sys': {'type': 2, 'id': 2046553, 'country': 'NL', 'sunrise': 1753761367, 'sunset': 1753817850}, 'timezone': 7200, 'id': 2759794, 'name': 'Amsterdam', 'cod': 200}\n",
            "{'coord': {'lon': 16.3721, 'lat': 48.2085}, 'weather': [{'id': 801, 'main': 'Clouds', 'description': 'peu nuageux', 'icon': '02d'}], 'base': 'stations', 'main': {'temp': 20.12, 'feels_like': 20.15, 'temp_min': 17.89, 'temp_max': 21.57, 'pressure': 1014, 'humidity': 75, 'sea_level': 1014, 'grnd_level': 987}, 'visibility': 10000, 'wind': {'speed': 9.39, 'deg': 360, 'gust': 16.99}, 'clouds': {'all': 20}, 'dt': 1753779432, 'sys': {'type': 2, 'id': 2037452, 'country': 'AT', 'sunrise': 1753759563, 'sunset': 1753814142}, 'timezone': 7200, 'id': 2761369, 'name': 'Vienne', 'cod': 200}\n"
          ]
        }
      ],
      "source": [
        "for i in CITIES: \n",
        "    get_weather_data(i)"
      ]
    },
    {
      "cell_type": "markdown",
      "metadata": {
        "id": "XN6RPmCr2qDp"
      },
      "source": [
        "**Questions de débogage :**\n",
        "- Que faire si l'API retourne une erreur 401 ?\n",
        "- Comment gérer une ville introuvable ?\n",
        "\n",
        "---"
      ]
    },
    {
      "cell_type": "markdown",
      "metadata": {},
      "source": [
        "- Si l'API retourne une erreur 401, cela correspond à une erreur de type \"unauthenticated\". Cela veut dire qu'on n'a pas renseigné notre clé API dans l'appel, ou que notre clé est invalide. Il faut donc renseigner notre clé ou créer une nouvelle clé valide.\n",
        "- Une ville introuvable devrait nous renvoyer un status code 404 \"not found\"."
      ]
    },
    {
      "cell_type": "markdown",
      "metadata": {
        "id": "KL0MS3RJ263K"
      },
      "source": [
        "## Partie 2 : API complémentaire - Données historiques\n",
        "\n",
        "### 📊 API Visual Crossing Weather (gratuite)\n",
        "Alternative avec 1000 appels/jour gratuits : [visualcrossing.com](https://www.visualcrossing.com/weather-api)"
      ]
    },
    {
      "cell_type": "code",
      "execution_count": 43,
      "metadata": {
        "id": "6OK5bXQy0srW"
      },
      "outputs": [],
      "source": [
        "# Configuration Visual Crossing\n",
        "VCH_API_KEY = os.getenv(\"VCH_API_KEY\")\n",
        "VCH_BASE_URL = \"https://weather.visualcrossing.com/VisualCrossingWebServices/rest/services/timeline\"\n",
        "start_date = \"2025-07-22\"\n",
        "end_date = \"2025-07-28\"\n",
        "\n",
        "def get_historical_weather(city, start, end):\n",
        "\n",
        "    url = f\"{VCH_BASE_URL}/{city}/{start}/{end}\"\n",
        "\n",
        "    params = {\n",
        "        'key': VCH_API_KEY,\n",
        "        'include': 'days',\n",
        "        'elements': 'datetime,temp,humidity,precip,windspeed,pressure',\n",
        "        'unitGroup': 'metric'\n",
        "    }\n",
        "   \n",
        "    # On définit la requête\n",
        "    r = requests.get(url, params)\n",
        "\n",
        "    # Try de la requête\n",
        "    try:\n",
        "        requests.get(url, params)\n",
        "    except:\n",
        "        print(r.status_code)\n",
        "\n",
        "    # Si la requête a aboutie, on récupère les données qui nous intéresse\n",
        "    data_raw = r.json()\n",
        "    data = data_raw.get(\"days\", \"clé inexistante\")\n",
        "\n",
        "    # Création DataFrame\n",
        "    df = pd.DataFrame(data)\n",
        "    df.insert(0,'city', city)\n",
        "    return df\n",
        "\n",
        "    \"\"\"\n",
        "    Récupère les données météo historiques\n",
        "\n",
        "    Défis à résoudre :\n",
        "    1. Construire l'URL avec les dates\n",
        "    2. Gérer la pagination si nécessaire\n",
        "    3. Extraire les données pertinentes du JSON complexe\n",
        "    4. Convertir en DataFrame pandas\n",
        "    \"\"\""
      ]
    },
    {
      "cell_type": "code",
      "execution_count": 44,
      "metadata": {},
      "outputs": [],
      "source": [
        "for i in CITIES: \n",
        "    get_historical_weather(i, start_date, end_date)"
      ]
    },
    {
      "cell_type": "markdown",
      "metadata": {
        "id": "WiSgjF2V3JOv"
      },
      "source": [
        "### 🎯 Mission pratique\n",
        "Récupérez les données des 30 derniers jours pour toutes vos villes et créez un DataFrame consolidé.\n",
        "\n",
        "**Structure attendue :**\n",
        "```\n",
        "| date       | ville     | temperature | humidite | precipitation | vent |\n",
        "|------------|-----------|-------------|----------|---------------|------|\n",
        "| 2024-01-01 | Paris     | 12.5        | 75       | 2.3          | 15   |\n",
        "```\n",
        "\n",
        "---\n"
      ]
    },
    {
      "cell_type": "code",
      "execution_count": 45,
      "metadata": {},
      "outputs": [
        {
          "name": "stdout",
          "output_type": "stream",
          "text": [
            "        city    datetime  temp  humidity  precip  windspeed  pressure\n",
            "0      Paris  2025-07-22  19.2      71.0   0.052       16.8    1013.4\n",
            "1      Paris  2025-07-23  19.2      74.3   2.018       13.5    1013.8\n",
            "2      Paris  2025-07-24  18.4      83.8  12.440       15.4    1014.9\n",
            "3      Paris  2025-07-25  20.7      72.8   0.010       12.2    1017.7\n",
            "4      Paris  2025-07-26  21.4      67.6   0.000       16.0    1018.2\n",
            "5      Paris  2025-07-27  18.8      78.8   5.600       23.2    1016.4\n",
            "6      Paris  2025-07-28  18.9      65.9   0.000       13.8    1019.9\n",
            "0     Berlin  2025-07-22  17.5      86.8   6.500       23.2    1006.1\n",
            "1     Berlin  2025-07-23  18.4      83.8  27.700       25.0    1008.0\n",
            "2     Berlin  2025-07-24  19.5      80.5   0.600       16.6    1011.3\n",
            "3     Berlin  2025-07-25  20.0      84.7   4.200       19.4    1013.5\n",
            "4     Berlin  2025-07-26  19.4      78.4   2.500       18.4    1014.8\n",
            "5     Berlin  2025-07-27  20.4      69.7   0.000       18.4    1010.7\n",
            "6     Berlin  2025-07-28  20.1      72.2   2.800       29.5    1009.0\n",
            "0     Madrid  2025-07-22  25.7      28.3   0.000       17.2    1015.4\n",
            "1     Madrid  2025-07-23  25.5      36.4   0.000       16.1    1013.6\n",
            "2     Madrid  2025-07-24  23.1      39.9   0.000       20.4    1014.1\n",
            "3     Madrid  2025-07-25  22.3      38.0   0.000       17.2    1017.6\n",
            "4     Madrid  2025-07-26  24.7      36.2   0.000       14.9    1019.8\n",
            "5     Madrid  2025-07-27  27.3      30.7   0.000       20.6    1019.6\n",
            "6     Madrid  2025-07-28  26.3      33.6   0.000       18.1    1018.0\n",
            "0  Amsterdam  2025-07-22  19.2      82.8   5.877       30.0    1007.2\n",
            "1  Amsterdam  2025-07-23  19.5      81.7   0.537       21.0    1011.0\n",
            "2  Amsterdam  2025-07-24  19.6      79.1   0.004       19.7    1013.7\n",
            "3  Amsterdam  2025-07-25  19.7      80.2   0.647       16.9    1017.0\n",
            "4  Amsterdam  2025-07-26  19.7      79.6   0.400       26.0    1015.4\n",
            "5  Amsterdam  2025-07-27  18.5      76.2   3.300       25.2    1014.2\n",
            "6  Amsterdam  2025-07-28  17.9      75.0   0.600       28.7    1016.5\n",
            "0     Vienna  2025-07-22  23.0      49.8   0.000       28.8    1011.2\n",
            "1     Vienna  2025-07-23  23.5      55.0   0.001       17.9    1013.2\n",
            "2     Vienna  2025-07-24  23.4      64.1  23.513       21.6    1011.2\n",
            "3     Vienna  2025-07-25  22.2      66.8   0.700       18.0    1013.8\n",
            "4     Vienna  2025-07-26  20.1      88.9  17.200       18.4    1012.5\n",
            "5     Vienna  2025-07-27  20.3      77.6   0.500       31.7    1008.5\n",
            "6     Vienna  2025-07-28  20.3      68.4   1.400       35.3    1007.7\n"
          ]
        }
      ],
      "source": [
        "list_df = [get_historical_weather(i, start_date, end_date) for i in CITIES]\n",
        "df_cities = [pd.concat(list_df, copy=False)]\n",
        "df_cities = df_cities[0]\n",
        "print(df_cities)"
      ]
    },
    {
      "cell_type": "code",
      "execution_count": 46,
      "metadata": {},
      "outputs": [],
      "source": [
        "### 🗺️ Obtenir les coordonnées\n",
        "GEOCODING_API = \"http://api.openweathermap.org/geo/1.0/direct\"\n",
        "\n",
        "def get_city_coordinates(city):\n",
        "    \n",
        "    # URL : current weather data\n",
        "    url = f\"{GEOCODING_API}\"\n",
        "\n",
        "    # Paramètres à compléter\n",
        "    params = {\n",
        "        'q': city,\n",
        "        'appid': OPENWEATHER_API_KEY,\n",
        "        'lang': \"fr\"\n",
        "    }\n",
        "    # On définit la requête\n",
        "    r = requests.get(url, params)\n",
        "\n",
        "    # Try de la requête\n",
        "    try:\n",
        "        requests.get(url, params)\n",
        "    except:\n",
        "        print(r.status_code)\n",
        "    \n",
        "    # Si la requête a aboutie, on récupère les coordonnées\n",
        "    data_raw = r.json()\n",
        "    data = [data_raw[0].get(\"lat\"),data_raw[0].get(\"lon\")]\n",
        "    return data\n",
        "    \"\"\"\n",
        "    Utilise l'API Geocoding d'OpenWeatherMap\n",
        "    URL : http://api.openweathermap.org/geo/1.0/direct\n",
        "\n",
        "    Récupérez lat/lon pour chaque ville\n",
        "    \"\"\""
      ]
    },
    {
      "cell_type": "code",
      "execution_count": 47,
      "metadata": {
        "id": "iR8RHaqM0suN"
      },
      "outputs": [],
      "source": [
        "## Partie 3 : API supplémentaire - Qualité de l'air\n",
        "\n",
        "### 🌬️ API OpenWeatherMap Air Pollution\n",
        "OPENWEATHER_API_KEY = os.getenv(\"OPENWEATHER_API_KEY\")\n",
        "OPENWEATHER_BASE_URL = \"http://api.openweathermap.org/data/2.5\"\n",
        "start_date_time = int(datetime.strptime(start_date, '%Y-%m-%d').timestamp())\n",
        "end_date_time = int(datetime.strptime(end_date, '%Y-%m-%d').timestamp())\n",
        "\n",
        "def get_air_quality(city, start, end):\n",
        "\n",
        "    # URL : pollution datas\n",
        "    url = f\"{OPENWEATHER_BASE_URL}/air_pollution/history\"\n",
        "\n",
        "    # Paramètres à compléter\n",
        "    params = {\n",
        "        'lat': get_city_coordinates(city)[0],\n",
        "        'lon': get_city_coordinates(city)[1],\n",
        "        'start': start,\n",
        "        'end': end,\n",
        "        'appid': OPENWEATHER_API_KEY,\n",
        "        'lang': 'fr'\n",
        "    }\n",
        "    \n",
        "    # On définit la requête\n",
        "    r = requests.get(url, params)\n",
        "\n",
        "    # Try de la requête\n",
        "    try:\n",
        "        requests.get(url, params)\n",
        "    except:\n",
        "        print(r.status_code)\n",
        "\n",
        "    # Si la requête a aboutie, on stock la réponse dans une variable\n",
        "    data_raw = r.json()\n",
        "    data = data_raw.get(\"list\")\n",
        "\n",
        "    # On stock la longueur de la liste de la requête dans une variable list_data\n",
        "    list_data = [d for d in range(0, len(data))]\n",
        "    \n",
        "    # On récupère le dictionnaire des components pour chaque jour de la requête\n",
        "    air_data = [data[d].get(\"components\") for d in list_data]\n",
        "    \n",
        "    # On récupère l'indice aqi pour chaque jour de la requête\n",
        "    indice_aqi = [data[d].get(\"main\").get(\"aqi\") for d in list_data]\n",
        "    \n",
        "    # On récupère le timestamp pour chaque jour de la requête et on reconvertit en datetime\n",
        "    time_data = [datetime.fromtimestamp(data[d].get(\"dt\")).strftime(\"%Y-%m-%d\") for d in list_data]\n",
        "    \n",
        "    \n",
        "    # On intègre l'indice aqi et le time au dictionnaire de components de chaque\n",
        "    for d,i in zip(air_data, list_data):\n",
        "        d[\"indice aqi\"] = indice_aqi[i]\n",
        "        d[\"datetime\"] = time_data[i]\n",
        "    \n",
        "    # Création du DataFrame\n",
        "    air_df = pd.DataFrame(air_data)\n",
        "    air_df.insert(0,'city', city)\n",
        "    air_df = air_df.drop_duplicates(subset=\"datetime\")\n",
        "    air_df = air_df.reset_index(drop=True)\n",
        "    return air_df\n",
        "\n",
        "    \"\"\"\n",
        "    Récupère les données de qualité de l'air\n",
        "\n",
        "    URL : http://api.openweathermap.org/data/2.5/air_pollution\n",
        "\n",
        "    Étapes :\n",
        "    1. Utiliser les coordonnées lat/lon des villes\n",
        "    2. Récupérer l'indice AQI et les composants (PM2.5, PM10, O3, etc.)\n",
        "    3. Joindre ces données avec vos données météo\n",
        "    \"\"\"\n",
        "\n",
        "    "
      ]
    },
    {
      "cell_type": "code",
      "execution_count": 48,
      "metadata": {},
      "outputs": [
        {
          "data": {
            "application/vnd.microsoft.datawrangler.viewer.v0+json": {
              "columns": [
                {
                  "name": "index",
                  "rawType": "int64",
                  "type": "integer"
                },
                {
                  "name": "city",
                  "rawType": "object",
                  "type": "string"
                },
                {
                  "name": "co",
                  "rawType": "float64",
                  "type": "float"
                },
                {
                  "name": "no",
                  "rawType": "float64",
                  "type": "float"
                },
                {
                  "name": "no2",
                  "rawType": "float64",
                  "type": "float"
                },
                {
                  "name": "o3",
                  "rawType": "float64",
                  "type": "float"
                },
                {
                  "name": "so2",
                  "rawType": "float64",
                  "type": "float"
                },
                {
                  "name": "pm2_5",
                  "rawType": "float64",
                  "type": "float"
                },
                {
                  "name": "pm10",
                  "rawType": "float64",
                  "type": "float"
                },
                {
                  "name": "nh3",
                  "rawType": "float64",
                  "type": "float"
                },
                {
                  "name": "indice aqi",
                  "rawType": "int64",
                  "type": "integer"
                },
                {
                  "name": "datetime",
                  "rawType": "object",
                  "type": "string"
                }
              ],
              "ref": "3f847593-fd06-487e-b76e-a5bab419034d",
              "rows": [
                [
                  "0",
                  "Paris",
                  "105.69",
                  "0.0",
                  "1.03",
                  "67.04",
                  "0.23",
                  "1.85",
                  "2.66",
                  "1.62",
                  "2",
                  "2025-07-22"
                ],
                [
                  "1",
                  "Paris",
                  "97.12",
                  "0.0",
                  "2.61",
                  "43.04",
                  "0.14",
                  "1.57",
                  "2.54",
                  "3.43",
                  "1",
                  "2025-07-23"
                ],
                [
                  "2",
                  "Paris",
                  "109.45",
                  "0.0",
                  "2.17",
                  "45.27",
                  "0.09",
                  "1.07",
                  "1.2",
                  "0.94",
                  "1",
                  "2025-07-24"
                ],
                [
                  "3",
                  "Paris",
                  "111.92",
                  "0.0",
                  "2.57",
                  "54.77",
                  "0.18",
                  "2.26",
                  "2.5",
                  "1.81",
                  "1",
                  "2025-07-25"
                ],
                [
                  "4",
                  "Paris",
                  "112.99",
                  "0.0",
                  "4.14",
                  "50.84",
                  "0.19",
                  "4.37",
                  "5.17",
                  "3.33",
                  "1",
                  "2025-07-26"
                ],
                [
                  "5",
                  "Paris",
                  "108.78",
                  "0.0",
                  "2.03",
                  "44.46",
                  "0.09",
                  "1.47",
                  "2.13",
                  "2.46",
                  "1",
                  "2025-07-27"
                ],
                [
                  "6",
                  "Paris",
                  "121.22",
                  "0.0",
                  "1.54",
                  "71.94",
                  "0.55",
                  "2.74",
                  "3.57",
                  "2.68",
                  "2",
                  "2025-07-28"
                ]
              ],
              "shape": {
                "columns": 11,
                "rows": 7
              }
            },
            "text/html": [
              "<div>\n",
              "<style scoped>\n",
              "    .dataframe tbody tr th:only-of-type {\n",
              "        vertical-align: middle;\n",
              "    }\n",
              "\n",
              "    .dataframe tbody tr th {\n",
              "        vertical-align: top;\n",
              "    }\n",
              "\n",
              "    .dataframe thead th {\n",
              "        text-align: right;\n",
              "    }\n",
              "</style>\n",
              "<table border=\"1\" class=\"dataframe\">\n",
              "  <thead>\n",
              "    <tr style=\"text-align: right;\">\n",
              "      <th></th>\n",
              "      <th>city</th>\n",
              "      <th>co</th>\n",
              "      <th>no</th>\n",
              "      <th>no2</th>\n",
              "      <th>o3</th>\n",
              "      <th>so2</th>\n",
              "      <th>pm2_5</th>\n",
              "      <th>pm10</th>\n",
              "      <th>nh3</th>\n",
              "      <th>indice aqi</th>\n",
              "      <th>datetime</th>\n",
              "    </tr>\n",
              "  </thead>\n",
              "  <tbody>\n",
              "    <tr>\n",
              "      <th>0</th>\n",
              "      <td>Paris</td>\n",
              "      <td>105.69</td>\n",
              "      <td>0.0</td>\n",
              "      <td>1.03</td>\n",
              "      <td>67.04</td>\n",
              "      <td>0.23</td>\n",
              "      <td>1.85</td>\n",
              "      <td>2.66</td>\n",
              "      <td>1.62</td>\n",
              "      <td>2</td>\n",
              "      <td>2025-07-22</td>\n",
              "    </tr>\n",
              "    <tr>\n",
              "      <th>1</th>\n",
              "      <td>Paris</td>\n",
              "      <td>97.12</td>\n",
              "      <td>0.0</td>\n",
              "      <td>2.61</td>\n",
              "      <td>43.04</td>\n",
              "      <td>0.14</td>\n",
              "      <td>1.57</td>\n",
              "      <td>2.54</td>\n",
              "      <td>3.43</td>\n",
              "      <td>1</td>\n",
              "      <td>2025-07-23</td>\n",
              "    </tr>\n",
              "    <tr>\n",
              "      <th>2</th>\n",
              "      <td>Paris</td>\n",
              "      <td>109.45</td>\n",
              "      <td>0.0</td>\n",
              "      <td>2.17</td>\n",
              "      <td>45.27</td>\n",
              "      <td>0.09</td>\n",
              "      <td>1.07</td>\n",
              "      <td>1.20</td>\n",
              "      <td>0.94</td>\n",
              "      <td>1</td>\n",
              "      <td>2025-07-24</td>\n",
              "    </tr>\n",
              "    <tr>\n",
              "      <th>3</th>\n",
              "      <td>Paris</td>\n",
              "      <td>111.92</td>\n",
              "      <td>0.0</td>\n",
              "      <td>2.57</td>\n",
              "      <td>54.77</td>\n",
              "      <td>0.18</td>\n",
              "      <td>2.26</td>\n",
              "      <td>2.50</td>\n",
              "      <td>1.81</td>\n",
              "      <td>1</td>\n",
              "      <td>2025-07-25</td>\n",
              "    </tr>\n",
              "    <tr>\n",
              "      <th>4</th>\n",
              "      <td>Paris</td>\n",
              "      <td>112.99</td>\n",
              "      <td>0.0</td>\n",
              "      <td>4.14</td>\n",
              "      <td>50.84</td>\n",
              "      <td>0.19</td>\n",
              "      <td>4.37</td>\n",
              "      <td>5.17</td>\n",
              "      <td>3.33</td>\n",
              "      <td>1</td>\n",
              "      <td>2025-07-26</td>\n",
              "    </tr>\n",
              "    <tr>\n",
              "      <th>5</th>\n",
              "      <td>Paris</td>\n",
              "      <td>108.78</td>\n",
              "      <td>0.0</td>\n",
              "      <td>2.03</td>\n",
              "      <td>44.46</td>\n",
              "      <td>0.09</td>\n",
              "      <td>1.47</td>\n",
              "      <td>2.13</td>\n",
              "      <td>2.46</td>\n",
              "      <td>1</td>\n",
              "      <td>2025-07-27</td>\n",
              "    </tr>\n",
              "    <tr>\n",
              "      <th>6</th>\n",
              "      <td>Paris</td>\n",
              "      <td>121.22</td>\n",
              "      <td>0.0</td>\n",
              "      <td>1.54</td>\n",
              "      <td>71.94</td>\n",
              "      <td>0.55</td>\n",
              "      <td>2.74</td>\n",
              "      <td>3.57</td>\n",
              "      <td>2.68</td>\n",
              "      <td>2</td>\n",
              "      <td>2025-07-28</td>\n",
              "    </tr>\n",
              "  </tbody>\n",
              "</table>\n",
              "</div>"
            ],
            "text/plain": [
              "    city      co   no   no2     o3   so2  pm2_5  pm10   nh3  indice aqi  \\\n",
              "0  Paris  105.69  0.0  1.03  67.04  0.23   1.85  2.66  1.62           2   \n",
              "1  Paris   97.12  0.0  2.61  43.04  0.14   1.57  2.54  3.43           1   \n",
              "2  Paris  109.45  0.0  2.17  45.27  0.09   1.07  1.20  0.94           1   \n",
              "3  Paris  111.92  0.0  2.57  54.77  0.18   2.26  2.50  1.81           1   \n",
              "4  Paris  112.99  0.0  4.14  50.84  0.19   4.37  5.17  3.33           1   \n",
              "5  Paris  108.78  0.0  2.03  44.46  0.09   1.47  2.13  2.46           1   \n",
              "6  Paris  121.22  0.0  1.54  71.94  0.55   2.74  3.57  2.68           2   \n",
              "\n",
              "     datetime  \n",
              "0  2025-07-22  \n",
              "1  2025-07-23  \n",
              "2  2025-07-24  \n",
              "3  2025-07-25  \n",
              "4  2025-07-26  \n",
              "5  2025-07-27  \n",
              "6  2025-07-28  "
            ]
          },
          "execution_count": 48,
          "metadata": {},
          "output_type": "execute_result"
        }
      ],
      "source": [
        "get_air_quality(CITIES[0], start_date_time, end_date_time)"
      ]
    },
    {
      "cell_type": "code",
      "execution_count": 49,
      "metadata": {},
      "outputs": [],
      "source": [
        "list_poll = [get_air_quality(i, start_date_time, end_date_time) for i in CITIES]\n",
        "df_poll = [pd.concat(list_poll, copy=False)]\n",
        "df_poll = df_poll[0]"
      ]
    },
    {
      "cell_type": "code",
      "execution_count": 87,
      "metadata": {},
      "outputs": [
        {
          "data": {
            "application/vnd.microsoft.datawrangler.viewer.v0+json": {
              "columns": [
                {
                  "name": "index",
                  "rawType": "int64",
                  "type": "integer"
                },
                {
                  "name": "city",
                  "rawType": "object",
                  "type": "string"
                },
                {
                  "name": "datetime",
                  "rawType": "object",
                  "type": "string"
                },
                {
                  "name": "temp",
                  "rawType": "float64",
                  "type": "float"
                },
                {
                  "name": "humidity",
                  "rawType": "float64",
                  "type": "float"
                },
                {
                  "name": "precip",
                  "rawType": "float64",
                  "type": "float"
                },
                {
                  "name": "windspeed",
                  "rawType": "float64",
                  "type": "float"
                },
                {
                  "name": "pressure",
                  "rawType": "float64",
                  "type": "float"
                },
                {
                  "name": "co",
                  "rawType": "float64",
                  "type": "float"
                },
                {
                  "name": "no",
                  "rawType": "float64",
                  "type": "float"
                },
                {
                  "name": "no2",
                  "rawType": "float64",
                  "type": "float"
                },
                {
                  "name": "o3",
                  "rawType": "float64",
                  "type": "float"
                },
                {
                  "name": "so2",
                  "rawType": "float64",
                  "type": "float"
                },
                {
                  "name": "pm2_5",
                  "rawType": "float64",
                  "type": "float"
                },
                {
                  "name": "pm10",
                  "rawType": "float64",
                  "type": "float"
                },
                {
                  "name": "nh3",
                  "rawType": "float64",
                  "type": "float"
                },
                {
                  "name": "indice aqi",
                  "rawType": "int64",
                  "type": "integer"
                }
              ],
              "ref": "c2b3be3e-0b6c-4bbd-98d2-c6e8c66c1cb5",
              "rows": [
                [
                  "0",
                  "Paris",
                  "2025-07-22",
                  "19.2",
                  "71.0",
                  "0.052",
                  "16.8",
                  "1013.4",
                  "105.69",
                  "0.0",
                  "1.03",
                  "67.04",
                  "0.23",
                  "1.85",
                  "2.66",
                  "1.62",
                  "2"
                ],
                [
                  "1",
                  "Paris",
                  "2025-07-23",
                  "19.2",
                  "74.3",
                  "2.018",
                  "13.5",
                  "1013.8",
                  "97.12",
                  "0.0",
                  "2.61",
                  "43.04",
                  "0.14",
                  "1.57",
                  "2.54",
                  "3.43",
                  "1"
                ],
                [
                  "2",
                  "Paris",
                  "2025-07-24",
                  "18.4",
                  "83.8",
                  "12.44",
                  "15.4",
                  "1014.9",
                  "109.45",
                  "0.0",
                  "2.17",
                  "45.27",
                  "0.09",
                  "1.07",
                  "1.2",
                  "0.94",
                  "1"
                ],
                [
                  "3",
                  "Paris",
                  "2025-07-25",
                  "20.7",
                  "72.8",
                  "0.01",
                  "12.2",
                  "1017.7",
                  "111.92",
                  "0.0",
                  "2.57",
                  "54.77",
                  "0.18",
                  "2.26",
                  "2.5",
                  "1.81",
                  "1"
                ],
                [
                  "4",
                  "Paris",
                  "2025-07-26",
                  "21.4",
                  "67.6",
                  "0.0",
                  "16.0",
                  "1018.2",
                  "112.99",
                  "0.0",
                  "4.14",
                  "50.84",
                  "0.19",
                  "4.37",
                  "5.17",
                  "3.33",
                  "1"
                ],
                [
                  "5",
                  "Paris",
                  "2025-07-27",
                  "18.8",
                  "78.8",
                  "5.6",
                  "23.2",
                  "1016.4",
                  "108.78",
                  "0.0",
                  "2.03",
                  "44.46",
                  "0.09",
                  "1.47",
                  "2.13",
                  "2.46",
                  "1"
                ],
                [
                  "6",
                  "Paris",
                  "2025-07-28",
                  "18.9",
                  "65.9",
                  "0.0",
                  "13.8",
                  "1019.9",
                  "121.22",
                  "0.0",
                  "1.54",
                  "71.94",
                  "0.55",
                  "2.74",
                  "3.57",
                  "2.68",
                  "2"
                ],
                [
                  "7",
                  "Berlin",
                  "2025-07-22",
                  "17.5",
                  "86.8",
                  "6.5",
                  "23.2",
                  "1006.1",
                  "114.07",
                  "0.0",
                  "5.65",
                  "38.48",
                  "0.78",
                  "2.47",
                  "2.77",
                  "1.76",
                  "1"
                ],
                [
                  "8",
                  "Berlin",
                  "2025-07-23",
                  "18.4",
                  "83.8",
                  "27.7",
                  "25.0",
                  "1008.0",
                  "121.84",
                  "0.0",
                  "3.35",
                  "70.11",
                  "0.86",
                  "0.9",
                  "1.17",
                  "3.41",
                  "2"
                ],
                [
                  "9",
                  "Berlin",
                  "2025-07-24",
                  "19.5",
                  "80.5",
                  "0.6",
                  "16.6",
                  "1011.3",
                  "113.37",
                  "0.0",
                  "4.48",
                  "69.4",
                  "1.01",
                  "2.21",
                  "2.68",
                  "5.15",
                  "2"
                ],
                [
                  "10",
                  "Berlin",
                  "2025-07-25",
                  "20.0",
                  "84.7",
                  "4.2",
                  "19.4",
                  "1013.5",
                  "126.78",
                  "0.0",
                  "10.36",
                  "34.18",
                  "0.6",
                  "2.38",
                  "3.35",
                  "6.81",
                  "1"
                ],
                [
                  "11",
                  "Berlin",
                  "2025-07-26",
                  "19.4",
                  "78.4",
                  "2.5",
                  "18.4",
                  "1014.8",
                  "118.49",
                  "0.0",
                  "5.11",
                  "51.27",
                  "0.63",
                  "1.52",
                  "1.9",
                  "2.46",
                  "1"
                ],
                [
                  "12",
                  "Berlin",
                  "2025-07-27",
                  "20.4",
                  "69.7",
                  "0.0",
                  "18.4",
                  "1010.7",
                  "109.94",
                  "0.0",
                  "6.35",
                  "36.11",
                  "0.46",
                  "1.72",
                  "3.14",
                  "8.05",
                  "1"
                ],
                [
                  "13",
                  "Berlin",
                  "2025-07-28",
                  "20.1",
                  "72.2",
                  "2.8",
                  "29.5",
                  "1009.0",
                  "119.67",
                  "0.0",
                  "3.7",
                  "56.72",
                  "0.5",
                  "2.32",
                  "2.62",
                  "2.12",
                  "1"
                ],
                [
                  "14",
                  "Madrid",
                  "2025-07-22",
                  "25.7",
                  "28.3",
                  "0.0",
                  "17.2",
                  "1015.4",
                  "111.8",
                  "0.0",
                  "0.93",
                  "81.9",
                  "0.06",
                  "2.11",
                  "3.78",
                  "5.01",
                  "2"
                ],
                [
                  "15",
                  "Madrid",
                  "2025-07-23",
                  "25.5",
                  "36.4",
                  "0.0",
                  "16.1",
                  "1013.6",
                  "103.61",
                  "0.0",
                  "0.7",
                  "91.78",
                  "0.06",
                  "1.64",
                  "3.37",
                  "3.59",
                  "2"
                ],
                [
                  "16",
                  "Madrid",
                  "2025-07-24",
                  "23.1",
                  "39.9",
                  "0.0",
                  "20.4",
                  "1014.1",
                  "93.97",
                  "0.0",
                  "0.94",
                  "65.03",
                  "0.04",
                  "1.9",
                  "3.91",
                  "4.61",
                  "2"
                ],
                [
                  "17",
                  "Madrid",
                  "2025-07-25",
                  "22.3",
                  "38.0",
                  "0.0",
                  "17.2",
                  "1017.6",
                  "109.2",
                  "0.0",
                  "1.04",
                  "96.08",
                  "0.1",
                  "0.98",
                  "1.55",
                  "2.14",
                  "2"
                ],
                [
                  "18",
                  "Madrid",
                  "2025-07-26",
                  "24.7",
                  "36.2",
                  "0.0",
                  "14.9",
                  "1019.8",
                  "99.06",
                  "0.0",
                  "1.69",
                  "86.38",
                  "0.06",
                  "1.11",
                  "1.78",
                  "4.52",
                  "2"
                ],
                [
                  "19",
                  "Madrid",
                  "2025-07-27",
                  "27.3",
                  "30.7",
                  "0.0",
                  "20.6",
                  "1019.6",
                  "95.28",
                  "0.0",
                  "1.38",
                  "78.64",
                  "0.07",
                  "1.44",
                  "2.37",
                  "6.92",
                  "2"
                ],
                [
                  "20",
                  "Madrid",
                  "2025-07-28",
                  "26.3",
                  "33.6",
                  "0.0",
                  "18.1",
                  "1018.0",
                  "85.29",
                  "0.0",
                  "0.73",
                  "80.94",
                  "0.11",
                  "1.75",
                  "2.62",
                  "4.87",
                  "2"
                ],
                [
                  "21",
                  "Amsterdam",
                  "2025-07-22",
                  "19.2",
                  "82.8",
                  "5.877",
                  "30.0",
                  "1007.2",
                  "130.16",
                  "0.0",
                  "8.59",
                  "58.81",
                  "1.8",
                  "2.01",
                  "2.65",
                  "2.08",
                  "1"
                ],
                [
                  "22",
                  "Amsterdam",
                  "2025-07-23",
                  "19.5",
                  "81.7",
                  "0.537",
                  "21.0",
                  "1011.0",
                  "114.3",
                  "0.0",
                  "7.49",
                  "66.82",
                  "1.93",
                  "2.56",
                  "4.44",
                  "3.15",
                  "2"
                ],
                [
                  "23",
                  "Amsterdam",
                  "2025-07-24",
                  "19.6",
                  "79.1",
                  "0.004",
                  "19.7",
                  "1013.7",
                  "143.83",
                  "0.0",
                  "20.84",
                  "55.14",
                  "2.58",
                  "6.29",
                  "7.93",
                  "3.31",
                  "1"
                ],
                [
                  "24",
                  "Amsterdam",
                  "2025-07-25",
                  "19.7",
                  "80.2",
                  "0.647",
                  "16.9",
                  "1017.0",
                  "156.12",
                  "0.01",
                  "29.56",
                  "35.48",
                  "2.53",
                  "3.92",
                  "5.91",
                  "4.79",
                  "1"
                ],
                [
                  "25",
                  "Amsterdam",
                  "2025-07-26",
                  "19.7",
                  "79.6",
                  "0.4",
                  "26.0",
                  "1015.4",
                  "165.26",
                  "0.06",
                  "36.37",
                  "36.39",
                  "2.86",
                  "5.21",
                  "9.83",
                  "6.51",
                  "1"
                ],
                [
                  "26",
                  "Amsterdam",
                  "2025-07-27",
                  "18.5",
                  "76.2",
                  "3.3",
                  "25.2",
                  "1014.2",
                  "143.11",
                  "0.0",
                  "12.33",
                  "63.2",
                  "2.1",
                  "5.25",
                  "6.42",
                  "4.31",
                  "2"
                ],
                [
                  "27",
                  "Amsterdam",
                  "2025-07-28",
                  "17.9",
                  "75.0",
                  "0.6",
                  "28.7",
                  "1016.5",
                  "139.43",
                  "0.0",
                  "8.92",
                  "56.9",
                  "1.74",
                  "0.85",
                  "1.82",
                  "3.31",
                  "1"
                ],
                [
                  "28",
                  "Vienna",
                  "2025-07-22",
                  "23.0",
                  "49.8",
                  "0.0",
                  "28.8",
                  "1011.2",
                  "110.09",
                  "0.0",
                  "3.55",
                  "56.36",
                  "0.8",
                  "1.23",
                  "1.75",
                  "3.0",
                  "1"
                ],
                [
                  "29",
                  "Vienna",
                  "2025-07-23",
                  "23.5",
                  "55.0",
                  "0.001",
                  "17.9",
                  "1013.2",
                  "118.76",
                  "0.01",
                  "8.34",
                  "27.03",
                  "0.5",
                  "2.99",
                  "3.93",
                  "5.69",
                  "1"
                ],
                [
                  "30",
                  "Vienna",
                  "2025-07-24",
                  "23.4",
                  "64.1",
                  "23.513",
                  "21.6",
                  "1011.2",
                  "126.59",
                  "0.0",
                  "11.81",
                  "26.98",
                  "0.71",
                  "3.91",
                  "5.18",
                  "12.12",
                  "1"
                ],
                [
                  "31",
                  "Vienna",
                  "2025-07-25",
                  "22.2",
                  "66.8",
                  "0.7",
                  "18.0",
                  "1013.8",
                  "119.81",
                  "0.04",
                  "8.48",
                  "18.95",
                  "0.37",
                  "3.72",
                  "4.81",
                  "2.92",
                  "1"
                ],
                [
                  "32",
                  "Vienna",
                  "2025-07-26",
                  "20.1",
                  "88.9",
                  "17.2",
                  "18.4",
                  "1012.5",
                  "124.1",
                  "0.0",
                  "9.7",
                  "30.63",
                  "0.74",
                  "4.48",
                  "5.28",
                  "5.96",
                  "1"
                ],
                [
                  "33",
                  "Vienna",
                  "2025-07-27",
                  "20.3",
                  "77.6",
                  "0.5",
                  "31.7",
                  "1008.5",
                  "107.2",
                  "0.04",
                  "5.97",
                  "12.32",
                  "0.4",
                  "3.7",
                  "4.46",
                  "3.13",
                  "1"
                ],
                [
                  "34",
                  "Vienna",
                  "2025-07-28",
                  "20.3",
                  "68.4",
                  "1.4",
                  "35.3",
                  "1007.7",
                  "102.43",
                  "0.01",
                  "3.43",
                  "42.49",
                  "0.34",
                  "0.92",
                  "1.32",
                  "1.93",
                  "1"
                ]
              ],
              "shape": {
                "columns": 16,
                "rows": 35
              }
            },
            "text/html": [
              "<div>\n",
              "<style scoped>\n",
              "    .dataframe tbody tr th:only-of-type {\n",
              "        vertical-align: middle;\n",
              "    }\n",
              "\n",
              "    .dataframe tbody tr th {\n",
              "        vertical-align: top;\n",
              "    }\n",
              "\n",
              "    .dataframe thead th {\n",
              "        text-align: right;\n",
              "    }\n",
              "</style>\n",
              "<table border=\"1\" class=\"dataframe\">\n",
              "  <thead>\n",
              "    <tr style=\"text-align: right;\">\n",
              "      <th></th>\n",
              "      <th>city</th>\n",
              "      <th>datetime</th>\n",
              "      <th>temp</th>\n",
              "      <th>humidity</th>\n",
              "      <th>precip</th>\n",
              "      <th>windspeed</th>\n",
              "      <th>pressure</th>\n",
              "      <th>co</th>\n",
              "      <th>no</th>\n",
              "      <th>no2</th>\n",
              "      <th>o3</th>\n",
              "      <th>so2</th>\n",
              "      <th>pm2_5</th>\n",
              "      <th>pm10</th>\n",
              "      <th>nh3</th>\n",
              "      <th>indice aqi</th>\n",
              "    </tr>\n",
              "  </thead>\n",
              "  <tbody>\n",
              "    <tr>\n",
              "      <th>0</th>\n",
              "      <td>Paris</td>\n",
              "      <td>2025-07-22</td>\n",
              "      <td>19.2</td>\n",
              "      <td>71.0</td>\n",
              "      <td>0.052</td>\n",
              "      <td>16.8</td>\n",
              "      <td>1013.4</td>\n",
              "      <td>105.69</td>\n",
              "      <td>0.00</td>\n",
              "      <td>1.03</td>\n",
              "      <td>67.04</td>\n",
              "      <td>0.23</td>\n",
              "      <td>1.85</td>\n",
              "      <td>2.66</td>\n",
              "      <td>1.62</td>\n",
              "      <td>2</td>\n",
              "    </tr>\n",
              "    <tr>\n",
              "      <th>1</th>\n",
              "      <td>Paris</td>\n",
              "      <td>2025-07-23</td>\n",
              "      <td>19.2</td>\n",
              "      <td>74.3</td>\n",
              "      <td>2.018</td>\n",
              "      <td>13.5</td>\n",
              "      <td>1013.8</td>\n",
              "      <td>97.12</td>\n",
              "      <td>0.00</td>\n",
              "      <td>2.61</td>\n",
              "      <td>43.04</td>\n",
              "      <td>0.14</td>\n",
              "      <td>1.57</td>\n",
              "      <td>2.54</td>\n",
              "      <td>3.43</td>\n",
              "      <td>1</td>\n",
              "    </tr>\n",
              "    <tr>\n",
              "      <th>2</th>\n",
              "      <td>Paris</td>\n",
              "      <td>2025-07-24</td>\n",
              "      <td>18.4</td>\n",
              "      <td>83.8</td>\n",
              "      <td>12.440</td>\n",
              "      <td>15.4</td>\n",
              "      <td>1014.9</td>\n",
              "      <td>109.45</td>\n",
              "      <td>0.00</td>\n",
              "      <td>2.17</td>\n",
              "      <td>45.27</td>\n",
              "      <td>0.09</td>\n",
              "      <td>1.07</td>\n",
              "      <td>1.20</td>\n",
              "      <td>0.94</td>\n",
              "      <td>1</td>\n",
              "    </tr>\n",
              "    <tr>\n",
              "      <th>3</th>\n",
              "      <td>Paris</td>\n",
              "      <td>2025-07-25</td>\n",
              "      <td>20.7</td>\n",
              "      <td>72.8</td>\n",
              "      <td>0.010</td>\n",
              "      <td>12.2</td>\n",
              "      <td>1017.7</td>\n",
              "      <td>111.92</td>\n",
              "      <td>0.00</td>\n",
              "      <td>2.57</td>\n",
              "      <td>54.77</td>\n",
              "      <td>0.18</td>\n",
              "      <td>2.26</td>\n",
              "      <td>2.50</td>\n",
              "      <td>1.81</td>\n",
              "      <td>1</td>\n",
              "    </tr>\n",
              "    <tr>\n",
              "      <th>4</th>\n",
              "      <td>Paris</td>\n",
              "      <td>2025-07-26</td>\n",
              "      <td>21.4</td>\n",
              "      <td>67.6</td>\n",
              "      <td>0.000</td>\n",
              "      <td>16.0</td>\n",
              "      <td>1018.2</td>\n",
              "      <td>112.99</td>\n",
              "      <td>0.00</td>\n",
              "      <td>4.14</td>\n",
              "      <td>50.84</td>\n",
              "      <td>0.19</td>\n",
              "      <td>4.37</td>\n",
              "      <td>5.17</td>\n",
              "      <td>3.33</td>\n",
              "      <td>1</td>\n",
              "    </tr>\n",
              "    <tr>\n",
              "      <th>5</th>\n",
              "      <td>Paris</td>\n",
              "      <td>2025-07-27</td>\n",
              "      <td>18.8</td>\n",
              "      <td>78.8</td>\n",
              "      <td>5.600</td>\n",
              "      <td>23.2</td>\n",
              "      <td>1016.4</td>\n",
              "      <td>108.78</td>\n",
              "      <td>0.00</td>\n",
              "      <td>2.03</td>\n",
              "      <td>44.46</td>\n",
              "      <td>0.09</td>\n",
              "      <td>1.47</td>\n",
              "      <td>2.13</td>\n",
              "      <td>2.46</td>\n",
              "      <td>1</td>\n",
              "    </tr>\n",
              "    <tr>\n",
              "      <th>6</th>\n",
              "      <td>Paris</td>\n",
              "      <td>2025-07-28</td>\n",
              "      <td>18.9</td>\n",
              "      <td>65.9</td>\n",
              "      <td>0.000</td>\n",
              "      <td>13.8</td>\n",
              "      <td>1019.9</td>\n",
              "      <td>121.22</td>\n",
              "      <td>0.00</td>\n",
              "      <td>1.54</td>\n",
              "      <td>71.94</td>\n",
              "      <td>0.55</td>\n",
              "      <td>2.74</td>\n",
              "      <td>3.57</td>\n",
              "      <td>2.68</td>\n",
              "      <td>2</td>\n",
              "    </tr>\n",
              "    <tr>\n",
              "      <th>7</th>\n",
              "      <td>Berlin</td>\n",
              "      <td>2025-07-22</td>\n",
              "      <td>17.5</td>\n",
              "      <td>86.8</td>\n",
              "      <td>6.500</td>\n",
              "      <td>23.2</td>\n",
              "      <td>1006.1</td>\n",
              "      <td>114.07</td>\n",
              "      <td>0.00</td>\n",
              "      <td>5.65</td>\n",
              "      <td>38.48</td>\n",
              "      <td>0.78</td>\n",
              "      <td>2.47</td>\n",
              "      <td>2.77</td>\n",
              "      <td>1.76</td>\n",
              "      <td>1</td>\n",
              "    </tr>\n",
              "    <tr>\n",
              "      <th>8</th>\n",
              "      <td>Berlin</td>\n",
              "      <td>2025-07-23</td>\n",
              "      <td>18.4</td>\n",
              "      <td>83.8</td>\n",
              "      <td>27.700</td>\n",
              "      <td>25.0</td>\n",
              "      <td>1008.0</td>\n",
              "      <td>121.84</td>\n",
              "      <td>0.00</td>\n",
              "      <td>3.35</td>\n",
              "      <td>70.11</td>\n",
              "      <td>0.86</td>\n",
              "      <td>0.90</td>\n",
              "      <td>1.17</td>\n",
              "      <td>3.41</td>\n",
              "      <td>2</td>\n",
              "    </tr>\n",
              "    <tr>\n",
              "      <th>9</th>\n",
              "      <td>Berlin</td>\n",
              "      <td>2025-07-24</td>\n",
              "      <td>19.5</td>\n",
              "      <td>80.5</td>\n",
              "      <td>0.600</td>\n",
              "      <td>16.6</td>\n",
              "      <td>1011.3</td>\n",
              "      <td>113.37</td>\n",
              "      <td>0.00</td>\n",
              "      <td>4.48</td>\n",
              "      <td>69.40</td>\n",
              "      <td>1.01</td>\n",
              "      <td>2.21</td>\n",
              "      <td>2.68</td>\n",
              "      <td>5.15</td>\n",
              "      <td>2</td>\n",
              "    </tr>\n",
              "    <tr>\n",
              "      <th>10</th>\n",
              "      <td>Berlin</td>\n",
              "      <td>2025-07-25</td>\n",
              "      <td>20.0</td>\n",
              "      <td>84.7</td>\n",
              "      <td>4.200</td>\n",
              "      <td>19.4</td>\n",
              "      <td>1013.5</td>\n",
              "      <td>126.78</td>\n",
              "      <td>0.00</td>\n",
              "      <td>10.36</td>\n",
              "      <td>34.18</td>\n",
              "      <td>0.60</td>\n",
              "      <td>2.38</td>\n",
              "      <td>3.35</td>\n",
              "      <td>6.81</td>\n",
              "      <td>1</td>\n",
              "    </tr>\n",
              "    <tr>\n",
              "      <th>11</th>\n",
              "      <td>Berlin</td>\n",
              "      <td>2025-07-26</td>\n",
              "      <td>19.4</td>\n",
              "      <td>78.4</td>\n",
              "      <td>2.500</td>\n",
              "      <td>18.4</td>\n",
              "      <td>1014.8</td>\n",
              "      <td>118.49</td>\n",
              "      <td>0.00</td>\n",
              "      <td>5.11</td>\n",
              "      <td>51.27</td>\n",
              "      <td>0.63</td>\n",
              "      <td>1.52</td>\n",
              "      <td>1.90</td>\n",
              "      <td>2.46</td>\n",
              "      <td>1</td>\n",
              "    </tr>\n",
              "    <tr>\n",
              "      <th>12</th>\n",
              "      <td>Berlin</td>\n",
              "      <td>2025-07-27</td>\n",
              "      <td>20.4</td>\n",
              "      <td>69.7</td>\n",
              "      <td>0.000</td>\n",
              "      <td>18.4</td>\n",
              "      <td>1010.7</td>\n",
              "      <td>109.94</td>\n",
              "      <td>0.00</td>\n",
              "      <td>6.35</td>\n",
              "      <td>36.11</td>\n",
              "      <td>0.46</td>\n",
              "      <td>1.72</td>\n",
              "      <td>3.14</td>\n",
              "      <td>8.05</td>\n",
              "      <td>1</td>\n",
              "    </tr>\n",
              "    <tr>\n",
              "      <th>13</th>\n",
              "      <td>Berlin</td>\n",
              "      <td>2025-07-28</td>\n",
              "      <td>20.1</td>\n",
              "      <td>72.2</td>\n",
              "      <td>2.800</td>\n",
              "      <td>29.5</td>\n",
              "      <td>1009.0</td>\n",
              "      <td>119.67</td>\n",
              "      <td>0.00</td>\n",
              "      <td>3.70</td>\n",
              "      <td>56.72</td>\n",
              "      <td>0.50</td>\n",
              "      <td>2.32</td>\n",
              "      <td>2.62</td>\n",
              "      <td>2.12</td>\n",
              "      <td>1</td>\n",
              "    </tr>\n",
              "    <tr>\n",
              "      <th>14</th>\n",
              "      <td>Madrid</td>\n",
              "      <td>2025-07-22</td>\n",
              "      <td>25.7</td>\n",
              "      <td>28.3</td>\n",
              "      <td>0.000</td>\n",
              "      <td>17.2</td>\n",
              "      <td>1015.4</td>\n",
              "      <td>111.80</td>\n",
              "      <td>0.00</td>\n",
              "      <td>0.93</td>\n",
              "      <td>81.90</td>\n",
              "      <td>0.06</td>\n",
              "      <td>2.11</td>\n",
              "      <td>3.78</td>\n",
              "      <td>5.01</td>\n",
              "      <td>2</td>\n",
              "    </tr>\n",
              "    <tr>\n",
              "      <th>15</th>\n",
              "      <td>Madrid</td>\n",
              "      <td>2025-07-23</td>\n",
              "      <td>25.5</td>\n",
              "      <td>36.4</td>\n",
              "      <td>0.000</td>\n",
              "      <td>16.1</td>\n",
              "      <td>1013.6</td>\n",
              "      <td>103.61</td>\n",
              "      <td>0.00</td>\n",
              "      <td>0.70</td>\n",
              "      <td>91.78</td>\n",
              "      <td>0.06</td>\n",
              "      <td>1.64</td>\n",
              "      <td>3.37</td>\n",
              "      <td>3.59</td>\n",
              "      <td>2</td>\n",
              "    </tr>\n",
              "    <tr>\n",
              "      <th>16</th>\n",
              "      <td>Madrid</td>\n",
              "      <td>2025-07-24</td>\n",
              "      <td>23.1</td>\n",
              "      <td>39.9</td>\n",
              "      <td>0.000</td>\n",
              "      <td>20.4</td>\n",
              "      <td>1014.1</td>\n",
              "      <td>93.97</td>\n",
              "      <td>0.00</td>\n",
              "      <td>0.94</td>\n",
              "      <td>65.03</td>\n",
              "      <td>0.04</td>\n",
              "      <td>1.90</td>\n",
              "      <td>3.91</td>\n",
              "      <td>4.61</td>\n",
              "      <td>2</td>\n",
              "    </tr>\n",
              "    <tr>\n",
              "      <th>17</th>\n",
              "      <td>Madrid</td>\n",
              "      <td>2025-07-25</td>\n",
              "      <td>22.3</td>\n",
              "      <td>38.0</td>\n",
              "      <td>0.000</td>\n",
              "      <td>17.2</td>\n",
              "      <td>1017.6</td>\n",
              "      <td>109.20</td>\n",
              "      <td>0.00</td>\n",
              "      <td>1.04</td>\n",
              "      <td>96.08</td>\n",
              "      <td>0.10</td>\n",
              "      <td>0.98</td>\n",
              "      <td>1.55</td>\n",
              "      <td>2.14</td>\n",
              "      <td>2</td>\n",
              "    </tr>\n",
              "    <tr>\n",
              "      <th>18</th>\n",
              "      <td>Madrid</td>\n",
              "      <td>2025-07-26</td>\n",
              "      <td>24.7</td>\n",
              "      <td>36.2</td>\n",
              "      <td>0.000</td>\n",
              "      <td>14.9</td>\n",
              "      <td>1019.8</td>\n",
              "      <td>99.06</td>\n",
              "      <td>0.00</td>\n",
              "      <td>1.69</td>\n",
              "      <td>86.38</td>\n",
              "      <td>0.06</td>\n",
              "      <td>1.11</td>\n",
              "      <td>1.78</td>\n",
              "      <td>4.52</td>\n",
              "      <td>2</td>\n",
              "    </tr>\n",
              "    <tr>\n",
              "      <th>19</th>\n",
              "      <td>Madrid</td>\n",
              "      <td>2025-07-27</td>\n",
              "      <td>27.3</td>\n",
              "      <td>30.7</td>\n",
              "      <td>0.000</td>\n",
              "      <td>20.6</td>\n",
              "      <td>1019.6</td>\n",
              "      <td>95.28</td>\n",
              "      <td>0.00</td>\n",
              "      <td>1.38</td>\n",
              "      <td>78.64</td>\n",
              "      <td>0.07</td>\n",
              "      <td>1.44</td>\n",
              "      <td>2.37</td>\n",
              "      <td>6.92</td>\n",
              "      <td>2</td>\n",
              "    </tr>\n",
              "    <tr>\n",
              "      <th>20</th>\n",
              "      <td>Madrid</td>\n",
              "      <td>2025-07-28</td>\n",
              "      <td>26.3</td>\n",
              "      <td>33.6</td>\n",
              "      <td>0.000</td>\n",
              "      <td>18.1</td>\n",
              "      <td>1018.0</td>\n",
              "      <td>85.29</td>\n",
              "      <td>0.00</td>\n",
              "      <td>0.73</td>\n",
              "      <td>80.94</td>\n",
              "      <td>0.11</td>\n",
              "      <td>1.75</td>\n",
              "      <td>2.62</td>\n",
              "      <td>4.87</td>\n",
              "      <td>2</td>\n",
              "    </tr>\n",
              "    <tr>\n",
              "      <th>21</th>\n",
              "      <td>Amsterdam</td>\n",
              "      <td>2025-07-22</td>\n",
              "      <td>19.2</td>\n",
              "      <td>82.8</td>\n",
              "      <td>5.877</td>\n",
              "      <td>30.0</td>\n",
              "      <td>1007.2</td>\n",
              "      <td>130.16</td>\n",
              "      <td>0.00</td>\n",
              "      <td>8.59</td>\n",
              "      <td>58.81</td>\n",
              "      <td>1.80</td>\n",
              "      <td>2.01</td>\n",
              "      <td>2.65</td>\n",
              "      <td>2.08</td>\n",
              "      <td>1</td>\n",
              "    </tr>\n",
              "    <tr>\n",
              "      <th>22</th>\n",
              "      <td>Amsterdam</td>\n",
              "      <td>2025-07-23</td>\n",
              "      <td>19.5</td>\n",
              "      <td>81.7</td>\n",
              "      <td>0.537</td>\n",
              "      <td>21.0</td>\n",
              "      <td>1011.0</td>\n",
              "      <td>114.30</td>\n",
              "      <td>0.00</td>\n",
              "      <td>7.49</td>\n",
              "      <td>66.82</td>\n",
              "      <td>1.93</td>\n",
              "      <td>2.56</td>\n",
              "      <td>4.44</td>\n",
              "      <td>3.15</td>\n",
              "      <td>2</td>\n",
              "    </tr>\n",
              "    <tr>\n",
              "      <th>23</th>\n",
              "      <td>Amsterdam</td>\n",
              "      <td>2025-07-24</td>\n",
              "      <td>19.6</td>\n",
              "      <td>79.1</td>\n",
              "      <td>0.004</td>\n",
              "      <td>19.7</td>\n",
              "      <td>1013.7</td>\n",
              "      <td>143.83</td>\n",
              "      <td>0.00</td>\n",
              "      <td>20.84</td>\n",
              "      <td>55.14</td>\n",
              "      <td>2.58</td>\n",
              "      <td>6.29</td>\n",
              "      <td>7.93</td>\n",
              "      <td>3.31</td>\n",
              "      <td>1</td>\n",
              "    </tr>\n",
              "    <tr>\n",
              "      <th>24</th>\n",
              "      <td>Amsterdam</td>\n",
              "      <td>2025-07-25</td>\n",
              "      <td>19.7</td>\n",
              "      <td>80.2</td>\n",
              "      <td>0.647</td>\n",
              "      <td>16.9</td>\n",
              "      <td>1017.0</td>\n",
              "      <td>156.12</td>\n",
              "      <td>0.01</td>\n",
              "      <td>29.56</td>\n",
              "      <td>35.48</td>\n",
              "      <td>2.53</td>\n",
              "      <td>3.92</td>\n",
              "      <td>5.91</td>\n",
              "      <td>4.79</td>\n",
              "      <td>1</td>\n",
              "    </tr>\n",
              "    <tr>\n",
              "      <th>25</th>\n",
              "      <td>Amsterdam</td>\n",
              "      <td>2025-07-26</td>\n",
              "      <td>19.7</td>\n",
              "      <td>79.6</td>\n",
              "      <td>0.400</td>\n",
              "      <td>26.0</td>\n",
              "      <td>1015.4</td>\n",
              "      <td>165.26</td>\n",
              "      <td>0.06</td>\n",
              "      <td>36.37</td>\n",
              "      <td>36.39</td>\n",
              "      <td>2.86</td>\n",
              "      <td>5.21</td>\n",
              "      <td>9.83</td>\n",
              "      <td>6.51</td>\n",
              "      <td>1</td>\n",
              "    </tr>\n",
              "    <tr>\n",
              "      <th>26</th>\n",
              "      <td>Amsterdam</td>\n",
              "      <td>2025-07-27</td>\n",
              "      <td>18.5</td>\n",
              "      <td>76.2</td>\n",
              "      <td>3.300</td>\n",
              "      <td>25.2</td>\n",
              "      <td>1014.2</td>\n",
              "      <td>143.11</td>\n",
              "      <td>0.00</td>\n",
              "      <td>12.33</td>\n",
              "      <td>63.20</td>\n",
              "      <td>2.10</td>\n",
              "      <td>5.25</td>\n",
              "      <td>6.42</td>\n",
              "      <td>4.31</td>\n",
              "      <td>2</td>\n",
              "    </tr>\n",
              "    <tr>\n",
              "      <th>27</th>\n",
              "      <td>Amsterdam</td>\n",
              "      <td>2025-07-28</td>\n",
              "      <td>17.9</td>\n",
              "      <td>75.0</td>\n",
              "      <td>0.600</td>\n",
              "      <td>28.7</td>\n",
              "      <td>1016.5</td>\n",
              "      <td>139.43</td>\n",
              "      <td>0.00</td>\n",
              "      <td>8.92</td>\n",
              "      <td>56.90</td>\n",
              "      <td>1.74</td>\n",
              "      <td>0.85</td>\n",
              "      <td>1.82</td>\n",
              "      <td>3.31</td>\n",
              "      <td>1</td>\n",
              "    </tr>\n",
              "    <tr>\n",
              "      <th>28</th>\n",
              "      <td>Vienna</td>\n",
              "      <td>2025-07-22</td>\n",
              "      <td>23.0</td>\n",
              "      <td>49.8</td>\n",
              "      <td>0.000</td>\n",
              "      <td>28.8</td>\n",
              "      <td>1011.2</td>\n",
              "      <td>110.09</td>\n",
              "      <td>0.00</td>\n",
              "      <td>3.55</td>\n",
              "      <td>56.36</td>\n",
              "      <td>0.80</td>\n",
              "      <td>1.23</td>\n",
              "      <td>1.75</td>\n",
              "      <td>3.00</td>\n",
              "      <td>1</td>\n",
              "    </tr>\n",
              "    <tr>\n",
              "      <th>29</th>\n",
              "      <td>Vienna</td>\n",
              "      <td>2025-07-23</td>\n",
              "      <td>23.5</td>\n",
              "      <td>55.0</td>\n",
              "      <td>0.001</td>\n",
              "      <td>17.9</td>\n",
              "      <td>1013.2</td>\n",
              "      <td>118.76</td>\n",
              "      <td>0.01</td>\n",
              "      <td>8.34</td>\n",
              "      <td>27.03</td>\n",
              "      <td>0.50</td>\n",
              "      <td>2.99</td>\n",
              "      <td>3.93</td>\n",
              "      <td>5.69</td>\n",
              "      <td>1</td>\n",
              "    </tr>\n",
              "    <tr>\n",
              "      <th>30</th>\n",
              "      <td>Vienna</td>\n",
              "      <td>2025-07-24</td>\n",
              "      <td>23.4</td>\n",
              "      <td>64.1</td>\n",
              "      <td>23.513</td>\n",
              "      <td>21.6</td>\n",
              "      <td>1011.2</td>\n",
              "      <td>126.59</td>\n",
              "      <td>0.00</td>\n",
              "      <td>11.81</td>\n",
              "      <td>26.98</td>\n",
              "      <td>0.71</td>\n",
              "      <td>3.91</td>\n",
              "      <td>5.18</td>\n",
              "      <td>12.12</td>\n",
              "      <td>1</td>\n",
              "    </tr>\n",
              "    <tr>\n",
              "      <th>31</th>\n",
              "      <td>Vienna</td>\n",
              "      <td>2025-07-25</td>\n",
              "      <td>22.2</td>\n",
              "      <td>66.8</td>\n",
              "      <td>0.700</td>\n",
              "      <td>18.0</td>\n",
              "      <td>1013.8</td>\n",
              "      <td>119.81</td>\n",
              "      <td>0.04</td>\n",
              "      <td>8.48</td>\n",
              "      <td>18.95</td>\n",
              "      <td>0.37</td>\n",
              "      <td>3.72</td>\n",
              "      <td>4.81</td>\n",
              "      <td>2.92</td>\n",
              "      <td>1</td>\n",
              "    </tr>\n",
              "    <tr>\n",
              "      <th>32</th>\n",
              "      <td>Vienna</td>\n",
              "      <td>2025-07-26</td>\n",
              "      <td>20.1</td>\n",
              "      <td>88.9</td>\n",
              "      <td>17.200</td>\n",
              "      <td>18.4</td>\n",
              "      <td>1012.5</td>\n",
              "      <td>124.10</td>\n",
              "      <td>0.00</td>\n",
              "      <td>9.70</td>\n",
              "      <td>30.63</td>\n",
              "      <td>0.74</td>\n",
              "      <td>4.48</td>\n",
              "      <td>5.28</td>\n",
              "      <td>5.96</td>\n",
              "      <td>1</td>\n",
              "    </tr>\n",
              "    <tr>\n",
              "      <th>33</th>\n",
              "      <td>Vienna</td>\n",
              "      <td>2025-07-27</td>\n",
              "      <td>20.3</td>\n",
              "      <td>77.6</td>\n",
              "      <td>0.500</td>\n",
              "      <td>31.7</td>\n",
              "      <td>1008.5</td>\n",
              "      <td>107.20</td>\n",
              "      <td>0.04</td>\n",
              "      <td>5.97</td>\n",
              "      <td>12.32</td>\n",
              "      <td>0.40</td>\n",
              "      <td>3.70</td>\n",
              "      <td>4.46</td>\n",
              "      <td>3.13</td>\n",
              "      <td>1</td>\n",
              "    </tr>\n",
              "    <tr>\n",
              "      <th>34</th>\n",
              "      <td>Vienna</td>\n",
              "      <td>2025-07-28</td>\n",
              "      <td>20.3</td>\n",
              "      <td>68.4</td>\n",
              "      <td>1.400</td>\n",
              "      <td>35.3</td>\n",
              "      <td>1007.7</td>\n",
              "      <td>102.43</td>\n",
              "      <td>0.01</td>\n",
              "      <td>3.43</td>\n",
              "      <td>42.49</td>\n",
              "      <td>0.34</td>\n",
              "      <td>0.92</td>\n",
              "      <td>1.32</td>\n",
              "      <td>1.93</td>\n",
              "      <td>1</td>\n",
              "    </tr>\n",
              "  </tbody>\n",
              "</table>\n",
              "</div>"
            ],
            "text/plain": [
              "         city    datetime  temp  humidity  precip  windspeed  pressure  \\\n",
              "0       Paris  2025-07-22  19.2      71.0   0.052       16.8    1013.4   \n",
              "1       Paris  2025-07-23  19.2      74.3   2.018       13.5    1013.8   \n",
              "2       Paris  2025-07-24  18.4      83.8  12.440       15.4    1014.9   \n",
              "3       Paris  2025-07-25  20.7      72.8   0.010       12.2    1017.7   \n",
              "4       Paris  2025-07-26  21.4      67.6   0.000       16.0    1018.2   \n",
              "5       Paris  2025-07-27  18.8      78.8   5.600       23.2    1016.4   \n",
              "6       Paris  2025-07-28  18.9      65.9   0.000       13.8    1019.9   \n",
              "7      Berlin  2025-07-22  17.5      86.8   6.500       23.2    1006.1   \n",
              "8      Berlin  2025-07-23  18.4      83.8  27.700       25.0    1008.0   \n",
              "9      Berlin  2025-07-24  19.5      80.5   0.600       16.6    1011.3   \n",
              "10     Berlin  2025-07-25  20.0      84.7   4.200       19.4    1013.5   \n",
              "11     Berlin  2025-07-26  19.4      78.4   2.500       18.4    1014.8   \n",
              "12     Berlin  2025-07-27  20.4      69.7   0.000       18.4    1010.7   \n",
              "13     Berlin  2025-07-28  20.1      72.2   2.800       29.5    1009.0   \n",
              "14     Madrid  2025-07-22  25.7      28.3   0.000       17.2    1015.4   \n",
              "15     Madrid  2025-07-23  25.5      36.4   0.000       16.1    1013.6   \n",
              "16     Madrid  2025-07-24  23.1      39.9   0.000       20.4    1014.1   \n",
              "17     Madrid  2025-07-25  22.3      38.0   0.000       17.2    1017.6   \n",
              "18     Madrid  2025-07-26  24.7      36.2   0.000       14.9    1019.8   \n",
              "19     Madrid  2025-07-27  27.3      30.7   0.000       20.6    1019.6   \n",
              "20     Madrid  2025-07-28  26.3      33.6   0.000       18.1    1018.0   \n",
              "21  Amsterdam  2025-07-22  19.2      82.8   5.877       30.0    1007.2   \n",
              "22  Amsterdam  2025-07-23  19.5      81.7   0.537       21.0    1011.0   \n",
              "23  Amsterdam  2025-07-24  19.6      79.1   0.004       19.7    1013.7   \n",
              "24  Amsterdam  2025-07-25  19.7      80.2   0.647       16.9    1017.0   \n",
              "25  Amsterdam  2025-07-26  19.7      79.6   0.400       26.0    1015.4   \n",
              "26  Amsterdam  2025-07-27  18.5      76.2   3.300       25.2    1014.2   \n",
              "27  Amsterdam  2025-07-28  17.9      75.0   0.600       28.7    1016.5   \n",
              "28     Vienna  2025-07-22  23.0      49.8   0.000       28.8    1011.2   \n",
              "29     Vienna  2025-07-23  23.5      55.0   0.001       17.9    1013.2   \n",
              "30     Vienna  2025-07-24  23.4      64.1  23.513       21.6    1011.2   \n",
              "31     Vienna  2025-07-25  22.2      66.8   0.700       18.0    1013.8   \n",
              "32     Vienna  2025-07-26  20.1      88.9  17.200       18.4    1012.5   \n",
              "33     Vienna  2025-07-27  20.3      77.6   0.500       31.7    1008.5   \n",
              "34     Vienna  2025-07-28  20.3      68.4   1.400       35.3    1007.7   \n",
              "\n",
              "        co    no    no2     o3   so2  pm2_5  pm10    nh3  indice aqi  \n",
              "0   105.69  0.00   1.03  67.04  0.23   1.85  2.66   1.62           2  \n",
              "1    97.12  0.00   2.61  43.04  0.14   1.57  2.54   3.43           1  \n",
              "2   109.45  0.00   2.17  45.27  0.09   1.07  1.20   0.94           1  \n",
              "3   111.92  0.00   2.57  54.77  0.18   2.26  2.50   1.81           1  \n",
              "4   112.99  0.00   4.14  50.84  0.19   4.37  5.17   3.33           1  \n",
              "5   108.78  0.00   2.03  44.46  0.09   1.47  2.13   2.46           1  \n",
              "6   121.22  0.00   1.54  71.94  0.55   2.74  3.57   2.68           2  \n",
              "7   114.07  0.00   5.65  38.48  0.78   2.47  2.77   1.76           1  \n",
              "8   121.84  0.00   3.35  70.11  0.86   0.90  1.17   3.41           2  \n",
              "9   113.37  0.00   4.48  69.40  1.01   2.21  2.68   5.15           2  \n",
              "10  126.78  0.00  10.36  34.18  0.60   2.38  3.35   6.81           1  \n",
              "11  118.49  0.00   5.11  51.27  0.63   1.52  1.90   2.46           1  \n",
              "12  109.94  0.00   6.35  36.11  0.46   1.72  3.14   8.05           1  \n",
              "13  119.67  0.00   3.70  56.72  0.50   2.32  2.62   2.12           1  \n",
              "14  111.80  0.00   0.93  81.90  0.06   2.11  3.78   5.01           2  \n",
              "15  103.61  0.00   0.70  91.78  0.06   1.64  3.37   3.59           2  \n",
              "16   93.97  0.00   0.94  65.03  0.04   1.90  3.91   4.61           2  \n",
              "17  109.20  0.00   1.04  96.08  0.10   0.98  1.55   2.14           2  \n",
              "18   99.06  0.00   1.69  86.38  0.06   1.11  1.78   4.52           2  \n",
              "19   95.28  0.00   1.38  78.64  0.07   1.44  2.37   6.92           2  \n",
              "20   85.29  0.00   0.73  80.94  0.11   1.75  2.62   4.87           2  \n",
              "21  130.16  0.00   8.59  58.81  1.80   2.01  2.65   2.08           1  \n",
              "22  114.30  0.00   7.49  66.82  1.93   2.56  4.44   3.15           2  \n",
              "23  143.83  0.00  20.84  55.14  2.58   6.29  7.93   3.31           1  \n",
              "24  156.12  0.01  29.56  35.48  2.53   3.92  5.91   4.79           1  \n",
              "25  165.26  0.06  36.37  36.39  2.86   5.21  9.83   6.51           1  \n",
              "26  143.11  0.00  12.33  63.20  2.10   5.25  6.42   4.31           2  \n",
              "27  139.43  0.00   8.92  56.90  1.74   0.85  1.82   3.31           1  \n",
              "28  110.09  0.00   3.55  56.36  0.80   1.23  1.75   3.00           1  \n",
              "29  118.76  0.01   8.34  27.03  0.50   2.99  3.93   5.69           1  \n",
              "30  126.59  0.00  11.81  26.98  0.71   3.91  5.18  12.12           1  \n",
              "31  119.81  0.04   8.48  18.95  0.37   3.72  4.81   2.92           1  \n",
              "32  124.10  0.00   9.70  30.63  0.74   4.48  5.28   5.96           1  \n",
              "33  107.20  0.04   5.97  12.32  0.40   3.70  4.46   3.13           1  \n",
              "34  102.43  0.01   3.43  42.49  0.34   0.92  1.32   1.93           1  "
            ]
          },
          "execution_count": 87,
          "metadata": {},
          "output_type": "execute_result"
        }
      ],
      "source": [
        "df_total = pd.concat([df_cities, df_poll], axis=1)\n",
        "df_total = df_total.iloc[:,:-1]\n",
        "df_total = df_total.reset_index(drop=True)\n",
        "df_total = df_total.loc[:, ~df_total.columns.duplicated()]\n",
        "df_total"
      ]
    },
    {
      "cell_type": "markdown",
      "metadata": {
        "id": "v02lzUOv3kp6"
      },
      "source": [
        "\n",
        "## Partie 4 : Analyse et visualisation\n",
        "\n",
        "### 📈 Analyses à réaliser\n",
        "\n",
        "1. **Comparaison inter-villes**\n",
        "   - Températures moyennes par ville\n",
        "   - Variabilité climatique (écart-type)\n",
        "   - Corrélations température/humidité\n",
        "\n",
        "2. **Tendances temporelles**\n",
        "   - Évolution sur 30 jours\n",
        "   - Identification des patterns\n",
        "\n",
        "3. **Qualité de l'air vs météo**\n",
        "   - Impact de la pluie sur la pollution\n",
        "   - Corrélations vent/qualité de l'air"
      ]
    },
    {
      "cell_type": "code",
      "execution_count": 85,
      "metadata": {
        "colab": {
          "base_uri": "https://localhost:8080/",
          "height": 51
        },
        "id": "IQb6JSIp3VSD",
        "outputId": "542a1e6a-381e-40c4-a65a-c21522e3b42d"
      },
      "outputs": [
        {
          "data": {
            "application/vnd.plotly.v1+json": {
              "config": {
                "plotlyServerURL": "https://plot.ly"
              },
              "data": [
                {
                  "coloraxis": "coloraxis",
                  "histfunc": "avg",
                  "hovertemplate": "datetime=%{x}<br>city=%{y}<br>avg of temp=%{z}<extra></extra>",
                  "name": "",
                  "type": "histogram2d",
                  "x": [
                    "2025-07-22",
                    "2025-07-23",
                    "2025-07-24",
                    "2025-07-25",
                    "2025-07-26",
                    "2025-07-27",
                    "2025-07-28",
                    "2025-07-22",
                    "2025-07-23",
                    "2025-07-24",
                    "2025-07-25",
                    "2025-07-26",
                    "2025-07-27",
                    "2025-07-28",
                    "2025-07-22",
                    "2025-07-23",
                    "2025-07-24",
                    "2025-07-25",
                    "2025-07-26",
                    "2025-07-27",
                    "2025-07-28",
                    "2025-07-22",
                    "2025-07-23",
                    "2025-07-24",
                    "2025-07-25",
                    "2025-07-26",
                    "2025-07-27",
                    "2025-07-28",
                    "2025-07-22",
                    "2025-07-23",
                    "2025-07-24",
                    "2025-07-25",
                    "2025-07-26",
                    "2025-07-27",
                    "2025-07-28"
                  ],
                  "xaxis": "x",
                  "xbingroup": "x",
                  "y": [
                    "Paris",
                    "Paris",
                    "Paris",
                    "Paris",
                    "Paris",
                    "Paris",
                    "Paris",
                    "Berlin",
                    "Berlin",
                    "Berlin",
                    "Berlin",
                    "Berlin",
                    "Berlin",
                    "Berlin",
                    "Madrid",
                    "Madrid",
                    "Madrid",
                    "Madrid",
                    "Madrid",
                    "Madrid",
                    "Madrid",
                    "Amsterdam",
                    "Amsterdam",
                    "Amsterdam",
                    "Amsterdam",
                    "Amsterdam",
                    "Amsterdam",
                    "Amsterdam",
                    "Vienna",
                    "Vienna",
                    "Vienna",
                    "Vienna",
                    "Vienna",
                    "Vienna",
                    "Vienna"
                  ],
                  "yaxis": "y",
                  "ybingroup": "y",
                  "z": {
                    "bdata": "MzMzMzMzM0AzMzMzMzMzQGZmZmZmZjJAMzMzMzOzNEBmZmZmZmY1QM3MzMzMzDJAZmZmZmbmMkAAAAAAAIAxQGZmZmZmZjJAAAAAAACAM0AAAAAAAAA0QGZmZmZmZjNAZmZmZmZmNECamZmZmRk0QDMzMzMzszlAAAAAAACAOUCamZmZmRk3QM3MzMzMTDZAMzMzMzOzOEDNzMzMzEw7QM3MzMzMTDpAMzMzMzMzM0AAAAAAAIAzQJqZmZmZmTNAMzMzMzOzM0AzMzMzM7MzQAAAAAAAgDJAZmZmZmbmMUAAAAAAAAA3QAAAAAAAgDdAZmZmZmZmN0AzMzMzMzM2QJqZmZmZGTRAzczMzMxMNEDNzMzMzEw0QA==",
                    "dtype": "f8"
                  }
                }
              ],
              "layout": {
                "coloraxis": {
                  "colorbar": {
                    "title": {
                      "text": "avg of temp"
                    }
                  },
                  "colorscale": [
                    [
                      0,
                      "#0d0887"
                    ],
                    [
                      0.1111111111111111,
                      "#46039f"
                    ],
                    [
                      0.2222222222222222,
                      "#7201a8"
                    ],
                    [
                      0.3333333333333333,
                      "#9c179e"
                    ],
                    [
                      0.4444444444444444,
                      "#bd3786"
                    ],
                    [
                      0.5555555555555556,
                      "#d8576b"
                    ],
                    [
                      0.6666666666666666,
                      "#ed7953"
                    ],
                    [
                      0.7777777777777778,
                      "#fb9f3a"
                    ],
                    [
                      0.8888888888888888,
                      "#fdca26"
                    ],
                    [
                      1,
                      "#f0f921"
                    ]
                  ]
                },
                "legend": {
                  "tracegroupgap": 0
                },
                "template": {
                  "data": {
                    "bar": [
                      {
                        "error_x": {
                          "color": "#2a3f5f"
                        },
                        "error_y": {
                          "color": "#2a3f5f"
                        },
                        "marker": {
                          "line": {
                            "color": "#E5ECF6",
                            "width": 0.5
                          },
                          "pattern": {
                            "fillmode": "overlay",
                            "size": 10,
                            "solidity": 0.2
                          }
                        },
                        "type": "bar"
                      }
                    ],
                    "barpolar": [
                      {
                        "marker": {
                          "line": {
                            "color": "#E5ECF6",
                            "width": 0.5
                          },
                          "pattern": {
                            "fillmode": "overlay",
                            "size": 10,
                            "solidity": 0.2
                          }
                        },
                        "type": "barpolar"
                      }
                    ],
                    "carpet": [
                      {
                        "aaxis": {
                          "endlinecolor": "#2a3f5f",
                          "gridcolor": "white",
                          "linecolor": "white",
                          "minorgridcolor": "white",
                          "startlinecolor": "#2a3f5f"
                        },
                        "baxis": {
                          "endlinecolor": "#2a3f5f",
                          "gridcolor": "white",
                          "linecolor": "white",
                          "minorgridcolor": "white",
                          "startlinecolor": "#2a3f5f"
                        },
                        "type": "carpet"
                      }
                    ],
                    "choropleth": [
                      {
                        "colorbar": {
                          "outlinewidth": 0,
                          "ticks": ""
                        },
                        "type": "choropleth"
                      }
                    ],
                    "contour": [
                      {
                        "colorbar": {
                          "outlinewidth": 0,
                          "ticks": ""
                        },
                        "colorscale": [
                          [
                            0,
                            "#0d0887"
                          ],
                          [
                            0.1111111111111111,
                            "#46039f"
                          ],
                          [
                            0.2222222222222222,
                            "#7201a8"
                          ],
                          [
                            0.3333333333333333,
                            "#9c179e"
                          ],
                          [
                            0.4444444444444444,
                            "#bd3786"
                          ],
                          [
                            0.5555555555555556,
                            "#d8576b"
                          ],
                          [
                            0.6666666666666666,
                            "#ed7953"
                          ],
                          [
                            0.7777777777777778,
                            "#fb9f3a"
                          ],
                          [
                            0.8888888888888888,
                            "#fdca26"
                          ],
                          [
                            1,
                            "#f0f921"
                          ]
                        ],
                        "type": "contour"
                      }
                    ],
                    "contourcarpet": [
                      {
                        "colorbar": {
                          "outlinewidth": 0,
                          "ticks": ""
                        },
                        "type": "contourcarpet"
                      }
                    ],
                    "heatmap": [
                      {
                        "colorbar": {
                          "outlinewidth": 0,
                          "ticks": ""
                        },
                        "colorscale": [
                          [
                            0,
                            "#0d0887"
                          ],
                          [
                            0.1111111111111111,
                            "#46039f"
                          ],
                          [
                            0.2222222222222222,
                            "#7201a8"
                          ],
                          [
                            0.3333333333333333,
                            "#9c179e"
                          ],
                          [
                            0.4444444444444444,
                            "#bd3786"
                          ],
                          [
                            0.5555555555555556,
                            "#d8576b"
                          ],
                          [
                            0.6666666666666666,
                            "#ed7953"
                          ],
                          [
                            0.7777777777777778,
                            "#fb9f3a"
                          ],
                          [
                            0.8888888888888888,
                            "#fdca26"
                          ],
                          [
                            1,
                            "#f0f921"
                          ]
                        ],
                        "type": "heatmap"
                      }
                    ],
                    "histogram": [
                      {
                        "marker": {
                          "pattern": {
                            "fillmode": "overlay",
                            "size": 10,
                            "solidity": 0.2
                          }
                        },
                        "type": "histogram"
                      }
                    ],
                    "histogram2d": [
                      {
                        "colorbar": {
                          "outlinewidth": 0,
                          "ticks": ""
                        },
                        "colorscale": [
                          [
                            0,
                            "#0d0887"
                          ],
                          [
                            0.1111111111111111,
                            "#46039f"
                          ],
                          [
                            0.2222222222222222,
                            "#7201a8"
                          ],
                          [
                            0.3333333333333333,
                            "#9c179e"
                          ],
                          [
                            0.4444444444444444,
                            "#bd3786"
                          ],
                          [
                            0.5555555555555556,
                            "#d8576b"
                          ],
                          [
                            0.6666666666666666,
                            "#ed7953"
                          ],
                          [
                            0.7777777777777778,
                            "#fb9f3a"
                          ],
                          [
                            0.8888888888888888,
                            "#fdca26"
                          ],
                          [
                            1,
                            "#f0f921"
                          ]
                        ],
                        "type": "histogram2d"
                      }
                    ],
                    "histogram2dcontour": [
                      {
                        "colorbar": {
                          "outlinewidth": 0,
                          "ticks": ""
                        },
                        "colorscale": [
                          [
                            0,
                            "#0d0887"
                          ],
                          [
                            0.1111111111111111,
                            "#46039f"
                          ],
                          [
                            0.2222222222222222,
                            "#7201a8"
                          ],
                          [
                            0.3333333333333333,
                            "#9c179e"
                          ],
                          [
                            0.4444444444444444,
                            "#bd3786"
                          ],
                          [
                            0.5555555555555556,
                            "#d8576b"
                          ],
                          [
                            0.6666666666666666,
                            "#ed7953"
                          ],
                          [
                            0.7777777777777778,
                            "#fb9f3a"
                          ],
                          [
                            0.8888888888888888,
                            "#fdca26"
                          ],
                          [
                            1,
                            "#f0f921"
                          ]
                        ],
                        "type": "histogram2dcontour"
                      }
                    ],
                    "mesh3d": [
                      {
                        "colorbar": {
                          "outlinewidth": 0,
                          "ticks": ""
                        },
                        "type": "mesh3d"
                      }
                    ],
                    "parcoords": [
                      {
                        "line": {
                          "colorbar": {
                            "outlinewidth": 0,
                            "ticks": ""
                          }
                        },
                        "type": "parcoords"
                      }
                    ],
                    "pie": [
                      {
                        "automargin": true,
                        "type": "pie"
                      }
                    ],
                    "scatter": [
                      {
                        "fillpattern": {
                          "fillmode": "overlay",
                          "size": 10,
                          "solidity": 0.2
                        },
                        "type": "scatter"
                      }
                    ],
                    "scatter3d": [
                      {
                        "line": {
                          "colorbar": {
                            "outlinewidth": 0,
                            "ticks": ""
                          }
                        },
                        "marker": {
                          "colorbar": {
                            "outlinewidth": 0,
                            "ticks": ""
                          }
                        },
                        "type": "scatter3d"
                      }
                    ],
                    "scattercarpet": [
                      {
                        "marker": {
                          "colorbar": {
                            "outlinewidth": 0,
                            "ticks": ""
                          }
                        },
                        "type": "scattercarpet"
                      }
                    ],
                    "scattergeo": [
                      {
                        "marker": {
                          "colorbar": {
                            "outlinewidth": 0,
                            "ticks": ""
                          }
                        },
                        "type": "scattergeo"
                      }
                    ],
                    "scattergl": [
                      {
                        "marker": {
                          "colorbar": {
                            "outlinewidth": 0,
                            "ticks": ""
                          }
                        },
                        "type": "scattergl"
                      }
                    ],
                    "scattermap": [
                      {
                        "marker": {
                          "colorbar": {
                            "outlinewidth": 0,
                            "ticks": ""
                          }
                        },
                        "type": "scattermap"
                      }
                    ],
                    "scattermapbox": [
                      {
                        "marker": {
                          "colorbar": {
                            "outlinewidth": 0,
                            "ticks": ""
                          }
                        },
                        "type": "scattermapbox"
                      }
                    ],
                    "scatterpolar": [
                      {
                        "marker": {
                          "colorbar": {
                            "outlinewidth": 0,
                            "ticks": ""
                          }
                        },
                        "type": "scatterpolar"
                      }
                    ],
                    "scatterpolargl": [
                      {
                        "marker": {
                          "colorbar": {
                            "outlinewidth": 0,
                            "ticks": ""
                          }
                        },
                        "type": "scatterpolargl"
                      }
                    ],
                    "scatterternary": [
                      {
                        "marker": {
                          "colorbar": {
                            "outlinewidth": 0,
                            "ticks": ""
                          }
                        },
                        "type": "scatterternary"
                      }
                    ],
                    "surface": [
                      {
                        "colorbar": {
                          "outlinewidth": 0,
                          "ticks": ""
                        },
                        "colorscale": [
                          [
                            0,
                            "#0d0887"
                          ],
                          [
                            0.1111111111111111,
                            "#46039f"
                          ],
                          [
                            0.2222222222222222,
                            "#7201a8"
                          ],
                          [
                            0.3333333333333333,
                            "#9c179e"
                          ],
                          [
                            0.4444444444444444,
                            "#bd3786"
                          ],
                          [
                            0.5555555555555556,
                            "#d8576b"
                          ],
                          [
                            0.6666666666666666,
                            "#ed7953"
                          ],
                          [
                            0.7777777777777778,
                            "#fb9f3a"
                          ],
                          [
                            0.8888888888888888,
                            "#fdca26"
                          ],
                          [
                            1,
                            "#f0f921"
                          ]
                        ],
                        "type": "surface"
                      }
                    ],
                    "table": [
                      {
                        "cells": {
                          "fill": {
                            "color": "#EBF0F8"
                          },
                          "line": {
                            "color": "white"
                          }
                        },
                        "header": {
                          "fill": {
                            "color": "#C8D4E3"
                          },
                          "line": {
                            "color": "white"
                          }
                        },
                        "type": "table"
                      }
                    ]
                  },
                  "layout": {
                    "annotationdefaults": {
                      "arrowcolor": "#2a3f5f",
                      "arrowhead": 0,
                      "arrowwidth": 1
                    },
                    "autotypenumbers": "strict",
                    "coloraxis": {
                      "colorbar": {
                        "outlinewidth": 0,
                        "ticks": ""
                      }
                    },
                    "colorscale": {
                      "diverging": [
                        [
                          0,
                          "#8e0152"
                        ],
                        [
                          0.1,
                          "#c51b7d"
                        ],
                        [
                          0.2,
                          "#de77ae"
                        ],
                        [
                          0.3,
                          "#f1b6da"
                        ],
                        [
                          0.4,
                          "#fde0ef"
                        ],
                        [
                          0.5,
                          "#f7f7f7"
                        ],
                        [
                          0.6,
                          "#e6f5d0"
                        ],
                        [
                          0.7,
                          "#b8e186"
                        ],
                        [
                          0.8,
                          "#7fbc41"
                        ],
                        [
                          0.9,
                          "#4d9221"
                        ],
                        [
                          1,
                          "#276419"
                        ]
                      ],
                      "sequential": [
                        [
                          0,
                          "#0d0887"
                        ],
                        [
                          0.1111111111111111,
                          "#46039f"
                        ],
                        [
                          0.2222222222222222,
                          "#7201a8"
                        ],
                        [
                          0.3333333333333333,
                          "#9c179e"
                        ],
                        [
                          0.4444444444444444,
                          "#bd3786"
                        ],
                        [
                          0.5555555555555556,
                          "#d8576b"
                        ],
                        [
                          0.6666666666666666,
                          "#ed7953"
                        ],
                        [
                          0.7777777777777778,
                          "#fb9f3a"
                        ],
                        [
                          0.8888888888888888,
                          "#fdca26"
                        ],
                        [
                          1,
                          "#f0f921"
                        ]
                      ],
                      "sequentialminus": [
                        [
                          0,
                          "#0d0887"
                        ],
                        [
                          0.1111111111111111,
                          "#46039f"
                        ],
                        [
                          0.2222222222222222,
                          "#7201a8"
                        ],
                        [
                          0.3333333333333333,
                          "#9c179e"
                        ],
                        [
                          0.4444444444444444,
                          "#bd3786"
                        ],
                        [
                          0.5555555555555556,
                          "#d8576b"
                        ],
                        [
                          0.6666666666666666,
                          "#ed7953"
                        ],
                        [
                          0.7777777777777778,
                          "#fb9f3a"
                        ],
                        [
                          0.8888888888888888,
                          "#fdca26"
                        ],
                        [
                          1,
                          "#f0f921"
                        ]
                      ]
                    },
                    "colorway": [
                      "#636efa",
                      "#EF553B",
                      "#00cc96",
                      "#ab63fa",
                      "#FFA15A",
                      "#19d3f3",
                      "#FF6692",
                      "#B6E880",
                      "#FF97FF",
                      "#FECB52"
                    ],
                    "font": {
                      "color": "#2a3f5f"
                    },
                    "geo": {
                      "bgcolor": "white",
                      "lakecolor": "white",
                      "landcolor": "#E5ECF6",
                      "showlakes": true,
                      "showland": true,
                      "subunitcolor": "white"
                    },
                    "hoverlabel": {
                      "align": "left"
                    },
                    "hovermode": "closest",
                    "mapbox": {
                      "style": "light"
                    },
                    "paper_bgcolor": "white",
                    "plot_bgcolor": "#E5ECF6",
                    "polar": {
                      "angularaxis": {
                        "gridcolor": "white",
                        "linecolor": "white",
                        "ticks": ""
                      },
                      "bgcolor": "#E5ECF6",
                      "radialaxis": {
                        "gridcolor": "white",
                        "linecolor": "white",
                        "ticks": ""
                      }
                    },
                    "scene": {
                      "xaxis": {
                        "backgroundcolor": "#E5ECF6",
                        "gridcolor": "white",
                        "gridwidth": 2,
                        "linecolor": "white",
                        "showbackground": true,
                        "ticks": "",
                        "zerolinecolor": "white"
                      },
                      "yaxis": {
                        "backgroundcolor": "#E5ECF6",
                        "gridcolor": "white",
                        "gridwidth": 2,
                        "linecolor": "white",
                        "showbackground": true,
                        "ticks": "",
                        "zerolinecolor": "white"
                      },
                      "zaxis": {
                        "backgroundcolor": "#E5ECF6",
                        "gridcolor": "white",
                        "gridwidth": 2,
                        "linecolor": "white",
                        "showbackground": true,
                        "ticks": "",
                        "zerolinecolor": "white"
                      }
                    },
                    "shapedefaults": {
                      "line": {
                        "color": "#2a3f5f"
                      }
                    },
                    "ternary": {
                      "aaxis": {
                        "gridcolor": "white",
                        "linecolor": "white",
                        "ticks": ""
                      },
                      "baxis": {
                        "gridcolor": "white",
                        "linecolor": "white",
                        "ticks": ""
                      },
                      "bgcolor": "#E5ECF6",
                      "caxis": {
                        "gridcolor": "white",
                        "linecolor": "white",
                        "ticks": ""
                      }
                    },
                    "title": {
                      "x": 0.05
                    },
                    "xaxis": {
                      "automargin": true,
                      "gridcolor": "white",
                      "linecolor": "white",
                      "ticks": "",
                      "title": {
                        "standoff": 15
                      },
                      "zerolinecolor": "white",
                      "zerolinewidth": 2
                    },
                    "yaxis": {
                      "automargin": true,
                      "gridcolor": "white",
                      "linecolor": "white",
                      "ticks": "",
                      "title": {
                        "standoff": 15
                      },
                      "zerolinecolor": "white",
                      "zerolinewidth": 2
                    }
                  }
                },
                "title": {
                  "text": "Heatmap des températures par ville et jour"
                },
                "xaxis": {
                  "anchor": "y",
                  "domain": [
                    0,
                    1
                  ],
                  "title": {
                    "text": "datetime"
                  }
                },
                "yaxis": {
                  "anchor": "x",
                  "domain": [
                    0,
                    1
                  ],
                  "title": {
                    "text": "city"
                  }
                }
              }
            }
          },
          "metadata": {},
          "output_type": "display_data"
        },
        {
          "data": {
            "application/vnd.plotly.v1+json": {
              "config": {
                "plotlyServerURL": "https://plot.ly"
              },
              "data": [
                {
                  "alignmentgroup": "True",
                  "hovertemplate": "city=%{x}<br>precip=%{y}<extra></extra>",
                  "legendgroup": "",
                  "marker": {
                    "color": "#636efa"
                  },
                  "name": "",
                  "notched": false,
                  "offsetgroup": "",
                  "orientation": "v",
                  "showlegend": false,
                  "type": "box",
                  "x": [
                    "Paris",
                    "Paris",
                    "Paris",
                    "Paris",
                    "Paris",
                    "Paris",
                    "Paris",
                    "Berlin",
                    "Berlin",
                    "Berlin",
                    "Berlin",
                    "Berlin",
                    "Berlin",
                    "Berlin",
                    "Madrid",
                    "Madrid",
                    "Madrid",
                    "Madrid",
                    "Madrid",
                    "Madrid",
                    "Madrid",
                    "Amsterdam",
                    "Amsterdam",
                    "Amsterdam",
                    "Amsterdam",
                    "Amsterdam",
                    "Amsterdam",
                    "Amsterdam",
                    "Vienna",
                    "Vienna",
                    "Vienna",
                    "Vienna",
                    "Vienna",
                    "Vienna",
                    "Vienna"
                  ],
                  "x0": " ",
                  "xaxis": "x",
                  "y": {
                    "bdata": "ObTIdr6fqj++nxov3SQAQOF6FK5H4ShAexSuR+F6hD8AAAAAAAAAAGZmZmZmZhZAAAAAAAAAAAAAAAAAAAAaQDMzMzMzsztAMzMzMzMz4z/NzMzMzMwQQAAAAAAAAARAAAAAAAAAAABmZmZmZmYGQAAAAAAAAAAAAAAAAAAAAAAAAAAAAAAAAAAAAAAAAAAAAAAAAAAAAAAAAAAAAAAAAAAAAAAAAAAANV66SQyCF0DJdr6fGi/hP/yp8dJNYnA/TmIQWDm05D+amZmZmZnZP2ZmZmZmZgpAMzMzMzMz4z8AAAAAAAAAAPyp8dJNYlA/F9nO91ODN0BmZmZmZmbmPzMzMzMzMzFAAAAAAAAA4D9mZmZmZmb2Pw==",
                    "dtype": "f8"
                  },
                  "y0": " ",
                  "yaxis": "y"
                }
              ],
              "layout": {
                "boxmode": "group",
                "legend": {
                  "tracegroupgap": 0
                },
                "template": {
                  "data": {
                    "bar": [
                      {
                        "error_x": {
                          "color": "#2a3f5f"
                        },
                        "error_y": {
                          "color": "#2a3f5f"
                        },
                        "marker": {
                          "line": {
                            "color": "#E5ECF6",
                            "width": 0.5
                          },
                          "pattern": {
                            "fillmode": "overlay",
                            "size": 10,
                            "solidity": 0.2
                          }
                        },
                        "type": "bar"
                      }
                    ],
                    "barpolar": [
                      {
                        "marker": {
                          "line": {
                            "color": "#E5ECF6",
                            "width": 0.5
                          },
                          "pattern": {
                            "fillmode": "overlay",
                            "size": 10,
                            "solidity": 0.2
                          }
                        },
                        "type": "barpolar"
                      }
                    ],
                    "carpet": [
                      {
                        "aaxis": {
                          "endlinecolor": "#2a3f5f",
                          "gridcolor": "white",
                          "linecolor": "white",
                          "minorgridcolor": "white",
                          "startlinecolor": "#2a3f5f"
                        },
                        "baxis": {
                          "endlinecolor": "#2a3f5f",
                          "gridcolor": "white",
                          "linecolor": "white",
                          "minorgridcolor": "white",
                          "startlinecolor": "#2a3f5f"
                        },
                        "type": "carpet"
                      }
                    ],
                    "choropleth": [
                      {
                        "colorbar": {
                          "outlinewidth": 0,
                          "ticks": ""
                        },
                        "type": "choropleth"
                      }
                    ],
                    "contour": [
                      {
                        "colorbar": {
                          "outlinewidth": 0,
                          "ticks": ""
                        },
                        "colorscale": [
                          [
                            0,
                            "#0d0887"
                          ],
                          [
                            0.1111111111111111,
                            "#46039f"
                          ],
                          [
                            0.2222222222222222,
                            "#7201a8"
                          ],
                          [
                            0.3333333333333333,
                            "#9c179e"
                          ],
                          [
                            0.4444444444444444,
                            "#bd3786"
                          ],
                          [
                            0.5555555555555556,
                            "#d8576b"
                          ],
                          [
                            0.6666666666666666,
                            "#ed7953"
                          ],
                          [
                            0.7777777777777778,
                            "#fb9f3a"
                          ],
                          [
                            0.8888888888888888,
                            "#fdca26"
                          ],
                          [
                            1,
                            "#f0f921"
                          ]
                        ],
                        "type": "contour"
                      }
                    ],
                    "contourcarpet": [
                      {
                        "colorbar": {
                          "outlinewidth": 0,
                          "ticks": ""
                        },
                        "type": "contourcarpet"
                      }
                    ],
                    "heatmap": [
                      {
                        "colorbar": {
                          "outlinewidth": 0,
                          "ticks": ""
                        },
                        "colorscale": [
                          [
                            0,
                            "#0d0887"
                          ],
                          [
                            0.1111111111111111,
                            "#46039f"
                          ],
                          [
                            0.2222222222222222,
                            "#7201a8"
                          ],
                          [
                            0.3333333333333333,
                            "#9c179e"
                          ],
                          [
                            0.4444444444444444,
                            "#bd3786"
                          ],
                          [
                            0.5555555555555556,
                            "#d8576b"
                          ],
                          [
                            0.6666666666666666,
                            "#ed7953"
                          ],
                          [
                            0.7777777777777778,
                            "#fb9f3a"
                          ],
                          [
                            0.8888888888888888,
                            "#fdca26"
                          ],
                          [
                            1,
                            "#f0f921"
                          ]
                        ],
                        "type": "heatmap"
                      }
                    ],
                    "histogram": [
                      {
                        "marker": {
                          "pattern": {
                            "fillmode": "overlay",
                            "size": 10,
                            "solidity": 0.2
                          }
                        },
                        "type": "histogram"
                      }
                    ],
                    "histogram2d": [
                      {
                        "colorbar": {
                          "outlinewidth": 0,
                          "ticks": ""
                        },
                        "colorscale": [
                          [
                            0,
                            "#0d0887"
                          ],
                          [
                            0.1111111111111111,
                            "#46039f"
                          ],
                          [
                            0.2222222222222222,
                            "#7201a8"
                          ],
                          [
                            0.3333333333333333,
                            "#9c179e"
                          ],
                          [
                            0.4444444444444444,
                            "#bd3786"
                          ],
                          [
                            0.5555555555555556,
                            "#d8576b"
                          ],
                          [
                            0.6666666666666666,
                            "#ed7953"
                          ],
                          [
                            0.7777777777777778,
                            "#fb9f3a"
                          ],
                          [
                            0.8888888888888888,
                            "#fdca26"
                          ],
                          [
                            1,
                            "#f0f921"
                          ]
                        ],
                        "type": "histogram2d"
                      }
                    ],
                    "histogram2dcontour": [
                      {
                        "colorbar": {
                          "outlinewidth": 0,
                          "ticks": ""
                        },
                        "colorscale": [
                          [
                            0,
                            "#0d0887"
                          ],
                          [
                            0.1111111111111111,
                            "#46039f"
                          ],
                          [
                            0.2222222222222222,
                            "#7201a8"
                          ],
                          [
                            0.3333333333333333,
                            "#9c179e"
                          ],
                          [
                            0.4444444444444444,
                            "#bd3786"
                          ],
                          [
                            0.5555555555555556,
                            "#d8576b"
                          ],
                          [
                            0.6666666666666666,
                            "#ed7953"
                          ],
                          [
                            0.7777777777777778,
                            "#fb9f3a"
                          ],
                          [
                            0.8888888888888888,
                            "#fdca26"
                          ],
                          [
                            1,
                            "#f0f921"
                          ]
                        ],
                        "type": "histogram2dcontour"
                      }
                    ],
                    "mesh3d": [
                      {
                        "colorbar": {
                          "outlinewidth": 0,
                          "ticks": ""
                        },
                        "type": "mesh3d"
                      }
                    ],
                    "parcoords": [
                      {
                        "line": {
                          "colorbar": {
                            "outlinewidth": 0,
                            "ticks": ""
                          }
                        },
                        "type": "parcoords"
                      }
                    ],
                    "pie": [
                      {
                        "automargin": true,
                        "type": "pie"
                      }
                    ],
                    "scatter": [
                      {
                        "fillpattern": {
                          "fillmode": "overlay",
                          "size": 10,
                          "solidity": 0.2
                        },
                        "type": "scatter"
                      }
                    ],
                    "scatter3d": [
                      {
                        "line": {
                          "colorbar": {
                            "outlinewidth": 0,
                            "ticks": ""
                          }
                        },
                        "marker": {
                          "colorbar": {
                            "outlinewidth": 0,
                            "ticks": ""
                          }
                        },
                        "type": "scatter3d"
                      }
                    ],
                    "scattercarpet": [
                      {
                        "marker": {
                          "colorbar": {
                            "outlinewidth": 0,
                            "ticks": ""
                          }
                        },
                        "type": "scattercarpet"
                      }
                    ],
                    "scattergeo": [
                      {
                        "marker": {
                          "colorbar": {
                            "outlinewidth": 0,
                            "ticks": ""
                          }
                        },
                        "type": "scattergeo"
                      }
                    ],
                    "scattergl": [
                      {
                        "marker": {
                          "colorbar": {
                            "outlinewidth": 0,
                            "ticks": ""
                          }
                        },
                        "type": "scattergl"
                      }
                    ],
                    "scattermap": [
                      {
                        "marker": {
                          "colorbar": {
                            "outlinewidth": 0,
                            "ticks": ""
                          }
                        },
                        "type": "scattermap"
                      }
                    ],
                    "scattermapbox": [
                      {
                        "marker": {
                          "colorbar": {
                            "outlinewidth": 0,
                            "ticks": ""
                          }
                        },
                        "type": "scattermapbox"
                      }
                    ],
                    "scatterpolar": [
                      {
                        "marker": {
                          "colorbar": {
                            "outlinewidth": 0,
                            "ticks": ""
                          }
                        },
                        "type": "scatterpolar"
                      }
                    ],
                    "scatterpolargl": [
                      {
                        "marker": {
                          "colorbar": {
                            "outlinewidth": 0,
                            "ticks": ""
                          }
                        },
                        "type": "scatterpolargl"
                      }
                    ],
                    "scatterternary": [
                      {
                        "marker": {
                          "colorbar": {
                            "outlinewidth": 0,
                            "ticks": ""
                          }
                        },
                        "type": "scatterternary"
                      }
                    ],
                    "surface": [
                      {
                        "colorbar": {
                          "outlinewidth": 0,
                          "ticks": ""
                        },
                        "colorscale": [
                          [
                            0,
                            "#0d0887"
                          ],
                          [
                            0.1111111111111111,
                            "#46039f"
                          ],
                          [
                            0.2222222222222222,
                            "#7201a8"
                          ],
                          [
                            0.3333333333333333,
                            "#9c179e"
                          ],
                          [
                            0.4444444444444444,
                            "#bd3786"
                          ],
                          [
                            0.5555555555555556,
                            "#d8576b"
                          ],
                          [
                            0.6666666666666666,
                            "#ed7953"
                          ],
                          [
                            0.7777777777777778,
                            "#fb9f3a"
                          ],
                          [
                            0.8888888888888888,
                            "#fdca26"
                          ],
                          [
                            1,
                            "#f0f921"
                          ]
                        ],
                        "type": "surface"
                      }
                    ],
                    "table": [
                      {
                        "cells": {
                          "fill": {
                            "color": "#EBF0F8"
                          },
                          "line": {
                            "color": "white"
                          }
                        },
                        "header": {
                          "fill": {
                            "color": "#C8D4E3"
                          },
                          "line": {
                            "color": "white"
                          }
                        },
                        "type": "table"
                      }
                    ]
                  },
                  "layout": {
                    "annotationdefaults": {
                      "arrowcolor": "#2a3f5f",
                      "arrowhead": 0,
                      "arrowwidth": 1
                    },
                    "autotypenumbers": "strict",
                    "coloraxis": {
                      "colorbar": {
                        "outlinewidth": 0,
                        "ticks": ""
                      }
                    },
                    "colorscale": {
                      "diverging": [
                        [
                          0,
                          "#8e0152"
                        ],
                        [
                          0.1,
                          "#c51b7d"
                        ],
                        [
                          0.2,
                          "#de77ae"
                        ],
                        [
                          0.3,
                          "#f1b6da"
                        ],
                        [
                          0.4,
                          "#fde0ef"
                        ],
                        [
                          0.5,
                          "#f7f7f7"
                        ],
                        [
                          0.6,
                          "#e6f5d0"
                        ],
                        [
                          0.7,
                          "#b8e186"
                        ],
                        [
                          0.8,
                          "#7fbc41"
                        ],
                        [
                          0.9,
                          "#4d9221"
                        ],
                        [
                          1,
                          "#276419"
                        ]
                      ],
                      "sequential": [
                        [
                          0,
                          "#0d0887"
                        ],
                        [
                          0.1111111111111111,
                          "#46039f"
                        ],
                        [
                          0.2222222222222222,
                          "#7201a8"
                        ],
                        [
                          0.3333333333333333,
                          "#9c179e"
                        ],
                        [
                          0.4444444444444444,
                          "#bd3786"
                        ],
                        [
                          0.5555555555555556,
                          "#d8576b"
                        ],
                        [
                          0.6666666666666666,
                          "#ed7953"
                        ],
                        [
                          0.7777777777777778,
                          "#fb9f3a"
                        ],
                        [
                          0.8888888888888888,
                          "#fdca26"
                        ],
                        [
                          1,
                          "#f0f921"
                        ]
                      ],
                      "sequentialminus": [
                        [
                          0,
                          "#0d0887"
                        ],
                        [
                          0.1111111111111111,
                          "#46039f"
                        ],
                        [
                          0.2222222222222222,
                          "#7201a8"
                        ],
                        [
                          0.3333333333333333,
                          "#9c179e"
                        ],
                        [
                          0.4444444444444444,
                          "#bd3786"
                        ],
                        [
                          0.5555555555555556,
                          "#d8576b"
                        ],
                        [
                          0.6666666666666666,
                          "#ed7953"
                        ],
                        [
                          0.7777777777777778,
                          "#fb9f3a"
                        ],
                        [
                          0.8888888888888888,
                          "#fdca26"
                        ],
                        [
                          1,
                          "#f0f921"
                        ]
                      ]
                    },
                    "colorway": [
                      "#636efa",
                      "#EF553B",
                      "#00cc96",
                      "#ab63fa",
                      "#FFA15A",
                      "#19d3f3",
                      "#FF6692",
                      "#B6E880",
                      "#FF97FF",
                      "#FECB52"
                    ],
                    "font": {
                      "color": "#2a3f5f"
                    },
                    "geo": {
                      "bgcolor": "white",
                      "lakecolor": "white",
                      "landcolor": "#E5ECF6",
                      "showlakes": true,
                      "showland": true,
                      "subunitcolor": "white"
                    },
                    "hoverlabel": {
                      "align": "left"
                    },
                    "hovermode": "closest",
                    "mapbox": {
                      "style": "light"
                    },
                    "paper_bgcolor": "white",
                    "plot_bgcolor": "#E5ECF6",
                    "polar": {
                      "angularaxis": {
                        "gridcolor": "white",
                        "linecolor": "white",
                        "ticks": ""
                      },
                      "bgcolor": "#E5ECF6",
                      "radialaxis": {
                        "gridcolor": "white",
                        "linecolor": "white",
                        "ticks": ""
                      }
                    },
                    "scene": {
                      "xaxis": {
                        "backgroundcolor": "#E5ECF6",
                        "gridcolor": "white",
                        "gridwidth": 2,
                        "linecolor": "white",
                        "showbackground": true,
                        "ticks": "",
                        "zerolinecolor": "white"
                      },
                      "yaxis": {
                        "backgroundcolor": "#E5ECF6",
                        "gridcolor": "white",
                        "gridwidth": 2,
                        "linecolor": "white",
                        "showbackground": true,
                        "ticks": "",
                        "zerolinecolor": "white"
                      },
                      "zaxis": {
                        "backgroundcolor": "#E5ECF6",
                        "gridcolor": "white",
                        "gridwidth": 2,
                        "linecolor": "white",
                        "showbackground": true,
                        "ticks": "",
                        "zerolinecolor": "white"
                      }
                    },
                    "shapedefaults": {
                      "line": {
                        "color": "#2a3f5f"
                      }
                    },
                    "ternary": {
                      "aaxis": {
                        "gridcolor": "white",
                        "linecolor": "white",
                        "ticks": ""
                      },
                      "baxis": {
                        "gridcolor": "white",
                        "linecolor": "white",
                        "ticks": ""
                      },
                      "bgcolor": "#E5ECF6",
                      "caxis": {
                        "gridcolor": "white",
                        "linecolor": "white",
                        "ticks": ""
                      }
                    },
                    "title": {
                      "x": 0.05
                    },
                    "xaxis": {
                      "automargin": true,
                      "gridcolor": "white",
                      "linecolor": "white",
                      "ticks": "",
                      "title": {
                        "standoff": 15
                      },
                      "zerolinecolor": "white",
                      "zerolinewidth": 2
                    },
                    "yaxis": {
                      "automargin": true,
                      "gridcolor": "white",
                      "linecolor": "white",
                      "ticks": "",
                      "title": {
                        "standoff": 15
                      },
                      "zerolinecolor": "white",
                      "zerolinewidth": 2
                    }
                  }
                },
                "title": {
                  "text": "Comparatif des précipitations"
                },
                "xaxis": {
                  "anchor": "y",
                  "domain": [
                    0,
                    1
                  ],
                  "title": {
                    "text": "city"
                  }
                },
                "yaxis": {
                  "anchor": "x",
                  "domain": [
                    0,
                    1
                  ],
                  "title": {
                    "text": "precip"
                  }
                }
              }
            }
          },
          "metadata": {},
          "output_type": "display_data"
        },
        {
          "data": {
            "application/vnd.plotly.v1+json": {
              "config": {
                "plotlyServerURL": "https://plot.ly"
              },
              "data": [
                {
                  "hovertemplate": "temp=%{x}<br>co=%{y}<extra></extra>",
                  "legendgroup": "",
                  "marker": {
                    "color": "#636efa",
                    "symbol": "circle"
                  },
                  "mode": "markers",
                  "name": "",
                  "orientation": "v",
                  "showlegend": false,
                  "type": "scatter",
                  "x": {
                    "bdata": "MzMzMzMzM0AzMzMzMzMzQGZmZmZmZjJAMzMzMzOzNEBmZmZmZmY1QM3MzMzMzDJAZmZmZmbmMkAAAAAAAIAxQGZmZmZmZjJAAAAAAACAM0AAAAAAAAA0QGZmZmZmZjNAZmZmZmZmNECamZmZmRk0QDMzMzMzszlAAAAAAACAOUCamZmZmRk3QM3MzMzMTDZAMzMzMzOzOEDNzMzMzEw7QM3MzMzMTDpAMzMzMzMzM0AAAAAAAIAzQJqZmZmZmTNAMzMzMzOzM0AzMzMzM7MzQAAAAAAAgDJAZmZmZmbmMUAAAAAAAAA3QAAAAAAAgDdAZmZmZmZmN0AzMzMzMzM2QJqZmZmZGTRAzczMzMxMNEDNzMzMzEw0QA==",
                    "dtype": "f8"
                  },
                  "xaxis": "x",
                  "y": {
                    "bdata": "XI/C9ShsWkBI4XoUrkdYQM3MzMzMXFtAexSuR+H6W0CPwvUoXD9cQFK4HoXrMVtArkfhehROXkAUrkfheoRcQPYoXI/CdV5ASOF6FK5XXEBSuB6F67FfQI/C9Shcn11AXI/C9Sh8W0B7FK5H4epdQDMzMzMz81tA16NwPQrnWUCuR+F6FH5XQM3MzMzMTFtApHA9CtfDWEBSuB6F69FXQMP1KFyPUlVAhetRuB5FYEAzMzMzM5NcQMP1KFyP+mFApHA9CteDY0C4HoXrUahkQOxRuB6F42FA9ihcj8JtYUD2KFyPwoVbQHE9CtejsF1A9ihcj8KlX0CkcD0K1/NdQGZmZmZmBl9AzczMzMzMWkDsUbgehZtZQA==",
                    "dtype": "f8"
                  },
                  "yaxis": "y"
                },
                {
                  "hovertemplate": "<b>OLS trendline</b><br>co = -3.1841 * temp + 183.626<br>R<sup>2</sup>=0.228601<br><br>temp=%{x}<br>co=%{y} <b>(trend)</b><extra></extra>",
                  "legendgroup": "",
                  "marker": {
                    "color": "#636efa",
                    "symbol": "circle"
                  },
                  "mode": "lines",
                  "name": "",
                  "showlegend": false,
                  "type": "scatter",
                  "x": {
                    "bdata": "AAAAAACAMUBmZmZmZuYxQGZmZmZmZjJAZmZmZmZmMkAAAAAAAIAyQM3MzMzMzDJAZmZmZmbmMkAzMzMzMzMzQDMzMzMzMzNAMzMzMzMzM0BmZmZmZmYzQAAAAAAAgDNAAAAAAACAM0CamZmZmZkzQDMzMzMzszNAMzMzMzOzM0AAAAAAAAA0QJqZmZmZGTRAmpmZmZkZNEDNzMzMzEw0QM3MzMzMTDRAZmZmZmZmNEAzMzMzM7M0QGZmZmZmZjVAMzMzMzMzNkDNzMzMzEw2QAAAAAAAADdAmpmZmZkZN0BmZmZmZmY3QAAAAAAAgDdAMzMzMzOzOEAAAAAAAIA5QDMzMzMzszlAzczMzMxMOkDNzMzMzEw7QA==",
                    "dtype": "f8"
                  },
                  "xaxis": "x",
                  "y": {
                    "bdata": "iq1bgdz5X0AgtPAvWahfQFz8Kgp1Ql9AXPwqCnVCX0ABPtA1FC5fQPECwLjx8F5Al0Rl5JDcXkCHCVVnbp9eQIcJVWdun15AhwlVZ26fXkDSjJ++rHZeQHfOROpLYl5Ad85E6ktiXkAcEOoV601eQMJRj0GKOV5AwlGPQYo5XkCyFn/EZ/xdQFdYJPAG6F1AV1gk8AboXUCi225HRb9dQKLbbkdFv11ASB0Uc+SqXUA44gP2wW1dQL+tiCcc31xA6rqyhBU8XECP/FewtCdcQBXI3OEOmVtAugmCDa6EW0CrznGQi0dbQFAQF7wqM1tAEiTWx6A+WkA9MQAlmptZQIi0SnzYcllAaD4qgpP4WEDfzp42yyxYQA==",
                    "dtype": "f8"
                  },
                  "yaxis": "y"
                }
              ],
              "layout": {
                "legend": {
                  "tracegroupgap": 0
                },
                "template": {
                  "data": {
                    "bar": [
                      {
                        "error_x": {
                          "color": "#2a3f5f"
                        },
                        "error_y": {
                          "color": "#2a3f5f"
                        },
                        "marker": {
                          "line": {
                            "color": "#E5ECF6",
                            "width": 0.5
                          },
                          "pattern": {
                            "fillmode": "overlay",
                            "size": 10,
                            "solidity": 0.2
                          }
                        },
                        "type": "bar"
                      }
                    ],
                    "barpolar": [
                      {
                        "marker": {
                          "line": {
                            "color": "#E5ECF6",
                            "width": 0.5
                          },
                          "pattern": {
                            "fillmode": "overlay",
                            "size": 10,
                            "solidity": 0.2
                          }
                        },
                        "type": "barpolar"
                      }
                    ],
                    "carpet": [
                      {
                        "aaxis": {
                          "endlinecolor": "#2a3f5f",
                          "gridcolor": "white",
                          "linecolor": "white",
                          "minorgridcolor": "white",
                          "startlinecolor": "#2a3f5f"
                        },
                        "baxis": {
                          "endlinecolor": "#2a3f5f",
                          "gridcolor": "white",
                          "linecolor": "white",
                          "minorgridcolor": "white",
                          "startlinecolor": "#2a3f5f"
                        },
                        "type": "carpet"
                      }
                    ],
                    "choropleth": [
                      {
                        "colorbar": {
                          "outlinewidth": 0,
                          "ticks": ""
                        },
                        "type": "choropleth"
                      }
                    ],
                    "contour": [
                      {
                        "colorbar": {
                          "outlinewidth": 0,
                          "ticks": ""
                        },
                        "colorscale": [
                          [
                            0,
                            "#0d0887"
                          ],
                          [
                            0.1111111111111111,
                            "#46039f"
                          ],
                          [
                            0.2222222222222222,
                            "#7201a8"
                          ],
                          [
                            0.3333333333333333,
                            "#9c179e"
                          ],
                          [
                            0.4444444444444444,
                            "#bd3786"
                          ],
                          [
                            0.5555555555555556,
                            "#d8576b"
                          ],
                          [
                            0.6666666666666666,
                            "#ed7953"
                          ],
                          [
                            0.7777777777777778,
                            "#fb9f3a"
                          ],
                          [
                            0.8888888888888888,
                            "#fdca26"
                          ],
                          [
                            1,
                            "#f0f921"
                          ]
                        ],
                        "type": "contour"
                      }
                    ],
                    "contourcarpet": [
                      {
                        "colorbar": {
                          "outlinewidth": 0,
                          "ticks": ""
                        },
                        "type": "contourcarpet"
                      }
                    ],
                    "heatmap": [
                      {
                        "colorbar": {
                          "outlinewidth": 0,
                          "ticks": ""
                        },
                        "colorscale": [
                          [
                            0,
                            "#0d0887"
                          ],
                          [
                            0.1111111111111111,
                            "#46039f"
                          ],
                          [
                            0.2222222222222222,
                            "#7201a8"
                          ],
                          [
                            0.3333333333333333,
                            "#9c179e"
                          ],
                          [
                            0.4444444444444444,
                            "#bd3786"
                          ],
                          [
                            0.5555555555555556,
                            "#d8576b"
                          ],
                          [
                            0.6666666666666666,
                            "#ed7953"
                          ],
                          [
                            0.7777777777777778,
                            "#fb9f3a"
                          ],
                          [
                            0.8888888888888888,
                            "#fdca26"
                          ],
                          [
                            1,
                            "#f0f921"
                          ]
                        ],
                        "type": "heatmap"
                      }
                    ],
                    "histogram": [
                      {
                        "marker": {
                          "pattern": {
                            "fillmode": "overlay",
                            "size": 10,
                            "solidity": 0.2
                          }
                        },
                        "type": "histogram"
                      }
                    ],
                    "histogram2d": [
                      {
                        "colorbar": {
                          "outlinewidth": 0,
                          "ticks": ""
                        },
                        "colorscale": [
                          [
                            0,
                            "#0d0887"
                          ],
                          [
                            0.1111111111111111,
                            "#46039f"
                          ],
                          [
                            0.2222222222222222,
                            "#7201a8"
                          ],
                          [
                            0.3333333333333333,
                            "#9c179e"
                          ],
                          [
                            0.4444444444444444,
                            "#bd3786"
                          ],
                          [
                            0.5555555555555556,
                            "#d8576b"
                          ],
                          [
                            0.6666666666666666,
                            "#ed7953"
                          ],
                          [
                            0.7777777777777778,
                            "#fb9f3a"
                          ],
                          [
                            0.8888888888888888,
                            "#fdca26"
                          ],
                          [
                            1,
                            "#f0f921"
                          ]
                        ],
                        "type": "histogram2d"
                      }
                    ],
                    "histogram2dcontour": [
                      {
                        "colorbar": {
                          "outlinewidth": 0,
                          "ticks": ""
                        },
                        "colorscale": [
                          [
                            0,
                            "#0d0887"
                          ],
                          [
                            0.1111111111111111,
                            "#46039f"
                          ],
                          [
                            0.2222222222222222,
                            "#7201a8"
                          ],
                          [
                            0.3333333333333333,
                            "#9c179e"
                          ],
                          [
                            0.4444444444444444,
                            "#bd3786"
                          ],
                          [
                            0.5555555555555556,
                            "#d8576b"
                          ],
                          [
                            0.6666666666666666,
                            "#ed7953"
                          ],
                          [
                            0.7777777777777778,
                            "#fb9f3a"
                          ],
                          [
                            0.8888888888888888,
                            "#fdca26"
                          ],
                          [
                            1,
                            "#f0f921"
                          ]
                        ],
                        "type": "histogram2dcontour"
                      }
                    ],
                    "mesh3d": [
                      {
                        "colorbar": {
                          "outlinewidth": 0,
                          "ticks": ""
                        },
                        "type": "mesh3d"
                      }
                    ],
                    "parcoords": [
                      {
                        "line": {
                          "colorbar": {
                            "outlinewidth": 0,
                            "ticks": ""
                          }
                        },
                        "type": "parcoords"
                      }
                    ],
                    "pie": [
                      {
                        "automargin": true,
                        "type": "pie"
                      }
                    ],
                    "scatter": [
                      {
                        "fillpattern": {
                          "fillmode": "overlay",
                          "size": 10,
                          "solidity": 0.2
                        },
                        "type": "scatter"
                      }
                    ],
                    "scatter3d": [
                      {
                        "line": {
                          "colorbar": {
                            "outlinewidth": 0,
                            "ticks": ""
                          }
                        },
                        "marker": {
                          "colorbar": {
                            "outlinewidth": 0,
                            "ticks": ""
                          }
                        },
                        "type": "scatter3d"
                      }
                    ],
                    "scattercarpet": [
                      {
                        "marker": {
                          "colorbar": {
                            "outlinewidth": 0,
                            "ticks": ""
                          }
                        },
                        "type": "scattercarpet"
                      }
                    ],
                    "scattergeo": [
                      {
                        "marker": {
                          "colorbar": {
                            "outlinewidth": 0,
                            "ticks": ""
                          }
                        },
                        "type": "scattergeo"
                      }
                    ],
                    "scattergl": [
                      {
                        "marker": {
                          "colorbar": {
                            "outlinewidth": 0,
                            "ticks": ""
                          }
                        },
                        "type": "scattergl"
                      }
                    ],
                    "scattermap": [
                      {
                        "marker": {
                          "colorbar": {
                            "outlinewidth": 0,
                            "ticks": ""
                          }
                        },
                        "type": "scattermap"
                      }
                    ],
                    "scattermapbox": [
                      {
                        "marker": {
                          "colorbar": {
                            "outlinewidth": 0,
                            "ticks": ""
                          }
                        },
                        "type": "scattermapbox"
                      }
                    ],
                    "scatterpolar": [
                      {
                        "marker": {
                          "colorbar": {
                            "outlinewidth": 0,
                            "ticks": ""
                          }
                        },
                        "type": "scatterpolar"
                      }
                    ],
                    "scatterpolargl": [
                      {
                        "marker": {
                          "colorbar": {
                            "outlinewidth": 0,
                            "ticks": ""
                          }
                        },
                        "type": "scatterpolargl"
                      }
                    ],
                    "scatterternary": [
                      {
                        "marker": {
                          "colorbar": {
                            "outlinewidth": 0,
                            "ticks": ""
                          }
                        },
                        "type": "scatterternary"
                      }
                    ],
                    "surface": [
                      {
                        "colorbar": {
                          "outlinewidth": 0,
                          "ticks": ""
                        },
                        "colorscale": [
                          [
                            0,
                            "#0d0887"
                          ],
                          [
                            0.1111111111111111,
                            "#46039f"
                          ],
                          [
                            0.2222222222222222,
                            "#7201a8"
                          ],
                          [
                            0.3333333333333333,
                            "#9c179e"
                          ],
                          [
                            0.4444444444444444,
                            "#bd3786"
                          ],
                          [
                            0.5555555555555556,
                            "#d8576b"
                          ],
                          [
                            0.6666666666666666,
                            "#ed7953"
                          ],
                          [
                            0.7777777777777778,
                            "#fb9f3a"
                          ],
                          [
                            0.8888888888888888,
                            "#fdca26"
                          ],
                          [
                            1,
                            "#f0f921"
                          ]
                        ],
                        "type": "surface"
                      }
                    ],
                    "table": [
                      {
                        "cells": {
                          "fill": {
                            "color": "#EBF0F8"
                          },
                          "line": {
                            "color": "white"
                          }
                        },
                        "header": {
                          "fill": {
                            "color": "#C8D4E3"
                          },
                          "line": {
                            "color": "white"
                          }
                        },
                        "type": "table"
                      }
                    ]
                  },
                  "layout": {
                    "annotationdefaults": {
                      "arrowcolor": "#2a3f5f",
                      "arrowhead": 0,
                      "arrowwidth": 1
                    },
                    "autotypenumbers": "strict",
                    "coloraxis": {
                      "colorbar": {
                        "outlinewidth": 0,
                        "ticks": ""
                      }
                    },
                    "colorscale": {
                      "diverging": [
                        [
                          0,
                          "#8e0152"
                        ],
                        [
                          0.1,
                          "#c51b7d"
                        ],
                        [
                          0.2,
                          "#de77ae"
                        ],
                        [
                          0.3,
                          "#f1b6da"
                        ],
                        [
                          0.4,
                          "#fde0ef"
                        ],
                        [
                          0.5,
                          "#f7f7f7"
                        ],
                        [
                          0.6,
                          "#e6f5d0"
                        ],
                        [
                          0.7,
                          "#b8e186"
                        ],
                        [
                          0.8,
                          "#7fbc41"
                        ],
                        [
                          0.9,
                          "#4d9221"
                        ],
                        [
                          1,
                          "#276419"
                        ]
                      ],
                      "sequential": [
                        [
                          0,
                          "#0d0887"
                        ],
                        [
                          0.1111111111111111,
                          "#46039f"
                        ],
                        [
                          0.2222222222222222,
                          "#7201a8"
                        ],
                        [
                          0.3333333333333333,
                          "#9c179e"
                        ],
                        [
                          0.4444444444444444,
                          "#bd3786"
                        ],
                        [
                          0.5555555555555556,
                          "#d8576b"
                        ],
                        [
                          0.6666666666666666,
                          "#ed7953"
                        ],
                        [
                          0.7777777777777778,
                          "#fb9f3a"
                        ],
                        [
                          0.8888888888888888,
                          "#fdca26"
                        ],
                        [
                          1,
                          "#f0f921"
                        ]
                      ],
                      "sequentialminus": [
                        [
                          0,
                          "#0d0887"
                        ],
                        [
                          0.1111111111111111,
                          "#46039f"
                        ],
                        [
                          0.2222222222222222,
                          "#7201a8"
                        ],
                        [
                          0.3333333333333333,
                          "#9c179e"
                        ],
                        [
                          0.4444444444444444,
                          "#bd3786"
                        ],
                        [
                          0.5555555555555556,
                          "#d8576b"
                        ],
                        [
                          0.6666666666666666,
                          "#ed7953"
                        ],
                        [
                          0.7777777777777778,
                          "#fb9f3a"
                        ],
                        [
                          0.8888888888888888,
                          "#fdca26"
                        ],
                        [
                          1,
                          "#f0f921"
                        ]
                      ]
                    },
                    "colorway": [
                      "#636efa",
                      "#EF553B",
                      "#00cc96",
                      "#ab63fa",
                      "#FFA15A",
                      "#19d3f3",
                      "#FF6692",
                      "#B6E880",
                      "#FF97FF",
                      "#FECB52"
                    ],
                    "font": {
                      "color": "#2a3f5f"
                    },
                    "geo": {
                      "bgcolor": "white",
                      "lakecolor": "white",
                      "landcolor": "#E5ECF6",
                      "showlakes": true,
                      "showland": true,
                      "subunitcolor": "white"
                    },
                    "hoverlabel": {
                      "align": "left"
                    },
                    "hovermode": "closest",
                    "mapbox": {
                      "style": "light"
                    },
                    "paper_bgcolor": "white",
                    "plot_bgcolor": "#E5ECF6",
                    "polar": {
                      "angularaxis": {
                        "gridcolor": "white",
                        "linecolor": "white",
                        "ticks": ""
                      },
                      "bgcolor": "#E5ECF6",
                      "radialaxis": {
                        "gridcolor": "white",
                        "linecolor": "white",
                        "ticks": ""
                      }
                    },
                    "scene": {
                      "xaxis": {
                        "backgroundcolor": "#E5ECF6",
                        "gridcolor": "white",
                        "gridwidth": 2,
                        "linecolor": "white",
                        "showbackground": true,
                        "ticks": "",
                        "zerolinecolor": "white"
                      },
                      "yaxis": {
                        "backgroundcolor": "#E5ECF6",
                        "gridcolor": "white",
                        "gridwidth": 2,
                        "linecolor": "white",
                        "showbackground": true,
                        "ticks": "",
                        "zerolinecolor": "white"
                      },
                      "zaxis": {
                        "backgroundcolor": "#E5ECF6",
                        "gridcolor": "white",
                        "gridwidth": 2,
                        "linecolor": "white",
                        "showbackground": true,
                        "ticks": "",
                        "zerolinecolor": "white"
                      }
                    },
                    "shapedefaults": {
                      "line": {
                        "color": "#2a3f5f"
                      }
                    },
                    "ternary": {
                      "aaxis": {
                        "gridcolor": "white",
                        "linecolor": "white",
                        "ticks": ""
                      },
                      "baxis": {
                        "gridcolor": "white",
                        "linecolor": "white",
                        "ticks": ""
                      },
                      "bgcolor": "#E5ECF6",
                      "caxis": {
                        "gridcolor": "white",
                        "linecolor": "white",
                        "ticks": ""
                      }
                    },
                    "title": {
                      "x": 0.05
                    },
                    "xaxis": {
                      "automargin": true,
                      "gridcolor": "white",
                      "linecolor": "white",
                      "ticks": "",
                      "title": {
                        "standoff": 15
                      },
                      "zerolinecolor": "white",
                      "zerolinewidth": 2
                    },
                    "yaxis": {
                      "automargin": true,
                      "gridcolor": "white",
                      "linecolor": "white",
                      "ticks": "",
                      "title": {
                        "standoff": 15
                      },
                      "zerolinecolor": "white",
                      "zerolinewidth": 2
                    }
                  }
                },
                "title": {
                  "text": "Qualité de l'air vs température"
                },
                "xaxis": {
                  "anchor": "y",
                  "domain": [
                    0,
                    1
                  ],
                  "title": {
                    "text": "temp"
                  }
                },
                "yaxis": {
                  "anchor": "x",
                  "domain": [
                    0,
                    1
                  ],
                  "title": {
                    "text": "co"
                  }
                }
              }
            }
          },
          "metadata": {},
          "output_type": "display_data"
        }
      ],
      "source": [
        "### 💡 Visualisations guidées\n",
        "\n",
        "# 1. Heatmap des températures par ville et jour\n",
        "fig = px.density_heatmap(df_total,\n",
        "                         title=\"Heatmap des températures par ville et jour\",\n",
        "                         x=\"datetime\", \n",
        "                         y=\"city\", \n",
        "                         z=\"temp\", \n",
        "                         histfunc=\"avg\")\n",
        "fig.show()\n",
        "\n",
        "# 2. Boxplot comparatif des précipitations\n",
        "# Utilisez seaborn.boxplot()\n",
        "fig = px.box(df_total,\n",
        "            title=\"Comparatif des précipitations\",\n",
        "            x=\"city\", \n",
        "            y=\"precip\")\n",
        "fig.show()\n",
        "\n",
        "# 3. Scatter plot qualité air vs température\n",
        "# Ajoutez une regression line avec seaborn.regplot()\n",
        "fig = px.scatter(df_total,\n",
        "                 title=\"Qualité de l'air vs température\",\n",
        "                 x=\"temp\", \n",
        "                 y=\"co\",\n",
        "                 trendline=\"ols\")\n",
        "fig.show()\n"
      ]
    },
    {
      "cell_type": "markdown",
      "metadata": {},
      "source": [
        "1. **Comparaison inter-villes**\n",
        "   - Températures moyennes par ville\n",
        "   - Variabilité climatique (écart-type)\n",
        "   - Corrélations température/humidité"
      ]
    },
    {
      "cell_type": "code",
      "execution_count": 88,
      "metadata": {},
      "outputs": [
        {
          "data": {
            "application/vnd.plotly.v1+json": {
              "config": {
                "plotlyServerURL": "https://plot.ly"
              },
              "data": [
                {
                  "hovertemplate": "city=%{x}<br>temp=%{y}<extra></extra>",
                  "legendgroup": "",
                  "marker": {
                    "color": "#636efa",
                    "pattern": {
                      "shape": ""
                    }
                  },
                  "name": "",
                  "orientation": "v",
                  "showlegend": false,
                  "textposition": "auto",
                  "type": "bar",
                  "x": [
                    "Madrid",
                    "Vienna",
                    "Paris",
                    "Berlin",
                    "Amsterdam"
                  ],
                  "xaxis": "x",
                  "y": {
                    "bdata": "xld8xVf8OEBCHdRBHdQ1QDqogzqogzNAQh3UQR1UM0CDOqiDOigzQA==",
                    "dtype": "f8"
                  },
                  "yaxis": "y"
                }
              ],
              "layout": {
                "barmode": "relative",
                "legend": {
                  "tracegroupgap": 0
                },
                "template": {
                  "data": {
                    "bar": [
                      {
                        "error_x": {
                          "color": "#2a3f5f"
                        },
                        "error_y": {
                          "color": "#2a3f5f"
                        },
                        "marker": {
                          "line": {
                            "color": "#E5ECF6",
                            "width": 0.5
                          },
                          "pattern": {
                            "fillmode": "overlay",
                            "size": 10,
                            "solidity": 0.2
                          }
                        },
                        "type": "bar"
                      }
                    ],
                    "barpolar": [
                      {
                        "marker": {
                          "line": {
                            "color": "#E5ECF6",
                            "width": 0.5
                          },
                          "pattern": {
                            "fillmode": "overlay",
                            "size": 10,
                            "solidity": 0.2
                          }
                        },
                        "type": "barpolar"
                      }
                    ],
                    "carpet": [
                      {
                        "aaxis": {
                          "endlinecolor": "#2a3f5f",
                          "gridcolor": "white",
                          "linecolor": "white",
                          "minorgridcolor": "white",
                          "startlinecolor": "#2a3f5f"
                        },
                        "baxis": {
                          "endlinecolor": "#2a3f5f",
                          "gridcolor": "white",
                          "linecolor": "white",
                          "minorgridcolor": "white",
                          "startlinecolor": "#2a3f5f"
                        },
                        "type": "carpet"
                      }
                    ],
                    "choropleth": [
                      {
                        "colorbar": {
                          "outlinewidth": 0,
                          "ticks": ""
                        },
                        "type": "choropleth"
                      }
                    ],
                    "contour": [
                      {
                        "colorbar": {
                          "outlinewidth": 0,
                          "ticks": ""
                        },
                        "colorscale": [
                          [
                            0,
                            "#0d0887"
                          ],
                          [
                            0.1111111111111111,
                            "#46039f"
                          ],
                          [
                            0.2222222222222222,
                            "#7201a8"
                          ],
                          [
                            0.3333333333333333,
                            "#9c179e"
                          ],
                          [
                            0.4444444444444444,
                            "#bd3786"
                          ],
                          [
                            0.5555555555555556,
                            "#d8576b"
                          ],
                          [
                            0.6666666666666666,
                            "#ed7953"
                          ],
                          [
                            0.7777777777777778,
                            "#fb9f3a"
                          ],
                          [
                            0.8888888888888888,
                            "#fdca26"
                          ],
                          [
                            1,
                            "#f0f921"
                          ]
                        ],
                        "type": "contour"
                      }
                    ],
                    "contourcarpet": [
                      {
                        "colorbar": {
                          "outlinewidth": 0,
                          "ticks": ""
                        },
                        "type": "contourcarpet"
                      }
                    ],
                    "heatmap": [
                      {
                        "colorbar": {
                          "outlinewidth": 0,
                          "ticks": ""
                        },
                        "colorscale": [
                          [
                            0,
                            "#0d0887"
                          ],
                          [
                            0.1111111111111111,
                            "#46039f"
                          ],
                          [
                            0.2222222222222222,
                            "#7201a8"
                          ],
                          [
                            0.3333333333333333,
                            "#9c179e"
                          ],
                          [
                            0.4444444444444444,
                            "#bd3786"
                          ],
                          [
                            0.5555555555555556,
                            "#d8576b"
                          ],
                          [
                            0.6666666666666666,
                            "#ed7953"
                          ],
                          [
                            0.7777777777777778,
                            "#fb9f3a"
                          ],
                          [
                            0.8888888888888888,
                            "#fdca26"
                          ],
                          [
                            1,
                            "#f0f921"
                          ]
                        ],
                        "type": "heatmap"
                      }
                    ],
                    "histogram": [
                      {
                        "marker": {
                          "pattern": {
                            "fillmode": "overlay",
                            "size": 10,
                            "solidity": 0.2
                          }
                        },
                        "type": "histogram"
                      }
                    ],
                    "histogram2d": [
                      {
                        "colorbar": {
                          "outlinewidth": 0,
                          "ticks": ""
                        },
                        "colorscale": [
                          [
                            0,
                            "#0d0887"
                          ],
                          [
                            0.1111111111111111,
                            "#46039f"
                          ],
                          [
                            0.2222222222222222,
                            "#7201a8"
                          ],
                          [
                            0.3333333333333333,
                            "#9c179e"
                          ],
                          [
                            0.4444444444444444,
                            "#bd3786"
                          ],
                          [
                            0.5555555555555556,
                            "#d8576b"
                          ],
                          [
                            0.6666666666666666,
                            "#ed7953"
                          ],
                          [
                            0.7777777777777778,
                            "#fb9f3a"
                          ],
                          [
                            0.8888888888888888,
                            "#fdca26"
                          ],
                          [
                            1,
                            "#f0f921"
                          ]
                        ],
                        "type": "histogram2d"
                      }
                    ],
                    "histogram2dcontour": [
                      {
                        "colorbar": {
                          "outlinewidth": 0,
                          "ticks": ""
                        },
                        "colorscale": [
                          [
                            0,
                            "#0d0887"
                          ],
                          [
                            0.1111111111111111,
                            "#46039f"
                          ],
                          [
                            0.2222222222222222,
                            "#7201a8"
                          ],
                          [
                            0.3333333333333333,
                            "#9c179e"
                          ],
                          [
                            0.4444444444444444,
                            "#bd3786"
                          ],
                          [
                            0.5555555555555556,
                            "#d8576b"
                          ],
                          [
                            0.6666666666666666,
                            "#ed7953"
                          ],
                          [
                            0.7777777777777778,
                            "#fb9f3a"
                          ],
                          [
                            0.8888888888888888,
                            "#fdca26"
                          ],
                          [
                            1,
                            "#f0f921"
                          ]
                        ],
                        "type": "histogram2dcontour"
                      }
                    ],
                    "mesh3d": [
                      {
                        "colorbar": {
                          "outlinewidth": 0,
                          "ticks": ""
                        },
                        "type": "mesh3d"
                      }
                    ],
                    "parcoords": [
                      {
                        "line": {
                          "colorbar": {
                            "outlinewidth": 0,
                            "ticks": ""
                          }
                        },
                        "type": "parcoords"
                      }
                    ],
                    "pie": [
                      {
                        "automargin": true,
                        "type": "pie"
                      }
                    ],
                    "scatter": [
                      {
                        "fillpattern": {
                          "fillmode": "overlay",
                          "size": 10,
                          "solidity": 0.2
                        },
                        "type": "scatter"
                      }
                    ],
                    "scatter3d": [
                      {
                        "line": {
                          "colorbar": {
                            "outlinewidth": 0,
                            "ticks": ""
                          }
                        },
                        "marker": {
                          "colorbar": {
                            "outlinewidth": 0,
                            "ticks": ""
                          }
                        },
                        "type": "scatter3d"
                      }
                    ],
                    "scattercarpet": [
                      {
                        "marker": {
                          "colorbar": {
                            "outlinewidth": 0,
                            "ticks": ""
                          }
                        },
                        "type": "scattercarpet"
                      }
                    ],
                    "scattergeo": [
                      {
                        "marker": {
                          "colorbar": {
                            "outlinewidth": 0,
                            "ticks": ""
                          }
                        },
                        "type": "scattergeo"
                      }
                    ],
                    "scattergl": [
                      {
                        "marker": {
                          "colorbar": {
                            "outlinewidth": 0,
                            "ticks": ""
                          }
                        },
                        "type": "scattergl"
                      }
                    ],
                    "scattermap": [
                      {
                        "marker": {
                          "colorbar": {
                            "outlinewidth": 0,
                            "ticks": ""
                          }
                        },
                        "type": "scattermap"
                      }
                    ],
                    "scattermapbox": [
                      {
                        "marker": {
                          "colorbar": {
                            "outlinewidth": 0,
                            "ticks": ""
                          }
                        },
                        "type": "scattermapbox"
                      }
                    ],
                    "scatterpolar": [
                      {
                        "marker": {
                          "colorbar": {
                            "outlinewidth": 0,
                            "ticks": ""
                          }
                        },
                        "type": "scatterpolar"
                      }
                    ],
                    "scatterpolargl": [
                      {
                        "marker": {
                          "colorbar": {
                            "outlinewidth": 0,
                            "ticks": ""
                          }
                        },
                        "type": "scatterpolargl"
                      }
                    ],
                    "scatterternary": [
                      {
                        "marker": {
                          "colorbar": {
                            "outlinewidth": 0,
                            "ticks": ""
                          }
                        },
                        "type": "scatterternary"
                      }
                    ],
                    "surface": [
                      {
                        "colorbar": {
                          "outlinewidth": 0,
                          "ticks": ""
                        },
                        "colorscale": [
                          [
                            0,
                            "#0d0887"
                          ],
                          [
                            0.1111111111111111,
                            "#46039f"
                          ],
                          [
                            0.2222222222222222,
                            "#7201a8"
                          ],
                          [
                            0.3333333333333333,
                            "#9c179e"
                          ],
                          [
                            0.4444444444444444,
                            "#bd3786"
                          ],
                          [
                            0.5555555555555556,
                            "#d8576b"
                          ],
                          [
                            0.6666666666666666,
                            "#ed7953"
                          ],
                          [
                            0.7777777777777778,
                            "#fb9f3a"
                          ],
                          [
                            0.8888888888888888,
                            "#fdca26"
                          ],
                          [
                            1,
                            "#f0f921"
                          ]
                        ],
                        "type": "surface"
                      }
                    ],
                    "table": [
                      {
                        "cells": {
                          "fill": {
                            "color": "#EBF0F8"
                          },
                          "line": {
                            "color": "white"
                          }
                        },
                        "header": {
                          "fill": {
                            "color": "#C8D4E3"
                          },
                          "line": {
                            "color": "white"
                          }
                        },
                        "type": "table"
                      }
                    ]
                  },
                  "layout": {
                    "annotationdefaults": {
                      "arrowcolor": "#2a3f5f",
                      "arrowhead": 0,
                      "arrowwidth": 1
                    },
                    "autotypenumbers": "strict",
                    "coloraxis": {
                      "colorbar": {
                        "outlinewidth": 0,
                        "ticks": ""
                      }
                    },
                    "colorscale": {
                      "diverging": [
                        [
                          0,
                          "#8e0152"
                        ],
                        [
                          0.1,
                          "#c51b7d"
                        ],
                        [
                          0.2,
                          "#de77ae"
                        ],
                        [
                          0.3,
                          "#f1b6da"
                        ],
                        [
                          0.4,
                          "#fde0ef"
                        ],
                        [
                          0.5,
                          "#f7f7f7"
                        ],
                        [
                          0.6,
                          "#e6f5d0"
                        ],
                        [
                          0.7,
                          "#b8e186"
                        ],
                        [
                          0.8,
                          "#7fbc41"
                        ],
                        [
                          0.9,
                          "#4d9221"
                        ],
                        [
                          1,
                          "#276419"
                        ]
                      ],
                      "sequential": [
                        [
                          0,
                          "#0d0887"
                        ],
                        [
                          0.1111111111111111,
                          "#46039f"
                        ],
                        [
                          0.2222222222222222,
                          "#7201a8"
                        ],
                        [
                          0.3333333333333333,
                          "#9c179e"
                        ],
                        [
                          0.4444444444444444,
                          "#bd3786"
                        ],
                        [
                          0.5555555555555556,
                          "#d8576b"
                        ],
                        [
                          0.6666666666666666,
                          "#ed7953"
                        ],
                        [
                          0.7777777777777778,
                          "#fb9f3a"
                        ],
                        [
                          0.8888888888888888,
                          "#fdca26"
                        ],
                        [
                          1,
                          "#f0f921"
                        ]
                      ],
                      "sequentialminus": [
                        [
                          0,
                          "#0d0887"
                        ],
                        [
                          0.1111111111111111,
                          "#46039f"
                        ],
                        [
                          0.2222222222222222,
                          "#7201a8"
                        ],
                        [
                          0.3333333333333333,
                          "#9c179e"
                        ],
                        [
                          0.4444444444444444,
                          "#bd3786"
                        ],
                        [
                          0.5555555555555556,
                          "#d8576b"
                        ],
                        [
                          0.6666666666666666,
                          "#ed7953"
                        ],
                        [
                          0.7777777777777778,
                          "#fb9f3a"
                        ],
                        [
                          0.8888888888888888,
                          "#fdca26"
                        ],
                        [
                          1,
                          "#f0f921"
                        ]
                      ]
                    },
                    "colorway": [
                      "#636efa",
                      "#EF553B",
                      "#00cc96",
                      "#ab63fa",
                      "#FFA15A",
                      "#19d3f3",
                      "#FF6692",
                      "#B6E880",
                      "#FF97FF",
                      "#FECB52"
                    ],
                    "font": {
                      "color": "#2a3f5f"
                    },
                    "geo": {
                      "bgcolor": "white",
                      "lakecolor": "white",
                      "landcolor": "#E5ECF6",
                      "showlakes": true,
                      "showland": true,
                      "subunitcolor": "white"
                    },
                    "hoverlabel": {
                      "align": "left"
                    },
                    "hovermode": "closest",
                    "mapbox": {
                      "style": "light"
                    },
                    "paper_bgcolor": "white",
                    "plot_bgcolor": "#E5ECF6",
                    "polar": {
                      "angularaxis": {
                        "gridcolor": "white",
                        "linecolor": "white",
                        "ticks": ""
                      },
                      "bgcolor": "#E5ECF6",
                      "radialaxis": {
                        "gridcolor": "white",
                        "linecolor": "white",
                        "ticks": ""
                      }
                    },
                    "scene": {
                      "xaxis": {
                        "backgroundcolor": "#E5ECF6",
                        "gridcolor": "white",
                        "gridwidth": 2,
                        "linecolor": "white",
                        "showbackground": true,
                        "ticks": "",
                        "zerolinecolor": "white"
                      },
                      "yaxis": {
                        "backgroundcolor": "#E5ECF6",
                        "gridcolor": "white",
                        "gridwidth": 2,
                        "linecolor": "white",
                        "showbackground": true,
                        "ticks": "",
                        "zerolinecolor": "white"
                      },
                      "zaxis": {
                        "backgroundcolor": "#E5ECF6",
                        "gridcolor": "white",
                        "gridwidth": 2,
                        "linecolor": "white",
                        "showbackground": true,
                        "ticks": "",
                        "zerolinecolor": "white"
                      }
                    },
                    "shapedefaults": {
                      "line": {
                        "color": "#2a3f5f"
                      }
                    },
                    "ternary": {
                      "aaxis": {
                        "gridcolor": "white",
                        "linecolor": "white",
                        "ticks": ""
                      },
                      "baxis": {
                        "gridcolor": "white",
                        "linecolor": "white",
                        "ticks": ""
                      },
                      "bgcolor": "#E5ECF6",
                      "caxis": {
                        "gridcolor": "white",
                        "linecolor": "white",
                        "ticks": ""
                      }
                    },
                    "title": {
                      "x": 0.05
                    },
                    "xaxis": {
                      "automargin": true,
                      "gridcolor": "white",
                      "linecolor": "white",
                      "ticks": "",
                      "title": {
                        "standoff": 15
                      },
                      "zerolinecolor": "white",
                      "zerolinewidth": 2
                    },
                    "yaxis": {
                      "automargin": true,
                      "gridcolor": "white",
                      "linecolor": "white",
                      "ticks": "",
                      "title": {
                        "standoff": 15
                      },
                      "zerolinecolor": "white",
                      "zerolinewidth": 2
                    }
                  }
                },
                "title": {
                  "text": "Températures moyennes par ville"
                },
                "xaxis": {
                  "anchor": "y",
                  "domain": [
                    0,
                    1
                  ],
                  "title": {
                    "text": "city"
                  }
                },
                "yaxis": {
                  "anchor": "x",
                  "domain": [
                    0,
                    1
                  ],
                  "title": {
                    "text": "temp"
                  }
                }
              }
            }
          },
          "metadata": {},
          "output_type": "display_data"
        }
      ],
      "source": [
        "df_agg = df_total.groupby(\"city\")[\"temp\"].mean().reset_index()\n",
        "df_agg.sort_values(by=[\"temp\"], ascending=False, inplace=True)\n",
        "fig = px.bar(df_agg,\n",
        "             title=\"Températures moyennes par ville\",\n",
        "             y=\"temp\",\n",
        "             x='city')\n",
        "fig.show()"
      ]
    },
    {
      "cell_type": "code",
      "execution_count": 96,
      "metadata": {},
      "outputs": [
        {
          "data": {
            "application/vnd.plotly.v1+json": {
              "config": {
                "plotlyServerURL": "https://plot.ly"
              },
              "data": [
                {
                  "hovertemplate": "city=%{x}<br>precip=%{y}<extra></extra>",
                  "legendgroup": "",
                  "marker": {
                    "color": "#636efa",
                    "pattern": {
                      "shape": ""
                    }
                  },
                  "name": "",
                  "orientation": "v",
                  "showlegend": false,
                  "textposition": "auto",
                  "type": "bar",
                  "x": [
                    "Berlin",
                    "Vienna",
                    "Paris",
                    "Amsterdam",
                    "Madrid"
                  ],
                  "xaxis": "x",
                  "y": {
                    "bdata": "B3VQB3VQGUAYingsOMAYQLW8MYKJ/gZA1vLGCCb6+T8AAAAAAAAAAA==",
                    "dtype": "f8"
                  },
                  "yaxis": "y"
                }
              ],
              "layout": {
                "barmode": "relative",
                "legend": {
                  "tracegroupgap": 0
                },
                "template": {
                  "data": {
                    "bar": [
                      {
                        "error_x": {
                          "color": "#2a3f5f"
                        },
                        "error_y": {
                          "color": "#2a3f5f"
                        },
                        "marker": {
                          "line": {
                            "color": "#E5ECF6",
                            "width": 0.5
                          },
                          "pattern": {
                            "fillmode": "overlay",
                            "size": 10,
                            "solidity": 0.2
                          }
                        },
                        "type": "bar"
                      }
                    ],
                    "barpolar": [
                      {
                        "marker": {
                          "line": {
                            "color": "#E5ECF6",
                            "width": 0.5
                          },
                          "pattern": {
                            "fillmode": "overlay",
                            "size": 10,
                            "solidity": 0.2
                          }
                        },
                        "type": "barpolar"
                      }
                    ],
                    "carpet": [
                      {
                        "aaxis": {
                          "endlinecolor": "#2a3f5f",
                          "gridcolor": "white",
                          "linecolor": "white",
                          "minorgridcolor": "white",
                          "startlinecolor": "#2a3f5f"
                        },
                        "baxis": {
                          "endlinecolor": "#2a3f5f",
                          "gridcolor": "white",
                          "linecolor": "white",
                          "minorgridcolor": "white",
                          "startlinecolor": "#2a3f5f"
                        },
                        "type": "carpet"
                      }
                    ],
                    "choropleth": [
                      {
                        "colorbar": {
                          "outlinewidth": 0,
                          "ticks": ""
                        },
                        "type": "choropleth"
                      }
                    ],
                    "contour": [
                      {
                        "colorbar": {
                          "outlinewidth": 0,
                          "ticks": ""
                        },
                        "colorscale": [
                          [
                            0,
                            "#0d0887"
                          ],
                          [
                            0.1111111111111111,
                            "#46039f"
                          ],
                          [
                            0.2222222222222222,
                            "#7201a8"
                          ],
                          [
                            0.3333333333333333,
                            "#9c179e"
                          ],
                          [
                            0.4444444444444444,
                            "#bd3786"
                          ],
                          [
                            0.5555555555555556,
                            "#d8576b"
                          ],
                          [
                            0.6666666666666666,
                            "#ed7953"
                          ],
                          [
                            0.7777777777777778,
                            "#fb9f3a"
                          ],
                          [
                            0.8888888888888888,
                            "#fdca26"
                          ],
                          [
                            1,
                            "#f0f921"
                          ]
                        ],
                        "type": "contour"
                      }
                    ],
                    "contourcarpet": [
                      {
                        "colorbar": {
                          "outlinewidth": 0,
                          "ticks": ""
                        },
                        "type": "contourcarpet"
                      }
                    ],
                    "heatmap": [
                      {
                        "colorbar": {
                          "outlinewidth": 0,
                          "ticks": ""
                        },
                        "colorscale": [
                          [
                            0,
                            "#0d0887"
                          ],
                          [
                            0.1111111111111111,
                            "#46039f"
                          ],
                          [
                            0.2222222222222222,
                            "#7201a8"
                          ],
                          [
                            0.3333333333333333,
                            "#9c179e"
                          ],
                          [
                            0.4444444444444444,
                            "#bd3786"
                          ],
                          [
                            0.5555555555555556,
                            "#d8576b"
                          ],
                          [
                            0.6666666666666666,
                            "#ed7953"
                          ],
                          [
                            0.7777777777777778,
                            "#fb9f3a"
                          ],
                          [
                            0.8888888888888888,
                            "#fdca26"
                          ],
                          [
                            1,
                            "#f0f921"
                          ]
                        ],
                        "type": "heatmap"
                      }
                    ],
                    "histogram": [
                      {
                        "marker": {
                          "pattern": {
                            "fillmode": "overlay",
                            "size": 10,
                            "solidity": 0.2
                          }
                        },
                        "type": "histogram"
                      }
                    ],
                    "histogram2d": [
                      {
                        "colorbar": {
                          "outlinewidth": 0,
                          "ticks": ""
                        },
                        "colorscale": [
                          [
                            0,
                            "#0d0887"
                          ],
                          [
                            0.1111111111111111,
                            "#46039f"
                          ],
                          [
                            0.2222222222222222,
                            "#7201a8"
                          ],
                          [
                            0.3333333333333333,
                            "#9c179e"
                          ],
                          [
                            0.4444444444444444,
                            "#bd3786"
                          ],
                          [
                            0.5555555555555556,
                            "#d8576b"
                          ],
                          [
                            0.6666666666666666,
                            "#ed7953"
                          ],
                          [
                            0.7777777777777778,
                            "#fb9f3a"
                          ],
                          [
                            0.8888888888888888,
                            "#fdca26"
                          ],
                          [
                            1,
                            "#f0f921"
                          ]
                        ],
                        "type": "histogram2d"
                      }
                    ],
                    "histogram2dcontour": [
                      {
                        "colorbar": {
                          "outlinewidth": 0,
                          "ticks": ""
                        },
                        "colorscale": [
                          [
                            0,
                            "#0d0887"
                          ],
                          [
                            0.1111111111111111,
                            "#46039f"
                          ],
                          [
                            0.2222222222222222,
                            "#7201a8"
                          ],
                          [
                            0.3333333333333333,
                            "#9c179e"
                          ],
                          [
                            0.4444444444444444,
                            "#bd3786"
                          ],
                          [
                            0.5555555555555556,
                            "#d8576b"
                          ],
                          [
                            0.6666666666666666,
                            "#ed7953"
                          ],
                          [
                            0.7777777777777778,
                            "#fb9f3a"
                          ],
                          [
                            0.8888888888888888,
                            "#fdca26"
                          ],
                          [
                            1,
                            "#f0f921"
                          ]
                        ],
                        "type": "histogram2dcontour"
                      }
                    ],
                    "mesh3d": [
                      {
                        "colorbar": {
                          "outlinewidth": 0,
                          "ticks": ""
                        },
                        "type": "mesh3d"
                      }
                    ],
                    "parcoords": [
                      {
                        "line": {
                          "colorbar": {
                            "outlinewidth": 0,
                            "ticks": ""
                          }
                        },
                        "type": "parcoords"
                      }
                    ],
                    "pie": [
                      {
                        "automargin": true,
                        "type": "pie"
                      }
                    ],
                    "scatter": [
                      {
                        "fillpattern": {
                          "fillmode": "overlay",
                          "size": 10,
                          "solidity": 0.2
                        },
                        "type": "scatter"
                      }
                    ],
                    "scatter3d": [
                      {
                        "line": {
                          "colorbar": {
                            "outlinewidth": 0,
                            "ticks": ""
                          }
                        },
                        "marker": {
                          "colorbar": {
                            "outlinewidth": 0,
                            "ticks": ""
                          }
                        },
                        "type": "scatter3d"
                      }
                    ],
                    "scattercarpet": [
                      {
                        "marker": {
                          "colorbar": {
                            "outlinewidth": 0,
                            "ticks": ""
                          }
                        },
                        "type": "scattercarpet"
                      }
                    ],
                    "scattergeo": [
                      {
                        "marker": {
                          "colorbar": {
                            "outlinewidth": 0,
                            "ticks": ""
                          }
                        },
                        "type": "scattergeo"
                      }
                    ],
                    "scattergl": [
                      {
                        "marker": {
                          "colorbar": {
                            "outlinewidth": 0,
                            "ticks": ""
                          }
                        },
                        "type": "scattergl"
                      }
                    ],
                    "scattermap": [
                      {
                        "marker": {
                          "colorbar": {
                            "outlinewidth": 0,
                            "ticks": ""
                          }
                        },
                        "type": "scattermap"
                      }
                    ],
                    "scattermapbox": [
                      {
                        "marker": {
                          "colorbar": {
                            "outlinewidth": 0,
                            "ticks": ""
                          }
                        },
                        "type": "scattermapbox"
                      }
                    ],
                    "scatterpolar": [
                      {
                        "marker": {
                          "colorbar": {
                            "outlinewidth": 0,
                            "ticks": ""
                          }
                        },
                        "type": "scatterpolar"
                      }
                    ],
                    "scatterpolargl": [
                      {
                        "marker": {
                          "colorbar": {
                            "outlinewidth": 0,
                            "ticks": ""
                          }
                        },
                        "type": "scatterpolargl"
                      }
                    ],
                    "scatterternary": [
                      {
                        "marker": {
                          "colorbar": {
                            "outlinewidth": 0,
                            "ticks": ""
                          }
                        },
                        "type": "scatterternary"
                      }
                    ],
                    "surface": [
                      {
                        "colorbar": {
                          "outlinewidth": 0,
                          "ticks": ""
                        },
                        "colorscale": [
                          [
                            0,
                            "#0d0887"
                          ],
                          [
                            0.1111111111111111,
                            "#46039f"
                          ],
                          [
                            0.2222222222222222,
                            "#7201a8"
                          ],
                          [
                            0.3333333333333333,
                            "#9c179e"
                          ],
                          [
                            0.4444444444444444,
                            "#bd3786"
                          ],
                          [
                            0.5555555555555556,
                            "#d8576b"
                          ],
                          [
                            0.6666666666666666,
                            "#ed7953"
                          ],
                          [
                            0.7777777777777778,
                            "#fb9f3a"
                          ],
                          [
                            0.8888888888888888,
                            "#fdca26"
                          ],
                          [
                            1,
                            "#f0f921"
                          ]
                        ],
                        "type": "surface"
                      }
                    ],
                    "table": [
                      {
                        "cells": {
                          "fill": {
                            "color": "#EBF0F8"
                          },
                          "line": {
                            "color": "white"
                          }
                        },
                        "header": {
                          "fill": {
                            "color": "#C8D4E3"
                          },
                          "line": {
                            "color": "white"
                          }
                        },
                        "type": "table"
                      }
                    ]
                  },
                  "layout": {
                    "annotationdefaults": {
                      "arrowcolor": "#2a3f5f",
                      "arrowhead": 0,
                      "arrowwidth": 1
                    },
                    "autotypenumbers": "strict",
                    "coloraxis": {
                      "colorbar": {
                        "outlinewidth": 0,
                        "ticks": ""
                      }
                    },
                    "colorscale": {
                      "diverging": [
                        [
                          0,
                          "#8e0152"
                        ],
                        [
                          0.1,
                          "#c51b7d"
                        ],
                        [
                          0.2,
                          "#de77ae"
                        ],
                        [
                          0.3,
                          "#f1b6da"
                        ],
                        [
                          0.4,
                          "#fde0ef"
                        ],
                        [
                          0.5,
                          "#f7f7f7"
                        ],
                        [
                          0.6,
                          "#e6f5d0"
                        ],
                        [
                          0.7,
                          "#b8e186"
                        ],
                        [
                          0.8,
                          "#7fbc41"
                        ],
                        [
                          0.9,
                          "#4d9221"
                        ],
                        [
                          1,
                          "#276419"
                        ]
                      ],
                      "sequential": [
                        [
                          0,
                          "#0d0887"
                        ],
                        [
                          0.1111111111111111,
                          "#46039f"
                        ],
                        [
                          0.2222222222222222,
                          "#7201a8"
                        ],
                        [
                          0.3333333333333333,
                          "#9c179e"
                        ],
                        [
                          0.4444444444444444,
                          "#bd3786"
                        ],
                        [
                          0.5555555555555556,
                          "#d8576b"
                        ],
                        [
                          0.6666666666666666,
                          "#ed7953"
                        ],
                        [
                          0.7777777777777778,
                          "#fb9f3a"
                        ],
                        [
                          0.8888888888888888,
                          "#fdca26"
                        ],
                        [
                          1,
                          "#f0f921"
                        ]
                      ],
                      "sequentialminus": [
                        [
                          0,
                          "#0d0887"
                        ],
                        [
                          0.1111111111111111,
                          "#46039f"
                        ],
                        [
                          0.2222222222222222,
                          "#7201a8"
                        ],
                        [
                          0.3333333333333333,
                          "#9c179e"
                        ],
                        [
                          0.4444444444444444,
                          "#bd3786"
                        ],
                        [
                          0.5555555555555556,
                          "#d8576b"
                        ],
                        [
                          0.6666666666666666,
                          "#ed7953"
                        ],
                        [
                          0.7777777777777778,
                          "#fb9f3a"
                        ],
                        [
                          0.8888888888888888,
                          "#fdca26"
                        ],
                        [
                          1,
                          "#f0f921"
                        ]
                      ]
                    },
                    "colorway": [
                      "#636efa",
                      "#EF553B",
                      "#00cc96",
                      "#ab63fa",
                      "#FFA15A",
                      "#19d3f3",
                      "#FF6692",
                      "#B6E880",
                      "#FF97FF",
                      "#FECB52"
                    ],
                    "font": {
                      "color": "#2a3f5f"
                    },
                    "geo": {
                      "bgcolor": "white",
                      "lakecolor": "white",
                      "landcolor": "#E5ECF6",
                      "showlakes": true,
                      "showland": true,
                      "subunitcolor": "white"
                    },
                    "hoverlabel": {
                      "align": "left"
                    },
                    "hovermode": "closest",
                    "mapbox": {
                      "style": "light"
                    },
                    "paper_bgcolor": "white",
                    "plot_bgcolor": "#E5ECF6",
                    "polar": {
                      "angularaxis": {
                        "gridcolor": "white",
                        "linecolor": "white",
                        "ticks": ""
                      },
                      "bgcolor": "#E5ECF6",
                      "radialaxis": {
                        "gridcolor": "white",
                        "linecolor": "white",
                        "ticks": ""
                      }
                    },
                    "scene": {
                      "xaxis": {
                        "backgroundcolor": "#E5ECF6",
                        "gridcolor": "white",
                        "gridwidth": 2,
                        "linecolor": "white",
                        "showbackground": true,
                        "ticks": "",
                        "zerolinecolor": "white"
                      },
                      "yaxis": {
                        "backgroundcolor": "#E5ECF6",
                        "gridcolor": "white",
                        "gridwidth": 2,
                        "linecolor": "white",
                        "showbackground": true,
                        "ticks": "",
                        "zerolinecolor": "white"
                      },
                      "zaxis": {
                        "backgroundcolor": "#E5ECF6",
                        "gridcolor": "white",
                        "gridwidth": 2,
                        "linecolor": "white",
                        "showbackground": true,
                        "ticks": "",
                        "zerolinecolor": "white"
                      }
                    },
                    "shapedefaults": {
                      "line": {
                        "color": "#2a3f5f"
                      }
                    },
                    "ternary": {
                      "aaxis": {
                        "gridcolor": "white",
                        "linecolor": "white",
                        "ticks": ""
                      },
                      "baxis": {
                        "gridcolor": "white",
                        "linecolor": "white",
                        "ticks": ""
                      },
                      "bgcolor": "#E5ECF6",
                      "caxis": {
                        "gridcolor": "white",
                        "linecolor": "white",
                        "ticks": ""
                      }
                    },
                    "title": {
                      "x": 0.05
                    },
                    "xaxis": {
                      "automargin": true,
                      "gridcolor": "white",
                      "linecolor": "white",
                      "ticks": "",
                      "title": {
                        "standoff": 15
                      },
                      "zerolinecolor": "white",
                      "zerolinewidth": 2
                    },
                    "yaxis": {
                      "automargin": true,
                      "gridcolor": "white",
                      "linecolor": "white",
                      "ticks": "",
                      "title": {
                        "standoff": 15
                      },
                      "zerolinecolor": "white",
                      "zerolinewidth": 2
                    }
                  }
                },
                "title": {
                  "text": "Variabilité climatique"
                },
                "xaxis": {
                  "anchor": "y",
                  "domain": [
                    0,
                    1
                  ],
                  "title": {
                    "text": "city"
                  }
                },
                "yaxis": {
                  "anchor": "x",
                  "domain": [
                    0,
                    1
                  ],
                  "title": {
                    "text": "precip"
                  }
                }
              }
            }
          },
          "metadata": {},
          "output_type": "display_data"
        }
      ],
      "source": [
        "df_mean = df_total.groupby(\"city\")[\"precip\"].mean().reset_index()\n",
        "df_mean.sort_values(by=[\"precip\"], ascending=False, inplace=True)\n",
        "fig = px.bar(df_mean,\n",
        "             title=\"Variabilité climatique\",\n",
        "             y=\"precip\",\n",
        "             x='city')\n",
        "fig.show()"
      ]
    },
    {
      "cell_type": "code",
      "execution_count": 104,
      "metadata": {},
      "outputs": [
        {
          "data": {
            "application/vnd.plotly.v1+json": {
              "config": {
                "plotlyServerURL": "https://plot.ly"
              },
              "data": [
                {
                  "hovertemplate": "humidity=%{x}<br>temp=%{y}<extra></extra>",
                  "legendgroup": "",
                  "marker": {
                    "color": "#636efa",
                    "symbol": "circle"
                  },
                  "mode": "markers",
                  "name": "",
                  "orientation": "v",
                  "showlegend": false,
                  "type": "scatter",
                  "x": {
                    "bdata": "AAAAAADAUUAzMzMzM5NSQDMzMzMz81RAMzMzMzMzUkBmZmZmZuZQQDMzMzMzs1NAmpmZmZl5UEAzMzMzM7NVQDMzMzMz81RAAAAAAAAgVEDNzMzMzCxVQJqZmZmZmVNAzczMzMxsUUDNzMzMzAxSQM3MzMzMTDxAMzMzMzMzQkAzMzMzM/NDQAAAAAAAAENAmpmZmZkZQkAzMzMzM7M+QM3MzMzMzEBAMzMzMzOzVEDNzMzMzGxUQGZmZmZmxlNAzczMzMwMVEBmZmZmZuZTQM3MzMzMDFNAAAAAAADAUkBmZmZmZuZIQAAAAAAAgEtAZmZmZmYGUEAzMzMzM7NQQJqZmZmZOVZAZmZmZmZmU0CamZmZmRlRQA==",
                    "dtype": "f8"
                  },
                  "xaxis": "x",
                  "y": {
                    "bdata": "MzMzMzMzM0AzMzMzMzMzQGZmZmZmZjJAMzMzMzOzNEBmZmZmZmY1QM3MzMzMzDJAZmZmZmbmMkAAAAAAAIAxQGZmZmZmZjJAAAAAAACAM0AAAAAAAAA0QGZmZmZmZjNAZmZmZmZmNECamZmZmRk0QDMzMzMzszlAAAAAAACAOUCamZmZmRk3QM3MzMzMTDZAMzMzMzOzOEDNzMzMzEw7QM3MzMzMTDpAMzMzMzMzM0AAAAAAAIAzQJqZmZmZmTNAMzMzMzOzM0AzMzMzM7MzQAAAAAAAgDJAZmZmZmbmMUAAAAAAAAA3QAAAAAAAgDdAZmZmZmZmN0AzMzMzMzM2QJqZmZmZGTRAzczMzMxMNEDNzMzMzEw0QA==",
                    "dtype": "f8"
                  },
                  "yaxis": "y"
                },
                {
                  "hovertemplate": "<b>OLS trendline</b><br>temp = -0.127103 * humidity + 29.4555<br>R<sup>2</sup>=0.819283<br><br>humidity=%{x}<br>temp=%{y} <b>(trend)</b><extra></extra>",
                  "legendgroup": "",
                  "marker": {
                    "color": "#636efa",
                    "symbol": "circle"
                  },
                  "mode": "lines",
                  "name": "",
                  "showlegend": false,
                  "type": "scatter",
                  "x": {
                    "bdata": "zczMzMxMPEAzMzMzM7M+QM3MzMzMzEBAmpmZmZkZQkAzMzMzMzNCQAAAAAAAAENAMzMzMzPzQ0BmZmZmZuZIQAAAAAAAgEtAZmZmZmYGUECamZmZmXlQQDMzMzMzs1BAZmZmZmbmUECamZmZmRlRQM3MzMzMbFFAAAAAAADAUUDNzMzMzAxSQDMzMzMzM1JAMzMzMzOTUkAAAAAAAMBSQM3MzMzMDFNAZmZmZmZmU0CamZmZmZlTQDMzMzMzs1NAZmZmZmbGU0BmZmZmZuZTQM3MzMzMDFRAAAAAAAAgVEDNzMzMzGxUQDMzMzMzs1RAMzMzMzPzVEAzMzMzM/NUQM3MzMzMLFVAMzMzMzOzVUCamZmZmTlWQA==",
                    "dtype": "f8"
                  },
                  "xaxis": "x",
                  "y": {
                    "bdata": "0CHBdsbbOUB+Ga3oro05QMbkVHJSLzlAFzG/7bjaOEC7hT33NtQ4QNoqMEMnoDhA7k5gnVRiOECcrE1zMyA3QD9FImoAdzZAXVAWGudONUAfSodvVRQ1QADHP5oM9zRAkBk5wATdNEAfbDLm/MI0QEiS5yOwmDRAcbicYWNuNEBItJKaV0c0QDSyDbfRMzRAAC1B/gIDNEA+VXsfPOwzQBRRcVgwxTNAkKHlmqKXM0Ae9N7Amn0zQGad29OWcDNAXBwZ4tNmM0D279T5jlYzQODtTxYJQzNA1myNJEY5M0CuaINdOhIzQDI6upFv7jJAZuExweXNMkBm4THB5c0yQEde6uucsDJA/9aYT0hsMkC3T0ez8ycyQA==",
                    "dtype": "f8"
                  },
                  "yaxis": "y"
                }
              ],
              "layout": {
                "legend": {
                  "tracegroupgap": 0
                },
                "template": {
                  "data": {
                    "bar": [
                      {
                        "error_x": {
                          "color": "#2a3f5f"
                        },
                        "error_y": {
                          "color": "#2a3f5f"
                        },
                        "marker": {
                          "line": {
                            "color": "#E5ECF6",
                            "width": 0.5
                          },
                          "pattern": {
                            "fillmode": "overlay",
                            "size": 10,
                            "solidity": 0.2
                          }
                        },
                        "type": "bar"
                      }
                    ],
                    "barpolar": [
                      {
                        "marker": {
                          "line": {
                            "color": "#E5ECF6",
                            "width": 0.5
                          },
                          "pattern": {
                            "fillmode": "overlay",
                            "size": 10,
                            "solidity": 0.2
                          }
                        },
                        "type": "barpolar"
                      }
                    ],
                    "carpet": [
                      {
                        "aaxis": {
                          "endlinecolor": "#2a3f5f",
                          "gridcolor": "white",
                          "linecolor": "white",
                          "minorgridcolor": "white",
                          "startlinecolor": "#2a3f5f"
                        },
                        "baxis": {
                          "endlinecolor": "#2a3f5f",
                          "gridcolor": "white",
                          "linecolor": "white",
                          "minorgridcolor": "white",
                          "startlinecolor": "#2a3f5f"
                        },
                        "type": "carpet"
                      }
                    ],
                    "choropleth": [
                      {
                        "colorbar": {
                          "outlinewidth": 0,
                          "ticks": ""
                        },
                        "type": "choropleth"
                      }
                    ],
                    "contour": [
                      {
                        "colorbar": {
                          "outlinewidth": 0,
                          "ticks": ""
                        },
                        "colorscale": [
                          [
                            0,
                            "#0d0887"
                          ],
                          [
                            0.1111111111111111,
                            "#46039f"
                          ],
                          [
                            0.2222222222222222,
                            "#7201a8"
                          ],
                          [
                            0.3333333333333333,
                            "#9c179e"
                          ],
                          [
                            0.4444444444444444,
                            "#bd3786"
                          ],
                          [
                            0.5555555555555556,
                            "#d8576b"
                          ],
                          [
                            0.6666666666666666,
                            "#ed7953"
                          ],
                          [
                            0.7777777777777778,
                            "#fb9f3a"
                          ],
                          [
                            0.8888888888888888,
                            "#fdca26"
                          ],
                          [
                            1,
                            "#f0f921"
                          ]
                        ],
                        "type": "contour"
                      }
                    ],
                    "contourcarpet": [
                      {
                        "colorbar": {
                          "outlinewidth": 0,
                          "ticks": ""
                        },
                        "type": "contourcarpet"
                      }
                    ],
                    "heatmap": [
                      {
                        "colorbar": {
                          "outlinewidth": 0,
                          "ticks": ""
                        },
                        "colorscale": [
                          [
                            0,
                            "#0d0887"
                          ],
                          [
                            0.1111111111111111,
                            "#46039f"
                          ],
                          [
                            0.2222222222222222,
                            "#7201a8"
                          ],
                          [
                            0.3333333333333333,
                            "#9c179e"
                          ],
                          [
                            0.4444444444444444,
                            "#bd3786"
                          ],
                          [
                            0.5555555555555556,
                            "#d8576b"
                          ],
                          [
                            0.6666666666666666,
                            "#ed7953"
                          ],
                          [
                            0.7777777777777778,
                            "#fb9f3a"
                          ],
                          [
                            0.8888888888888888,
                            "#fdca26"
                          ],
                          [
                            1,
                            "#f0f921"
                          ]
                        ],
                        "type": "heatmap"
                      }
                    ],
                    "histogram": [
                      {
                        "marker": {
                          "pattern": {
                            "fillmode": "overlay",
                            "size": 10,
                            "solidity": 0.2
                          }
                        },
                        "type": "histogram"
                      }
                    ],
                    "histogram2d": [
                      {
                        "colorbar": {
                          "outlinewidth": 0,
                          "ticks": ""
                        },
                        "colorscale": [
                          [
                            0,
                            "#0d0887"
                          ],
                          [
                            0.1111111111111111,
                            "#46039f"
                          ],
                          [
                            0.2222222222222222,
                            "#7201a8"
                          ],
                          [
                            0.3333333333333333,
                            "#9c179e"
                          ],
                          [
                            0.4444444444444444,
                            "#bd3786"
                          ],
                          [
                            0.5555555555555556,
                            "#d8576b"
                          ],
                          [
                            0.6666666666666666,
                            "#ed7953"
                          ],
                          [
                            0.7777777777777778,
                            "#fb9f3a"
                          ],
                          [
                            0.8888888888888888,
                            "#fdca26"
                          ],
                          [
                            1,
                            "#f0f921"
                          ]
                        ],
                        "type": "histogram2d"
                      }
                    ],
                    "histogram2dcontour": [
                      {
                        "colorbar": {
                          "outlinewidth": 0,
                          "ticks": ""
                        },
                        "colorscale": [
                          [
                            0,
                            "#0d0887"
                          ],
                          [
                            0.1111111111111111,
                            "#46039f"
                          ],
                          [
                            0.2222222222222222,
                            "#7201a8"
                          ],
                          [
                            0.3333333333333333,
                            "#9c179e"
                          ],
                          [
                            0.4444444444444444,
                            "#bd3786"
                          ],
                          [
                            0.5555555555555556,
                            "#d8576b"
                          ],
                          [
                            0.6666666666666666,
                            "#ed7953"
                          ],
                          [
                            0.7777777777777778,
                            "#fb9f3a"
                          ],
                          [
                            0.8888888888888888,
                            "#fdca26"
                          ],
                          [
                            1,
                            "#f0f921"
                          ]
                        ],
                        "type": "histogram2dcontour"
                      }
                    ],
                    "mesh3d": [
                      {
                        "colorbar": {
                          "outlinewidth": 0,
                          "ticks": ""
                        },
                        "type": "mesh3d"
                      }
                    ],
                    "parcoords": [
                      {
                        "line": {
                          "colorbar": {
                            "outlinewidth": 0,
                            "ticks": ""
                          }
                        },
                        "type": "parcoords"
                      }
                    ],
                    "pie": [
                      {
                        "automargin": true,
                        "type": "pie"
                      }
                    ],
                    "scatter": [
                      {
                        "fillpattern": {
                          "fillmode": "overlay",
                          "size": 10,
                          "solidity": 0.2
                        },
                        "type": "scatter"
                      }
                    ],
                    "scatter3d": [
                      {
                        "line": {
                          "colorbar": {
                            "outlinewidth": 0,
                            "ticks": ""
                          }
                        },
                        "marker": {
                          "colorbar": {
                            "outlinewidth": 0,
                            "ticks": ""
                          }
                        },
                        "type": "scatter3d"
                      }
                    ],
                    "scattercarpet": [
                      {
                        "marker": {
                          "colorbar": {
                            "outlinewidth": 0,
                            "ticks": ""
                          }
                        },
                        "type": "scattercarpet"
                      }
                    ],
                    "scattergeo": [
                      {
                        "marker": {
                          "colorbar": {
                            "outlinewidth": 0,
                            "ticks": ""
                          }
                        },
                        "type": "scattergeo"
                      }
                    ],
                    "scattergl": [
                      {
                        "marker": {
                          "colorbar": {
                            "outlinewidth": 0,
                            "ticks": ""
                          }
                        },
                        "type": "scattergl"
                      }
                    ],
                    "scattermap": [
                      {
                        "marker": {
                          "colorbar": {
                            "outlinewidth": 0,
                            "ticks": ""
                          }
                        },
                        "type": "scattermap"
                      }
                    ],
                    "scattermapbox": [
                      {
                        "marker": {
                          "colorbar": {
                            "outlinewidth": 0,
                            "ticks": ""
                          }
                        },
                        "type": "scattermapbox"
                      }
                    ],
                    "scatterpolar": [
                      {
                        "marker": {
                          "colorbar": {
                            "outlinewidth": 0,
                            "ticks": ""
                          }
                        },
                        "type": "scatterpolar"
                      }
                    ],
                    "scatterpolargl": [
                      {
                        "marker": {
                          "colorbar": {
                            "outlinewidth": 0,
                            "ticks": ""
                          }
                        },
                        "type": "scatterpolargl"
                      }
                    ],
                    "scatterternary": [
                      {
                        "marker": {
                          "colorbar": {
                            "outlinewidth": 0,
                            "ticks": ""
                          }
                        },
                        "type": "scatterternary"
                      }
                    ],
                    "surface": [
                      {
                        "colorbar": {
                          "outlinewidth": 0,
                          "ticks": ""
                        },
                        "colorscale": [
                          [
                            0,
                            "#0d0887"
                          ],
                          [
                            0.1111111111111111,
                            "#46039f"
                          ],
                          [
                            0.2222222222222222,
                            "#7201a8"
                          ],
                          [
                            0.3333333333333333,
                            "#9c179e"
                          ],
                          [
                            0.4444444444444444,
                            "#bd3786"
                          ],
                          [
                            0.5555555555555556,
                            "#d8576b"
                          ],
                          [
                            0.6666666666666666,
                            "#ed7953"
                          ],
                          [
                            0.7777777777777778,
                            "#fb9f3a"
                          ],
                          [
                            0.8888888888888888,
                            "#fdca26"
                          ],
                          [
                            1,
                            "#f0f921"
                          ]
                        ],
                        "type": "surface"
                      }
                    ],
                    "table": [
                      {
                        "cells": {
                          "fill": {
                            "color": "#EBF0F8"
                          },
                          "line": {
                            "color": "white"
                          }
                        },
                        "header": {
                          "fill": {
                            "color": "#C8D4E3"
                          },
                          "line": {
                            "color": "white"
                          }
                        },
                        "type": "table"
                      }
                    ]
                  },
                  "layout": {
                    "annotationdefaults": {
                      "arrowcolor": "#2a3f5f",
                      "arrowhead": 0,
                      "arrowwidth": 1
                    },
                    "autotypenumbers": "strict",
                    "coloraxis": {
                      "colorbar": {
                        "outlinewidth": 0,
                        "ticks": ""
                      }
                    },
                    "colorscale": {
                      "diverging": [
                        [
                          0,
                          "#8e0152"
                        ],
                        [
                          0.1,
                          "#c51b7d"
                        ],
                        [
                          0.2,
                          "#de77ae"
                        ],
                        [
                          0.3,
                          "#f1b6da"
                        ],
                        [
                          0.4,
                          "#fde0ef"
                        ],
                        [
                          0.5,
                          "#f7f7f7"
                        ],
                        [
                          0.6,
                          "#e6f5d0"
                        ],
                        [
                          0.7,
                          "#b8e186"
                        ],
                        [
                          0.8,
                          "#7fbc41"
                        ],
                        [
                          0.9,
                          "#4d9221"
                        ],
                        [
                          1,
                          "#276419"
                        ]
                      ],
                      "sequential": [
                        [
                          0,
                          "#0d0887"
                        ],
                        [
                          0.1111111111111111,
                          "#46039f"
                        ],
                        [
                          0.2222222222222222,
                          "#7201a8"
                        ],
                        [
                          0.3333333333333333,
                          "#9c179e"
                        ],
                        [
                          0.4444444444444444,
                          "#bd3786"
                        ],
                        [
                          0.5555555555555556,
                          "#d8576b"
                        ],
                        [
                          0.6666666666666666,
                          "#ed7953"
                        ],
                        [
                          0.7777777777777778,
                          "#fb9f3a"
                        ],
                        [
                          0.8888888888888888,
                          "#fdca26"
                        ],
                        [
                          1,
                          "#f0f921"
                        ]
                      ],
                      "sequentialminus": [
                        [
                          0,
                          "#0d0887"
                        ],
                        [
                          0.1111111111111111,
                          "#46039f"
                        ],
                        [
                          0.2222222222222222,
                          "#7201a8"
                        ],
                        [
                          0.3333333333333333,
                          "#9c179e"
                        ],
                        [
                          0.4444444444444444,
                          "#bd3786"
                        ],
                        [
                          0.5555555555555556,
                          "#d8576b"
                        ],
                        [
                          0.6666666666666666,
                          "#ed7953"
                        ],
                        [
                          0.7777777777777778,
                          "#fb9f3a"
                        ],
                        [
                          0.8888888888888888,
                          "#fdca26"
                        ],
                        [
                          1,
                          "#f0f921"
                        ]
                      ]
                    },
                    "colorway": [
                      "#636efa",
                      "#EF553B",
                      "#00cc96",
                      "#ab63fa",
                      "#FFA15A",
                      "#19d3f3",
                      "#FF6692",
                      "#B6E880",
                      "#FF97FF",
                      "#FECB52"
                    ],
                    "font": {
                      "color": "#2a3f5f"
                    },
                    "geo": {
                      "bgcolor": "white",
                      "lakecolor": "white",
                      "landcolor": "#E5ECF6",
                      "showlakes": true,
                      "showland": true,
                      "subunitcolor": "white"
                    },
                    "hoverlabel": {
                      "align": "left"
                    },
                    "hovermode": "closest",
                    "mapbox": {
                      "style": "light"
                    },
                    "paper_bgcolor": "white",
                    "plot_bgcolor": "#E5ECF6",
                    "polar": {
                      "angularaxis": {
                        "gridcolor": "white",
                        "linecolor": "white",
                        "ticks": ""
                      },
                      "bgcolor": "#E5ECF6",
                      "radialaxis": {
                        "gridcolor": "white",
                        "linecolor": "white",
                        "ticks": ""
                      }
                    },
                    "scene": {
                      "xaxis": {
                        "backgroundcolor": "#E5ECF6",
                        "gridcolor": "white",
                        "gridwidth": 2,
                        "linecolor": "white",
                        "showbackground": true,
                        "ticks": "",
                        "zerolinecolor": "white"
                      },
                      "yaxis": {
                        "backgroundcolor": "#E5ECF6",
                        "gridcolor": "white",
                        "gridwidth": 2,
                        "linecolor": "white",
                        "showbackground": true,
                        "ticks": "",
                        "zerolinecolor": "white"
                      },
                      "zaxis": {
                        "backgroundcolor": "#E5ECF6",
                        "gridcolor": "white",
                        "gridwidth": 2,
                        "linecolor": "white",
                        "showbackground": true,
                        "ticks": "",
                        "zerolinecolor": "white"
                      }
                    },
                    "shapedefaults": {
                      "line": {
                        "color": "#2a3f5f"
                      }
                    },
                    "ternary": {
                      "aaxis": {
                        "gridcolor": "white",
                        "linecolor": "white",
                        "ticks": ""
                      },
                      "baxis": {
                        "gridcolor": "white",
                        "linecolor": "white",
                        "ticks": ""
                      },
                      "bgcolor": "#E5ECF6",
                      "caxis": {
                        "gridcolor": "white",
                        "linecolor": "white",
                        "ticks": ""
                      }
                    },
                    "title": {
                      "x": 0.05
                    },
                    "xaxis": {
                      "automargin": true,
                      "gridcolor": "white",
                      "linecolor": "white",
                      "ticks": "",
                      "title": {
                        "standoff": 15
                      },
                      "zerolinecolor": "white",
                      "zerolinewidth": 2
                    },
                    "yaxis": {
                      "automargin": true,
                      "gridcolor": "white",
                      "linecolor": "white",
                      "ticks": "",
                      "title": {
                        "standoff": 15
                      },
                      "zerolinecolor": "white",
                      "zerolinewidth": 2
                    }
                  }
                },
                "title": {
                  "text": "Corrélation température/humidité"
                },
                "xaxis": {
                  "anchor": "y",
                  "domain": [
                    0,
                    1
                  ],
                  "title": {
                    "text": "humidity"
                  }
                },
                "yaxis": {
                  "anchor": "x",
                  "domain": [
                    0,
                    1
                  ],
                  "title": {
                    "text": "temp"
                  }
                }
              }
            }
          },
          "metadata": {},
          "output_type": "display_data"
        }
      ],
      "source": [
        "fig = px.scatter(df_total,\n",
        "                         title=\"Corrélation température/humidité\",\n",
        "                         x=\"humidity\",\n",
        "                         y=\"temp\",\n",
        "                         trendline=\"ols\")\n",
        "fig.show()"
      ]
    },
    {
      "cell_type": "markdown",
      "metadata": {},
      "source": [
        "2. **Tendances temporelles**\n",
        "   - Évolution sur 30 jours\n",
        "   - Identification des patterns"
      ]
    },
    {
      "cell_type": "code",
      "execution_count": 133,
      "metadata": {},
      "outputs": [
        {
          "data": {
            "application/vnd.plotly.v1+json": {
              "config": {
                "plotlyServerURL": "https://plot.ly"
              },
              "data": [
                {
                  "hovertemplate": "city=Paris<br>datetime=%{x}<br>temp=%{y}<extra></extra>",
                  "legendgroup": "Paris",
                  "line": {
                    "color": "#636efa",
                    "dash": "solid"
                  },
                  "marker": {
                    "symbol": "circle"
                  },
                  "mode": "lines",
                  "name": "Paris",
                  "orientation": "v",
                  "showlegend": true,
                  "type": "scatter",
                  "x": [
                    "2025-07-22",
                    "2025-07-23",
                    "2025-07-24",
                    "2025-07-25",
                    "2025-07-26",
                    "2025-07-27",
                    "2025-07-28"
                  ],
                  "xaxis": "x",
                  "y": {
                    "bdata": "MzMzMzMzM0AzMzMzMzMzQGZmZmZmZjJAMzMzMzOzNEBmZmZmZmY1QM3MzMzMzDJAZmZmZmbmMkA=",
                    "dtype": "f8"
                  },
                  "yaxis": "y"
                },
                {
                  "hovertemplate": "city=Berlin<br>datetime=%{x}<br>temp=%{y}<extra></extra>",
                  "legendgroup": "Berlin",
                  "line": {
                    "color": "#EF553B",
                    "dash": "solid"
                  },
                  "marker": {
                    "symbol": "circle"
                  },
                  "mode": "lines",
                  "name": "Berlin",
                  "orientation": "v",
                  "showlegend": true,
                  "type": "scatter",
                  "x": [
                    "2025-07-22",
                    "2025-07-23",
                    "2025-07-24",
                    "2025-07-25",
                    "2025-07-26",
                    "2025-07-27",
                    "2025-07-28"
                  ],
                  "xaxis": "x",
                  "y": {
                    "bdata": "AAAAAACAMUBmZmZmZmYyQAAAAAAAgDNAAAAAAAAANEBmZmZmZmYzQGZmZmZmZjRAmpmZmZkZNEA=",
                    "dtype": "f8"
                  },
                  "yaxis": "y"
                },
                {
                  "hovertemplate": "city=Madrid<br>datetime=%{x}<br>temp=%{y}<extra></extra>",
                  "legendgroup": "Madrid",
                  "line": {
                    "color": "#00cc96",
                    "dash": "solid"
                  },
                  "marker": {
                    "symbol": "circle"
                  },
                  "mode": "lines",
                  "name": "Madrid",
                  "orientation": "v",
                  "showlegend": true,
                  "type": "scatter",
                  "x": [
                    "2025-07-22",
                    "2025-07-23",
                    "2025-07-24",
                    "2025-07-25",
                    "2025-07-26",
                    "2025-07-27",
                    "2025-07-28"
                  ],
                  "xaxis": "x",
                  "y": {
                    "bdata": "MzMzMzOzOUAAAAAAAIA5QJqZmZmZGTdAzczMzMxMNkAzMzMzM7M4QM3MzMzMTDtAzczMzMxMOkA=",
                    "dtype": "f8"
                  },
                  "yaxis": "y"
                },
                {
                  "hovertemplate": "city=Amsterdam<br>datetime=%{x}<br>temp=%{y}<extra></extra>",
                  "legendgroup": "Amsterdam",
                  "line": {
                    "color": "#ab63fa",
                    "dash": "solid"
                  },
                  "marker": {
                    "symbol": "circle"
                  },
                  "mode": "lines",
                  "name": "Amsterdam",
                  "orientation": "v",
                  "showlegend": true,
                  "type": "scatter",
                  "x": [
                    "2025-07-22",
                    "2025-07-23",
                    "2025-07-24",
                    "2025-07-25",
                    "2025-07-26",
                    "2025-07-27",
                    "2025-07-28"
                  ],
                  "xaxis": "x",
                  "y": {
                    "bdata": "MzMzMzMzM0AAAAAAAIAzQJqZmZmZmTNAMzMzMzOzM0AzMzMzM7MzQAAAAAAAgDJAZmZmZmbmMUA=",
                    "dtype": "f8"
                  },
                  "yaxis": "y"
                },
                {
                  "hovertemplate": "city=Vienna<br>datetime=%{x}<br>temp=%{y}<extra></extra>",
                  "legendgroup": "Vienna",
                  "line": {
                    "color": "#FFA15A",
                    "dash": "solid"
                  },
                  "marker": {
                    "symbol": "circle"
                  },
                  "mode": "lines",
                  "name": "Vienna",
                  "orientation": "v",
                  "showlegend": true,
                  "type": "scatter",
                  "x": [
                    "2025-07-22",
                    "2025-07-23",
                    "2025-07-24",
                    "2025-07-25",
                    "2025-07-26",
                    "2025-07-27",
                    "2025-07-28"
                  ],
                  "xaxis": "x",
                  "y": {
                    "bdata": "AAAAAAAAN0AAAAAAAIA3QGZmZmZmZjdAMzMzMzMzNkCamZmZmRk0QM3MzMzMTDRAzczMzMxMNEA=",
                    "dtype": "f8"
                  },
                  "yaxis": "y"
                }
              ],
              "layout": {
                "legend": {
                  "title": {
                    "text": "city"
                  },
                  "tracegroupgap": 0
                },
                "template": {
                  "data": {
                    "bar": [
                      {
                        "error_x": {
                          "color": "#2a3f5f"
                        },
                        "error_y": {
                          "color": "#2a3f5f"
                        },
                        "marker": {
                          "line": {
                            "color": "#E5ECF6",
                            "width": 0.5
                          },
                          "pattern": {
                            "fillmode": "overlay",
                            "size": 10,
                            "solidity": 0.2
                          }
                        },
                        "type": "bar"
                      }
                    ],
                    "barpolar": [
                      {
                        "marker": {
                          "line": {
                            "color": "#E5ECF6",
                            "width": 0.5
                          },
                          "pattern": {
                            "fillmode": "overlay",
                            "size": 10,
                            "solidity": 0.2
                          }
                        },
                        "type": "barpolar"
                      }
                    ],
                    "carpet": [
                      {
                        "aaxis": {
                          "endlinecolor": "#2a3f5f",
                          "gridcolor": "white",
                          "linecolor": "white",
                          "minorgridcolor": "white",
                          "startlinecolor": "#2a3f5f"
                        },
                        "baxis": {
                          "endlinecolor": "#2a3f5f",
                          "gridcolor": "white",
                          "linecolor": "white",
                          "minorgridcolor": "white",
                          "startlinecolor": "#2a3f5f"
                        },
                        "type": "carpet"
                      }
                    ],
                    "choropleth": [
                      {
                        "colorbar": {
                          "outlinewidth": 0,
                          "ticks": ""
                        },
                        "type": "choropleth"
                      }
                    ],
                    "contour": [
                      {
                        "colorbar": {
                          "outlinewidth": 0,
                          "ticks": ""
                        },
                        "colorscale": [
                          [
                            0,
                            "#0d0887"
                          ],
                          [
                            0.1111111111111111,
                            "#46039f"
                          ],
                          [
                            0.2222222222222222,
                            "#7201a8"
                          ],
                          [
                            0.3333333333333333,
                            "#9c179e"
                          ],
                          [
                            0.4444444444444444,
                            "#bd3786"
                          ],
                          [
                            0.5555555555555556,
                            "#d8576b"
                          ],
                          [
                            0.6666666666666666,
                            "#ed7953"
                          ],
                          [
                            0.7777777777777778,
                            "#fb9f3a"
                          ],
                          [
                            0.8888888888888888,
                            "#fdca26"
                          ],
                          [
                            1,
                            "#f0f921"
                          ]
                        ],
                        "type": "contour"
                      }
                    ],
                    "contourcarpet": [
                      {
                        "colorbar": {
                          "outlinewidth": 0,
                          "ticks": ""
                        },
                        "type": "contourcarpet"
                      }
                    ],
                    "heatmap": [
                      {
                        "colorbar": {
                          "outlinewidth": 0,
                          "ticks": ""
                        },
                        "colorscale": [
                          [
                            0,
                            "#0d0887"
                          ],
                          [
                            0.1111111111111111,
                            "#46039f"
                          ],
                          [
                            0.2222222222222222,
                            "#7201a8"
                          ],
                          [
                            0.3333333333333333,
                            "#9c179e"
                          ],
                          [
                            0.4444444444444444,
                            "#bd3786"
                          ],
                          [
                            0.5555555555555556,
                            "#d8576b"
                          ],
                          [
                            0.6666666666666666,
                            "#ed7953"
                          ],
                          [
                            0.7777777777777778,
                            "#fb9f3a"
                          ],
                          [
                            0.8888888888888888,
                            "#fdca26"
                          ],
                          [
                            1,
                            "#f0f921"
                          ]
                        ],
                        "type": "heatmap"
                      }
                    ],
                    "histogram": [
                      {
                        "marker": {
                          "pattern": {
                            "fillmode": "overlay",
                            "size": 10,
                            "solidity": 0.2
                          }
                        },
                        "type": "histogram"
                      }
                    ],
                    "histogram2d": [
                      {
                        "colorbar": {
                          "outlinewidth": 0,
                          "ticks": ""
                        },
                        "colorscale": [
                          [
                            0,
                            "#0d0887"
                          ],
                          [
                            0.1111111111111111,
                            "#46039f"
                          ],
                          [
                            0.2222222222222222,
                            "#7201a8"
                          ],
                          [
                            0.3333333333333333,
                            "#9c179e"
                          ],
                          [
                            0.4444444444444444,
                            "#bd3786"
                          ],
                          [
                            0.5555555555555556,
                            "#d8576b"
                          ],
                          [
                            0.6666666666666666,
                            "#ed7953"
                          ],
                          [
                            0.7777777777777778,
                            "#fb9f3a"
                          ],
                          [
                            0.8888888888888888,
                            "#fdca26"
                          ],
                          [
                            1,
                            "#f0f921"
                          ]
                        ],
                        "type": "histogram2d"
                      }
                    ],
                    "histogram2dcontour": [
                      {
                        "colorbar": {
                          "outlinewidth": 0,
                          "ticks": ""
                        },
                        "colorscale": [
                          [
                            0,
                            "#0d0887"
                          ],
                          [
                            0.1111111111111111,
                            "#46039f"
                          ],
                          [
                            0.2222222222222222,
                            "#7201a8"
                          ],
                          [
                            0.3333333333333333,
                            "#9c179e"
                          ],
                          [
                            0.4444444444444444,
                            "#bd3786"
                          ],
                          [
                            0.5555555555555556,
                            "#d8576b"
                          ],
                          [
                            0.6666666666666666,
                            "#ed7953"
                          ],
                          [
                            0.7777777777777778,
                            "#fb9f3a"
                          ],
                          [
                            0.8888888888888888,
                            "#fdca26"
                          ],
                          [
                            1,
                            "#f0f921"
                          ]
                        ],
                        "type": "histogram2dcontour"
                      }
                    ],
                    "mesh3d": [
                      {
                        "colorbar": {
                          "outlinewidth": 0,
                          "ticks": ""
                        },
                        "type": "mesh3d"
                      }
                    ],
                    "parcoords": [
                      {
                        "line": {
                          "colorbar": {
                            "outlinewidth": 0,
                            "ticks": ""
                          }
                        },
                        "type": "parcoords"
                      }
                    ],
                    "pie": [
                      {
                        "automargin": true,
                        "type": "pie"
                      }
                    ],
                    "scatter": [
                      {
                        "fillpattern": {
                          "fillmode": "overlay",
                          "size": 10,
                          "solidity": 0.2
                        },
                        "type": "scatter"
                      }
                    ],
                    "scatter3d": [
                      {
                        "line": {
                          "colorbar": {
                            "outlinewidth": 0,
                            "ticks": ""
                          }
                        },
                        "marker": {
                          "colorbar": {
                            "outlinewidth": 0,
                            "ticks": ""
                          }
                        },
                        "type": "scatter3d"
                      }
                    ],
                    "scattercarpet": [
                      {
                        "marker": {
                          "colorbar": {
                            "outlinewidth": 0,
                            "ticks": ""
                          }
                        },
                        "type": "scattercarpet"
                      }
                    ],
                    "scattergeo": [
                      {
                        "marker": {
                          "colorbar": {
                            "outlinewidth": 0,
                            "ticks": ""
                          }
                        },
                        "type": "scattergeo"
                      }
                    ],
                    "scattergl": [
                      {
                        "marker": {
                          "colorbar": {
                            "outlinewidth": 0,
                            "ticks": ""
                          }
                        },
                        "type": "scattergl"
                      }
                    ],
                    "scattermap": [
                      {
                        "marker": {
                          "colorbar": {
                            "outlinewidth": 0,
                            "ticks": ""
                          }
                        },
                        "type": "scattermap"
                      }
                    ],
                    "scattermapbox": [
                      {
                        "marker": {
                          "colorbar": {
                            "outlinewidth": 0,
                            "ticks": ""
                          }
                        },
                        "type": "scattermapbox"
                      }
                    ],
                    "scatterpolar": [
                      {
                        "marker": {
                          "colorbar": {
                            "outlinewidth": 0,
                            "ticks": ""
                          }
                        },
                        "type": "scatterpolar"
                      }
                    ],
                    "scatterpolargl": [
                      {
                        "marker": {
                          "colorbar": {
                            "outlinewidth": 0,
                            "ticks": ""
                          }
                        },
                        "type": "scatterpolargl"
                      }
                    ],
                    "scatterternary": [
                      {
                        "marker": {
                          "colorbar": {
                            "outlinewidth": 0,
                            "ticks": ""
                          }
                        },
                        "type": "scatterternary"
                      }
                    ],
                    "surface": [
                      {
                        "colorbar": {
                          "outlinewidth": 0,
                          "ticks": ""
                        },
                        "colorscale": [
                          [
                            0,
                            "#0d0887"
                          ],
                          [
                            0.1111111111111111,
                            "#46039f"
                          ],
                          [
                            0.2222222222222222,
                            "#7201a8"
                          ],
                          [
                            0.3333333333333333,
                            "#9c179e"
                          ],
                          [
                            0.4444444444444444,
                            "#bd3786"
                          ],
                          [
                            0.5555555555555556,
                            "#d8576b"
                          ],
                          [
                            0.6666666666666666,
                            "#ed7953"
                          ],
                          [
                            0.7777777777777778,
                            "#fb9f3a"
                          ],
                          [
                            0.8888888888888888,
                            "#fdca26"
                          ],
                          [
                            1,
                            "#f0f921"
                          ]
                        ],
                        "type": "surface"
                      }
                    ],
                    "table": [
                      {
                        "cells": {
                          "fill": {
                            "color": "#EBF0F8"
                          },
                          "line": {
                            "color": "white"
                          }
                        },
                        "header": {
                          "fill": {
                            "color": "#C8D4E3"
                          },
                          "line": {
                            "color": "white"
                          }
                        },
                        "type": "table"
                      }
                    ]
                  },
                  "layout": {
                    "annotationdefaults": {
                      "arrowcolor": "#2a3f5f",
                      "arrowhead": 0,
                      "arrowwidth": 1
                    },
                    "autotypenumbers": "strict",
                    "coloraxis": {
                      "colorbar": {
                        "outlinewidth": 0,
                        "ticks": ""
                      }
                    },
                    "colorscale": {
                      "diverging": [
                        [
                          0,
                          "#8e0152"
                        ],
                        [
                          0.1,
                          "#c51b7d"
                        ],
                        [
                          0.2,
                          "#de77ae"
                        ],
                        [
                          0.3,
                          "#f1b6da"
                        ],
                        [
                          0.4,
                          "#fde0ef"
                        ],
                        [
                          0.5,
                          "#f7f7f7"
                        ],
                        [
                          0.6,
                          "#e6f5d0"
                        ],
                        [
                          0.7,
                          "#b8e186"
                        ],
                        [
                          0.8,
                          "#7fbc41"
                        ],
                        [
                          0.9,
                          "#4d9221"
                        ],
                        [
                          1,
                          "#276419"
                        ]
                      ],
                      "sequential": [
                        [
                          0,
                          "#0d0887"
                        ],
                        [
                          0.1111111111111111,
                          "#46039f"
                        ],
                        [
                          0.2222222222222222,
                          "#7201a8"
                        ],
                        [
                          0.3333333333333333,
                          "#9c179e"
                        ],
                        [
                          0.4444444444444444,
                          "#bd3786"
                        ],
                        [
                          0.5555555555555556,
                          "#d8576b"
                        ],
                        [
                          0.6666666666666666,
                          "#ed7953"
                        ],
                        [
                          0.7777777777777778,
                          "#fb9f3a"
                        ],
                        [
                          0.8888888888888888,
                          "#fdca26"
                        ],
                        [
                          1,
                          "#f0f921"
                        ]
                      ],
                      "sequentialminus": [
                        [
                          0,
                          "#0d0887"
                        ],
                        [
                          0.1111111111111111,
                          "#46039f"
                        ],
                        [
                          0.2222222222222222,
                          "#7201a8"
                        ],
                        [
                          0.3333333333333333,
                          "#9c179e"
                        ],
                        [
                          0.4444444444444444,
                          "#bd3786"
                        ],
                        [
                          0.5555555555555556,
                          "#d8576b"
                        ],
                        [
                          0.6666666666666666,
                          "#ed7953"
                        ],
                        [
                          0.7777777777777778,
                          "#fb9f3a"
                        ],
                        [
                          0.8888888888888888,
                          "#fdca26"
                        ],
                        [
                          1,
                          "#f0f921"
                        ]
                      ]
                    },
                    "colorway": [
                      "#636efa",
                      "#EF553B",
                      "#00cc96",
                      "#ab63fa",
                      "#FFA15A",
                      "#19d3f3",
                      "#FF6692",
                      "#B6E880",
                      "#FF97FF",
                      "#FECB52"
                    ],
                    "font": {
                      "color": "#2a3f5f"
                    },
                    "geo": {
                      "bgcolor": "white",
                      "lakecolor": "white",
                      "landcolor": "#E5ECF6",
                      "showlakes": true,
                      "showland": true,
                      "subunitcolor": "white"
                    },
                    "hoverlabel": {
                      "align": "left"
                    },
                    "hovermode": "closest",
                    "mapbox": {
                      "style": "light"
                    },
                    "paper_bgcolor": "white",
                    "plot_bgcolor": "#E5ECF6",
                    "polar": {
                      "angularaxis": {
                        "gridcolor": "white",
                        "linecolor": "white",
                        "ticks": ""
                      },
                      "bgcolor": "#E5ECF6",
                      "radialaxis": {
                        "gridcolor": "white",
                        "linecolor": "white",
                        "ticks": ""
                      }
                    },
                    "scene": {
                      "xaxis": {
                        "backgroundcolor": "#E5ECF6",
                        "gridcolor": "white",
                        "gridwidth": 2,
                        "linecolor": "white",
                        "showbackground": true,
                        "ticks": "",
                        "zerolinecolor": "white"
                      },
                      "yaxis": {
                        "backgroundcolor": "#E5ECF6",
                        "gridcolor": "white",
                        "gridwidth": 2,
                        "linecolor": "white",
                        "showbackground": true,
                        "ticks": "",
                        "zerolinecolor": "white"
                      },
                      "zaxis": {
                        "backgroundcolor": "#E5ECF6",
                        "gridcolor": "white",
                        "gridwidth": 2,
                        "linecolor": "white",
                        "showbackground": true,
                        "ticks": "",
                        "zerolinecolor": "white"
                      }
                    },
                    "shapedefaults": {
                      "line": {
                        "color": "#2a3f5f"
                      }
                    },
                    "ternary": {
                      "aaxis": {
                        "gridcolor": "white",
                        "linecolor": "white",
                        "ticks": ""
                      },
                      "baxis": {
                        "gridcolor": "white",
                        "linecolor": "white",
                        "ticks": ""
                      },
                      "bgcolor": "#E5ECF6",
                      "caxis": {
                        "gridcolor": "white",
                        "linecolor": "white",
                        "ticks": ""
                      }
                    },
                    "title": {
                      "x": 0.05
                    },
                    "xaxis": {
                      "automargin": true,
                      "gridcolor": "white",
                      "linecolor": "white",
                      "ticks": "",
                      "title": {
                        "standoff": 15
                      },
                      "zerolinecolor": "white",
                      "zerolinewidth": 2
                    },
                    "yaxis": {
                      "automargin": true,
                      "gridcolor": "white",
                      "linecolor": "white",
                      "ticks": "",
                      "title": {
                        "standoff": 15
                      },
                      "zerolinecolor": "white",
                      "zerolinewidth": 2
                    }
                  }
                },
                "title": {
                  "text": "Evolution de la température sur 7 jours"
                },
                "xaxis": {
                  "anchor": "y",
                  "domain": [
                    0,
                    1
                  ],
                  "title": {
                    "text": "datetime"
                  }
                },
                "yaxis": {
                  "anchor": "x",
                  "domain": [
                    0,
                    1
                  ],
                  "title": {
                    "text": "temp"
                  }
                }
              }
            }
          },
          "metadata": {},
          "output_type": "display_data"
        }
      ],
      "source": [
        "fig = px.line(df_total,\n",
        "              title=\"Evolution de la température sur 7 jours\",\n",
        "              x=\"datetime\", \n",
        "              y=\"temp\", \n",
        "              color=\"city\")\n",
        "fig.show()"
      ]
    },
    {
      "cell_type": "markdown",
      "metadata": {},
      "source": [
        "3. **Qualité de l'air vs météo**\n",
        "   - Impact de la pluie sur la pollution\n",
        "   - Corrélations vent/qualité de l'air"
      ]
    },
    {
      "cell_type": "code",
      "execution_count": 181,
      "metadata": {},
      "outputs": [
        {
          "data": {
            "application/vnd.plotly.v1+json": {
              "config": {
                "plotlyServerURL": "https://plot.ly"
              },
              "data": [
                {
                  "hovertemplate": "city=%{x}<br>precip=%{y}<br>indice aqi=%{marker.color}<extra></extra>",
                  "legendgroup": "",
                  "marker": {
                    "color": {
                      "bdata": "AgEBAQEBAgECAgEBAQECAgICAgICAQIBAQECAQEBAQEBAQE=",
                      "dtype": "i1"
                    },
                    "coloraxis": "coloraxis",
                    "opacity": 0.5,
                    "pattern": {
                      "shape": ""
                    }
                  },
                  "name": "",
                  "orientation": "v",
                  "showlegend": false,
                  "textposition": "auto",
                  "type": "bar",
                  "x": [
                    "Paris",
                    "Paris",
                    "Paris",
                    "Paris",
                    "Paris",
                    "Paris",
                    "Paris",
                    "Berlin",
                    "Berlin",
                    "Berlin",
                    "Berlin",
                    "Berlin",
                    "Berlin",
                    "Berlin",
                    "Madrid",
                    "Madrid",
                    "Madrid",
                    "Madrid",
                    "Madrid",
                    "Madrid",
                    "Madrid",
                    "Amsterdam",
                    "Amsterdam",
                    "Amsterdam",
                    "Amsterdam",
                    "Amsterdam",
                    "Amsterdam",
                    "Amsterdam",
                    "Vienna",
                    "Vienna",
                    "Vienna",
                    "Vienna",
                    "Vienna",
                    "Vienna",
                    "Vienna"
                  ],
                  "xaxis": "x",
                  "y": {
                    "bdata": "ObTIdr6fqj++nxov3SQAQOF6FK5H4ShAexSuR+F6hD8AAAAAAAAAAGZmZmZmZhZAAAAAAAAAAAAAAAAAAAAaQDMzMzMzsztAMzMzMzMz4z/NzMzMzMwQQAAAAAAAAARAAAAAAAAAAABmZmZmZmYGQAAAAAAAAAAAAAAAAAAAAAAAAAAAAAAAAAAAAAAAAAAAAAAAAAAAAAAAAAAAAAAAAAAAAAAAAAAANV66SQyCF0DJdr6fGi/hP/yp8dJNYnA/TmIQWDm05D+amZmZmZnZP2ZmZmZmZgpAMzMzMzMz4z8AAAAAAAAAAPyp8dJNYlA/F9nO91ODN0BmZmZmZmbmPzMzMzMzMzFAAAAAAAAA4D9mZmZmZmb2Pw==",
                    "dtype": "f8"
                  },
                  "yaxis": "y"
                }
              ],
              "layout": {
                "barmode": "overlay",
                "coloraxis": {
                  "colorbar": {
                    "title": {
                      "text": "indice aqi"
                    }
                  },
                  "colorscale": [
                    [
                      0,
                      "#0d0887"
                    ],
                    [
                      0.1111111111111111,
                      "#46039f"
                    ],
                    [
                      0.2222222222222222,
                      "#7201a8"
                    ],
                    [
                      0.3333333333333333,
                      "#9c179e"
                    ],
                    [
                      0.4444444444444444,
                      "#bd3786"
                    ],
                    [
                      0.5555555555555556,
                      "#d8576b"
                    ],
                    [
                      0.6666666666666666,
                      "#ed7953"
                    ],
                    [
                      0.7777777777777778,
                      "#fb9f3a"
                    ],
                    [
                      0.8888888888888888,
                      "#fdca26"
                    ],
                    [
                      1,
                      "#f0f921"
                    ]
                  ]
                },
                "legend": {
                  "tracegroupgap": 0
                },
                "template": {
                  "data": {
                    "bar": [
                      {
                        "error_x": {
                          "color": "#2a3f5f"
                        },
                        "error_y": {
                          "color": "#2a3f5f"
                        },
                        "marker": {
                          "line": {
                            "color": "#E5ECF6",
                            "width": 0.5
                          },
                          "pattern": {
                            "fillmode": "overlay",
                            "size": 10,
                            "solidity": 0.2
                          }
                        },
                        "type": "bar"
                      }
                    ],
                    "barpolar": [
                      {
                        "marker": {
                          "line": {
                            "color": "#E5ECF6",
                            "width": 0.5
                          },
                          "pattern": {
                            "fillmode": "overlay",
                            "size": 10,
                            "solidity": 0.2
                          }
                        },
                        "type": "barpolar"
                      }
                    ],
                    "carpet": [
                      {
                        "aaxis": {
                          "endlinecolor": "#2a3f5f",
                          "gridcolor": "white",
                          "linecolor": "white",
                          "minorgridcolor": "white",
                          "startlinecolor": "#2a3f5f"
                        },
                        "baxis": {
                          "endlinecolor": "#2a3f5f",
                          "gridcolor": "white",
                          "linecolor": "white",
                          "minorgridcolor": "white",
                          "startlinecolor": "#2a3f5f"
                        },
                        "type": "carpet"
                      }
                    ],
                    "choropleth": [
                      {
                        "colorbar": {
                          "outlinewidth": 0,
                          "ticks": ""
                        },
                        "type": "choropleth"
                      }
                    ],
                    "contour": [
                      {
                        "colorbar": {
                          "outlinewidth": 0,
                          "ticks": ""
                        },
                        "colorscale": [
                          [
                            0,
                            "#0d0887"
                          ],
                          [
                            0.1111111111111111,
                            "#46039f"
                          ],
                          [
                            0.2222222222222222,
                            "#7201a8"
                          ],
                          [
                            0.3333333333333333,
                            "#9c179e"
                          ],
                          [
                            0.4444444444444444,
                            "#bd3786"
                          ],
                          [
                            0.5555555555555556,
                            "#d8576b"
                          ],
                          [
                            0.6666666666666666,
                            "#ed7953"
                          ],
                          [
                            0.7777777777777778,
                            "#fb9f3a"
                          ],
                          [
                            0.8888888888888888,
                            "#fdca26"
                          ],
                          [
                            1,
                            "#f0f921"
                          ]
                        ],
                        "type": "contour"
                      }
                    ],
                    "contourcarpet": [
                      {
                        "colorbar": {
                          "outlinewidth": 0,
                          "ticks": ""
                        },
                        "type": "contourcarpet"
                      }
                    ],
                    "heatmap": [
                      {
                        "colorbar": {
                          "outlinewidth": 0,
                          "ticks": ""
                        },
                        "colorscale": [
                          [
                            0,
                            "#0d0887"
                          ],
                          [
                            0.1111111111111111,
                            "#46039f"
                          ],
                          [
                            0.2222222222222222,
                            "#7201a8"
                          ],
                          [
                            0.3333333333333333,
                            "#9c179e"
                          ],
                          [
                            0.4444444444444444,
                            "#bd3786"
                          ],
                          [
                            0.5555555555555556,
                            "#d8576b"
                          ],
                          [
                            0.6666666666666666,
                            "#ed7953"
                          ],
                          [
                            0.7777777777777778,
                            "#fb9f3a"
                          ],
                          [
                            0.8888888888888888,
                            "#fdca26"
                          ],
                          [
                            1,
                            "#f0f921"
                          ]
                        ],
                        "type": "heatmap"
                      }
                    ],
                    "histogram": [
                      {
                        "marker": {
                          "pattern": {
                            "fillmode": "overlay",
                            "size": 10,
                            "solidity": 0.2
                          }
                        },
                        "type": "histogram"
                      }
                    ],
                    "histogram2d": [
                      {
                        "colorbar": {
                          "outlinewidth": 0,
                          "ticks": ""
                        },
                        "colorscale": [
                          [
                            0,
                            "#0d0887"
                          ],
                          [
                            0.1111111111111111,
                            "#46039f"
                          ],
                          [
                            0.2222222222222222,
                            "#7201a8"
                          ],
                          [
                            0.3333333333333333,
                            "#9c179e"
                          ],
                          [
                            0.4444444444444444,
                            "#bd3786"
                          ],
                          [
                            0.5555555555555556,
                            "#d8576b"
                          ],
                          [
                            0.6666666666666666,
                            "#ed7953"
                          ],
                          [
                            0.7777777777777778,
                            "#fb9f3a"
                          ],
                          [
                            0.8888888888888888,
                            "#fdca26"
                          ],
                          [
                            1,
                            "#f0f921"
                          ]
                        ],
                        "type": "histogram2d"
                      }
                    ],
                    "histogram2dcontour": [
                      {
                        "colorbar": {
                          "outlinewidth": 0,
                          "ticks": ""
                        },
                        "colorscale": [
                          [
                            0,
                            "#0d0887"
                          ],
                          [
                            0.1111111111111111,
                            "#46039f"
                          ],
                          [
                            0.2222222222222222,
                            "#7201a8"
                          ],
                          [
                            0.3333333333333333,
                            "#9c179e"
                          ],
                          [
                            0.4444444444444444,
                            "#bd3786"
                          ],
                          [
                            0.5555555555555556,
                            "#d8576b"
                          ],
                          [
                            0.6666666666666666,
                            "#ed7953"
                          ],
                          [
                            0.7777777777777778,
                            "#fb9f3a"
                          ],
                          [
                            0.8888888888888888,
                            "#fdca26"
                          ],
                          [
                            1,
                            "#f0f921"
                          ]
                        ],
                        "type": "histogram2dcontour"
                      }
                    ],
                    "mesh3d": [
                      {
                        "colorbar": {
                          "outlinewidth": 0,
                          "ticks": ""
                        },
                        "type": "mesh3d"
                      }
                    ],
                    "parcoords": [
                      {
                        "line": {
                          "colorbar": {
                            "outlinewidth": 0,
                            "ticks": ""
                          }
                        },
                        "type": "parcoords"
                      }
                    ],
                    "pie": [
                      {
                        "automargin": true,
                        "type": "pie"
                      }
                    ],
                    "scatter": [
                      {
                        "fillpattern": {
                          "fillmode": "overlay",
                          "size": 10,
                          "solidity": 0.2
                        },
                        "type": "scatter"
                      }
                    ],
                    "scatter3d": [
                      {
                        "line": {
                          "colorbar": {
                            "outlinewidth": 0,
                            "ticks": ""
                          }
                        },
                        "marker": {
                          "colorbar": {
                            "outlinewidth": 0,
                            "ticks": ""
                          }
                        },
                        "type": "scatter3d"
                      }
                    ],
                    "scattercarpet": [
                      {
                        "marker": {
                          "colorbar": {
                            "outlinewidth": 0,
                            "ticks": ""
                          }
                        },
                        "type": "scattercarpet"
                      }
                    ],
                    "scattergeo": [
                      {
                        "marker": {
                          "colorbar": {
                            "outlinewidth": 0,
                            "ticks": ""
                          }
                        },
                        "type": "scattergeo"
                      }
                    ],
                    "scattergl": [
                      {
                        "marker": {
                          "colorbar": {
                            "outlinewidth": 0,
                            "ticks": ""
                          }
                        },
                        "type": "scattergl"
                      }
                    ],
                    "scattermap": [
                      {
                        "marker": {
                          "colorbar": {
                            "outlinewidth": 0,
                            "ticks": ""
                          }
                        },
                        "type": "scattermap"
                      }
                    ],
                    "scattermapbox": [
                      {
                        "marker": {
                          "colorbar": {
                            "outlinewidth": 0,
                            "ticks": ""
                          }
                        },
                        "type": "scattermapbox"
                      }
                    ],
                    "scatterpolar": [
                      {
                        "marker": {
                          "colorbar": {
                            "outlinewidth": 0,
                            "ticks": ""
                          }
                        },
                        "type": "scatterpolar"
                      }
                    ],
                    "scatterpolargl": [
                      {
                        "marker": {
                          "colorbar": {
                            "outlinewidth": 0,
                            "ticks": ""
                          }
                        },
                        "type": "scatterpolargl"
                      }
                    ],
                    "scatterternary": [
                      {
                        "marker": {
                          "colorbar": {
                            "outlinewidth": 0,
                            "ticks": ""
                          }
                        },
                        "type": "scatterternary"
                      }
                    ],
                    "surface": [
                      {
                        "colorbar": {
                          "outlinewidth": 0,
                          "ticks": ""
                        },
                        "colorscale": [
                          [
                            0,
                            "#0d0887"
                          ],
                          [
                            0.1111111111111111,
                            "#46039f"
                          ],
                          [
                            0.2222222222222222,
                            "#7201a8"
                          ],
                          [
                            0.3333333333333333,
                            "#9c179e"
                          ],
                          [
                            0.4444444444444444,
                            "#bd3786"
                          ],
                          [
                            0.5555555555555556,
                            "#d8576b"
                          ],
                          [
                            0.6666666666666666,
                            "#ed7953"
                          ],
                          [
                            0.7777777777777778,
                            "#fb9f3a"
                          ],
                          [
                            0.8888888888888888,
                            "#fdca26"
                          ],
                          [
                            1,
                            "#f0f921"
                          ]
                        ],
                        "type": "surface"
                      }
                    ],
                    "table": [
                      {
                        "cells": {
                          "fill": {
                            "color": "#EBF0F8"
                          },
                          "line": {
                            "color": "white"
                          }
                        },
                        "header": {
                          "fill": {
                            "color": "#C8D4E3"
                          },
                          "line": {
                            "color": "white"
                          }
                        },
                        "type": "table"
                      }
                    ]
                  },
                  "layout": {
                    "annotationdefaults": {
                      "arrowcolor": "#2a3f5f",
                      "arrowhead": 0,
                      "arrowwidth": 1
                    },
                    "autotypenumbers": "strict",
                    "coloraxis": {
                      "colorbar": {
                        "outlinewidth": 0,
                        "ticks": ""
                      }
                    },
                    "colorscale": {
                      "diverging": [
                        [
                          0,
                          "#8e0152"
                        ],
                        [
                          0.1,
                          "#c51b7d"
                        ],
                        [
                          0.2,
                          "#de77ae"
                        ],
                        [
                          0.3,
                          "#f1b6da"
                        ],
                        [
                          0.4,
                          "#fde0ef"
                        ],
                        [
                          0.5,
                          "#f7f7f7"
                        ],
                        [
                          0.6,
                          "#e6f5d0"
                        ],
                        [
                          0.7,
                          "#b8e186"
                        ],
                        [
                          0.8,
                          "#7fbc41"
                        ],
                        [
                          0.9,
                          "#4d9221"
                        ],
                        [
                          1,
                          "#276419"
                        ]
                      ],
                      "sequential": [
                        [
                          0,
                          "#0d0887"
                        ],
                        [
                          0.1111111111111111,
                          "#46039f"
                        ],
                        [
                          0.2222222222222222,
                          "#7201a8"
                        ],
                        [
                          0.3333333333333333,
                          "#9c179e"
                        ],
                        [
                          0.4444444444444444,
                          "#bd3786"
                        ],
                        [
                          0.5555555555555556,
                          "#d8576b"
                        ],
                        [
                          0.6666666666666666,
                          "#ed7953"
                        ],
                        [
                          0.7777777777777778,
                          "#fb9f3a"
                        ],
                        [
                          0.8888888888888888,
                          "#fdca26"
                        ],
                        [
                          1,
                          "#f0f921"
                        ]
                      ],
                      "sequentialminus": [
                        [
                          0,
                          "#0d0887"
                        ],
                        [
                          0.1111111111111111,
                          "#46039f"
                        ],
                        [
                          0.2222222222222222,
                          "#7201a8"
                        ],
                        [
                          0.3333333333333333,
                          "#9c179e"
                        ],
                        [
                          0.4444444444444444,
                          "#bd3786"
                        ],
                        [
                          0.5555555555555556,
                          "#d8576b"
                        ],
                        [
                          0.6666666666666666,
                          "#ed7953"
                        ],
                        [
                          0.7777777777777778,
                          "#fb9f3a"
                        ],
                        [
                          0.8888888888888888,
                          "#fdca26"
                        ],
                        [
                          1,
                          "#f0f921"
                        ]
                      ]
                    },
                    "colorway": [
                      "#636efa",
                      "#EF553B",
                      "#00cc96",
                      "#ab63fa",
                      "#FFA15A",
                      "#19d3f3",
                      "#FF6692",
                      "#B6E880",
                      "#FF97FF",
                      "#FECB52"
                    ],
                    "font": {
                      "color": "#2a3f5f"
                    },
                    "geo": {
                      "bgcolor": "white",
                      "lakecolor": "white",
                      "landcolor": "#E5ECF6",
                      "showlakes": true,
                      "showland": true,
                      "subunitcolor": "white"
                    },
                    "hoverlabel": {
                      "align": "left"
                    },
                    "hovermode": "closest",
                    "mapbox": {
                      "style": "light"
                    },
                    "paper_bgcolor": "white",
                    "plot_bgcolor": "#E5ECF6",
                    "polar": {
                      "angularaxis": {
                        "gridcolor": "white",
                        "linecolor": "white",
                        "ticks": ""
                      },
                      "bgcolor": "#E5ECF6",
                      "radialaxis": {
                        "gridcolor": "white",
                        "linecolor": "white",
                        "ticks": ""
                      }
                    },
                    "scene": {
                      "xaxis": {
                        "backgroundcolor": "#E5ECF6",
                        "gridcolor": "white",
                        "gridwidth": 2,
                        "linecolor": "white",
                        "showbackground": true,
                        "ticks": "",
                        "zerolinecolor": "white"
                      },
                      "yaxis": {
                        "backgroundcolor": "#E5ECF6",
                        "gridcolor": "white",
                        "gridwidth": 2,
                        "linecolor": "white",
                        "showbackground": true,
                        "ticks": "",
                        "zerolinecolor": "white"
                      },
                      "zaxis": {
                        "backgroundcolor": "#E5ECF6",
                        "gridcolor": "white",
                        "gridwidth": 2,
                        "linecolor": "white",
                        "showbackground": true,
                        "ticks": "",
                        "zerolinecolor": "white"
                      }
                    },
                    "shapedefaults": {
                      "line": {
                        "color": "#2a3f5f"
                      }
                    },
                    "ternary": {
                      "aaxis": {
                        "gridcolor": "white",
                        "linecolor": "white",
                        "ticks": ""
                      },
                      "baxis": {
                        "gridcolor": "white",
                        "linecolor": "white",
                        "ticks": ""
                      },
                      "bgcolor": "#E5ECF6",
                      "caxis": {
                        "gridcolor": "white",
                        "linecolor": "white",
                        "ticks": ""
                      }
                    },
                    "title": {
                      "x": 0.05
                    },
                    "xaxis": {
                      "automargin": true,
                      "gridcolor": "white",
                      "linecolor": "white",
                      "ticks": "",
                      "title": {
                        "standoff": 15
                      },
                      "zerolinecolor": "white",
                      "zerolinewidth": 2
                    },
                    "yaxis": {
                      "automargin": true,
                      "gridcolor": "white",
                      "linecolor": "white",
                      "ticks": "",
                      "title": {
                        "standoff": 15
                      },
                      "zerolinecolor": "white",
                      "zerolinewidth": 2
                    }
                  }
                },
                "title": {
                  "text": "Impact de la pluie sur la pollution"
                },
                "xaxis": {
                  "anchor": "y",
                  "domain": [
                    0,
                    1
                  ],
                  "title": {
                    "text": "city"
                  }
                },
                "yaxis": {
                  "anchor": "x",
                  "domain": [
                    0,
                    1
                  ],
                  "title": {
                    "text": "precip"
                  }
                }
              }
            }
          },
          "metadata": {},
          "output_type": "display_data"
        }
      ],
      "source": [
        "fig = px.bar(df_total,\n",
        "              title=\"Impact de la pluie sur la pollution\",\n",
        "              x=\"city\",\n",
        "              y=\"precip\",\n",
        "              color=\"indice aqi\",\n",
        "              barmode=\"overlay\")\n",
        "fig.show()"
      ]
    },
    {
      "cell_type": "code",
      "execution_count": 185,
      "metadata": {},
      "outputs": [
        {
          "data": {
            "application/vnd.plotly.v1+json": {
              "config": {
                "plotlyServerURL": "https://plot.ly"
              },
              "data": [
                {
                  "bingroup": "x",
                  "histfunc": "avg",
                  "hovertemplate": "indice aqi=2<br>city=%{x}<br>avg of windspeed=%{y}<extra></extra>",
                  "legendgroup": "2",
                  "marker": {
                    "color": "#636efa",
                    "opacity": 0.5,
                    "pattern": {
                      "shape": ""
                    }
                  },
                  "name": "2",
                  "orientation": "v",
                  "showlegend": true,
                  "type": "histogram",
                  "x": [
                    "Paris",
                    "Paris",
                    "Berlin",
                    "Berlin",
                    "Madrid",
                    "Madrid",
                    "Madrid",
                    "Madrid",
                    "Madrid",
                    "Madrid",
                    "Madrid",
                    "Amsterdam",
                    "Amsterdam"
                  ],
                  "xaxis": "x",
                  "y": {
                    "bdata": "zczMzMzMMECamZmZmZkrQAAAAAAAADlAmpmZmZmZMEAzMzMzMzMxQJqZmZmZGTBAZmZmZmZmNEAzMzMzMzMxQM3MzMzMzC1AmpmZmZmZNECamZmZmRkyQAAAAAAAADVAMzMzMzMzOUA=",
                    "dtype": "f8"
                  },
                  "yaxis": "y"
                },
                {
                  "bingroup": "x",
                  "histfunc": "avg",
                  "hovertemplate": "indice aqi=1<br>city=%{x}<br>avg of windspeed=%{y}<extra></extra>",
                  "legendgroup": "1",
                  "marker": {
                    "color": "#EF553B",
                    "opacity": 0.5,
                    "pattern": {
                      "shape": ""
                    }
                  },
                  "name": "1",
                  "orientation": "v",
                  "showlegend": true,
                  "type": "histogram",
                  "x": [
                    "Paris",
                    "Paris",
                    "Paris",
                    "Paris",
                    "Paris",
                    "Berlin",
                    "Berlin",
                    "Berlin",
                    "Berlin",
                    "Berlin",
                    "Amsterdam",
                    "Amsterdam",
                    "Amsterdam",
                    "Amsterdam",
                    "Amsterdam",
                    "Vienna",
                    "Vienna",
                    "Vienna",
                    "Vienna",
                    "Vienna",
                    "Vienna",
                    "Vienna"
                  ],
                  "xaxis": "x",
                  "y": {
                    "bdata": "AAAAAAAAK0DNzMzMzMwuQGZmZmZmZihAAAAAAAAAMEAzMzMzMzM3QDMzMzMzMzdAZmZmZmZmM0BmZmZmZmYyQGZmZmZmZjJAAAAAAACAPUAAAAAAAAA+QDMzMzMzszNAZmZmZmbmMEAAAAAAAAA6QDMzMzMzszxAzczMzMzMPEBmZmZmZuYxQJqZmZmZmTVAAAAAAAAAMkBmZmZmZmYyQDMzMzMzsz9AZmZmZmamQUA=",
                    "dtype": "f8"
                  },
                  "yaxis": "y"
                }
              ],
              "layout": {
                "barmode": "overlay",
                "legend": {
                  "title": {
                    "text": "indice aqi"
                  },
                  "tracegroupgap": 0
                },
                "template": {
                  "data": {
                    "bar": [
                      {
                        "error_x": {
                          "color": "#2a3f5f"
                        },
                        "error_y": {
                          "color": "#2a3f5f"
                        },
                        "marker": {
                          "line": {
                            "color": "#E5ECF6",
                            "width": 0.5
                          },
                          "pattern": {
                            "fillmode": "overlay",
                            "size": 10,
                            "solidity": 0.2
                          }
                        },
                        "type": "bar"
                      }
                    ],
                    "barpolar": [
                      {
                        "marker": {
                          "line": {
                            "color": "#E5ECF6",
                            "width": 0.5
                          },
                          "pattern": {
                            "fillmode": "overlay",
                            "size": 10,
                            "solidity": 0.2
                          }
                        },
                        "type": "barpolar"
                      }
                    ],
                    "carpet": [
                      {
                        "aaxis": {
                          "endlinecolor": "#2a3f5f",
                          "gridcolor": "white",
                          "linecolor": "white",
                          "minorgridcolor": "white",
                          "startlinecolor": "#2a3f5f"
                        },
                        "baxis": {
                          "endlinecolor": "#2a3f5f",
                          "gridcolor": "white",
                          "linecolor": "white",
                          "minorgridcolor": "white",
                          "startlinecolor": "#2a3f5f"
                        },
                        "type": "carpet"
                      }
                    ],
                    "choropleth": [
                      {
                        "colorbar": {
                          "outlinewidth": 0,
                          "ticks": ""
                        },
                        "type": "choropleth"
                      }
                    ],
                    "contour": [
                      {
                        "colorbar": {
                          "outlinewidth": 0,
                          "ticks": ""
                        },
                        "colorscale": [
                          [
                            0,
                            "#0d0887"
                          ],
                          [
                            0.1111111111111111,
                            "#46039f"
                          ],
                          [
                            0.2222222222222222,
                            "#7201a8"
                          ],
                          [
                            0.3333333333333333,
                            "#9c179e"
                          ],
                          [
                            0.4444444444444444,
                            "#bd3786"
                          ],
                          [
                            0.5555555555555556,
                            "#d8576b"
                          ],
                          [
                            0.6666666666666666,
                            "#ed7953"
                          ],
                          [
                            0.7777777777777778,
                            "#fb9f3a"
                          ],
                          [
                            0.8888888888888888,
                            "#fdca26"
                          ],
                          [
                            1,
                            "#f0f921"
                          ]
                        ],
                        "type": "contour"
                      }
                    ],
                    "contourcarpet": [
                      {
                        "colorbar": {
                          "outlinewidth": 0,
                          "ticks": ""
                        },
                        "type": "contourcarpet"
                      }
                    ],
                    "heatmap": [
                      {
                        "colorbar": {
                          "outlinewidth": 0,
                          "ticks": ""
                        },
                        "colorscale": [
                          [
                            0,
                            "#0d0887"
                          ],
                          [
                            0.1111111111111111,
                            "#46039f"
                          ],
                          [
                            0.2222222222222222,
                            "#7201a8"
                          ],
                          [
                            0.3333333333333333,
                            "#9c179e"
                          ],
                          [
                            0.4444444444444444,
                            "#bd3786"
                          ],
                          [
                            0.5555555555555556,
                            "#d8576b"
                          ],
                          [
                            0.6666666666666666,
                            "#ed7953"
                          ],
                          [
                            0.7777777777777778,
                            "#fb9f3a"
                          ],
                          [
                            0.8888888888888888,
                            "#fdca26"
                          ],
                          [
                            1,
                            "#f0f921"
                          ]
                        ],
                        "type": "heatmap"
                      }
                    ],
                    "histogram": [
                      {
                        "marker": {
                          "pattern": {
                            "fillmode": "overlay",
                            "size": 10,
                            "solidity": 0.2
                          }
                        },
                        "type": "histogram"
                      }
                    ],
                    "histogram2d": [
                      {
                        "colorbar": {
                          "outlinewidth": 0,
                          "ticks": ""
                        },
                        "colorscale": [
                          [
                            0,
                            "#0d0887"
                          ],
                          [
                            0.1111111111111111,
                            "#46039f"
                          ],
                          [
                            0.2222222222222222,
                            "#7201a8"
                          ],
                          [
                            0.3333333333333333,
                            "#9c179e"
                          ],
                          [
                            0.4444444444444444,
                            "#bd3786"
                          ],
                          [
                            0.5555555555555556,
                            "#d8576b"
                          ],
                          [
                            0.6666666666666666,
                            "#ed7953"
                          ],
                          [
                            0.7777777777777778,
                            "#fb9f3a"
                          ],
                          [
                            0.8888888888888888,
                            "#fdca26"
                          ],
                          [
                            1,
                            "#f0f921"
                          ]
                        ],
                        "type": "histogram2d"
                      }
                    ],
                    "histogram2dcontour": [
                      {
                        "colorbar": {
                          "outlinewidth": 0,
                          "ticks": ""
                        },
                        "colorscale": [
                          [
                            0,
                            "#0d0887"
                          ],
                          [
                            0.1111111111111111,
                            "#46039f"
                          ],
                          [
                            0.2222222222222222,
                            "#7201a8"
                          ],
                          [
                            0.3333333333333333,
                            "#9c179e"
                          ],
                          [
                            0.4444444444444444,
                            "#bd3786"
                          ],
                          [
                            0.5555555555555556,
                            "#d8576b"
                          ],
                          [
                            0.6666666666666666,
                            "#ed7953"
                          ],
                          [
                            0.7777777777777778,
                            "#fb9f3a"
                          ],
                          [
                            0.8888888888888888,
                            "#fdca26"
                          ],
                          [
                            1,
                            "#f0f921"
                          ]
                        ],
                        "type": "histogram2dcontour"
                      }
                    ],
                    "mesh3d": [
                      {
                        "colorbar": {
                          "outlinewidth": 0,
                          "ticks": ""
                        },
                        "type": "mesh3d"
                      }
                    ],
                    "parcoords": [
                      {
                        "line": {
                          "colorbar": {
                            "outlinewidth": 0,
                            "ticks": ""
                          }
                        },
                        "type": "parcoords"
                      }
                    ],
                    "pie": [
                      {
                        "automargin": true,
                        "type": "pie"
                      }
                    ],
                    "scatter": [
                      {
                        "fillpattern": {
                          "fillmode": "overlay",
                          "size": 10,
                          "solidity": 0.2
                        },
                        "type": "scatter"
                      }
                    ],
                    "scatter3d": [
                      {
                        "line": {
                          "colorbar": {
                            "outlinewidth": 0,
                            "ticks": ""
                          }
                        },
                        "marker": {
                          "colorbar": {
                            "outlinewidth": 0,
                            "ticks": ""
                          }
                        },
                        "type": "scatter3d"
                      }
                    ],
                    "scattercarpet": [
                      {
                        "marker": {
                          "colorbar": {
                            "outlinewidth": 0,
                            "ticks": ""
                          }
                        },
                        "type": "scattercarpet"
                      }
                    ],
                    "scattergeo": [
                      {
                        "marker": {
                          "colorbar": {
                            "outlinewidth": 0,
                            "ticks": ""
                          }
                        },
                        "type": "scattergeo"
                      }
                    ],
                    "scattergl": [
                      {
                        "marker": {
                          "colorbar": {
                            "outlinewidth": 0,
                            "ticks": ""
                          }
                        },
                        "type": "scattergl"
                      }
                    ],
                    "scattermap": [
                      {
                        "marker": {
                          "colorbar": {
                            "outlinewidth": 0,
                            "ticks": ""
                          }
                        },
                        "type": "scattermap"
                      }
                    ],
                    "scattermapbox": [
                      {
                        "marker": {
                          "colorbar": {
                            "outlinewidth": 0,
                            "ticks": ""
                          }
                        },
                        "type": "scattermapbox"
                      }
                    ],
                    "scatterpolar": [
                      {
                        "marker": {
                          "colorbar": {
                            "outlinewidth": 0,
                            "ticks": ""
                          }
                        },
                        "type": "scatterpolar"
                      }
                    ],
                    "scatterpolargl": [
                      {
                        "marker": {
                          "colorbar": {
                            "outlinewidth": 0,
                            "ticks": ""
                          }
                        },
                        "type": "scatterpolargl"
                      }
                    ],
                    "scatterternary": [
                      {
                        "marker": {
                          "colorbar": {
                            "outlinewidth": 0,
                            "ticks": ""
                          }
                        },
                        "type": "scatterternary"
                      }
                    ],
                    "surface": [
                      {
                        "colorbar": {
                          "outlinewidth": 0,
                          "ticks": ""
                        },
                        "colorscale": [
                          [
                            0,
                            "#0d0887"
                          ],
                          [
                            0.1111111111111111,
                            "#46039f"
                          ],
                          [
                            0.2222222222222222,
                            "#7201a8"
                          ],
                          [
                            0.3333333333333333,
                            "#9c179e"
                          ],
                          [
                            0.4444444444444444,
                            "#bd3786"
                          ],
                          [
                            0.5555555555555556,
                            "#d8576b"
                          ],
                          [
                            0.6666666666666666,
                            "#ed7953"
                          ],
                          [
                            0.7777777777777778,
                            "#fb9f3a"
                          ],
                          [
                            0.8888888888888888,
                            "#fdca26"
                          ],
                          [
                            1,
                            "#f0f921"
                          ]
                        ],
                        "type": "surface"
                      }
                    ],
                    "table": [
                      {
                        "cells": {
                          "fill": {
                            "color": "#EBF0F8"
                          },
                          "line": {
                            "color": "white"
                          }
                        },
                        "header": {
                          "fill": {
                            "color": "#C8D4E3"
                          },
                          "line": {
                            "color": "white"
                          }
                        },
                        "type": "table"
                      }
                    ]
                  },
                  "layout": {
                    "annotationdefaults": {
                      "arrowcolor": "#2a3f5f",
                      "arrowhead": 0,
                      "arrowwidth": 1
                    },
                    "autotypenumbers": "strict",
                    "coloraxis": {
                      "colorbar": {
                        "outlinewidth": 0,
                        "ticks": ""
                      }
                    },
                    "colorscale": {
                      "diverging": [
                        [
                          0,
                          "#8e0152"
                        ],
                        [
                          0.1,
                          "#c51b7d"
                        ],
                        [
                          0.2,
                          "#de77ae"
                        ],
                        [
                          0.3,
                          "#f1b6da"
                        ],
                        [
                          0.4,
                          "#fde0ef"
                        ],
                        [
                          0.5,
                          "#f7f7f7"
                        ],
                        [
                          0.6,
                          "#e6f5d0"
                        ],
                        [
                          0.7,
                          "#b8e186"
                        ],
                        [
                          0.8,
                          "#7fbc41"
                        ],
                        [
                          0.9,
                          "#4d9221"
                        ],
                        [
                          1,
                          "#276419"
                        ]
                      ],
                      "sequential": [
                        [
                          0,
                          "#0d0887"
                        ],
                        [
                          0.1111111111111111,
                          "#46039f"
                        ],
                        [
                          0.2222222222222222,
                          "#7201a8"
                        ],
                        [
                          0.3333333333333333,
                          "#9c179e"
                        ],
                        [
                          0.4444444444444444,
                          "#bd3786"
                        ],
                        [
                          0.5555555555555556,
                          "#d8576b"
                        ],
                        [
                          0.6666666666666666,
                          "#ed7953"
                        ],
                        [
                          0.7777777777777778,
                          "#fb9f3a"
                        ],
                        [
                          0.8888888888888888,
                          "#fdca26"
                        ],
                        [
                          1,
                          "#f0f921"
                        ]
                      ],
                      "sequentialminus": [
                        [
                          0,
                          "#0d0887"
                        ],
                        [
                          0.1111111111111111,
                          "#46039f"
                        ],
                        [
                          0.2222222222222222,
                          "#7201a8"
                        ],
                        [
                          0.3333333333333333,
                          "#9c179e"
                        ],
                        [
                          0.4444444444444444,
                          "#bd3786"
                        ],
                        [
                          0.5555555555555556,
                          "#d8576b"
                        ],
                        [
                          0.6666666666666666,
                          "#ed7953"
                        ],
                        [
                          0.7777777777777778,
                          "#fb9f3a"
                        ],
                        [
                          0.8888888888888888,
                          "#fdca26"
                        ],
                        [
                          1,
                          "#f0f921"
                        ]
                      ]
                    },
                    "colorway": [
                      "#636efa",
                      "#EF553B",
                      "#00cc96",
                      "#ab63fa",
                      "#FFA15A",
                      "#19d3f3",
                      "#FF6692",
                      "#B6E880",
                      "#FF97FF",
                      "#FECB52"
                    ],
                    "font": {
                      "color": "#2a3f5f"
                    },
                    "geo": {
                      "bgcolor": "white",
                      "lakecolor": "white",
                      "landcolor": "#E5ECF6",
                      "showlakes": true,
                      "showland": true,
                      "subunitcolor": "white"
                    },
                    "hoverlabel": {
                      "align": "left"
                    },
                    "hovermode": "closest",
                    "mapbox": {
                      "style": "light"
                    },
                    "paper_bgcolor": "white",
                    "plot_bgcolor": "#E5ECF6",
                    "polar": {
                      "angularaxis": {
                        "gridcolor": "white",
                        "linecolor": "white",
                        "ticks": ""
                      },
                      "bgcolor": "#E5ECF6",
                      "radialaxis": {
                        "gridcolor": "white",
                        "linecolor": "white",
                        "ticks": ""
                      }
                    },
                    "scene": {
                      "xaxis": {
                        "backgroundcolor": "#E5ECF6",
                        "gridcolor": "white",
                        "gridwidth": 2,
                        "linecolor": "white",
                        "showbackground": true,
                        "ticks": "",
                        "zerolinecolor": "white"
                      },
                      "yaxis": {
                        "backgroundcolor": "#E5ECF6",
                        "gridcolor": "white",
                        "gridwidth": 2,
                        "linecolor": "white",
                        "showbackground": true,
                        "ticks": "",
                        "zerolinecolor": "white"
                      },
                      "zaxis": {
                        "backgroundcolor": "#E5ECF6",
                        "gridcolor": "white",
                        "gridwidth": 2,
                        "linecolor": "white",
                        "showbackground": true,
                        "ticks": "",
                        "zerolinecolor": "white"
                      }
                    },
                    "shapedefaults": {
                      "line": {
                        "color": "#2a3f5f"
                      }
                    },
                    "ternary": {
                      "aaxis": {
                        "gridcolor": "white",
                        "linecolor": "white",
                        "ticks": ""
                      },
                      "baxis": {
                        "gridcolor": "white",
                        "linecolor": "white",
                        "ticks": ""
                      },
                      "bgcolor": "#E5ECF6",
                      "caxis": {
                        "gridcolor": "white",
                        "linecolor": "white",
                        "ticks": ""
                      }
                    },
                    "title": {
                      "x": 0.05
                    },
                    "xaxis": {
                      "automargin": true,
                      "gridcolor": "white",
                      "linecolor": "white",
                      "ticks": "",
                      "title": {
                        "standoff": 15
                      },
                      "zerolinecolor": "white",
                      "zerolinewidth": 2
                    },
                    "yaxis": {
                      "automargin": true,
                      "gridcolor": "white",
                      "linecolor": "white",
                      "ticks": "",
                      "title": {
                        "standoff": 15
                      },
                      "zerolinecolor": "white",
                      "zerolinewidth": 2
                    }
                  }
                },
                "title": {
                  "text": "Corrélation Vent/Qualité de l'air"
                },
                "xaxis": {
                  "anchor": "y",
                  "domain": [
                    0,
                    1
                  ],
                  "title": {
                    "text": "city"
                  }
                },
                "yaxis": {
                  "anchor": "x",
                  "domain": [
                    0,
                    1
                  ],
                  "title": {
                    "text": "avg of windspeed"
                  }
                }
              }
            }
          },
          "metadata": {},
          "output_type": "display_data"
        }
      ],
      "source": [
        "fig = px.histogram(df_total,\n",
        "              title=\"Corrélation Vent/Qualité de l'air\",\n",
        "              x=\"city\",\n",
        "              y=\"windspeed\",\n",
        "              color=\"indice aqi\",\n",
        "              histfunc=\"avg\",\n",
        "              barmode=\"overlay\")\n",
        "fig.show()"
      ]
    },
    {
      "cell_type": "markdown",
      "metadata": {
        "id": "U3OFGeR437l0"
      },
      "source": [
        "## Partie 5 : API bonus - Données agricoles\n",
        "\n",
        "### 🌱 API AgroMonitoring (gratuite)"
      ]
    },
    {
      "cell_type": "code",
      "execution_count": 52,
      "metadata": {
        "id": "9PZMkaLO3zAK"
      },
      "outputs": [],
      "source": [
        "# API satellite pour l'agriculture\n",
        "AGRO_API_KEY = \"VOTRE_CLE_AGROMONITORING\"\n",
        "\n",
        "def get_soil_data(polygon_coordinates, api_key):\n",
        "    \"\"\"\n",
        "    Récupère des données de sol via satellite\n",
        "    URL : http://api.agromonitoring.com/agro/1.0/\n",
        "\n",
        "    Données disponibles :\n",
        "    - Indices de végétation (NDVI)\n",
        "    - Humidité du sol\n",
        "    - Température de surface\n",
        "    \"\"\"\n",
        "    pass\n"
      ]
    },
    {
      "cell_type": "markdown",
      "metadata": {
        "id": "9U_DNqp24DD6"
      },
      "source": [
        "\n",
        "**Défi avancé :** Créez des recommandations de plantation basées sur :\n",
        "- Données météo des 30 derniers jours\n",
        "- Prévisions à 5 jours\n",
        "- Qualité de l'air\n",
        "- Indices de végétation satellite\n",
        "\n"
      ]
    },
    {
      "cell_type": "markdown",
      "metadata": {
        "id": "W15DybdE4Ksu"
      },
      "source": [
        "## 🏆 Livrables attendus\n",
        "\n",
        "### 📊 Dashboard météo\n",
        "Créez un tableau de bord contenant :\n",
        "1. **Aperçu temps réel** des 6 villes\n",
        "2. **Graphiques de tendances** sur 30 jours\n",
        "3. **Alertes qualité de l'air** (AQI > 100)\n",
        "4. **Recommandations agricoles** par ville"
      ]
    },
    {
      "cell_type": "code",
      "execution_count": 53,
      "metadata": {
        "id": "46lA8m084ULP"
      },
      "outputs": [],
      "source": [
        "### 📱 Format de présentation\n",
        "\n",
        "def generate_weather_report(city_data):\n",
        "    \"\"\"\n",
        "    Génère un rapport automatisé\n",
        "\n",
        "    Format :\n",
        "    - Résumé exécutif (3 lignes)\n",
        "    - Métriques clés (tableaux)\n",
        "    - Graphiques (4 visualisations)\n",
        "    - Recommandations (bullet points)\n",
        "    \"\"\"\n",
        "    pass"
      ]
    },
    {
      "cell_type": "markdown",
      "metadata": {
        "id": "eqxVMuuh4Qsq"
      },
      "source": [
        "---\n",
        "\n",
        "## 🎓 Critères d'évaluation\n",
        "\n",
        "- [ ] **APIs fonctionnelles** : Toutes les connexions API marchent\n",
        "- [ ] **Gestion d'erreurs** : Code robuste avec try/except\n",
        "- [ ] **Qualité des données** : Validation et nettoyage\n",
        "- [ ] **Visualisations** : Graphiques informatifs et esthétiques\n",
        "- [ ] **Insights business** : Recommandations basées sur les données\n",
        "\n",
        "### 🔗 Préparation au Notebook 2\n",
        "Le prochain notebook utilisera une vraie base de données PostgreSQL hébergée pour analyser des données de ventes e-commerce, en croisant avec vos données météo pour des analyses géolocalisées.\n",
        "\n",
        "### 📚 APIs alternatives (si quotas dépassés)\n",
        "- **WeatherAPI** : 1M appels/mois gratuits\n",
        "- **AccuWeather** : 50 appels/jour gratuits  \n",
        "- **Climatiq** : Données climat et carbone\n",
        "- **NASA APIs** : Données satellite gratuites"
      ]
    }
  ],
  "metadata": {
    "colab": {
      "provenance": []
    },
    "kernelspec": {
      "display_name": ".venv",
      "language": "python",
      "name": "python3"
    },
    "language_info": {
      "codemirror_mode": {
        "name": "ipython",
        "version": 3
      },
      "file_extension": ".py",
      "mimetype": "text/x-python",
      "name": "python",
      "nbconvert_exporter": "python",
      "pygments_lexer": "ipython3",
      "version": "3.12.3"
    }
  },
  "nbformat": 4,
  "nbformat_minor": 0
}
