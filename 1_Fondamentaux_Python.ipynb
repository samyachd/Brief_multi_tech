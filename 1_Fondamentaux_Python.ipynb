{
  "cells": [
    {
      "cell_type": "markdown",
      "metadata": {
        "id": "VQzdTEd20OQQ"
      },
      "source": []
    },
    {
      "cell_type": "markdown",
      "metadata": {
        "id": "qD7z9hrS0QHi"
      },
      "source": [
        "# Notebook 1 - Fondamentaux Python pour l'IA\n",
        "# Analyse de données météorologiques en temps réel\n",
        "\n",
        "🎯 Objectifs pédagogiques\n",
        "\n",
        "Maîtriser les structures de données Python essentielles\n",
        "Consommer des APIs REST avec requests\n",
        "Manipuler des données JSON et CSV\n",
        "Créer des visualisations basiques\n",
        "Appliquer des statistiques descriptives\n",
        "\n",
        "🌤️ Contexte du projet\n",
        "\n",
        "Vous travaillez pour une startup AgTech qui développe des solutions d'agriculture intelligente. Votre mission : analyser les données météorologiques de plusieurs villes européennes pour optimiser les recommandations de plantation."
      ]
    },
    {
      "cell_type": "markdown",
      "metadata": {
        "id": "InXafSSW05HB"
      },
      "source": [
        "Partie 1 : Connexion aux APIs météo\n",
        "\n",
        "🔧 Installation des bibliothèques\n",
        "\n",
        "\n",
        " À exécuter dans votre terminal ou cellule\n",
        "# pip install requests pandas matplotlib seaborn numpy"
      ]
    },
    {
      "cell_type": "code",
      "execution_count": 1,
      "metadata": {
        "id": "VRX6x9eF08hL"
      },
      "outputs": [],
      "source": [
        "#📥 Import et configuration\n",
        "import requests\n",
        "import pandas as pd\n",
        "import numpy as np\n",
        "import matplotlib.pyplot as plt\n",
        "import seaborn as sns\n",
        "from datetime import datetime,date, timedelta\n",
        "from dotenv import load_dotenv\n",
        "import os\n",
        "import json"
      ]
    },
    {
      "cell_type": "markdown",
      "metadata": {
        "id": "cclqgdw01aGL"
      },
      "source": [
        "🌍 API OpenWeatherMap (gratuite)\n",
        "\n",
        "Inscription : Créez un compte sur openweathermap.org\n",
        "\n",
        "\n",
        "Clé API : Récupérez votre clé gratuite (40 000 appels/mois)\n",
        "\n"
      ]
    },
    {
      "cell_type": "code",
      "execution_count": 2,
      "metadata": {},
      "outputs": [],
      "source": [
        "CITIES = [\"Paris\", \"Berlin\", \"Madrid\", \"Amsterdam\", \"Vienna\"]"
      ]
    },
    {
      "cell_type": "code",
      "execution_count": 3,
      "metadata": {
        "id": "90O22MX50sjB"
      },
      "outputs": [],
      "source": [
        "### 💡 Première requête guidée\n",
        "\n",
        "load_dotenv()\n",
        "OPENWEATHER_API_KEY = os.getenv(\"OPENWEATHER_API_KEY\")\n",
        "OPENWEATHER_BASE_URL = \"http://api.openweathermap.org/data/2.5\"\n",
        "\n",
        "def get_weather_data(city):\n",
        "    \n",
        "    # URL : current weather data\n",
        "    url = f\"{OPENWEATHER_BASE_URL}/weather\"\n",
        "\n",
        "    # Paramètres à compléter\n",
        "    params = {\n",
        "        'q': city,\n",
        "        'appid': OPENWEATHER_API_KEY,\n",
        "        'units': 'metric',  # Celsius\n",
        "        'lang': 'fr'\n",
        "    }\n",
        "    r = requests.get(url, params)\n",
        "    print(r.status_code)\n",
        "    print(r.json())\n",
        "    # Votre code ici pour l'appel API\n",
        "    # Gérez les erreurs HTTP !"
      ]
    },
    {
      "cell_type": "code",
      "execution_count": 4,
      "metadata": {},
      "outputs": [
        {
          "name": "stdout",
          "output_type": "stream",
          "text": [
            "200\n",
            "{'coord': {'lon': 2.3488, 'lat': 48.8534}, 'weather': [{'id': 804, 'main': 'Clouds', 'description': 'couvert', 'icon': '04d'}], 'base': 'stations', 'main': {'temp': 17.81, 'feels_like': 17.89, 'temp_min': 16.88, 'temp_max': 19.09, 'pressure': 1020, 'humidity': 86, 'sea_level': 1020, 'grnd_level': 1011}, 'visibility': 10000, 'wind': {'speed': 4.12, 'deg': 300}, 'clouds': {'all': 100}, 'dt': 1753690525, 'sys': {'type': 1, 'id': 6550, 'country': 'FR', 'sunrise': 1753676318, 'sunset': 1753731320}, 'timezone': 7200, 'id': 2988507, 'name': 'Paris', 'cod': 200}\n",
            "200\n",
            "{'coord': {'lon': 13.4105, 'lat': 52.5244}, 'weather': [{'id': 803, 'main': 'Clouds', 'description': 'nuageux', 'icon': '04d'}], 'base': 'stations', 'main': {'temp': 18.2, 'feels_like': 18.5, 'temp_min': 17.68, 'temp_max': 19.01, 'pressure': 1009, 'humidity': 93, 'sea_level': 1009, 'grnd_level': 1004}, 'visibility': 10000, 'wind': {'speed': 4.63, 'deg': 340}, 'clouds': {'all': 75}, 'dt': 1753691129, 'sys': {'type': 2, 'id': 2039371, 'country': 'DE', 'sunrise': 1753672788, 'sunset': 1753729540}, 'timezone': 7200, 'id': 2950159, 'name': 'Berlin', 'cod': 200}\n",
            "200\n",
            "{'coord': {'lon': -3.7026, 'lat': 40.4165}, 'weather': [{'id': 800, 'main': 'Clear', 'description': 'ciel dégagé', 'icon': '01d'}], 'base': 'stations', 'main': {'temp': 22.77, 'feels_like': 22.28, 'temp_min': 21.82, 'temp_max': 23.68, 'pressure': 1017, 'humidity': 45, 'sea_level': 1017, 'grnd_level': 943}, 'visibility': 10000, 'wind': {'speed': 5.14, 'deg': 40}, 'clouds': {'all': 0}, 'dt': 1753690953, 'sys': {'type': 2, 'id': 2084029, 'country': 'ES', 'sunrise': 1753679303, 'sunset': 1753731239}, 'timezone': 7200, 'id': 3117735, 'name': 'Madrid', 'cod': 200}\n",
            "200\n",
            "{'coord': {'lon': 4.8897, 'lat': 52.374}, 'weather': [{'id': 801, 'main': 'Clouds', 'description': 'peu nuageux', 'icon': '02d'}], 'base': 'stations', 'main': {'temp': 19.29, 'feels_like': 19.02, 'temp_min': 18.26, 'temp_max': 20.55, 'pressure': 1016, 'humidity': 67, 'sea_level': 1016, 'grnd_level': 1016}, 'visibility': 10000, 'wind': {'speed': 5.14, 'deg': 320}, 'clouds': {'all': 20}, 'dt': 1753690847, 'sys': {'type': 2, 'id': 2046553, 'country': 'NL', 'sunrise': 1753674875, 'sunset': 1753731544}, 'timezone': 7200, 'id': 2759794, 'name': 'Amsterdam', 'cod': 200}\n",
            "200\n",
            "{'coord': {'lon': 16.3721, 'lat': 48.2085}, 'weather': [{'id': 800, 'main': 'Clear', 'description': 'ciel dégagé', 'icon': '01d'}], 'base': 'stations', 'main': {'temp': 19.08, 'feels_like': 19.13, 'temp_min': 16.87, 'temp_max': 20.39, 'pressure': 1007, 'humidity': 80, 'sea_level': 1007, 'grnd_level': 981}, 'visibility': 10000, 'wind': {'speed': 9.83, 'deg': 346, 'gust': 17.43}, 'clouds': {'all': 0}, 'dt': 1753690962, 'sys': {'type': 2, 'id': 2037452, 'country': 'AT', 'sunrise': 1753673087, 'sunset': 1753727820}, 'timezone': 7200, 'id': 2761369, 'name': 'Vienne', 'cod': 200}\n"
          ]
        }
      ],
      "source": [
        "for i in CITIES: \n",
        "    get_weather_data(i)"
      ]
    },
    {
      "cell_type": "markdown",
      "metadata": {
        "id": "XN6RPmCr2qDp"
      },
      "source": [
        "**Questions de débogage :**\n",
        "- Que faire si l'API retourne une erreur 401 ?\n",
        "- Comment gérer une ville introuvable ?\n",
        "\n",
        "---"
      ]
    },
    {
      "cell_type": "markdown",
      "metadata": {},
      "source": [
        "- Si l'API retourne une erreur 401, cela correspond à une erreur de type \"unauthenticated\". Cela veut dire qu'on n'a pas renseigné notre clé API dans l'appel, ou que notre clé est invalide. Il faut donc renseigner notre clé ou créer une nouvelle clé valide.\n",
        "- Une ville introuvable devrait nous renvoyer un status code 404 \"not found\"."
      ]
    },
    {
      "cell_type": "markdown",
      "metadata": {
        "id": "KL0MS3RJ263K"
      },
      "source": [
        "## Partie 2 : API complémentaire - Données historiques\n",
        "\n",
        "### 📊 API Visual Crossing Weather (gratuite)\n",
        "Alternative avec 1000 appels/jour gratuits : [visualcrossing.com](https://www.visualcrossing.com/weather-api)"
      ]
    },
    {
      "cell_type": "code",
      "execution_count": 5,
      "metadata": {
        "id": "6OK5bXQy0srW"
      },
      "outputs": [],
      "source": [
        "# Configuration Visual Crossing\n",
        "VCH_API_KEY = os.getenv(\"VCH_API_KEY\")\n",
        "VCH_BASE_URL = \"https://weather.visualcrossing.com/VisualCrossingWebServices/rest/services/timeline\"\n",
        "\n",
        "def get_historical_weather(city, start_date, end_date):\n",
        "\n",
        "    url = f\"{VCH_BASE_URL}/{city}/{start_date}/{end_date}\"\n",
        "\n",
        "    params = {\n",
        "        'key': VCH_API_KEY,\n",
        "        'include': 'days',\n",
        "        'elements': 'datetime,temp,humidity,precip,windspeed,pressure'\n",
        "    }\n",
        "    # On fait l'API call\n",
        "    r = requests.get(url, params)\n",
        "    print(r.status_code)\n",
        "    data_raw = r.json()\n",
        "\n",
        "    # On récupère les données qui nous intéresse dans la réponse serveur\n",
        "    data = data_raw.get(\"days\", \"clé inexistante\")\n",
        "\n",
        "    # On en fait un dataFrame\n",
        "    df = pd.DataFrame(data)\n",
        "    df.insert(0,'city', city)\n",
        "    return df\n",
        "\n",
        "    \"\"\"\n",
        "    Récupère les données météo historiques\n",
        "\n",
        "    Défis à résoudre :\n",
        "    1. Construire l'URL avec les dates\n",
        "    2. Gérer la pagination si nécessaire\n",
        "    3. Extraire les données pertinentes du JSON complexe\n",
        "    4. Convertir en DataFrame pandas\n",
        "    \"\"\""
      ]
    },
    {
      "cell_type": "code",
      "execution_count": 6,
      "metadata": {},
      "outputs": [
        {
          "name": "stdout",
          "output_type": "stream",
          "text": [
            "200\n",
            "200\n",
            "200\n",
            "200\n",
            "200\n"
          ]
        }
      ],
      "source": [
        "for i in CITIES: \n",
        "    get_historical_weather(i, \"2025-7-25\", \"2025-7-27\")"
      ]
    },
    {
      "cell_type": "markdown",
      "metadata": {
        "id": "WiSgjF2V3JOv"
      },
      "source": [
        "### 🎯 Mission pratique\n",
        "Récupérez les données des 30 derniers jours pour toutes vos villes et créez un DataFrame consolidé.\n",
        "\n",
        "**Structure attendue :**\n",
        "```\n",
        "| date       | ville     | temperature | humidite | precipitation | vent |\n",
        "|------------|-----------|-------------|----------|---------------|------|\n",
        "| 2024-01-01 | Paris     | 12.5        | 75       | 2.3          | 15   |\n",
        "```\n",
        "\n",
        "---\n"
      ]
    },
    {
      "cell_type": "code",
      "execution_count": 7,
      "metadata": {},
      "outputs": [
        {
          "name": "stdout",
          "output_type": "stream",
          "text": [
            "200\n",
            "200\n",
            "200\n",
            "200\n",
            "200\n",
            "        city    datetime  temp  humidity  precip  windspeed  pressure\n",
            "0      Paris  2025-07-21  65.8      77.3   0.847       12.6    1004.2\n",
            "1      Paris  2025-07-22  66.6      71.0   0.002       10.4    1013.4\n",
            "2      Paris  2025-07-23  66.6      74.3   0.079        8.4    1013.8\n",
            "3      Paris  2025-07-24  65.2      83.7   0.577        9.6    1014.9\n",
            "4      Paris  2025-07-25  69.4      72.5   0.001        7.7    1017.7\n",
            "5      Paris  2025-07-26  70.6      67.6   0.000       10.0    1018.2\n",
            "6      Paris  2025-07-27  65.7      78.9   0.218       14.4    1016.4\n",
            "0     Berlin  2025-07-21  68.6      84.0   0.934       18.3    1005.0\n",
            "1     Berlin  2025-07-22  63.5      86.8   0.186       14.4    1006.1\n",
            "2     Berlin  2025-07-23  65.1      83.8   1.153       15.5    1008.0\n",
            "3     Berlin  2025-07-24  67.0      80.6   0.024       10.3    1011.3\n",
            "4     Berlin  2025-07-25  67.8      85.3   0.166       12.8    1013.5\n",
            "5     Berlin  2025-07-26  66.8      78.4   0.099       11.4    1014.8\n",
            "6     Berlin  2025-07-27  68.6      69.7   0.000       11.4    1010.7\n",
            "0     Madrid  2025-07-21  74.3      32.5   0.000       10.6    1013.0\n",
            "1     Madrid  2025-07-22  78.3      28.3   0.000       10.7    1015.4\n",
            "2     Madrid  2025-07-23  78.0      36.4   0.000       10.0    1013.6\n",
            "3     Madrid  2025-07-24  73.1      39.9   0.000       11.8    1015.0\n",
            "4     Madrid  2025-07-25  71.8      38.4   0.000        9.9    1018.3\n",
            "5     Madrid  2025-07-26  76.3      36.2   0.000        9.3    1019.8\n",
            "6     Madrid  2025-07-27  81.2      30.7   0.000       12.8    1019.6\n",
            "0  Amsterdam  2025-07-21  65.8      81.7   0.329       15.3    1002.2\n",
            "1  Amsterdam  2025-07-22  66.6      82.8   0.230       18.6    1007.2\n",
            "2  Amsterdam  2025-07-23  67.1      81.7   0.022       13.0    1011.0\n",
            "3  Amsterdam  2025-07-24  67.3      78.6   0.000       10.2    1013.5\n",
            "4  Amsterdam  2025-07-25  67.3      80.4   0.000        9.1    1016.9\n",
            "5  Amsterdam  2025-07-26  67.5      79.6   0.016       16.2    1015.4\n",
            "6  Amsterdam  2025-07-27  65.2      76.2   0.130       15.7    1014.2\n",
            "0     Vienna  2025-07-21  76.0      59.8   0.201       20.2    1005.0\n",
            "1     Vienna  2025-07-22  73.5      49.8   0.000       17.9    1011.2\n",
            "2     Vienna  2025-07-23  74.3      55.0   0.000       11.2    1013.2\n",
            "3     Vienna  2025-07-24  72.1      72.0   0.280       17.2    1011.7\n",
            "4     Vienna  2025-07-25  70.9      72.3   0.138       13.9    1014.0\n",
            "5     Vienna  2025-07-26  68.1      88.9   0.677       11.4    1012.5\n",
            "6     Vienna  2025-07-27  68.4      77.6   0.020       19.7    1008.5\n"
          ]
        }
      ],
      "source": [
        "list_df = [get_historical_weather(i, \"2025-7-21\", \"2025-7-27\") for i in CITIES]\n",
        "df_cities = [pd.concat(list_df, copy=False)]\n",
        "print(df_cities[0])"
      ]
    },
    {
      "cell_type": "code",
      "execution_count": 16,
      "metadata": {},
      "outputs": [],
      "source": [
        "### 🗺️ Obtenir les coordonnées\n",
        "GEOCODING_API = \"http://api.openweathermap.org/geo/1.0/direct\"\n",
        "\n",
        "def get_city_coordinates(city):\n",
        "    \n",
        "    # URL : current weather data\n",
        "    url = f\"{GEOCODING_API}\"\n",
        "\n",
        "    # Paramètres à compléter\n",
        "    params = {\n",
        "        'q': city,\n",
        "        'appid': OPENWEATHER_API_KEY,\n",
        "        'lang': \"fr\"\n",
        "    }\n",
        "    r = requests.get(url, params)\n",
        "    print(r.status_code)\n",
        "    data_raw = r.json()\n",
        "    data = [data_raw[0].get(\"lat\"),data_raw[0].get(\"lon\")]\n",
        "    return data\n",
        "    \"\"\"\n",
        "    Utilise l'API Geocoding d'OpenWeatherMap\n",
        "    URL : http://api.openweathermap.org/geo/1.0/direct\n",
        "\n",
        "    Récupérez lat/lon pour chaque ville\n",
        "    \"\"\""
      ]
    },
    {
      "cell_type": "code",
      "execution_count": 40,
      "metadata": {
        "id": "iR8RHaqM0suN"
      },
      "outputs": [],
      "source": [
        "## Partie 3 : API supplémentaire - Qualité de l'air\n",
        "\n",
        "### 🌬️ API OpenWeatherMap Air Pollution\n",
        "OPENWEATHER_API_KEY = os.getenv(\"OPENWEATHER_API_KEY\")\n",
        "OPENWEATHER_BASE_URL = \"http://api.openweathermap.org/data/2.5\"\n",
        "\n",
        "\n",
        "def get_air_quality(city):\n",
        "\n",
        "    # URL : pollution datas\n",
        "    url = f\"{OPENWEATHER_BASE_URL}/air_pollution\"\n",
        "\n",
        "    # Paramètres à compléter\n",
        "    params = {\n",
        "        'lat': get_city_coordinates(city)[0],\n",
        "        'lon': get_city_coordinates(city)[1],\n",
        "        'appid': OPENWEATHER_API_KEY,\n",
        "        'lang': 'fr'\n",
        "    }\n",
        "    r = requests.get(url, params)\n",
        "    print(r.status_code)\n",
        "    data_raw = r.json()\n",
        "    data = data_raw.get(\"list\")\n",
        "    air_data = {\n",
        "        \"air_components\" : data[0].get(\"components\"), \n",
        "        \"indice aqi\" : data[0].get(\"main\").get(\"aqi\")\n",
        "    }\n",
        "    return air_data\n",
        "\n",
        "    \"\"\"\n",
        "    Récupère les données de qualité de l'air\n",
        "\n",
        "    URL : http://api.openweathermap.org/data/2.5/air_pollution\n",
        "\n",
        "    Étapes :\n",
        "    1. Utiliser les coordonnées lat/lon des villes\n",
        "    2. Récupérer l'indice AQI et les composants (PM2.5, PM10, O3, etc.)\n",
        "    3. Joindre ces données avec vos données météo\n",
        "    \"\"\"\n",
        "\n",
        "    "
      ]
    },
    {
      "cell_type": "code",
      "execution_count": 41,
      "metadata": {},
      "outputs": [
        {
          "name": "stdout",
          "output_type": "stream",
          "text": [
            "200\n",
            "200\n",
            "200\n"
          ]
        },
        {
          "data": {
            "text/plain": [
              "{'air_components': {'co': 151.94,\n",
              "  'no': 0.81,\n",
              "  'no2': 2.36,\n",
              "  'o3': 55.93,\n",
              "  'so2': 0.78,\n",
              "  'pm2_5': 3.11,\n",
              "  'pm10': 4.5,\n",
              "  'nh3': 2.17},\n",
              " 'indice aqi': 1}"
            ]
          },
          "execution_count": 41,
          "metadata": {},
          "output_type": "execute_result"
        }
      ],
      "source": [
        "get_air_quality(CITIES[0])"
      ]
    },
    {
      "cell_type": "markdown",
      "metadata": {
        "id": "v02lzUOv3kp6"
      },
      "source": [
        "\n",
        "## Partie 4 : Analyse et visualisation\n",
        "\n",
        "### 📈 Analyses à réaliser\n",
        "\n",
        "1. **Comparaison inter-villes**\n",
        "   - Températures moyennes par ville\n",
        "   - Variabilité climatique (écart-type)\n",
        "   - Corrélations température/humidité\n",
        "\n",
        "2. **Tendances temporelles**\n",
        "   - Évolution sur 30 jours\n",
        "   - Identification des patterns\n",
        "\n",
        "3. **Qualité de l'air vs météo**\n",
        "   - Impact de la pluie sur la pollution\n",
        "   - Corrélations vent/qualité de l'air"
      ]
    },
    {
      "cell_type": "code",
      "execution_count": null,
      "metadata": {
        "colab": {
          "base_uri": "https://localhost:8080/",
          "height": 51
        },
        "id": "IQb6JSIp3VSD",
        "outputId": "542a1e6a-381e-40c4-a65a-c21522e3b42d"
      },
      "outputs": [
        {
          "data": {
            "text/plain": [
              "<Figure size 1500x800 with 0 Axes>"
            ]
          },
          "execution_count": 11,
          "metadata": {},
          "output_type": "execute_result"
        },
        {
          "data": {
            "text/plain": [
              "<Figure size 1500x800 with 0 Axes>"
            ]
          },
          "metadata": {},
          "output_type": "display_data"
        }
      ],
      "source": [
        "### 💡 Visualisations guidées\n",
        "\n",
        "# 1. Heatmap des températures par ville et jour\n",
        "plt.figure(figsize=(15, 8))\n",
        "\n",
        "# Créez un pivot table : villes en colonnes, dates en lignes\n",
        "# Utilisez seaborn.heatmap()\n",
        "\n",
        "# 2. Boxplot comparatif des précipitations\n",
        "# Utilisez seaborn.boxplot()\n",
        "\n",
        "# 3. Scatter plot qualité air vs température\n",
        "# Ajoutez une regression line avec seaborn.regplot()\n",
        "\n"
      ]
    },
    {
      "cell_type": "markdown",
      "metadata": {
        "id": "U3OFGeR437l0"
      },
      "source": [
        "## Partie 5 : API bonus - Données agricoles\n",
        "\n",
        "### 🌱 API AgroMonitoring (gratuite)"
      ]
    },
    {
      "cell_type": "code",
      "execution_count": null,
      "metadata": {
        "id": "9PZMkaLO3zAK"
      },
      "outputs": [],
      "source": [
        "# API satellite pour l'agriculture\n",
        "AGRO_API_KEY = \"VOTRE_CLE_AGROMONITORING\"\n",
        "\n",
        "def get_soil_data(polygon_coordinates, api_key):\n",
        "    \"\"\"\n",
        "    Récupère des données de sol via satellite\n",
        "    URL : http://api.agromonitoring.com/agro/1.0/\n",
        "\n",
        "    Données disponibles :\n",
        "    - Indices de végétation (NDVI)\n",
        "    - Humidité du sol\n",
        "    - Température de surface\n",
        "    \"\"\"\n",
        "    pass\n"
      ]
    },
    {
      "cell_type": "markdown",
      "metadata": {
        "id": "9U_DNqp24DD6"
      },
      "source": [
        "\n",
        "**Défi avancé :** Créez des recommandations de plantation basées sur :\n",
        "- Données météo des 30 derniers jours\n",
        "- Prévisions à 5 jours\n",
        "- Qualité de l'air\n",
        "- Indices de végétation satellite\n",
        "\n"
      ]
    },
    {
      "cell_type": "markdown",
      "metadata": {
        "id": "W15DybdE4Ksu"
      },
      "source": [
        "## 🏆 Livrables attendus\n",
        "\n",
        "### 📊 Dashboard météo\n",
        "Créez un tableau de bord contenant :\n",
        "1. **Aperçu temps réel** des 6 villes\n",
        "2. **Graphiques de tendances** sur 30 jours\n",
        "3. **Alertes qualité de l'air** (AQI > 100)\n",
        "4. **Recommandations agricoles** par ville"
      ]
    },
    {
      "cell_type": "code",
      "execution_count": null,
      "metadata": {
        "id": "46lA8m084ULP"
      },
      "outputs": [],
      "source": [
        "### 📱 Format de présentation\n",
        "\n",
        "def generate_weather_report(city_data):\n",
        "    \"\"\"\n",
        "    Génère un rapport automatisé\n",
        "\n",
        "    Format :\n",
        "    - Résumé exécutif (3 lignes)\n",
        "    - Métriques clés (tableaux)\n",
        "    - Graphiques (4 visualisations)\n",
        "    - Recommandations (bullet points)\n",
        "    \"\"\"\n",
        "    pass"
      ]
    },
    {
      "cell_type": "markdown",
      "metadata": {
        "id": "eqxVMuuh4Qsq"
      },
      "source": [
        "---\n",
        "\n",
        "## 🎓 Critères d'évaluation\n",
        "\n",
        "- [ ] **APIs fonctionnelles** : Toutes les connexions API marchent\n",
        "- [ ] **Gestion d'erreurs** : Code robuste avec try/except\n",
        "- [ ] **Qualité des données** : Validation et nettoyage\n",
        "- [ ] **Visualisations** : Graphiques informatifs et esthétiques\n",
        "- [ ] **Insights business** : Recommandations basées sur les données\n",
        "\n",
        "### 🔗 Préparation au Notebook 2\n",
        "Le prochain notebook utilisera une vraie base de données PostgreSQL hébergée pour analyser des données de ventes e-commerce, en croisant avec vos données météo pour des analyses géolocalisées.\n",
        "\n",
        "### 📚 APIs alternatives (si quotas dépassés)\n",
        "- **WeatherAPI** : 1M appels/mois gratuits\n",
        "- **AccuWeather** : 50 appels/jour gratuits  \n",
        "- **Climatiq** : Données climat et carbone\n",
        "- **NASA APIs** : Données satellite gratuites"
      ]
    }
  ],
  "metadata": {
    "colab": {
      "provenance": []
    },
    "kernelspec": {
      "display_name": ".venv",
      "language": "python",
      "name": "python3"
    },
    "language_info": {
      "codemirror_mode": {
        "name": "ipython",
        "version": 3
      },
      "file_extension": ".py",
      "mimetype": "text/x-python",
      "name": "python",
      "nbconvert_exporter": "python",
      "pygments_lexer": "ipython3",
      "version": "3.12.3"
    }
  },
  "nbformat": 4,
  "nbformat_minor": 0
}
